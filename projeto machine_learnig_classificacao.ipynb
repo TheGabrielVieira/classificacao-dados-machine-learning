{
 "cells": [
  {
   "cell_type": "markdown",
   "metadata": {
    "id": "MJ3tSbLsBPhe"
   },
   "source": [
    "# Classificação: Primeiros passos"
   ]
  },
  {
   "cell_type": "markdown",
   "metadata": {
    "id": "CYC5vst2FcaG"
   },
   "source": [
    "Neste projeto, iremos analisar dados de uma campanha de marketing para aderência de investimentos. O intuito é usar as informações dos dados para prever se os clientes de um banco vão aplicar o dinheiro em um investimento ou não.\n",
    "\n",
    "Essa previsão será feita utilizando machine learning e este notebook vai conter os passos para se obter um modelo capaz de realizar as previsões, desde a **leitura**, **análise exploratória**, **separação** e **transformação** dos dados, até o **ajuste**, **avaliação** e **comparação** de modelos de classificação."
   ]
  },
  {
   "cell_type": "markdown",
   "metadata": {
    "id": "dr9I9xCXoICN"
   },
   "source": [
    "# Análise exploratória"
   ]
  },
  {
   "cell_type": "markdown",
   "metadata": {
    "id": "fwuPpdZOBTUn"
   },
   "source": [
    "## Fazendo a leitura dos dados"
   ]
  },
  {
   "cell_type": "markdown",
   "metadata": {
    "id": "YzOu8ojHPemt"
   },
   "source": [
    "Podemos realizar a leitura dos dados a partir da biblioteca `pandas`. Por conta disso, vamos realizar a importação da biblioteca com o comando `import pandas as pd`.\n",
    "\n",
    "Como o arquivo de dados está no formato *csv*, vamos realizar a leitura com a função [`read_csv()`](https://pandas.pydata.org/docs/reference/api/pandas.read_csv.html)."
   ]
  },
  {
   "cell_type": "code",
   "execution_count": 65,
   "metadata": {
    "id": "nPrDJYBKZbKW"
   },
   "outputs": [],
   "source": [
    "import pandas as pd"
   ]
  },
  {
   "cell_type": "code",
   "execution_count": 66,
   "metadata": {
    "id": "9h4YUPxyZuLf"
   },
   "outputs": [],
   "source": [
    "df = pd.read_csv('data\\\\marketing_investimento.csv')"
   ]
  },
  {
   "cell_type": "code",
   "execution_count": 67,
   "metadata": {
    "id": "4uQHVCGlZxkL"
   },
   "outputs": [
    {
     "data": {
      "text/html": [
       "<div>\n",
       "<style scoped>\n",
       "    .dataframe tbody tr th:only-of-type {\n",
       "        vertical-align: middle;\n",
       "    }\n",
       "\n",
       "    .dataframe tbody tr th {\n",
       "        vertical-align: top;\n",
       "    }\n",
       "\n",
       "    .dataframe thead th {\n",
       "        text-align: right;\n",
       "    }\n",
       "</style>\n",
       "<table border=\"1\" class=\"dataframe\">\n",
       "  <thead>\n",
       "    <tr style=\"text-align: right;\">\n",
       "      <th></th>\n",
       "      <th>idade</th>\n",
       "      <th>estado_civil</th>\n",
       "      <th>escolaridade</th>\n",
       "      <th>inadimplencia</th>\n",
       "      <th>saldo</th>\n",
       "      <th>fez_emprestimo</th>\n",
       "      <th>tempo_ult_contato</th>\n",
       "      <th>numero_contatos</th>\n",
       "      <th>aderencia_investimento</th>\n",
       "    </tr>\n",
       "  </thead>\n",
       "  <tbody>\n",
       "    <tr>\n",
       "      <th>0</th>\n",
       "      <td>45</td>\n",
       "      <td>casado (a)</td>\n",
       "      <td>superior</td>\n",
       "      <td>nao</td>\n",
       "      <td>242</td>\n",
       "      <td>nao</td>\n",
       "      <td>587</td>\n",
       "      <td>1</td>\n",
       "      <td>sim</td>\n",
       "    </tr>\n",
       "    <tr>\n",
       "      <th>1</th>\n",
       "      <td>42</td>\n",
       "      <td>casado (a)</td>\n",
       "      <td>medio</td>\n",
       "      <td>nao</td>\n",
       "      <td>1289</td>\n",
       "      <td>nao</td>\n",
       "      <td>250</td>\n",
       "      <td>4</td>\n",
       "      <td>sim</td>\n",
       "    </tr>\n",
       "    <tr>\n",
       "      <th>2</th>\n",
       "      <td>23</td>\n",
       "      <td>solteiro (a)</td>\n",
       "      <td>superior</td>\n",
       "      <td>nao</td>\n",
       "      <td>363</td>\n",
       "      <td>nao</td>\n",
       "      <td>16</td>\n",
       "      <td>18</td>\n",
       "      <td>nao</td>\n",
       "    </tr>\n",
       "    <tr>\n",
       "      <th>3</th>\n",
       "      <td>58</td>\n",
       "      <td>divorciado (a)</td>\n",
       "      <td>superior</td>\n",
       "      <td>nao</td>\n",
       "      <td>1382</td>\n",
       "      <td>nao</td>\n",
       "      <td>700</td>\n",
       "      <td>1</td>\n",
       "      <td>sim</td>\n",
       "    </tr>\n",
       "    <tr>\n",
       "      <th>4</th>\n",
       "      <td>50</td>\n",
       "      <td>casado (a)</td>\n",
       "      <td>medio</td>\n",
       "      <td>nao</td>\n",
       "      <td>3357</td>\n",
       "      <td>nao</td>\n",
       "      <td>239</td>\n",
       "      <td>4</td>\n",
       "      <td>sim</td>\n",
       "    </tr>\n",
       "    <tr>\n",
       "      <th>...</th>\n",
       "      <td>...</td>\n",
       "      <td>...</td>\n",
       "      <td>...</td>\n",
       "      <td>...</td>\n",
       "      <td>...</td>\n",
       "      <td>...</td>\n",
       "      <td>...</td>\n",
       "      <td>...</td>\n",
       "      <td>...</td>\n",
       "    </tr>\n",
       "    <tr>\n",
       "      <th>1263</th>\n",
       "      <td>52</td>\n",
       "      <td>solteiro (a)</td>\n",
       "      <td>superior</td>\n",
       "      <td>nao</td>\n",
       "      <td>83</td>\n",
       "      <td>nao</td>\n",
       "      <td>1223</td>\n",
       "      <td>6</td>\n",
       "      <td>sim</td>\n",
       "    </tr>\n",
       "    <tr>\n",
       "      <th>1264</th>\n",
       "      <td>35</td>\n",
       "      <td>solteiro (a)</td>\n",
       "      <td>superior</td>\n",
       "      <td>nao</td>\n",
       "      <td>5958</td>\n",
       "      <td>nao</td>\n",
       "      <td>215</td>\n",
       "      <td>1</td>\n",
       "      <td>sim</td>\n",
       "    </tr>\n",
       "    <tr>\n",
       "      <th>1265</th>\n",
       "      <td>30</td>\n",
       "      <td>solteiro (a)</td>\n",
       "      <td>superior</td>\n",
       "      <td>nao</td>\n",
       "      <td>-477</td>\n",
       "      <td>sim</td>\n",
       "      <td>1532</td>\n",
       "      <td>2</td>\n",
       "      <td>sim</td>\n",
       "    </tr>\n",
       "    <tr>\n",
       "      <th>1266</th>\n",
       "      <td>42</td>\n",
       "      <td>casado (a)</td>\n",
       "      <td>superior</td>\n",
       "      <td>nao</td>\n",
       "      <td>2187</td>\n",
       "      <td>nao</td>\n",
       "      <td>525</td>\n",
       "      <td>3</td>\n",
       "      <td>sim</td>\n",
       "    </tr>\n",
       "    <tr>\n",
       "      <th>1267</th>\n",
       "      <td>29</td>\n",
       "      <td>solteiro (a)</td>\n",
       "      <td>superior</td>\n",
       "      <td>nao</td>\n",
       "      <td>19</td>\n",
       "      <td>nao</td>\n",
       "      <td>110</td>\n",
       "      <td>2</td>\n",
       "      <td>sim</td>\n",
       "    </tr>\n",
       "  </tbody>\n",
       "</table>\n",
       "<p>1268 rows × 9 columns</p>\n",
       "</div>"
      ],
      "text/plain": [
       "      idade    estado_civil  ... numero_contatos aderencia_investimento\n",
       "0        45      casado (a)  ...               1                    sim\n",
       "1        42      casado (a)  ...               4                    sim\n",
       "2        23    solteiro (a)  ...              18                    nao\n",
       "3        58  divorciado (a)  ...               1                    sim\n",
       "4        50      casado (a)  ...               4                    sim\n",
       "...     ...             ...  ...             ...                    ...\n",
       "1263     52    solteiro (a)  ...               6                    sim\n",
       "1264     35    solteiro (a)  ...               1                    sim\n",
       "1265     30    solteiro (a)  ...               2                    sim\n",
       "1266     42      casado (a)  ...               3                    sim\n",
       "1267     29    solteiro (a)  ...               2                    sim\n",
       "\n",
       "[1268 rows x 9 columns]"
      ]
     },
     "execution_count": 67,
     "metadata": {},
     "output_type": "execute_result"
    }
   ],
   "source": [
    "df"
   ]
  },
  {
   "cell_type": "markdown",
   "metadata": {
    "id": "y5VuhIoQQC51"
   },
   "source": [
    "Para criar modelos de classificação, precisamos utilizar dados de qualidade, sem inconsistências e sem dados faltantes. Vamos checar se existem dados nulos e o tipo dos dados de cada coluna na base de dados a partir do método [`info()`](https://pandas.pydata.org/docs/reference/api/pandas.DataFrame.info.html)."
   ]
  },
  {
   "cell_type": "code",
   "execution_count": 68,
   "metadata": {
    "id": "p1ylujcUmSGW"
   },
   "outputs": [
    {
     "name": "stdout",
     "output_type": "stream",
     "text": [
      "<class 'pandas.core.frame.DataFrame'>\n",
      "RangeIndex: 1268 entries, 0 to 1267\n",
      "Data columns (total 9 columns):\n",
      " #   Column                  Non-Null Count  Dtype \n",
      "---  ------                  --------------  ----- \n",
      " 0   idade                   1268 non-null   int64 \n",
      " 1   estado_civil            1268 non-null   object\n",
      " 2   escolaridade            1268 non-null   object\n",
      " 3   inadimplencia           1268 non-null   object\n",
      " 4   saldo                   1268 non-null   int64 \n",
      " 5   fez_emprestimo          1268 non-null   object\n",
      " 6   tempo_ult_contato       1268 non-null   int64 \n",
      " 7   numero_contatos         1268 non-null   int64 \n",
      " 8   aderencia_investimento  1268 non-null   object\n",
      "dtypes: int64(4), object(5)\n",
      "memory usage: 89.3+ KB\n"
     ]
    }
   ],
   "source": [
    "df.info()"
   ]
  },
  {
   "cell_type": "markdown",
   "metadata": {},
   "source": [
    "## Explorando os dados"
   ]
  },
  {
   "cell_type": "markdown",
   "metadata": {},
   "source": [
    "Uma etapa muito importante em projetos de machine learning é a exploração e entendimento dos dados, conhecida como **análise exploratória**. Podemos utilizar gráficos para verificar quais são as informações em cada uma das colunas da base de dados, identificar inconsistências e padrões que possam existir.\n",
    "\n",
    "Vamos explorar cada uma das colunas da base de dados com o uso da biblioteca `plotly`. Vamos começar pelas variáveis categóricas e depois explorar as variáveis numéricas."
   ]
  },
  {
   "cell_type": "markdown",
   "metadata": {},
   "source": [
    "### Variáveis categóricas"
   ]
  },
  {
   "cell_type": "code",
   "execution_count": 69,
   "metadata": {},
   "outputs": [],
   "source": [
    "import plotly.express as px"
   ]
  },
  {
   "cell_type": "code",
   "execution_count": 70,
   "metadata": {},
   "outputs": [
    {
     "data": {
      "application/vnd.plotly.v1+json": {
       "config": {
        "plotlyServerURL": "https://plot.ly"
       },
       "data": [
        {
         "bingroup": "x",
         "hovertemplate": "aderencia_investimento=%{x}<br>count=%{y}<extra></extra>",
         "legendgroup": "",
         "marker": {
          "color": "#636efa",
          "pattern": {
           "shape": ""
          }
         },
         "name": "",
         "orientation": "v",
         "showlegend": false,
         "texttemplate": "%{value}",
         "type": "histogram",
         "x": [
          "sim",
          "sim",
          "nao",
          "sim",
          "sim",
          "sim",
          "nao",
          "nao",
          "nao",
          "nao",
          "sim",
          "nao",
          "sim",
          "nao",
          "nao",
          "sim",
          "nao",
          "nao",
          "nao",
          "sim",
          "nao",
          "nao",
          "nao",
          "sim",
          "nao",
          "sim",
          "nao",
          "sim",
          "sim",
          "sim",
          "sim",
          "nao",
          "nao",
          "nao",
          "nao",
          "nao",
          "nao",
          "nao",
          "nao",
          "sim",
          "nao",
          "nao",
          "nao",
          "nao",
          "nao",
          "nao",
          "sim",
          "nao",
          "sim",
          "nao",
          "sim",
          "nao",
          "nao",
          "sim",
          "sim",
          "sim",
          "nao",
          "sim",
          "nao",
          "nao",
          "nao",
          "nao",
          "nao",
          "nao",
          "nao",
          "nao",
          "nao",
          "nao",
          "nao",
          "sim",
          "nao",
          "nao",
          "nao",
          "nao",
          "sim",
          "nao",
          "sim",
          "sim",
          "nao",
          "nao",
          "sim",
          "sim",
          "nao",
          "nao",
          "nao",
          "nao",
          "sim",
          "sim",
          "sim",
          "sim",
          "sim",
          "nao",
          "sim",
          "sim",
          "sim",
          "nao",
          "nao",
          "nao",
          "nao",
          "nao",
          "nao",
          "sim",
          "sim",
          "nao",
          "sim",
          "sim",
          "nao",
          "nao",
          "sim",
          "nao",
          "nao",
          "nao",
          "nao",
          "sim",
          "nao",
          "sim",
          "nao",
          "nao",
          "nao",
          "sim",
          "sim",
          "nao",
          "nao",
          "sim",
          "sim",
          "nao",
          "nao",
          "sim",
          "nao",
          "sim",
          "nao",
          "sim",
          "sim",
          "nao",
          "nao",
          "nao",
          "sim",
          "sim",
          "nao",
          "sim",
          "sim",
          "sim",
          "sim",
          "sim",
          "nao",
          "sim",
          "sim",
          "sim",
          "sim",
          "sim",
          "nao",
          "nao",
          "nao",
          "nao",
          "nao",
          "sim",
          "nao",
          "nao",
          "nao",
          "nao",
          "nao",
          "nao",
          "nao",
          "sim",
          "nao",
          "nao",
          "nao",
          "sim",
          "sim",
          "sim",
          "nao",
          "nao",
          "nao",
          "nao",
          "nao",
          "sim",
          "sim",
          "nao",
          "nao",
          "sim",
          "nao",
          "sim",
          "nao",
          "sim",
          "sim",
          "nao",
          "nao",
          "sim",
          "sim",
          "nao",
          "nao",
          "sim",
          "sim",
          "nao",
          "nao",
          "nao",
          "nao",
          "sim",
          "nao",
          "nao",
          "sim",
          "sim",
          "nao",
          "nao",
          "nao",
          "sim",
          "sim",
          "nao",
          "sim",
          "nao",
          "sim",
          "nao",
          "sim",
          "nao",
          "nao",
          "nao",
          "sim",
          "nao",
          "nao",
          "sim",
          "nao",
          "sim",
          "sim",
          "nao",
          "nao",
          "nao",
          "sim",
          "sim",
          "sim",
          "nao",
          "nao",
          "nao",
          "nao",
          "sim",
          "nao",
          "sim",
          "sim",
          "nao",
          "nao",
          "sim",
          "sim",
          "nao",
          "nao",
          "nao",
          "nao",
          "nao",
          "nao",
          "nao",
          "nao",
          "nao",
          "nao",
          "nao",
          "nao",
          "nao",
          "nao",
          "nao",
          "nao",
          "sim",
          "nao",
          "nao",
          "sim",
          "sim",
          "nao",
          "sim",
          "nao",
          "nao",
          "sim",
          "sim",
          "sim",
          "sim",
          "sim",
          "nao",
          "sim",
          "nao",
          "nao",
          "sim",
          "sim",
          "sim",
          "sim",
          "nao",
          "nao",
          "sim",
          "nao",
          "nao",
          "nao",
          "nao",
          "nao",
          "sim",
          "nao",
          "nao",
          "nao",
          "nao",
          "sim",
          "nao",
          "nao",
          "nao",
          "nao",
          "nao",
          "nao",
          "sim",
          "sim",
          "nao",
          "nao",
          "nao",
          "nao",
          "sim",
          "nao",
          "sim",
          "nao",
          "nao",
          "nao",
          "nao",
          "sim",
          "nao",
          "nao",
          "nao",
          "sim",
          "nao",
          "sim",
          "sim",
          "sim",
          "nao",
          "nao",
          "sim",
          "nao",
          "nao",
          "nao",
          "nao",
          "nao",
          "nao",
          "nao",
          "nao",
          "sim",
          "sim",
          "nao",
          "nao",
          "nao",
          "nao",
          "sim",
          "nao",
          "nao",
          "nao",
          "nao",
          "nao",
          "sim",
          "nao",
          "nao",
          "sim",
          "sim",
          "sim",
          "nao",
          "nao",
          "nao",
          "sim",
          "nao",
          "nao",
          "sim",
          "nao",
          "nao",
          "sim",
          "sim",
          "nao",
          "nao",
          "nao",
          "nao",
          "sim",
          "nao",
          "sim",
          "sim",
          "sim",
          "nao",
          "nao",
          "sim",
          "nao",
          "sim",
          "nao",
          "nao",
          "nao",
          "nao",
          "nao",
          "nao",
          "sim",
          "sim",
          "sim",
          "sim",
          "sim",
          "nao",
          "sim",
          "nao",
          "nao",
          "nao",
          "nao",
          "nao",
          "sim",
          "nao",
          "nao",
          "sim",
          "nao",
          "nao",
          "nao",
          "sim",
          "sim",
          "sim",
          "sim",
          "sim",
          "nao",
          "nao",
          "nao",
          "sim",
          "nao",
          "sim",
          "sim",
          "nao",
          "nao",
          "nao",
          "nao",
          "sim",
          "sim",
          "nao",
          "nao",
          "nao",
          "nao",
          "sim",
          "nao",
          "nao",
          "sim",
          "sim",
          "nao",
          "nao",
          "nao",
          "sim",
          "sim",
          "sim",
          "sim",
          "sim",
          "nao",
          "sim",
          "nao",
          "nao",
          "sim",
          "nao",
          "nao",
          "nao",
          "nao",
          "nao",
          "nao",
          "nao",
          "nao",
          "nao",
          "sim",
          "nao",
          "sim",
          "nao",
          "nao",
          "sim",
          "nao",
          "nao",
          "nao",
          "nao",
          "nao",
          "sim",
          "nao",
          "nao",
          "nao",
          "sim",
          "sim",
          "sim",
          "nao",
          "sim",
          "nao",
          "nao",
          "nao",
          "sim",
          "nao",
          "sim",
          "sim",
          "nao",
          "sim",
          "sim",
          "sim",
          "nao",
          "sim",
          "nao",
          "nao",
          "sim",
          "nao",
          "sim",
          "sim",
          "nao",
          "nao",
          "nao",
          "sim",
          "nao",
          "nao",
          "sim",
          "sim",
          "sim",
          "nao",
          "nao",
          "nao",
          "sim",
          "nao",
          "nao",
          "nao",
          "nao",
          "nao",
          "nao",
          "nao",
          "sim",
          "sim",
          "nao",
          "nao",
          "nao",
          "sim",
          "nao",
          "sim",
          "nao",
          "sim",
          "nao",
          "nao",
          "nao",
          "nao",
          "sim",
          "sim",
          "sim",
          "nao",
          "nao",
          "nao",
          "sim",
          "nao",
          "nao",
          "nao",
          "nao",
          "nao",
          "sim",
          "sim",
          "sim",
          "nao",
          "sim",
          "nao",
          "sim",
          "nao",
          "nao",
          "sim",
          "sim",
          "nao",
          "sim",
          "sim",
          "nao",
          "sim",
          "nao",
          "nao",
          "nao",
          "nao",
          "sim",
          "nao",
          "nao",
          "sim",
          "sim",
          "sim",
          "nao",
          "nao",
          "nao",
          "nao",
          "nao",
          "nao",
          "sim",
          "nao",
          "nao",
          "sim",
          "nao",
          "sim",
          "nao",
          "nao",
          "nao",
          "nao",
          "nao",
          "nao",
          "nao",
          "nao",
          "nao",
          "nao",
          "nao",
          "sim",
          "nao",
          "nao",
          "sim",
          "nao",
          "sim",
          "nao",
          "nao",
          "sim",
          "nao",
          "sim",
          "sim",
          "nao",
          "nao",
          "sim",
          "nao",
          "nao",
          "sim",
          "nao",
          "nao",
          "sim",
          "sim",
          "nao",
          "sim",
          "nao",
          "sim",
          "sim",
          "nao",
          "nao",
          "sim",
          "sim",
          "nao",
          "sim",
          "sim",
          "sim",
          "sim",
          "sim",
          "nao",
          "sim",
          "nao",
          "sim",
          "sim",
          "nao",
          "nao",
          "nao",
          "nao",
          "sim",
          "nao",
          "nao",
          "nao",
          "nao",
          "sim",
          "nao",
          "nao",
          "sim",
          "nao",
          "nao",
          "nao",
          "sim",
          "nao",
          "sim",
          "nao",
          "nao",
          "nao",
          "nao",
          "sim",
          "nao",
          "sim",
          "sim",
          "sim",
          "sim",
          "nao",
          "nao",
          "nao",
          "nao",
          "nao",
          "nao",
          "sim",
          "nao",
          "sim",
          "nao",
          "nao",
          "nao",
          "nao",
          "nao",
          "nao",
          "nao",
          "sim",
          "sim",
          "nao",
          "nao",
          "nao",
          "nao",
          "sim",
          "nao",
          "nao",
          "nao",
          "nao",
          "nao",
          "nao",
          "nao",
          "sim",
          "nao",
          "sim",
          "nao",
          "nao",
          "nao",
          "sim",
          "sim",
          "nao",
          "nao",
          "sim",
          "nao",
          "nao",
          "nao",
          "nao",
          "nao",
          "nao",
          "sim",
          "sim",
          "sim",
          "nao",
          "nao",
          "nao",
          "nao",
          "sim",
          "nao",
          "sim",
          "sim",
          "sim",
          "nao",
          "nao",
          "nao",
          "nao",
          "sim",
          "sim",
          "sim",
          "nao",
          "sim",
          "sim",
          "nao",
          "nao",
          "nao",
          "nao",
          "sim",
          "nao",
          "nao",
          "nao",
          "sim",
          "nao",
          "nao",
          "sim",
          "sim",
          "sim",
          "nao",
          "nao",
          "nao",
          "nao",
          "sim",
          "nao",
          "sim",
          "nao",
          "nao",
          "sim",
          "nao",
          "sim",
          "sim",
          "sim",
          "sim",
          "nao",
          "sim",
          "nao",
          "nao",
          "sim",
          "nao",
          "nao",
          "nao",
          "nao",
          "sim",
          "nao",
          "nao",
          "nao",
          "nao",
          "nao",
          "sim",
          "sim",
          "nao",
          "sim",
          "nao",
          "nao",
          "nao",
          "nao",
          "nao",
          "sim",
          "nao",
          "sim",
          "sim",
          "nao",
          "nao",
          "sim",
          "sim",
          "sim",
          "nao",
          "nao",
          "sim",
          "nao",
          "nao",
          "nao",
          "nao",
          "nao",
          "nao",
          "sim",
          "nao",
          "nao",
          "nao",
          "sim",
          "nao",
          "nao",
          "sim",
          "sim",
          "nao",
          "sim",
          "nao",
          "sim",
          "nao",
          "sim",
          "nao",
          "sim",
          "nao",
          "sim",
          "nao",
          "sim",
          "sim",
          "sim",
          "nao",
          "nao",
          "sim",
          "nao",
          "nao",
          "nao",
          "nao",
          "nao",
          "nao",
          "nao",
          "sim",
          "sim",
          "nao",
          "sim",
          "nao",
          "nao",
          "sim",
          "nao",
          "nao",
          "sim",
          "sim",
          "nao",
          "sim",
          "nao",
          "sim",
          "nao",
          "nao",
          "nao",
          "nao",
          "sim",
          "nao",
          "nao",
          "sim",
          "sim",
          "nao",
          "nao",
          "nao",
          "nao",
          "nao",
          "nao",
          "nao",
          "sim",
          "nao",
          "nao",
          "nao",
          "sim",
          "sim",
          "nao",
          "nao",
          "nao",
          "sim",
          "sim",
          "sim",
          "nao",
          "sim",
          "sim",
          "nao",
          "nao",
          "nao",
          "sim",
          "nao",
          "nao",
          "sim",
          "sim",
          "nao",
          "nao",
          "sim",
          "nao",
          "nao",
          "nao",
          "nao",
          "nao",
          "nao",
          "sim",
          "sim",
          "sim",
          "nao",
          "nao",
          "sim",
          "sim",
          "sim",
          "nao",
          "nao",
          "nao",
          "nao",
          "nao",
          "nao",
          "nao",
          "sim",
          "nao",
          "sim",
          "sim",
          "sim",
          "sim",
          "nao",
          "nao",
          "nao",
          "sim",
          "nao",
          "nao",
          "nao",
          "sim",
          "nao",
          "nao",
          "nao",
          "nao",
          "sim",
          "nao",
          "sim",
          "sim",
          "nao",
          "sim",
          "nao",
          "nao",
          "sim",
          "nao",
          "nao",
          "sim",
          "sim",
          "nao",
          "nao",
          "nao",
          "nao",
          "sim",
          "sim",
          "nao",
          "sim",
          "sim",
          "nao",
          "sim",
          "sim",
          "sim",
          "nao",
          "nao",
          "sim",
          "sim",
          "nao",
          "nao",
          "nao",
          "sim",
          "sim",
          "sim",
          "sim",
          "sim",
          "sim",
          "nao",
          "nao",
          "nao",
          "sim",
          "nao",
          "sim",
          "sim",
          "nao",
          "nao",
          "sim",
          "nao",
          "sim",
          "sim",
          "nao",
          "sim",
          "nao",
          "sim",
          "nao",
          "nao",
          "nao",
          "nao",
          "sim",
          "sim",
          "sim",
          "sim",
          "sim",
          "nao",
          "nao",
          "sim",
          "sim",
          "nao",
          "nao",
          "nao",
          "nao",
          "nao",
          "sim",
          "nao",
          "nao",
          "sim",
          "sim",
          "nao",
          "nao",
          "nao",
          "nao",
          "nao",
          "sim",
          "nao",
          "nao",
          "nao",
          "nao",
          "nao",
          "nao",
          "nao",
          "nao",
          "sim",
          "sim",
          "sim",
          "nao",
          "sim",
          "sim",
          "nao",
          "sim",
          "sim",
          "nao",
          "nao",
          "nao",
          "sim",
          "nao",
          "nao",
          "nao",
          "nao",
          "sim",
          "sim",
          "nao",
          "nao",
          "sim",
          "sim",
          "sim",
          "sim",
          "nao",
          "sim",
          "sim",
          "sim",
          "sim",
          "sim",
          "nao",
          "sim",
          "nao",
          "sim",
          "nao",
          "nao",
          "sim",
          "nao",
          "nao",
          "nao",
          "nao",
          "sim",
          "nao",
          "sim",
          "sim",
          "nao",
          "nao",
          "sim",
          "sim",
          "sim",
          "sim",
          "nao",
          "nao",
          "sim",
          "nao",
          "nao",
          "nao",
          "nao",
          "sim",
          "sim",
          "nao",
          "sim",
          "nao",
          "sim",
          "nao",
          "nao",
          "sim",
          "sim",
          "nao",
          "nao",
          "nao",
          "nao",
          "nao",
          "nao",
          "sim",
          "nao",
          "sim",
          "nao",
          "nao",
          "sim",
          "nao",
          "nao",
          "nao",
          "sim",
          "nao",
          "sim",
          "sim",
          "nao",
          "sim",
          "nao",
          "nao",
          "nao",
          "nao",
          "nao",
          "sim",
          "sim",
          "sim",
          "nao",
          "nao",
          "sim",
          "nao",
          "nao",
          "nao",
          "sim",
          "nao",
          "nao",
          "sim",
          "sim",
          "sim",
          "nao",
          "sim",
          "nao",
          "nao",
          "nao",
          "sim",
          "nao",
          "sim",
          "nao",
          "nao",
          "sim",
          "nao",
          "nao",
          "sim",
          "nao",
          "nao",
          "sim",
          "sim",
          "sim",
          "nao",
          "nao",
          "sim",
          "sim",
          "nao",
          "sim",
          "sim",
          "sim",
          "nao",
          "nao",
          "sim",
          "nao",
          "nao",
          "nao",
          "sim",
          "nao",
          "nao",
          "sim",
          "sim",
          "sim",
          "sim",
          "nao",
          "nao",
          "sim",
          "nao",
          "sim",
          "nao",
          "nao",
          "nao",
          "nao",
          "nao",
          "nao",
          "sim",
          "sim",
          "nao",
          "sim",
          "nao",
          "nao",
          "nao",
          "sim",
          "sim",
          "nao",
          "nao",
          "nao",
          "nao",
          "nao",
          "sim",
          "sim",
          "sim",
          "nao",
          "nao",
          "nao",
          "sim",
          "nao",
          "sim",
          "nao",
          "sim",
          "nao",
          "nao",
          "nao",
          "nao",
          "nao",
          "sim",
          "nao",
          "sim",
          "sim",
          "sim",
          "nao",
          "nao",
          "sim",
          "nao",
          "sim",
          "nao",
          "sim",
          "nao",
          "sim",
          "nao",
          "nao",
          "nao",
          "nao",
          "nao",
          "nao",
          "sim",
          "nao",
          "nao",
          "sim",
          "sim",
          "nao",
          "sim",
          "nao",
          "sim",
          "nao",
          "sim",
          "nao",
          "nao",
          "sim",
          "nao",
          "sim",
          "nao",
          "nao",
          "nao",
          "nao",
          "sim",
          "nao",
          "sim",
          "sim",
          "nao",
          "sim",
          "nao",
          "sim",
          "nao",
          "sim",
          "sim",
          "nao",
          "nao",
          "sim",
          "nao",
          "nao",
          "sim",
          "sim",
          "sim",
          "sim",
          "sim"
         ],
         "xaxis": "x",
         "yaxis": "y"
        }
       ],
       "layout": {
        "barmode": "relative",
        "legend": {
         "tracegroupgap": 0
        },
        "margin": {
         "t": 60
        },
        "template": {
         "data": {
          "bar": [
           {
            "error_x": {
             "color": "#2a3f5f"
            },
            "error_y": {
             "color": "#2a3f5f"
            },
            "marker": {
             "line": {
              "color": "#E5ECF6",
              "width": 0.5
             },
             "pattern": {
              "fillmode": "overlay",
              "size": 10,
              "solidity": 0.2
             }
            },
            "type": "bar"
           }
          ],
          "barpolar": [
           {
            "marker": {
             "line": {
              "color": "#E5ECF6",
              "width": 0.5
             },
             "pattern": {
              "fillmode": "overlay",
              "size": 10,
              "solidity": 0.2
             }
            },
            "type": "barpolar"
           }
          ],
          "carpet": [
           {
            "aaxis": {
             "endlinecolor": "#2a3f5f",
             "gridcolor": "white",
             "linecolor": "white",
             "minorgridcolor": "white",
             "startlinecolor": "#2a3f5f"
            },
            "baxis": {
             "endlinecolor": "#2a3f5f",
             "gridcolor": "white",
             "linecolor": "white",
             "minorgridcolor": "white",
             "startlinecolor": "#2a3f5f"
            },
            "type": "carpet"
           }
          ],
          "choropleth": [
           {
            "colorbar": {
             "outlinewidth": 0,
             "ticks": ""
            },
            "type": "choropleth"
           }
          ],
          "contour": [
           {
            "colorbar": {
             "outlinewidth": 0,
             "ticks": ""
            },
            "colorscale": [
             [
              0,
              "#0d0887"
             ],
             [
              0.1111111111111111,
              "#46039f"
             ],
             [
              0.2222222222222222,
              "#7201a8"
             ],
             [
              0.3333333333333333,
              "#9c179e"
             ],
             [
              0.4444444444444444,
              "#bd3786"
             ],
             [
              0.5555555555555556,
              "#d8576b"
             ],
             [
              0.6666666666666666,
              "#ed7953"
             ],
             [
              0.7777777777777778,
              "#fb9f3a"
             ],
             [
              0.8888888888888888,
              "#fdca26"
             ],
             [
              1,
              "#f0f921"
             ]
            ],
            "type": "contour"
           }
          ],
          "contourcarpet": [
           {
            "colorbar": {
             "outlinewidth": 0,
             "ticks": ""
            },
            "type": "contourcarpet"
           }
          ],
          "heatmap": [
           {
            "colorbar": {
             "outlinewidth": 0,
             "ticks": ""
            },
            "colorscale": [
             [
              0,
              "#0d0887"
             ],
             [
              0.1111111111111111,
              "#46039f"
             ],
             [
              0.2222222222222222,
              "#7201a8"
             ],
             [
              0.3333333333333333,
              "#9c179e"
             ],
             [
              0.4444444444444444,
              "#bd3786"
             ],
             [
              0.5555555555555556,
              "#d8576b"
             ],
             [
              0.6666666666666666,
              "#ed7953"
             ],
             [
              0.7777777777777778,
              "#fb9f3a"
             ],
             [
              0.8888888888888888,
              "#fdca26"
             ],
             [
              1,
              "#f0f921"
             ]
            ],
            "type": "heatmap"
           }
          ],
          "histogram": [
           {
            "marker": {
             "pattern": {
              "fillmode": "overlay",
              "size": 10,
              "solidity": 0.2
             }
            },
            "type": "histogram"
           }
          ],
          "histogram2d": [
           {
            "colorbar": {
             "outlinewidth": 0,
             "ticks": ""
            },
            "colorscale": [
             [
              0,
              "#0d0887"
             ],
             [
              0.1111111111111111,
              "#46039f"
             ],
             [
              0.2222222222222222,
              "#7201a8"
             ],
             [
              0.3333333333333333,
              "#9c179e"
             ],
             [
              0.4444444444444444,
              "#bd3786"
             ],
             [
              0.5555555555555556,
              "#d8576b"
             ],
             [
              0.6666666666666666,
              "#ed7953"
             ],
             [
              0.7777777777777778,
              "#fb9f3a"
             ],
             [
              0.8888888888888888,
              "#fdca26"
             ],
             [
              1,
              "#f0f921"
             ]
            ],
            "type": "histogram2d"
           }
          ],
          "histogram2dcontour": [
           {
            "colorbar": {
             "outlinewidth": 0,
             "ticks": ""
            },
            "colorscale": [
             [
              0,
              "#0d0887"
             ],
             [
              0.1111111111111111,
              "#46039f"
             ],
             [
              0.2222222222222222,
              "#7201a8"
             ],
             [
              0.3333333333333333,
              "#9c179e"
             ],
             [
              0.4444444444444444,
              "#bd3786"
             ],
             [
              0.5555555555555556,
              "#d8576b"
             ],
             [
              0.6666666666666666,
              "#ed7953"
             ],
             [
              0.7777777777777778,
              "#fb9f3a"
             ],
             [
              0.8888888888888888,
              "#fdca26"
             ],
             [
              1,
              "#f0f921"
             ]
            ],
            "type": "histogram2dcontour"
           }
          ],
          "mesh3d": [
           {
            "colorbar": {
             "outlinewidth": 0,
             "ticks": ""
            },
            "type": "mesh3d"
           }
          ],
          "parcoords": [
           {
            "line": {
             "colorbar": {
              "outlinewidth": 0,
              "ticks": ""
             }
            },
            "type": "parcoords"
           }
          ],
          "pie": [
           {
            "automargin": true,
            "type": "pie"
           }
          ],
          "scatter": [
           {
            "fillpattern": {
             "fillmode": "overlay",
             "size": 10,
             "solidity": 0.2
            },
            "type": "scatter"
           }
          ],
          "scatter3d": [
           {
            "line": {
             "colorbar": {
              "outlinewidth": 0,
              "ticks": ""
             }
            },
            "marker": {
             "colorbar": {
              "outlinewidth": 0,
              "ticks": ""
             }
            },
            "type": "scatter3d"
           }
          ],
          "scattercarpet": [
           {
            "marker": {
             "colorbar": {
              "outlinewidth": 0,
              "ticks": ""
             }
            },
            "type": "scattercarpet"
           }
          ],
          "scattergeo": [
           {
            "marker": {
             "colorbar": {
              "outlinewidth": 0,
              "ticks": ""
             }
            },
            "type": "scattergeo"
           }
          ],
          "scattergl": [
           {
            "marker": {
             "colorbar": {
              "outlinewidth": 0,
              "ticks": ""
             }
            },
            "type": "scattergl"
           }
          ],
          "scattermap": [
           {
            "marker": {
             "colorbar": {
              "outlinewidth": 0,
              "ticks": ""
             }
            },
            "type": "scattermap"
           }
          ],
          "scattermapbox": [
           {
            "marker": {
             "colorbar": {
              "outlinewidth": 0,
              "ticks": ""
             }
            },
            "type": "scattermapbox"
           }
          ],
          "scatterpolar": [
           {
            "marker": {
             "colorbar": {
              "outlinewidth": 0,
              "ticks": ""
             }
            },
            "type": "scatterpolar"
           }
          ],
          "scatterpolargl": [
           {
            "marker": {
             "colorbar": {
              "outlinewidth": 0,
              "ticks": ""
             }
            },
            "type": "scatterpolargl"
           }
          ],
          "scatterternary": [
           {
            "marker": {
             "colorbar": {
              "outlinewidth": 0,
              "ticks": ""
             }
            },
            "type": "scatterternary"
           }
          ],
          "surface": [
           {
            "colorbar": {
             "outlinewidth": 0,
             "ticks": ""
            },
            "colorscale": [
             [
              0,
              "#0d0887"
             ],
             [
              0.1111111111111111,
              "#46039f"
             ],
             [
              0.2222222222222222,
              "#7201a8"
             ],
             [
              0.3333333333333333,
              "#9c179e"
             ],
             [
              0.4444444444444444,
              "#bd3786"
             ],
             [
              0.5555555555555556,
              "#d8576b"
             ],
             [
              0.6666666666666666,
              "#ed7953"
             ],
             [
              0.7777777777777778,
              "#fb9f3a"
             ],
             [
              0.8888888888888888,
              "#fdca26"
             ],
             [
              1,
              "#f0f921"
             ]
            ],
            "type": "surface"
           }
          ],
          "table": [
           {
            "cells": {
             "fill": {
              "color": "#EBF0F8"
             },
             "line": {
              "color": "white"
             }
            },
            "header": {
             "fill": {
              "color": "#C8D4E3"
             },
             "line": {
              "color": "white"
             }
            },
            "type": "table"
           }
          ]
         },
         "layout": {
          "annotationdefaults": {
           "arrowcolor": "#2a3f5f",
           "arrowhead": 0,
           "arrowwidth": 1
          },
          "autotypenumbers": "strict",
          "coloraxis": {
           "colorbar": {
            "outlinewidth": 0,
            "ticks": ""
           }
          },
          "colorscale": {
           "diverging": [
            [
             0,
             "#8e0152"
            ],
            [
             0.1,
             "#c51b7d"
            ],
            [
             0.2,
             "#de77ae"
            ],
            [
             0.3,
             "#f1b6da"
            ],
            [
             0.4,
             "#fde0ef"
            ],
            [
             0.5,
             "#f7f7f7"
            ],
            [
             0.6,
             "#e6f5d0"
            ],
            [
             0.7,
             "#b8e186"
            ],
            [
             0.8,
             "#7fbc41"
            ],
            [
             0.9,
             "#4d9221"
            ],
            [
             1,
             "#276419"
            ]
           ],
           "sequential": [
            [
             0,
             "#0d0887"
            ],
            [
             0.1111111111111111,
             "#46039f"
            ],
            [
             0.2222222222222222,
             "#7201a8"
            ],
            [
             0.3333333333333333,
             "#9c179e"
            ],
            [
             0.4444444444444444,
             "#bd3786"
            ],
            [
             0.5555555555555556,
             "#d8576b"
            ],
            [
             0.6666666666666666,
             "#ed7953"
            ],
            [
             0.7777777777777778,
             "#fb9f3a"
            ],
            [
             0.8888888888888888,
             "#fdca26"
            ],
            [
             1,
             "#f0f921"
            ]
           ],
           "sequentialminus": [
            [
             0,
             "#0d0887"
            ],
            [
             0.1111111111111111,
             "#46039f"
            ],
            [
             0.2222222222222222,
             "#7201a8"
            ],
            [
             0.3333333333333333,
             "#9c179e"
            ],
            [
             0.4444444444444444,
             "#bd3786"
            ],
            [
             0.5555555555555556,
             "#d8576b"
            ],
            [
             0.6666666666666666,
             "#ed7953"
            ],
            [
             0.7777777777777778,
             "#fb9f3a"
            ],
            [
             0.8888888888888888,
             "#fdca26"
            ],
            [
             1,
             "#f0f921"
            ]
           ]
          },
          "colorway": [
           "#636efa",
           "#EF553B",
           "#00cc96",
           "#ab63fa",
           "#FFA15A",
           "#19d3f3",
           "#FF6692",
           "#B6E880",
           "#FF97FF",
           "#FECB52"
          ],
          "font": {
           "color": "#2a3f5f"
          },
          "geo": {
           "bgcolor": "white",
           "lakecolor": "white",
           "landcolor": "#E5ECF6",
           "showlakes": true,
           "showland": true,
           "subunitcolor": "white"
          },
          "hoverlabel": {
           "align": "left"
          },
          "hovermode": "closest",
          "mapbox": {
           "style": "light"
          },
          "paper_bgcolor": "white",
          "plot_bgcolor": "#E5ECF6",
          "polar": {
           "angularaxis": {
            "gridcolor": "white",
            "linecolor": "white",
            "ticks": ""
           },
           "bgcolor": "#E5ECF6",
           "radialaxis": {
            "gridcolor": "white",
            "linecolor": "white",
            "ticks": ""
           }
          },
          "scene": {
           "xaxis": {
            "backgroundcolor": "#E5ECF6",
            "gridcolor": "white",
            "gridwidth": 2,
            "linecolor": "white",
            "showbackground": true,
            "ticks": "",
            "zerolinecolor": "white"
           },
           "yaxis": {
            "backgroundcolor": "#E5ECF6",
            "gridcolor": "white",
            "gridwidth": 2,
            "linecolor": "white",
            "showbackground": true,
            "ticks": "",
            "zerolinecolor": "white"
           },
           "zaxis": {
            "backgroundcolor": "#E5ECF6",
            "gridcolor": "white",
            "gridwidth": 2,
            "linecolor": "white",
            "showbackground": true,
            "ticks": "",
            "zerolinecolor": "white"
           }
          },
          "shapedefaults": {
           "line": {
            "color": "#2a3f5f"
           }
          },
          "ternary": {
           "aaxis": {
            "gridcolor": "white",
            "linecolor": "white",
            "ticks": ""
           },
           "baxis": {
            "gridcolor": "white",
            "linecolor": "white",
            "ticks": ""
           },
           "bgcolor": "#E5ECF6",
           "caxis": {
            "gridcolor": "white",
            "linecolor": "white",
            "ticks": ""
           }
          },
          "title": {
           "x": 0.05
          },
          "xaxis": {
           "automargin": true,
           "gridcolor": "white",
           "linecolor": "white",
           "ticks": "",
           "title": {
            "standoff": 15
           },
           "zerolinecolor": "white",
           "zerolinewidth": 2
          },
          "yaxis": {
           "automargin": true,
           "gridcolor": "white",
           "linecolor": "white",
           "ticks": "",
           "title": {
            "standoff": 15
           },
           "zerolinecolor": "white",
           "zerolinewidth": 2
          }
         }
        },
        "xaxis": {
         "anchor": "y",
         "domain": [
          0,
          1
         ],
         "title": {
          "text": "aderencia_investimento"
         }
        },
        "yaxis": {
         "anchor": "x",
         "domain": [
          0,
          1
         ],
         "title": {
          "text": "count"
         }
        }
       }
      }
     },
     "metadata": {},
     "output_type": "display_data"
    }
   ],
   "source": [
    "px.histogram(df, x='aderencia_investimento', text_auto=True)"
   ]
  },
  {
   "cell_type": "code",
   "execution_count": 71,
   "metadata": {},
   "outputs": [
    {
     "data": {
      "application/vnd.plotly.v1+json": {
       "config": {
        "plotlyServerURL": "https://plot.ly"
       },
       "data": [
        {
         "alignmentgroup": "True",
         "bingroup": "x",
         "hovertemplate": "aderencia_investimento=sim<br>estado_civil=%{x}<br>count=%{y}<extra></extra>",
         "legendgroup": "sim",
         "marker": {
          "color": "#636efa",
          "pattern": {
           "shape": ""
          }
         },
         "name": "sim",
         "offsetgroup": "sim",
         "orientation": "v",
         "showlegend": true,
         "texttemplate": "%{value}",
         "type": "histogram",
         "x": [
          "casado (a)",
          "casado (a)",
          "divorciado (a)",
          "casado (a)",
          "solteiro (a)",
          "solteiro (a)",
          "casado (a)",
          "divorciado (a)",
          "casado (a)",
          "divorciado (a)",
          "casado (a)",
          "solteiro (a)",
          "solteiro (a)",
          "casado (a)",
          "solteiro (a)",
          "casado (a)",
          "casado (a)",
          "casado (a)",
          "casado (a)",
          "casado (a)",
          "casado (a)",
          "casado (a)",
          "casado (a)",
          "solteiro (a)",
          "solteiro (a)",
          "divorciado (a)",
          "divorciado (a)",
          "solteiro (a)",
          "divorciado (a)",
          "solteiro (a)",
          "solteiro (a)",
          "solteiro (a)",
          "solteiro (a)",
          "solteiro (a)",
          "casado (a)",
          "casado (a)",
          "casado (a)",
          "casado (a)",
          "casado (a)",
          "solteiro (a)",
          "solteiro (a)",
          "casado (a)",
          "solteiro (a)",
          "casado (a)",
          "casado (a)",
          "casado (a)",
          "divorciado (a)",
          "casado (a)",
          "solteiro (a)",
          "solteiro (a)",
          "casado (a)",
          "casado (a)",
          "casado (a)",
          "casado (a)",
          "solteiro (a)",
          "casado (a)",
          "divorciado (a)",
          "casado (a)",
          "divorciado (a)",
          "casado (a)",
          "solteiro (a)",
          "casado (a)",
          "casado (a)",
          "divorciado (a)",
          "divorciado (a)",
          "solteiro (a)",
          "casado (a)",
          "casado (a)",
          "casado (a)",
          "solteiro (a)",
          "divorciado (a)",
          "solteiro (a)",
          "casado (a)",
          "casado (a)",
          "casado (a)",
          "divorciado (a)",
          "divorciado (a)",
          "casado (a)",
          "solteiro (a)",
          "casado (a)",
          "solteiro (a)",
          "casado (a)",
          "casado (a)",
          "casado (a)",
          "casado (a)",
          "casado (a)",
          "divorciado (a)",
          "divorciado (a)",
          "casado (a)",
          "divorciado (a)",
          "casado (a)",
          "casado (a)",
          "casado (a)",
          "solteiro (a)",
          "casado (a)",
          "casado (a)",
          "casado (a)",
          "solteiro (a)",
          "solteiro (a)",
          "solteiro (a)",
          "casado (a)",
          "casado (a)",
          "divorciado (a)",
          "casado (a)",
          "solteiro (a)",
          "casado (a)",
          "casado (a)",
          "solteiro (a)",
          "divorciado (a)",
          "solteiro (a)",
          "casado (a)",
          "solteiro (a)",
          "casado (a)",
          "solteiro (a)",
          "casado (a)",
          "solteiro (a)",
          "solteiro (a)",
          "casado (a)",
          "casado (a)",
          "casado (a)",
          "casado (a)",
          "solteiro (a)",
          "divorciado (a)",
          "solteiro (a)",
          "solteiro (a)",
          "solteiro (a)",
          "casado (a)",
          "solteiro (a)",
          "solteiro (a)",
          "solteiro (a)",
          "solteiro (a)",
          "casado (a)",
          "solteiro (a)",
          "divorciado (a)",
          "casado (a)",
          "casado (a)",
          "casado (a)",
          "divorciado (a)",
          "casado (a)",
          "solteiro (a)",
          "casado (a)",
          "casado (a)",
          "solteiro (a)",
          "casado (a)",
          "solteiro (a)",
          "casado (a)",
          "casado (a)",
          "solteiro (a)",
          "casado (a)",
          "solteiro (a)",
          "solteiro (a)",
          "casado (a)",
          "solteiro (a)",
          "casado (a)",
          "solteiro (a)",
          "divorciado (a)",
          "solteiro (a)",
          "solteiro (a)",
          "solteiro (a)",
          "casado (a)",
          "casado (a)",
          "casado (a)",
          "casado (a)",
          "solteiro (a)",
          "casado (a)",
          "casado (a)",
          "casado (a)",
          "casado (a)",
          "casado (a)",
          "solteiro (a)",
          "solteiro (a)",
          "casado (a)",
          "casado (a)",
          "casado (a)",
          "solteiro (a)",
          "casado (a)",
          "casado (a)",
          "divorciado (a)",
          "casado (a)",
          "casado (a)",
          "solteiro (a)",
          "casado (a)",
          "divorciado (a)",
          "casado (a)",
          "casado (a)",
          "solteiro (a)",
          "solteiro (a)",
          "divorciado (a)",
          "casado (a)",
          "casado (a)",
          "casado (a)",
          "casado (a)",
          "divorciado (a)",
          "divorciado (a)",
          "solteiro (a)",
          "solteiro (a)",
          "casado (a)",
          "solteiro (a)",
          "solteiro (a)",
          "casado (a)",
          "casado (a)",
          "casado (a)",
          "casado (a)",
          "casado (a)",
          "solteiro (a)",
          "solteiro (a)",
          "divorciado (a)",
          "solteiro (a)",
          "divorciado (a)",
          "casado (a)",
          "solteiro (a)",
          "casado (a)",
          "divorciado (a)",
          "solteiro (a)",
          "casado (a)",
          "casado (a)",
          "solteiro (a)",
          "casado (a)",
          "casado (a)",
          "divorciado (a)",
          "casado (a)",
          "solteiro (a)",
          "casado (a)",
          "casado (a)",
          "casado (a)",
          "divorciado (a)",
          "casado (a)",
          "solteiro (a)",
          "casado (a)",
          "casado (a)",
          "casado (a)",
          "divorciado (a)",
          "casado (a)",
          "solteiro (a)",
          "casado (a)",
          "casado (a)",
          "casado (a)",
          "casado (a)",
          "casado (a)",
          "casado (a)",
          "solteiro (a)",
          "casado (a)",
          "casado (a)",
          "casado (a)",
          "solteiro (a)",
          "casado (a)",
          "casado (a)",
          "casado (a)",
          "casado (a)",
          "divorciado (a)",
          "solteiro (a)",
          "casado (a)",
          "casado (a)",
          "casado (a)",
          "divorciado (a)",
          "casado (a)",
          "divorciado (a)",
          "solteiro (a)",
          "casado (a)",
          "solteiro (a)",
          "solteiro (a)",
          "casado (a)",
          "casado (a)",
          "casado (a)",
          "casado (a)",
          "solteiro (a)",
          "solteiro (a)",
          "casado (a)",
          "casado (a)",
          "casado (a)",
          "solteiro (a)",
          "solteiro (a)",
          "casado (a)",
          "casado (a)",
          "casado (a)",
          "solteiro (a)",
          "casado (a)",
          "casado (a)",
          "casado (a)",
          "casado (a)",
          "divorciado (a)",
          "solteiro (a)",
          "casado (a)",
          "divorciado (a)",
          "solteiro (a)",
          "solteiro (a)",
          "casado (a)",
          "casado (a)",
          "casado (a)",
          "casado (a)",
          "casado (a)",
          "solteiro (a)",
          "solteiro (a)",
          "casado (a)",
          "solteiro (a)",
          "solteiro (a)",
          "solteiro (a)",
          "divorciado (a)",
          "solteiro (a)",
          "casado (a)",
          "divorciado (a)",
          "casado (a)",
          "casado (a)",
          "casado (a)",
          "casado (a)",
          "casado (a)",
          "solteiro (a)",
          "casado (a)",
          "casado (a)",
          "casado (a)",
          "casado (a)",
          "solteiro (a)",
          "casado (a)",
          "solteiro (a)",
          "solteiro (a)",
          "divorciado (a)",
          "solteiro (a)",
          "solteiro (a)",
          "casado (a)",
          "casado (a)",
          "divorciado (a)",
          "casado (a)",
          "solteiro (a)",
          "casado (a)",
          "divorciado (a)",
          "solteiro (a)",
          "casado (a)",
          "casado (a)",
          "divorciado (a)",
          "casado (a)",
          "casado (a)",
          "casado (a)",
          "solteiro (a)",
          "casado (a)",
          "solteiro (a)",
          "solteiro (a)",
          "solteiro (a)",
          "casado (a)",
          "casado (a)",
          "solteiro (a)",
          "solteiro (a)",
          "casado (a)",
          "casado (a)",
          "solteiro (a)",
          "solteiro (a)",
          "solteiro (a)",
          "casado (a)",
          "casado (a)",
          "casado (a)",
          "casado (a)",
          "divorciado (a)",
          "solteiro (a)",
          "divorciado (a)",
          "casado (a)",
          "divorciado (a)",
          "casado (a)",
          "solteiro (a)",
          "solteiro (a)",
          "divorciado (a)",
          "casado (a)",
          "solteiro (a)",
          "solteiro (a)",
          "casado (a)",
          "casado (a)",
          "casado (a)",
          "divorciado (a)",
          "solteiro (a)",
          "solteiro (a)",
          "solteiro (a)",
          "casado (a)",
          "solteiro (a)",
          "casado (a)",
          "casado (a)",
          "casado (a)",
          "solteiro (a)",
          "casado (a)",
          "casado (a)",
          "solteiro (a)",
          "solteiro (a)",
          "divorciado (a)",
          "solteiro (a)",
          "divorciado (a)",
          "divorciado (a)",
          "casado (a)",
          "divorciado (a)",
          "casado (a)",
          "divorciado (a)",
          "divorciado (a)",
          "divorciado (a)",
          "solteiro (a)",
          "divorciado (a)",
          "divorciado (a)",
          "solteiro (a)",
          "solteiro (a)",
          "solteiro (a)",
          "casado (a)",
          "divorciado (a)",
          "solteiro (a)",
          "casado (a)",
          "divorciado (a)",
          "solteiro (a)",
          "solteiro (a)",
          "casado (a)",
          "solteiro (a)",
          "solteiro (a)",
          "solteiro (a)",
          "solteiro (a)",
          "casado (a)",
          "casado (a)",
          "solteiro (a)",
          "divorciado (a)",
          "solteiro (a)",
          "casado (a)",
          "casado (a)",
          "casado (a)",
          "casado (a)",
          "solteiro (a)",
          "divorciado (a)",
          "casado (a)",
          "casado (a)",
          "casado (a)",
          "solteiro (a)",
          "casado (a)",
          "casado (a)",
          "solteiro (a)",
          "solteiro (a)",
          "casado (a)",
          "solteiro (a)",
          "casado (a)",
          "casado (a)",
          "solteiro (a)",
          "casado (a)",
          "divorciado (a)",
          "casado (a)",
          "divorciado (a)",
          "solteiro (a)",
          "solteiro (a)",
          "casado (a)",
          "casado (a)",
          "solteiro (a)",
          "divorciado (a)",
          "casado (a)",
          "divorciado (a)",
          "casado (a)",
          "solteiro (a)",
          "casado (a)",
          "solteiro (a)",
          "divorciado (a)",
          "divorciado (a)",
          "casado (a)",
          "casado (a)",
          "solteiro (a)",
          "solteiro (a)",
          "casado (a)",
          "casado (a)",
          "casado (a)",
          "casado (a)",
          "divorciado (a)",
          "solteiro (a)",
          "casado (a)",
          "solteiro (a)",
          "casado (a)",
          "casado (a)",
          "divorciado (a)",
          "casado (a)",
          "casado (a)",
          "casado (a)",
          "solteiro (a)",
          "casado (a)",
          "solteiro (a)",
          "casado (a)",
          "casado (a)",
          "casado (a)",
          "solteiro (a)",
          "divorciado (a)",
          "casado (a)",
          "casado (a)",
          "casado (a)",
          "casado (a)",
          "casado (a)",
          "casado (a)",
          "solteiro (a)",
          "solteiro (a)",
          "casado (a)",
          "casado (a)",
          "casado (a)",
          "solteiro (a)",
          "casado (a)",
          "casado (a)",
          "casado (a)",
          "divorciado (a)",
          "casado (a)",
          "solteiro (a)",
          "casado (a)",
          "casado (a)",
          "divorciado (a)",
          "casado (a)",
          "solteiro (a)",
          "solteiro (a)",
          "solteiro (a)",
          "casado (a)",
          "solteiro (a)"
         ],
         "xaxis": "x",
         "yaxis": "y"
        },
        {
         "alignmentgroup": "True",
         "bingroup": "x",
         "hovertemplate": "aderencia_investimento=nao<br>estado_civil=%{x}<br>count=%{y}<extra></extra>",
         "legendgroup": "nao",
         "marker": {
          "color": "#EF553B",
          "pattern": {
           "shape": ""
          }
         },
         "name": "nao",
         "offsetgroup": "nao",
         "orientation": "v",
         "showlegend": true,
         "texttemplate": "%{value}",
         "type": "histogram",
         "x": [
          "solteiro (a)",
          "casado (a)",
          "casado (a)",
          "casado (a)",
          "divorciado (a)",
          "casado (a)",
          "casado (a)",
          "solteiro (a)",
          "casado (a)",
          "casado (a)",
          "casado (a)",
          "divorciado (a)",
          "solteiro (a)",
          "casado (a)",
          "casado (a)",
          "casado (a)",
          "casado (a)",
          "solteiro (a)",
          "casado (a)",
          "casado (a)",
          "casado (a)",
          "casado (a)",
          "divorciado (a)",
          "divorciado (a)",
          "casado (a)",
          "casado (a)",
          "casado (a)",
          "casado (a)",
          "casado (a)",
          "divorciado (a)",
          "casado (a)",
          "casado (a)",
          "casado (a)",
          "solteiro (a)",
          "casado (a)",
          "solteiro (a)",
          "divorciado (a)",
          "solteiro (a)",
          "casado (a)",
          "casado (a)",
          "casado (a)",
          "casado (a)",
          "divorciado (a)",
          "casado (a)",
          "casado (a)",
          "casado (a)",
          "casado (a)",
          "casado (a)",
          "casado (a)",
          "casado (a)",
          "solteiro (a)",
          "casado (a)",
          "casado (a)",
          "casado (a)",
          "solteiro (a)",
          "casado (a)",
          "casado (a)",
          "casado (a)",
          "divorciado (a)",
          "solteiro (a)",
          "casado (a)",
          "casado (a)",
          "solteiro (a)",
          "casado (a)",
          "casado (a)",
          "casado (a)",
          "solteiro (a)",
          "casado (a)",
          "solteiro (a)",
          "casado (a)",
          "casado (a)",
          "casado (a)",
          "solteiro (a)",
          "casado (a)",
          "casado (a)",
          "solteiro (a)",
          "casado (a)",
          "solteiro (a)",
          "casado (a)",
          "casado (a)",
          "casado (a)",
          "casado (a)",
          "casado (a)",
          "casado (a)",
          "casado (a)",
          "casado (a)",
          "casado (a)",
          "casado (a)",
          "casado (a)",
          "divorciado (a)",
          "casado (a)",
          "casado (a)",
          "casado (a)",
          "casado (a)",
          "solteiro (a)",
          "casado (a)",
          "casado (a)",
          "casado (a)",
          "casado (a)",
          "casado (a)",
          "casado (a)",
          "casado (a)",
          "casado (a)",
          "casado (a)",
          "casado (a)",
          "casado (a)",
          "casado (a)",
          "solteiro (a)",
          "solteiro (a)",
          "solteiro (a)",
          "solteiro (a)",
          "solteiro (a)",
          "casado (a)",
          "casado (a)",
          "casado (a)",
          "casado (a)",
          "casado (a)",
          "casado (a)",
          "casado (a)",
          "casado (a)",
          "casado (a)",
          "divorciado (a)",
          "casado (a)",
          "casado (a)",
          "casado (a)",
          "casado (a)",
          "casado (a)",
          "solteiro (a)",
          "casado (a)",
          "solteiro (a)",
          "casado (a)",
          "casado (a)",
          "casado (a)",
          "casado (a)",
          "casado (a)",
          "casado (a)",
          "solteiro (a)",
          "casado (a)",
          "casado (a)",
          "casado (a)",
          "solteiro (a)",
          "divorciado (a)",
          "casado (a)",
          "solteiro (a)",
          "divorciado (a)",
          "casado (a)",
          "solteiro (a)",
          "casado (a)",
          "solteiro (a)",
          "solteiro (a)",
          "casado (a)",
          "solteiro (a)",
          "divorciado (a)",
          "divorciado (a)",
          "casado (a)",
          "solteiro (a)",
          "casado (a)",
          "solteiro (a)",
          "solteiro (a)",
          "casado (a)",
          "casado (a)",
          "casado (a)",
          "solteiro (a)",
          "casado (a)",
          "solteiro (a)",
          "casado (a)",
          "casado (a)",
          "casado (a)",
          "casado (a)",
          "divorciado (a)",
          "solteiro (a)",
          "solteiro (a)",
          "casado (a)",
          "casado (a)",
          "divorciado (a)",
          "casado (a)",
          "solteiro (a)",
          "casado (a)",
          "solteiro (a)",
          "divorciado (a)",
          "casado (a)",
          "solteiro (a)",
          "solteiro (a)",
          "casado (a)",
          "casado (a)",
          "casado (a)",
          "solteiro (a)",
          "casado (a)",
          "solteiro (a)",
          "divorciado (a)",
          "divorciado (a)",
          "casado (a)",
          "casado (a)",
          "solteiro (a)",
          "casado (a)",
          "casado (a)",
          "casado (a)",
          "solteiro (a)",
          "divorciado (a)",
          "divorciado (a)",
          "casado (a)",
          "solteiro (a)",
          "casado (a)",
          "casado (a)",
          "solteiro (a)",
          "casado (a)",
          "divorciado (a)",
          "solteiro (a)",
          "casado (a)",
          "casado (a)",
          "casado (a)",
          "casado (a)",
          "casado (a)",
          "casado (a)",
          "casado (a)",
          "casado (a)",
          "solteiro (a)",
          "solteiro (a)",
          "solteiro (a)",
          "solteiro (a)",
          "solteiro (a)",
          "divorciado (a)",
          "solteiro (a)",
          "casado (a)",
          "divorciado (a)",
          "casado (a)",
          "casado (a)",
          "casado (a)",
          "solteiro (a)",
          "casado (a)",
          "solteiro (a)",
          "solteiro (a)",
          "casado (a)",
          "divorciado (a)",
          "solteiro (a)",
          "casado (a)",
          "casado (a)",
          "casado (a)",
          "solteiro (a)",
          "solteiro (a)",
          "casado (a)",
          "divorciado (a)",
          "divorciado (a)",
          "casado (a)",
          "casado (a)",
          "casado (a)",
          "casado (a)",
          "casado (a)",
          "casado (a)",
          "casado (a)",
          "solteiro (a)",
          "solteiro (a)",
          "casado (a)",
          "casado (a)",
          "casado (a)",
          "casado (a)",
          "casado (a)",
          "casado (a)",
          "divorciado (a)",
          "casado (a)",
          "casado (a)",
          "divorciado (a)",
          "solteiro (a)",
          "solteiro (a)",
          "casado (a)",
          "casado (a)",
          "solteiro (a)",
          "solteiro (a)",
          "casado (a)",
          "casado (a)",
          "casado (a)",
          "casado (a)",
          "solteiro (a)",
          "casado (a)",
          "solteiro (a)",
          "divorciado (a)",
          "solteiro (a)",
          "casado (a)",
          "casado (a)",
          "casado (a)",
          "divorciado (a)",
          "casado (a)",
          "casado (a)",
          "casado (a)",
          "solteiro (a)",
          "solteiro (a)",
          "divorciado (a)",
          "casado (a)",
          "casado (a)",
          "solteiro (a)",
          "casado (a)",
          "solteiro (a)",
          "solteiro (a)",
          "solteiro (a)",
          "casado (a)",
          "casado (a)",
          "casado (a)",
          "solteiro (a)",
          "solteiro (a)",
          "casado (a)",
          "casado (a)",
          "solteiro (a)",
          "divorciado (a)",
          "casado (a)",
          "casado (a)",
          "divorciado (a)",
          "solteiro (a)",
          "solteiro (a)",
          "solteiro (a)",
          "casado (a)",
          "casado (a)",
          "casado (a)",
          "casado (a)",
          "casado (a)",
          "solteiro (a)",
          "solteiro (a)",
          "solteiro (a)",
          "casado (a)",
          "solteiro (a)",
          "casado (a)",
          "casado (a)",
          "solteiro (a)",
          "solteiro (a)",
          "solteiro (a)",
          "casado (a)",
          "divorciado (a)",
          "divorciado (a)",
          "solteiro (a)",
          "casado (a)",
          "casado (a)",
          "casado (a)",
          "casado (a)",
          "solteiro (a)",
          "solteiro (a)",
          "casado (a)",
          "solteiro (a)",
          "casado (a)",
          "casado (a)",
          "solteiro (a)",
          "casado (a)",
          "casado (a)",
          "casado (a)",
          "casado (a)",
          "casado (a)",
          "casado (a)",
          "casado (a)",
          "casado (a)",
          "casado (a)",
          "casado (a)",
          "solteiro (a)",
          "casado (a)",
          "solteiro (a)",
          "solteiro (a)",
          "casado (a)",
          "solteiro (a)",
          "casado (a)",
          "casado (a)",
          "casado (a)",
          "casado (a)",
          "divorciado (a)",
          "solteiro (a)",
          "casado (a)",
          "solteiro (a)",
          "casado (a)",
          "solteiro (a)",
          "casado (a)",
          "casado (a)",
          "casado (a)",
          "casado (a)",
          "divorciado (a)",
          "solteiro (a)",
          "casado (a)",
          "solteiro (a)",
          "casado (a)",
          "solteiro (a)",
          "casado (a)",
          "casado (a)",
          "casado (a)",
          "casado (a)",
          "casado (a)",
          "solteiro (a)",
          "casado (a)",
          "casado (a)",
          "casado (a)",
          "solteiro (a)",
          "divorciado (a)",
          "solteiro (a)",
          "casado (a)",
          "casado (a)",
          "casado (a)",
          "solteiro (a)",
          "casado (a)",
          "casado (a)",
          "solteiro (a)",
          "casado (a)",
          "solteiro (a)",
          "casado (a)",
          "casado (a)",
          "casado (a)",
          "casado (a)",
          "casado (a)",
          "solteiro (a)",
          "casado (a)",
          "solteiro (a)",
          "casado (a)",
          "casado (a)",
          "casado (a)",
          "divorciado (a)",
          "casado (a)",
          "casado (a)",
          "casado (a)",
          "divorciado (a)",
          "casado (a)",
          "casado (a)",
          "solteiro (a)",
          "casado (a)",
          "solteiro (a)",
          "casado (a)",
          "divorciado (a)",
          "casado (a)",
          "casado (a)",
          "casado (a)",
          "divorciado (a)",
          "casado (a)",
          "casado (a)",
          "casado (a)",
          "solteiro (a)",
          "solteiro (a)",
          "casado (a)",
          "solteiro (a)",
          "casado (a)",
          "casado (a)",
          "solteiro (a)",
          "casado (a)",
          "solteiro (a)",
          "casado (a)",
          "casado (a)",
          "casado (a)",
          "casado (a)",
          "casado (a)",
          "casado (a)",
          "casado (a)",
          "casado (a)",
          "casado (a)",
          "solteiro (a)",
          "divorciado (a)",
          "casado (a)",
          "solteiro (a)",
          "divorciado (a)",
          "solteiro (a)",
          "divorciado (a)",
          "casado (a)",
          "casado (a)",
          "casado (a)",
          "casado (a)",
          "divorciado (a)",
          "casado (a)",
          "solteiro (a)",
          "divorciado (a)",
          "casado (a)",
          "solteiro (a)",
          "casado (a)",
          "divorciado (a)",
          "casado (a)",
          "casado (a)",
          "casado (a)",
          "solteiro (a)",
          "casado (a)",
          "solteiro (a)",
          "solteiro (a)",
          "casado (a)",
          "casado (a)",
          "divorciado (a)",
          "solteiro (a)",
          "solteiro (a)",
          "casado (a)",
          "solteiro (a)",
          "solteiro (a)",
          "divorciado (a)",
          "casado (a)",
          "divorciado (a)",
          "casado (a)",
          "solteiro (a)",
          "casado (a)",
          "divorciado (a)",
          "casado (a)",
          "casado (a)",
          "casado (a)",
          "divorciado (a)",
          "casado (a)",
          "casado (a)",
          "divorciado (a)",
          "casado (a)",
          "casado (a)",
          "casado (a)",
          "solteiro (a)",
          "casado (a)",
          "divorciado (a)",
          "casado (a)",
          "casado (a)",
          "casado (a)",
          "casado (a)",
          "casado (a)",
          "casado (a)",
          "solteiro (a)",
          "casado (a)",
          "solteiro (a)",
          "casado (a)",
          "solteiro (a)",
          "solteiro (a)",
          "solteiro (a)",
          "casado (a)",
          "casado (a)",
          "casado (a)",
          "casado (a)",
          "casado (a)",
          "solteiro (a)",
          "casado (a)",
          "casado (a)",
          "solteiro (a)",
          "solteiro (a)",
          "casado (a)",
          "casado (a)",
          "divorciado (a)",
          "casado (a)",
          "divorciado (a)",
          "casado (a)",
          "solteiro (a)",
          "casado (a)",
          "divorciado (a)",
          "casado (a)",
          "casado (a)",
          "solteiro (a)",
          "casado (a)",
          "casado (a)",
          "divorciado (a)",
          "solteiro (a)",
          "divorciado (a)",
          "casado (a)",
          "solteiro (a)",
          "solteiro (a)",
          "casado (a)",
          "solteiro (a)",
          "casado (a)",
          "divorciado (a)",
          "casado (a)",
          "casado (a)",
          "casado (a)",
          "casado (a)",
          "casado (a)",
          "casado (a)",
          "solteiro (a)",
          "casado (a)",
          "casado (a)",
          "casado (a)",
          "solteiro (a)",
          "casado (a)",
          "casado (a)",
          "casado (a)",
          "solteiro (a)",
          "divorciado (a)",
          "solteiro (a)",
          "casado (a)",
          "solteiro (a)",
          "casado (a)",
          "solteiro (a)",
          "casado (a)",
          "casado (a)",
          "casado (a)",
          "casado (a)",
          "divorciado (a)",
          "casado (a)",
          "casado (a)",
          "divorciado (a)",
          "casado (a)",
          "casado (a)",
          "casado (a)",
          "casado (a)",
          "casado (a)",
          "solteiro (a)",
          "divorciado (a)",
          "casado (a)",
          "casado (a)",
          "casado (a)",
          "solteiro (a)",
          "casado (a)",
          "casado (a)",
          "casado (a)",
          "casado (a)",
          "casado (a)",
          "solteiro (a)",
          "solteiro (a)",
          "solteiro (a)",
          "casado (a)",
          "divorciado (a)",
          "casado (a)",
          "divorciado (a)",
          "casado (a)",
          "casado (a)",
          "solteiro (a)",
          "divorciado (a)",
          "casado (a)",
          "solteiro (a)",
          "casado (a)",
          "casado (a)",
          "solteiro (a)",
          "casado (a)",
          "casado (a)",
          "casado (a)",
          "casado (a)",
          "divorciado (a)",
          "casado (a)",
          "casado (a)",
          "casado (a)",
          "solteiro (a)",
          "divorciado (a)",
          "solteiro (a)",
          "casado (a)",
          "casado (a)",
          "solteiro (a)",
          "casado (a)",
          "casado (a)",
          "casado (a)",
          "casado (a)",
          "casado (a)",
          "casado (a)",
          "solteiro (a)",
          "solteiro (a)",
          "divorciado (a)",
          "divorciado (a)",
          "casado (a)",
          "casado (a)",
          "solteiro (a)",
          "divorciado (a)",
          "casado (a)",
          "solteiro (a)",
          "casado (a)",
          "casado (a)",
          "casado (a)",
          "solteiro (a)",
          "casado (a)",
          "casado (a)",
          "solteiro (a)",
          "casado (a)",
          "solteiro (a)",
          "solteiro (a)",
          "casado (a)",
          "casado (a)",
          "casado (a)",
          "casado (a)",
          "divorciado (a)",
          "divorciado (a)",
          "casado (a)",
          "casado (a)",
          "casado (a)",
          "solteiro (a)",
          "casado (a)",
          "divorciado (a)",
          "divorciado (a)",
          "divorciado (a)",
          "casado (a)",
          "solteiro (a)",
          "divorciado (a)",
          "solteiro (a)",
          "casado (a)",
          "casado (a)",
          "solteiro (a)",
          "casado (a)",
          "divorciado (a)",
          "casado (a)",
          "casado (a)",
          "casado (a)",
          "solteiro (a)",
          "casado (a)",
          "casado (a)",
          "casado (a)",
          "casado (a)",
          "casado (a)",
          "casado (a)",
          "casado (a)",
          "casado (a)",
          "casado (a)",
          "solteiro (a)",
          "casado (a)",
          "divorciado (a)",
          "solteiro (a)",
          "casado (a)",
          "casado (a)",
          "casado (a)",
          "casado (a)",
          "solteiro (a)",
          "casado (a)",
          "casado (a)",
          "solteiro (a)",
          "solteiro (a)",
          "solteiro (a)",
          "casado (a)",
          "casado (a)",
          "casado (a)",
          "casado (a)",
          "solteiro (a)",
          "casado (a)",
          "casado (a)",
          "solteiro (a)",
          "casado (a)",
          "divorciado (a)",
          "solteiro (a)",
          "divorciado (a)",
          "casado (a)",
          "solteiro (a)",
          "casado (a)",
          "casado (a)",
          "casado (a)",
          "solteiro (a)",
          "casado (a)",
          "solteiro (a)",
          "casado (a)",
          "casado (a)",
          "casado (a)",
          "divorciado (a)",
          "casado (a)",
          "solteiro (a)",
          "solteiro (a)",
          "casado (a)",
          "casado (a)",
          "solteiro (a)",
          "casado (a)",
          "casado (a)",
          "divorciado (a)",
          "casado (a)",
          "solteiro (a)",
          "casado (a)",
          "solteiro (a)",
          "casado (a)",
          "divorciado (a)",
          "casado (a)",
          "solteiro (a)",
          "casado (a)",
          "casado (a)",
          "solteiro (a)",
          "casado (a)",
          "solteiro (a)",
          "casado (a)",
          "casado (a)",
          "casado (a)",
          "casado (a)",
          "casado (a)",
          "casado (a)",
          "solteiro (a)",
          "casado (a)",
          "solteiro (a)",
          "casado (a)",
          "casado (a)",
          "casado (a)",
          "solteiro (a)",
          "casado (a)",
          "casado (a)",
          "solteiro (a)",
          "casado (a)",
          "casado (a)",
          "solteiro (a)",
          "casado (a)",
          "divorciado (a)",
          "solteiro (a)",
          "casado (a)",
          "casado (a)"
         ],
         "xaxis": "x",
         "yaxis": "y"
        }
       ],
       "layout": {
        "barmode": "group",
        "legend": {
         "title": {
          "text": "aderencia_investimento"
         },
         "tracegroupgap": 0
        },
        "margin": {
         "t": 60
        },
        "template": {
         "data": {
          "bar": [
           {
            "error_x": {
             "color": "#2a3f5f"
            },
            "error_y": {
             "color": "#2a3f5f"
            },
            "marker": {
             "line": {
              "color": "#E5ECF6",
              "width": 0.5
             },
             "pattern": {
              "fillmode": "overlay",
              "size": 10,
              "solidity": 0.2
             }
            },
            "type": "bar"
           }
          ],
          "barpolar": [
           {
            "marker": {
             "line": {
              "color": "#E5ECF6",
              "width": 0.5
             },
             "pattern": {
              "fillmode": "overlay",
              "size": 10,
              "solidity": 0.2
             }
            },
            "type": "barpolar"
           }
          ],
          "carpet": [
           {
            "aaxis": {
             "endlinecolor": "#2a3f5f",
             "gridcolor": "white",
             "linecolor": "white",
             "minorgridcolor": "white",
             "startlinecolor": "#2a3f5f"
            },
            "baxis": {
             "endlinecolor": "#2a3f5f",
             "gridcolor": "white",
             "linecolor": "white",
             "minorgridcolor": "white",
             "startlinecolor": "#2a3f5f"
            },
            "type": "carpet"
           }
          ],
          "choropleth": [
           {
            "colorbar": {
             "outlinewidth": 0,
             "ticks": ""
            },
            "type": "choropleth"
           }
          ],
          "contour": [
           {
            "colorbar": {
             "outlinewidth": 0,
             "ticks": ""
            },
            "colorscale": [
             [
              0,
              "#0d0887"
             ],
             [
              0.1111111111111111,
              "#46039f"
             ],
             [
              0.2222222222222222,
              "#7201a8"
             ],
             [
              0.3333333333333333,
              "#9c179e"
             ],
             [
              0.4444444444444444,
              "#bd3786"
             ],
             [
              0.5555555555555556,
              "#d8576b"
             ],
             [
              0.6666666666666666,
              "#ed7953"
             ],
             [
              0.7777777777777778,
              "#fb9f3a"
             ],
             [
              0.8888888888888888,
              "#fdca26"
             ],
             [
              1,
              "#f0f921"
             ]
            ],
            "type": "contour"
           }
          ],
          "contourcarpet": [
           {
            "colorbar": {
             "outlinewidth": 0,
             "ticks": ""
            },
            "type": "contourcarpet"
           }
          ],
          "heatmap": [
           {
            "colorbar": {
             "outlinewidth": 0,
             "ticks": ""
            },
            "colorscale": [
             [
              0,
              "#0d0887"
             ],
             [
              0.1111111111111111,
              "#46039f"
             ],
             [
              0.2222222222222222,
              "#7201a8"
             ],
             [
              0.3333333333333333,
              "#9c179e"
             ],
             [
              0.4444444444444444,
              "#bd3786"
             ],
             [
              0.5555555555555556,
              "#d8576b"
             ],
             [
              0.6666666666666666,
              "#ed7953"
             ],
             [
              0.7777777777777778,
              "#fb9f3a"
             ],
             [
              0.8888888888888888,
              "#fdca26"
             ],
             [
              1,
              "#f0f921"
             ]
            ],
            "type": "heatmap"
           }
          ],
          "histogram": [
           {
            "marker": {
             "pattern": {
              "fillmode": "overlay",
              "size": 10,
              "solidity": 0.2
             }
            },
            "type": "histogram"
           }
          ],
          "histogram2d": [
           {
            "colorbar": {
             "outlinewidth": 0,
             "ticks": ""
            },
            "colorscale": [
             [
              0,
              "#0d0887"
             ],
             [
              0.1111111111111111,
              "#46039f"
             ],
             [
              0.2222222222222222,
              "#7201a8"
             ],
             [
              0.3333333333333333,
              "#9c179e"
             ],
             [
              0.4444444444444444,
              "#bd3786"
             ],
             [
              0.5555555555555556,
              "#d8576b"
             ],
             [
              0.6666666666666666,
              "#ed7953"
             ],
             [
              0.7777777777777778,
              "#fb9f3a"
             ],
             [
              0.8888888888888888,
              "#fdca26"
             ],
             [
              1,
              "#f0f921"
             ]
            ],
            "type": "histogram2d"
           }
          ],
          "histogram2dcontour": [
           {
            "colorbar": {
             "outlinewidth": 0,
             "ticks": ""
            },
            "colorscale": [
             [
              0,
              "#0d0887"
             ],
             [
              0.1111111111111111,
              "#46039f"
             ],
             [
              0.2222222222222222,
              "#7201a8"
             ],
             [
              0.3333333333333333,
              "#9c179e"
             ],
             [
              0.4444444444444444,
              "#bd3786"
             ],
             [
              0.5555555555555556,
              "#d8576b"
             ],
             [
              0.6666666666666666,
              "#ed7953"
             ],
             [
              0.7777777777777778,
              "#fb9f3a"
             ],
             [
              0.8888888888888888,
              "#fdca26"
             ],
             [
              1,
              "#f0f921"
             ]
            ],
            "type": "histogram2dcontour"
           }
          ],
          "mesh3d": [
           {
            "colorbar": {
             "outlinewidth": 0,
             "ticks": ""
            },
            "type": "mesh3d"
           }
          ],
          "parcoords": [
           {
            "line": {
             "colorbar": {
              "outlinewidth": 0,
              "ticks": ""
             }
            },
            "type": "parcoords"
           }
          ],
          "pie": [
           {
            "automargin": true,
            "type": "pie"
           }
          ],
          "scatter": [
           {
            "fillpattern": {
             "fillmode": "overlay",
             "size": 10,
             "solidity": 0.2
            },
            "type": "scatter"
           }
          ],
          "scatter3d": [
           {
            "line": {
             "colorbar": {
              "outlinewidth": 0,
              "ticks": ""
             }
            },
            "marker": {
             "colorbar": {
              "outlinewidth": 0,
              "ticks": ""
             }
            },
            "type": "scatter3d"
           }
          ],
          "scattercarpet": [
           {
            "marker": {
             "colorbar": {
              "outlinewidth": 0,
              "ticks": ""
             }
            },
            "type": "scattercarpet"
           }
          ],
          "scattergeo": [
           {
            "marker": {
             "colorbar": {
              "outlinewidth": 0,
              "ticks": ""
             }
            },
            "type": "scattergeo"
           }
          ],
          "scattergl": [
           {
            "marker": {
             "colorbar": {
              "outlinewidth": 0,
              "ticks": ""
             }
            },
            "type": "scattergl"
           }
          ],
          "scattermap": [
           {
            "marker": {
             "colorbar": {
              "outlinewidth": 0,
              "ticks": ""
             }
            },
            "type": "scattermap"
           }
          ],
          "scattermapbox": [
           {
            "marker": {
             "colorbar": {
              "outlinewidth": 0,
              "ticks": ""
             }
            },
            "type": "scattermapbox"
           }
          ],
          "scatterpolar": [
           {
            "marker": {
             "colorbar": {
              "outlinewidth": 0,
              "ticks": ""
             }
            },
            "type": "scatterpolar"
           }
          ],
          "scatterpolargl": [
           {
            "marker": {
             "colorbar": {
              "outlinewidth": 0,
              "ticks": ""
             }
            },
            "type": "scatterpolargl"
           }
          ],
          "scatterternary": [
           {
            "marker": {
             "colorbar": {
              "outlinewidth": 0,
              "ticks": ""
             }
            },
            "type": "scatterternary"
           }
          ],
          "surface": [
           {
            "colorbar": {
             "outlinewidth": 0,
             "ticks": ""
            },
            "colorscale": [
             [
              0,
              "#0d0887"
             ],
             [
              0.1111111111111111,
              "#46039f"
             ],
             [
              0.2222222222222222,
              "#7201a8"
             ],
             [
              0.3333333333333333,
              "#9c179e"
             ],
             [
              0.4444444444444444,
              "#bd3786"
             ],
             [
              0.5555555555555556,
              "#d8576b"
             ],
             [
              0.6666666666666666,
              "#ed7953"
             ],
             [
              0.7777777777777778,
              "#fb9f3a"
             ],
             [
              0.8888888888888888,
              "#fdca26"
             ],
             [
              1,
              "#f0f921"
             ]
            ],
            "type": "surface"
           }
          ],
          "table": [
           {
            "cells": {
             "fill": {
              "color": "#EBF0F8"
             },
             "line": {
              "color": "white"
             }
            },
            "header": {
             "fill": {
              "color": "#C8D4E3"
             },
             "line": {
              "color": "white"
             }
            },
            "type": "table"
           }
          ]
         },
         "layout": {
          "annotationdefaults": {
           "arrowcolor": "#2a3f5f",
           "arrowhead": 0,
           "arrowwidth": 1
          },
          "autotypenumbers": "strict",
          "coloraxis": {
           "colorbar": {
            "outlinewidth": 0,
            "ticks": ""
           }
          },
          "colorscale": {
           "diverging": [
            [
             0,
             "#8e0152"
            ],
            [
             0.1,
             "#c51b7d"
            ],
            [
             0.2,
             "#de77ae"
            ],
            [
             0.3,
             "#f1b6da"
            ],
            [
             0.4,
             "#fde0ef"
            ],
            [
             0.5,
             "#f7f7f7"
            ],
            [
             0.6,
             "#e6f5d0"
            ],
            [
             0.7,
             "#b8e186"
            ],
            [
             0.8,
             "#7fbc41"
            ],
            [
             0.9,
             "#4d9221"
            ],
            [
             1,
             "#276419"
            ]
           ],
           "sequential": [
            [
             0,
             "#0d0887"
            ],
            [
             0.1111111111111111,
             "#46039f"
            ],
            [
             0.2222222222222222,
             "#7201a8"
            ],
            [
             0.3333333333333333,
             "#9c179e"
            ],
            [
             0.4444444444444444,
             "#bd3786"
            ],
            [
             0.5555555555555556,
             "#d8576b"
            ],
            [
             0.6666666666666666,
             "#ed7953"
            ],
            [
             0.7777777777777778,
             "#fb9f3a"
            ],
            [
             0.8888888888888888,
             "#fdca26"
            ],
            [
             1,
             "#f0f921"
            ]
           ],
           "sequentialminus": [
            [
             0,
             "#0d0887"
            ],
            [
             0.1111111111111111,
             "#46039f"
            ],
            [
             0.2222222222222222,
             "#7201a8"
            ],
            [
             0.3333333333333333,
             "#9c179e"
            ],
            [
             0.4444444444444444,
             "#bd3786"
            ],
            [
             0.5555555555555556,
             "#d8576b"
            ],
            [
             0.6666666666666666,
             "#ed7953"
            ],
            [
             0.7777777777777778,
             "#fb9f3a"
            ],
            [
             0.8888888888888888,
             "#fdca26"
            ],
            [
             1,
             "#f0f921"
            ]
           ]
          },
          "colorway": [
           "#636efa",
           "#EF553B",
           "#00cc96",
           "#ab63fa",
           "#FFA15A",
           "#19d3f3",
           "#FF6692",
           "#B6E880",
           "#FF97FF",
           "#FECB52"
          ],
          "font": {
           "color": "#2a3f5f"
          },
          "geo": {
           "bgcolor": "white",
           "lakecolor": "white",
           "landcolor": "#E5ECF6",
           "showlakes": true,
           "showland": true,
           "subunitcolor": "white"
          },
          "hoverlabel": {
           "align": "left"
          },
          "hovermode": "closest",
          "mapbox": {
           "style": "light"
          },
          "paper_bgcolor": "white",
          "plot_bgcolor": "#E5ECF6",
          "polar": {
           "angularaxis": {
            "gridcolor": "white",
            "linecolor": "white",
            "ticks": ""
           },
           "bgcolor": "#E5ECF6",
           "radialaxis": {
            "gridcolor": "white",
            "linecolor": "white",
            "ticks": ""
           }
          },
          "scene": {
           "xaxis": {
            "backgroundcolor": "#E5ECF6",
            "gridcolor": "white",
            "gridwidth": 2,
            "linecolor": "white",
            "showbackground": true,
            "ticks": "",
            "zerolinecolor": "white"
           },
           "yaxis": {
            "backgroundcolor": "#E5ECF6",
            "gridcolor": "white",
            "gridwidth": 2,
            "linecolor": "white",
            "showbackground": true,
            "ticks": "",
            "zerolinecolor": "white"
           },
           "zaxis": {
            "backgroundcolor": "#E5ECF6",
            "gridcolor": "white",
            "gridwidth": 2,
            "linecolor": "white",
            "showbackground": true,
            "ticks": "",
            "zerolinecolor": "white"
           }
          },
          "shapedefaults": {
           "line": {
            "color": "#2a3f5f"
           }
          },
          "ternary": {
           "aaxis": {
            "gridcolor": "white",
            "linecolor": "white",
            "ticks": ""
           },
           "baxis": {
            "gridcolor": "white",
            "linecolor": "white",
            "ticks": ""
           },
           "bgcolor": "#E5ECF6",
           "caxis": {
            "gridcolor": "white",
            "linecolor": "white",
            "ticks": ""
           }
          },
          "title": {
           "x": 0.05
          },
          "xaxis": {
           "automargin": true,
           "gridcolor": "white",
           "linecolor": "white",
           "ticks": "",
           "title": {
            "standoff": 15
           },
           "zerolinecolor": "white",
           "zerolinewidth": 2
          },
          "yaxis": {
           "automargin": true,
           "gridcolor": "white",
           "linecolor": "white",
           "ticks": "",
           "title": {
            "standoff": 15
           },
           "zerolinecolor": "white",
           "zerolinewidth": 2
          }
         }
        },
        "xaxis": {
         "anchor": "y",
         "domain": [
          0,
          1
         ],
         "title": {
          "text": "estado_civil"
         }
        },
        "yaxis": {
         "anchor": "x",
         "domain": [
          0,
          1
         ],
         "title": {
          "text": "count"
         }
        }
       }
      }
     },
     "metadata": {},
     "output_type": "display_data"
    }
   ],
   "source": [
    "px.histogram(df, x='estado_civil', text_auto=True, color='aderencia_investimento', barmode='group')"
   ]
  },
  {
   "cell_type": "code",
   "execution_count": 72,
   "metadata": {},
   "outputs": [
    {
     "data": {
      "application/vnd.plotly.v1+json": {
       "config": {
        "plotlyServerURL": "https://plot.ly"
       },
       "data": [
        {
         "alignmentgroup": "True",
         "bingroup": "x",
         "hovertemplate": "aderencia_investimento=sim<br>escolaridade=%{x}<br>count=%{y}<extra></extra>",
         "legendgroup": "sim",
         "marker": {
          "color": "#636efa",
          "pattern": {
           "shape": ""
          }
         },
         "name": "sim",
         "offsetgroup": "sim",
         "orientation": "v",
         "showlegend": true,
         "texttemplate": "%{value}",
         "type": "histogram",
         "x": [
          "superior",
          "medio",
          "superior",
          "medio",
          "medio",
          "superior",
          "medio",
          "medio",
          "medio",
          "superior",
          "superior",
          "superior",
          "medio",
          "medio",
          "medio",
          "superior",
          "superior",
          "medio",
          "medio",
          "medio",
          "medio",
          "medio",
          "superior",
          "superior",
          "superior",
          "superior",
          "superior",
          "superior",
          "superior",
          "medio",
          "superior",
          "superior",
          "medio",
          "fundamental",
          "medio",
          "medio",
          "superior",
          "superior",
          "superior",
          "superior",
          "medio",
          "medio",
          "superior",
          "medio",
          "superior",
          "medio",
          "medio",
          "fundamental",
          "medio",
          "medio",
          "medio",
          "superior",
          "medio",
          "superior",
          "superior",
          "superior",
          "fundamental",
          "medio",
          "fundamental",
          "superior",
          "superior",
          "medio",
          "superior",
          "medio",
          "medio",
          "medio",
          "medio",
          "medio",
          "superior",
          "superior",
          "fundamental",
          "medio",
          "medio",
          "superior",
          "fundamental",
          "superior",
          "medio",
          "fundamental",
          "superior",
          "medio",
          "medio",
          "fundamental",
          "medio",
          "fundamental",
          "medio",
          "fundamental",
          "fundamental",
          "superior",
          "superior",
          "medio",
          "superior",
          "medio",
          "medio",
          "superior",
          "medio",
          "superior",
          "medio",
          "medio",
          "superior",
          "medio",
          "medio",
          "medio",
          "medio",
          "medio",
          "superior",
          "medio",
          "medio",
          "medio",
          "medio",
          "superior",
          "medio",
          "medio",
          "superior",
          "medio",
          "superior",
          "medio",
          "medio",
          "medio",
          "superior",
          "medio",
          "superior",
          "fundamental",
          "medio",
          "superior",
          "medio",
          "medio",
          "fundamental",
          "medio",
          "medio",
          "superior",
          "medio",
          "medio",
          "superior",
          "medio",
          "medio",
          "superior",
          "medio",
          "medio",
          "medio",
          "medio",
          "fundamental",
          "fundamental",
          "superior",
          "superior",
          "medio",
          "superior",
          "superior",
          "superior",
          "medio",
          "medio",
          "superior",
          "medio",
          "superior",
          "superior",
          "medio",
          "superior",
          "medio",
          "superior",
          "medio",
          "fundamental",
          "medio",
          "superior",
          "medio",
          "medio",
          "fundamental",
          "superior",
          "medio",
          "medio",
          "medio",
          "superior",
          "medio",
          "superior",
          "superior",
          "superior",
          "medio",
          "superior",
          "fundamental",
          "superior",
          "medio",
          "medio",
          "medio",
          "superior",
          "medio",
          "superior",
          "superior",
          "fundamental",
          "medio",
          "medio",
          "medio",
          "superior",
          "medio",
          "medio",
          "fundamental",
          "fundamental",
          "superior",
          "superior",
          "medio",
          "superior",
          "medio",
          "fundamental",
          "fundamental",
          "medio",
          "fundamental",
          "superior",
          "fundamental",
          "medio",
          "medio",
          "medio",
          "medio",
          "superior",
          "medio",
          "medio",
          "superior",
          "superior",
          "superior",
          "superior",
          "medio",
          "medio",
          "superior",
          "superior",
          "medio",
          "medio",
          "medio",
          "medio",
          "medio",
          "superior",
          "medio",
          "superior",
          "medio",
          "medio",
          "superior",
          "medio",
          "fundamental",
          "medio",
          "fundamental",
          "superior",
          "superior",
          "fundamental",
          "fundamental",
          "fundamental",
          "superior",
          "superior",
          "superior",
          "medio",
          "medio",
          "medio",
          "medio",
          "medio",
          "medio",
          "medio",
          "medio",
          "medio",
          "superior",
          "fundamental",
          "medio",
          "superior",
          "medio",
          "superior",
          "medio",
          "superior",
          "medio",
          "fundamental",
          "fundamental",
          "medio",
          "superior",
          "superior",
          "superior",
          "medio",
          "medio",
          "medio",
          "superior",
          "medio",
          "superior",
          "superior",
          "medio",
          "superior",
          "fundamental",
          "medio",
          "medio",
          "medio",
          "medio",
          "superior",
          "superior",
          "medio",
          "medio",
          "medio",
          "fundamental",
          "fundamental",
          "medio",
          "superior",
          "superior",
          "fundamental",
          "superior",
          "superior",
          "superior",
          "superior",
          "medio",
          "medio",
          "medio",
          "superior",
          "medio",
          "medio",
          "medio",
          "medio",
          "fundamental",
          "medio",
          "superior",
          "medio",
          "medio",
          "medio",
          "superior",
          "medio",
          "medio",
          "fundamental",
          "medio",
          "superior",
          "superior",
          "superior",
          "superior",
          "medio",
          "superior",
          "fundamental",
          "medio",
          "fundamental",
          "medio",
          "superior",
          "medio",
          "superior",
          "fundamental",
          "medio",
          "superior",
          "medio",
          "medio",
          "superior",
          "superior",
          "superior",
          "medio",
          "medio",
          "superior",
          "medio",
          "superior",
          "medio",
          "superior",
          "medio",
          "medio",
          "fundamental",
          "medio",
          "medio",
          "superior",
          "fundamental",
          "medio",
          "fundamental",
          "medio",
          "superior",
          "medio",
          "medio",
          "superior",
          "medio",
          "fundamental",
          "superior",
          "medio",
          "medio",
          "medio",
          "medio",
          "medio",
          "fundamental",
          "fundamental",
          "superior",
          "medio",
          "medio",
          "superior",
          "superior",
          "superior",
          "superior",
          "medio",
          "medio",
          "fundamental",
          "medio",
          "medio",
          "superior",
          "medio",
          "fundamental",
          "superior",
          "fundamental",
          "superior",
          "medio",
          "superior",
          "fundamental",
          "medio",
          "medio",
          "fundamental",
          "fundamental",
          "superior",
          "medio",
          "medio",
          "superior",
          "medio",
          "medio",
          "superior",
          "superior",
          "medio",
          "medio",
          "superior",
          "superior",
          "superior",
          "superior",
          "medio",
          "fundamental",
          "superior",
          "superior",
          "medio",
          "superior",
          "medio",
          "medio",
          "fundamental",
          "superior",
          "superior",
          "medio",
          "medio",
          "fundamental",
          "fundamental",
          "superior",
          "superior",
          "superior",
          "superior",
          "superior",
          "medio",
          "medio",
          "superior",
          "medio",
          "medio",
          "superior",
          "medio",
          "superior",
          "superior",
          "superior",
          "superior",
          "medio",
          "fundamental",
          "superior",
          "medio",
          "medio",
          "fundamental",
          "superior",
          "medio",
          "medio",
          "superior",
          "medio",
          "superior",
          "superior",
          "medio",
          "medio",
          "superior",
          "medio",
          "superior",
          "superior",
          "superior",
          "superior",
          "medio",
          "medio",
          "superior",
          "medio",
          "fundamental",
          "medio",
          "medio",
          "fundamental",
          "superior",
          "medio",
          "medio",
          "medio",
          "medio",
          "medio",
          "medio",
          "medio",
          "medio",
          "medio",
          "medio",
          "fundamental",
          "medio",
          "medio",
          "superior",
          "superior",
          "superior",
          "superior",
          "superior",
          "fundamental",
          "superior",
          "superior",
          "superior",
          "medio",
          "medio",
          "medio",
          "medio",
          "superior",
          "medio",
          "superior",
          "superior",
          "superior",
          "superior",
          "superior",
          "superior",
          "superior"
         ],
         "xaxis": "x",
         "yaxis": "y"
        },
        {
         "alignmentgroup": "True",
         "bingroup": "x",
         "hovertemplate": "aderencia_investimento=nao<br>escolaridade=%{x}<br>count=%{y}<extra></extra>",
         "legendgroup": "nao",
         "marker": {
          "color": "#EF553B",
          "pattern": {
           "shape": ""
          }
         },
         "name": "nao",
         "offsetgroup": "nao",
         "orientation": "v",
         "showlegend": true,
         "texttemplate": "%{value}",
         "type": "histogram",
         "x": [
          "superior",
          "superior",
          "medio",
          "fundamental",
          "medio",
          "fundamental",
          "superior",
          "superior",
          "fundamental",
          "medio",
          "medio",
          "medio",
          "medio",
          "medio",
          "medio",
          "fundamental",
          "medio",
          "medio",
          "medio",
          "medio",
          "medio",
          "superior",
          "medio",
          "medio",
          "fundamental",
          "superior",
          "superior",
          "superior",
          "superior",
          "superior",
          "superior",
          "medio",
          "superior",
          "medio",
          "medio",
          "fundamental",
          "superior",
          "medio",
          "medio",
          "superior",
          "medio",
          "fundamental",
          "fundamental",
          "superior",
          "superior",
          "medio",
          "superior",
          "medio",
          "fundamental",
          "medio",
          "superior",
          "superior",
          "medio",
          "superior",
          "medio",
          "medio",
          "fundamental",
          "fundamental",
          "medio",
          "superior",
          "medio",
          "fundamental",
          "superior",
          "medio",
          "medio",
          "medio",
          "medio",
          "superior",
          "superior",
          "superior",
          "superior",
          "fundamental",
          "superior",
          "medio",
          "medio",
          "medio",
          "fundamental",
          "medio",
          "fundamental",
          "medio",
          "superior",
          "medio",
          "medio",
          "superior",
          "medio",
          "medio",
          "fundamental",
          "medio",
          "medio",
          "superior",
          "medio",
          "medio",
          "medio",
          "medio",
          "superior",
          "medio",
          "medio",
          "medio",
          "superior",
          "medio",
          "medio",
          "superior",
          "medio",
          "medio",
          "superior",
          "medio",
          "medio",
          "superior",
          "medio",
          "medio",
          "fundamental",
          "superior",
          "medio",
          "medio",
          "medio",
          "medio",
          "medio",
          "fundamental",
          "medio",
          "superior",
          "medio",
          "medio",
          "medio",
          "superior",
          "medio",
          "medio",
          "superior",
          "fundamental",
          "medio",
          "medio",
          "medio",
          "medio",
          "medio",
          "medio",
          "medio",
          "medio",
          "superior",
          "medio",
          "medio",
          "fundamental",
          "medio",
          "medio",
          "superior",
          "superior",
          "superior",
          "medio",
          "medio",
          "medio",
          "superior",
          "fundamental",
          "superior",
          "fundamental",
          "medio",
          "medio",
          "medio",
          "medio",
          "fundamental",
          "medio",
          "medio",
          "fundamental",
          "superior",
          "fundamental",
          "fundamental",
          "superior",
          "medio",
          "fundamental",
          "medio",
          "medio",
          "superior",
          "medio",
          "fundamental",
          "superior",
          "superior",
          "medio",
          "superior",
          "medio",
          "medio",
          "fundamental",
          "medio",
          "fundamental",
          "medio",
          "superior",
          "superior",
          "medio",
          "medio",
          "superior",
          "medio",
          "superior",
          "medio",
          "superior",
          "superior",
          "medio",
          "medio",
          "superior",
          "superior",
          "fundamental",
          "medio",
          "superior",
          "medio",
          "medio",
          "fundamental",
          "fundamental",
          "medio",
          "medio",
          "medio",
          "fundamental",
          "medio",
          "medio",
          "superior",
          "superior",
          "fundamental",
          "medio",
          "medio",
          "medio",
          "superior",
          "fundamental",
          "superior",
          "superior",
          "medio",
          "superior",
          "superior",
          "superior",
          "medio",
          "medio",
          "fundamental",
          "superior",
          "medio",
          "medio",
          "fundamental",
          "medio",
          "fundamental",
          "superior",
          "medio",
          "medio",
          "medio",
          "medio",
          "medio",
          "medio",
          "medio",
          "medio",
          "medio",
          "medio",
          "medio",
          "medio",
          "medio",
          "superior",
          "fundamental",
          "fundamental",
          "superior",
          "medio",
          "medio",
          "superior",
          "medio",
          "fundamental",
          "superior",
          "fundamental",
          "superior",
          "medio",
          "superior",
          "fundamental",
          "medio",
          "medio",
          "fundamental",
          "superior",
          "medio",
          "medio",
          "fundamental",
          "superior",
          "medio",
          "superior",
          "medio",
          "medio",
          "medio",
          "medio",
          "superior",
          "medio",
          "medio",
          "fundamental",
          "superior",
          "medio",
          "superior",
          "medio",
          "medio",
          "superior",
          "superior",
          "superior",
          "superior",
          "superior",
          "medio",
          "medio",
          "medio",
          "medio",
          "medio",
          "medio",
          "medio",
          "medio",
          "fundamental",
          "fundamental",
          "medio",
          "medio",
          "superior",
          "medio",
          "superior",
          "medio",
          "medio",
          "superior",
          "superior",
          "medio",
          "medio",
          "medio",
          "medio",
          "medio",
          "medio",
          "medio",
          "superior",
          "medio",
          "superior",
          "fundamental",
          "medio",
          "medio",
          "medio",
          "medio",
          "medio",
          "superior",
          "medio",
          "medio",
          "medio",
          "superior",
          "fundamental",
          "superior",
          "medio",
          "superior",
          "superior",
          "medio",
          "superior",
          "superior",
          "superior",
          "medio",
          "medio",
          "fundamental",
          "medio",
          "fundamental",
          "medio",
          "fundamental",
          "medio",
          "medio",
          "fundamental",
          "fundamental",
          "medio",
          "superior",
          "medio",
          "medio",
          "superior",
          "medio",
          "medio",
          "fundamental",
          "fundamental",
          "fundamental",
          "medio",
          "medio",
          "superior",
          "medio",
          "fundamental",
          "superior",
          "medio",
          "fundamental",
          "fundamental",
          "superior",
          "fundamental",
          "medio",
          "medio",
          "medio",
          "medio",
          "fundamental",
          "medio",
          "medio",
          "medio",
          "fundamental",
          "medio",
          "superior",
          "medio",
          "medio",
          "medio",
          "medio",
          "medio",
          "medio",
          "superior",
          "medio",
          "medio",
          "medio",
          "superior",
          "medio",
          "medio",
          "medio",
          "fundamental",
          "superior",
          "superior",
          "superior",
          "medio",
          "superior",
          "fundamental",
          "medio",
          "medio",
          "superior",
          "superior",
          "medio",
          "superior",
          "superior",
          "medio",
          "medio",
          "fundamental",
          "medio",
          "medio",
          "fundamental",
          "medio",
          "medio",
          "superior",
          "fundamental",
          "fundamental",
          "superior",
          "medio",
          "medio",
          "medio",
          "superior",
          "medio",
          "superior",
          "medio",
          "superior",
          "fundamental",
          "medio",
          "superior",
          "medio",
          "fundamental",
          "medio",
          "superior",
          "superior",
          "medio",
          "medio",
          "superior",
          "fundamental",
          "medio",
          "medio",
          "superior",
          "fundamental",
          "medio",
          "superior",
          "medio",
          "superior",
          "superior",
          "superior",
          "superior",
          "fundamental",
          "medio",
          "superior",
          "medio",
          "medio",
          "superior",
          "medio",
          "superior",
          "superior",
          "superior",
          "superior",
          "medio",
          "fundamental",
          "medio",
          "medio",
          "superior",
          "fundamental",
          "superior",
          "medio",
          "medio",
          "medio",
          "medio",
          "medio",
          "medio",
          "medio",
          "medio",
          "medio",
          "fundamental",
          "fundamental",
          "medio",
          "medio",
          "superior",
          "medio",
          "fundamental",
          "medio",
          "fundamental",
          "superior",
          "medio",
          "medio",
          "medio",
          "medio",
          "medio",
          "superior",
          "fundamental",
          "medio",
          "medio",
          "medio",
          "medio",
          "medio",
          "medio",
          "superior",
          "superior",
          "medio",
          "medio",
          "superior",
          "superior",
          "medio",
          "medio",
          "medio",
          "medio",
          "medio",
          "medio",
          "fundamental",
          "superior",
          "superior",
          "superior",
          "superior",
          "medio",
          "fundamental",
          "fundamental",
          "medio",
          "medio",
          "fundamental",
          "medio",
          "medio",
          "superior",
          "medio",
          "medio",
          "medio",
          "superior",
          "superior",
          "superior",
          "medio",
          "medio",
          "medio",
          "medio",
          "fundamental",
          "medio",
          "superior",
          "superior",
          "superior",
          "medio",
          "medio",
          "superior",
          "superior",
          "superior",
          "medio",
          "medio",
          "superior",
          "superior",
          "medio",
          "medio",
          "medio",
          "fundamental",
          "fundamental",
          "fundamental",
          "medio",
          "medio",
          "medio",
          "medio",
          "medio",
          "medio",
          "superior",
          "medio",
          "superior",
          "fundamental",
          "medio",
          "medio",
          "fundamental",
          "fundamental",
          "fundamental",
          "medio",
          "medio",
          "medio",
          "superior",
          "fundamental",
          "superior",
          "medio",
          "medio",
          "superior",
          "fundamental",
          "superior",
          "fundamental",
          "medio",
          "fundamental",
          "superior",
          "fundamental",
          "superior",
          "superior",
          "medio",
          "superior",
          "medio",
          "medio",
          "superior",
          "medio",
          "medio",
          "superior",
          "medio",
          "superior",
          "fundamental",
          "superior",
          "medio",
          "fundamental",
          "superior",
          "superior",
          "medio",
          "fundamental",
          "fundamental",
          "fundamental",
          "medio",
          "medio",
          "medio",
          "fundamental",
          "superior",
          "medio",
          "medio",
          "medio",
          "medio",
          "medio",
          "medio",
          "medio",
          "medio",
          "superior",
          "superior",
          "medio",
          "superior",
          "medio",
          "superior",
          "medio",
          "medio",
          "medio",
          "superior",
          "medio",
          "medio",
          "superior",
          "fundamental",
          "medio",
          "medio",
          "superior",
          "medio",
          "medio",
          "medio",
          "superior",
          "medio",
          "medio",
          "fundamental",
          "fundamental",
          "fundamental",
          "superior",
          "medio",
          "medio",
          "superior",
          "superior",
          "fundamental",
          "medio",
          "medio",
          "medio",
          "medio",
          "medio",
          "medio",
          "fundamental",
          "fundamental",
          "superior",
          "medio",
          "medio",
          "medio",
          "superior",
          "superior",
          "medio",
          "superior",
          "fundamental",
          "superior",
          "superior",
          "medio",
          "medio",
          "medio",
          "fundamental",
          "medio",
          "medio",
          "medio",
          "fundamental",
          "superior",
          "superior",
          "medio",
          "medio",
          "medio",
          "medio",
          "superior",
          "medio",
          "superior",
          "superior",
          "medio",
          "medio",
          "medio",
          "superior",
          "fundamental",
          "medio",
          "medio",
          "fundamental",
          "medio",
          "medio",
          "fundamental",
          "superior",
          "medio",
          "medio",
          "superior",
          "medio",
          "fundamental",
          "superior",
          "medio",
          "fundamental",
          "superior",
          "superior",
          "medio",
          "superior",
          "fundamental",
          "superior",
          "medio",
          "fundamental",
          "medio",
          "medio",
          "superior",
          "fundamental",
          "medio",
          "medio",
          "medio",
          "medio",
          "medio",
          "medio",
          "fundamental",
          "medio",
          "medio",
          "medio",
          "medio",
          "medio",
          "superior",
          "medio",
          "medio",
          "superior",
          "superior",
          "medio",
          "superior",
          "fundamental",
          "superior",
          "fundamental",
          "superior",
          "medio",
          "medio",
          "medio",
          "medio",
          "medio",
          "fundamental",
          "medio",
          "medio",
          "fundamental",
          "medio",
          "superior",
          "superior",
          "superior",
          "medio",
          "medio",
          "medio",
          "medio",
          "medio",
          "medio"
         ],
         "xaxis": "x",
         "yaxis": "y"
        }
       ],
       "layout": {
        "barmode": "group",
        "legend": {
         "title": {
          "text": "aderencia_investimento"
         },
         "tracegroupgap": 0
        },
        "margin": {
         "t": 60
        },
        "template": {
         "data": {
          "bar": [
           {
            "error_x": {
             "color": "#2a3f5f"
            },
            "error_y": {
             "color": "#2a3f5f"
            },
            "marker": {
             "line": {
              "color": "#E5ECF6",
              "width": 0.5
             },
             "pattern": {
              "fillmode": "overlay",
              "size": 10,
              "solidity": 0.2
             }
            },
            "type": "bar"
           }
          ],
          "barpolar": [
           {
            "marker": {
             "line": {
              "color": "#E5ECF6",
              "width": 0.5
             },
             "pattern": {
              "fillmode": "overlay",
              "size": 10,
              "solidity": 0.2
             }
            },
            "type": "barpolar"
           }
          ],
          "carpet": [
           {
            "aaxis": {
             "endlinecolor": "#2a3f5f",
             "gridcolor": "white",
             "linecolor": "white",
             "minorgridcolor": "white",
             "startlinecolor": "#2a3f5f"
            },
            "baxis": {
             "endlinecolor": "#2a3f5f",
             "gridcolor": "white",
             "linecolor": "white",
             "minorgridcolor": "white",
             "startlinecolor": "#2a3f5f"
            },
            "type": "carpet"
           }
          ],
          "choropleth": [
           {
            "colorbar": {
             "outlinewidth": 0,
             "ticks": ""
            },
            "type": "choropleth"
           }
          ],
          "contour": [
           {
            "colorbar": {
             "outlinewidth": 0,
             "ticks": ""
            },
            "colorscale": [
             [
              0,
              "#0d0887"
             ],
             [
              0.1111111111111111,
              "#46039f"
             ],
             [
              0.2222222222222222,
              "#7201a8"
             ],
             [
              0.3333333333333333,
              "#9c179e"
             ],
             [
              0.4444444444444444,
              "#bd3786"
             ],
             [
              0.5555555555555556,
              "#d8576b"
             ],
             [
              0.6666666666666666,
              "#ed7953"
             ],
             [
              0.7777777777777778,
              "#fb9f3a"
             ],
             [
              0.8888888888888888,
              "#fdca26"
             ],
             [
              1,
              "#f0f921"
             ]
            ],
            "type": "contour"
           }
          ],
          "contourcarpet": [
           {
            "colorbar": {
             "outlinewidth": 0,
             "ticks": ""
            },
            "type": "contourcarpet"
           }
          ],
          "heatmap": [
           {
            "colorbar": {
             "outlinewidth": 0,
             "ticks": ""
            },
            "colorscale": [
             [
              0,
              "#0d0887"
             ],
             [
              0.1111111111111111,
              "#46039f"
             ],
             [
              0.2222222222222222,
              "#7201a8"
             ],
             [
              0.3333333333333333,
              "#9c179e"
             ],
             [
              0.4444444444444444,
              "#bd3786"
             ],
             [
              0.5555555555555556,
              "#d8576b"
             ],
             [
              0.6666666666666666,
              "#ed7953"
             ],
             [
              0.7777777777777778,
              "#fb9f3a"
             ],
             [
              0.8888888888888888,
              "#fdca26"
             ],
             [
              1,
              "#f0f921"
             ]
            ],
            "type": "heatmap"
           }
          ],
          "histogram": [
           {
            "marker": {
             "pattern": {
              "fillmode": "overlay",
              "size": 10,
              "solidity": 0.2
             }
            },
            "type": "histogram"
           }
          ],
          "histogram2d": [
           {
            "colorbar": {
             "outlinewidth": 0,
             "ticks": ""
            },
            "colorscale": [
             [
              0,
              "#0d0887"
             ],
             [
              0.1111111111111111,
              "#46039f"
             ],
             [
              0.2222222222222222,
              "#7201a8"
             ],
             [
              0.3333333333333333,
              "#9c179e"
             ],
             [
              0.4444444444444444,
              "#bd3786"
             ],
             [
              0.5555555555555556,
              "#d8576b"
             ],
             [
              0.6666666666666666,
              "#ed7953"
             ],
             [
              0.7777777777777778,
              "#fb9f3a"
             ],
             [
              0.8888888888888888,
              "#fdca26"
             ],
             [
              1,
              "#f0f921"
             ]
            ],
            "type": "histogram2d"
           }
          ],
          "histogram2dcontour": [
           {
            "colorbar": {
             "outlinewidth": 0,
             "ticks": ""
            },
            "colorscale": [
             [
              0,
              "#0d0887"
             ],
             [
              0.1111111111111111,
              "#46039f"
             ],
             [
              0.2222222222222222,
              "#7201a8"
             ],
             [
              0.3333333333333333,
              "#9c179e"
             ],
             [
              0.4444444444444444,
              "#bd3786"
             ],
             [
              0.5555555555555556,
              "#d8576b"
             ],
             [
              0.6666666666666666,
              "#ed7953"
             ],
             [
              0.7777777777777778,
              "#fb9f3a"
             ],
             [
              0.8888888888888888,
              "#fdca26"
             ],
             [
              1,
              "#f0f921"
             ]
            ],
            "type": "histogram2dcontour"
           }
          ],
          "mesh3d": [
           {
            "colorbar": {
             "outlinewidth": 0,
             "ticks": ""
            },
            "type": "mesh3d"
           }
          ],
          "parcoords": [
           {
            "line": {
             "colorbar": {
              "outlinewidth": 0,
              "ticks": ""
             }
            },
            "type": "parcoords"
           }
          ],
          "pie": [
           {
            "automargin": true,
            "type": "pie"
           }
          ],
          "scatter": [
           {
            "fillpattern": {
             "fillmode": "overlay",
             "size": 10,
             "solidity": 0.2
            },
            "type": "scatter"
           }
          ],
          "scatter3d": [
           {
            "line": {
             "colorbar": {
              "outlinewidth": 0,
              "ticks": ""
             }
            },
            "marker": {
             "colorbar": {
              "outlinewidth": 0,
              "ticks": ""
             }
            },
            "type": "scatter3d"
           }
          ],
          "scattercarpet": [
           {
            "marker": {
             "colorbar": {
              "outlinewidth": 0,
              "ticks": ""
             }
            },
            "type": "scattercarpet"
           }
          ],
          "scattergeo": [
           {
            "marker": {
             "colorbar": {
              "outlinewidth": 0,
              "ticks": ""
             }
            },
            "type": "scattergeo"
           }
          ],
          "scattergl": [
           {
            "marker": {
             "colorbar": {
              "outlinewidth": 0,
              "ticks": ""
             }
            },
            "type": "scattergl"
           }
          ],
          "scattermap": [
           {
            "marker": {
             "colorbar": {
              "outlinewidth": 0,
              "ticks": ""
             }
            },
            "type": "scattermap"
           }
          ],
          "scattermapbox": [
           {
            "marker": {
             "colorbar": {
              "outlinewidth": 0,
              "ticks": ""
             }
            },
            "type": "scattermapbox"
           }
          ],
          "scatterpolar": [
           {
            "marker": {
             "colorbar": {
              "outlinewidth": 0,
              "ticks": ""
             }
            },
            "type": "scatterpolar"
           }
          ],
          "scatterpolargl": [
           {
            "marker": {
             "colorbar": {
              "outlinewidth": 0,
              "ticks": ""
             }
            },
            "type": "scatterpolargl"
           }
          ],
          "scatterternary": [
           {
            "marker": {
             "colorbar": {
              "outlinewidth": 0,
              "ticks": ""
             }
            },
            "type": "scatterternary"
           }
          ],
          "surface": [
           {
            "colorbar": {
             "outlinewidth": 0,
             "ticks": ""
            },
            "colorscale": [
             [
              0,
              "#0d0887"
             ],
             [
              0.1111111111111111,
              "#46039f"
             ],
             [
              0.2222222222222222,
              "#7201a8"
             ],
             [
              0.3333333333333333,
              "#9c179e"
             ],
             [
              0.4444444444444444,
              "#bd3786"
             ],
             [
              0.5555555555555556,
              "#d8576b"
             ],
             [
              0.6666666666666666,
              "#ed7953"
             ],
             [
              0.7777777777777778,
              "#fb9f3a"
             ],
             [
              0.8888888888888888,
              "#fdca26"
             ],
             [
              1,
              "#f0f921"
             ]
            ],
            "type": "surface"
           }
          ],
          "table": [
           {
            "cells": {
             "fill": {
              "color": "#EBF0F8"
             },
             "line": {
              "color": "white"
             }
            },
            "header": {
             "fill": {
              "color": "#C8D4E3"
             },
             "line": {
              "color": "white"
             }
            },
            "type": "table"
           }
          ]
         },
         "layout": {
          "annotationdefaults": {
           "arrowcolor": "#2a3f5f",
           "arrowhead": 0,
           "arrowwidth": 1
          },
          "autotypenumbers": "strict",
          "coloraxis": {
           "colorbar": {
            "outlinewidth": 0,
            "ticks": ""
           }
          },
          "colorscale": {
           "diverging": [
            [
             0,
             "#8e0152"
            ],
            [
             0.1,
             "#c51b7d"
            ],
            [
             0.2,
             "#de77ae"
            ],
            [
             0.3,
             "#f1b6da"
            ],
            [
             0.4,
             "#fde0ef"
            ],
            [
             0.5,
             "#f7f7f7"
            ],
            [
             0.6,
             "#e6f5d0"
            ],
            [
             0.7,
             "#b8e186"
            ],
            [
             0.8,
             "#7fbc41"
            ],
            [
             0.9,
             "#4d9221"
            ],
            [
             1,
             "#276419"
            ]
           ],
           "sequential": [
            [
             0,
             "#0d0887"
            ],
            [
             0.1111111111111111,
             "#46039f"
            ],
            [
             0.2222222222222222,
             "#7201a8"
            ],
            [
             0.3333333333333333,
             "#9c179e"
            ],
            [
             0.4444444444444444,
             "#bd3786"
            ],
            [
             0.5555555555555556,
             "#d8576b"
            ],
            [
             0.6666666666666666,
             "#ed7953"
            ],
            [
             0.7777777777777778,
             "#fb9f3a"
            ],
            [
             0.8888888888888888,
             "#fdca26"
            ],
            [
             1,
             "#f0f921"
            ]
           ],
           "sequentialminus": [
            [
             0,
             "#0d0887"
            ],
            [
             0.1111111111111111,
             "#46039f"
            ],
            [
             0.2222222222222222,
             "#7201a8"
            ],
            [
             0.3333333333333333,
             "#9c179e"
            ],
            [
             0.4444444444444444,
             "#bd3786"
            ],
            [
             0.5555555555555556,
             "#d8576b"
            ],
            [
             0.6666666666666666,
             "#ed7953"
            ],
            [
             0.7777777777777778,
             "#fb9f3a"
            ],
            [
             0.8888888888888888,
             "#fdca26"
            ],
            [
             1,
             "#f0f921"
            ]
           ]
          },
          "colorway": [
           "#636efa",
           "#EF553B",
           "#00cc96",
           "#ab63fa",
           "#FFA15A",
           "#19d3f3",
           "#FF6692",
           "#B6E880",
           "#FF97FF",
           "#FECB52"
          ],
          "font": {
           "color": "#2a3f5f"
          },
          "geo": {
           "bgcolor": "white",
           "lakecolor": "white",
           "landcolor": "#E5ECF6",
           "showlakes": true,
           "showland": true,
           "subunitcolor": "white"
          },
          "hoverlabel": {
           "align": "left"
          },
          "hovermode": "closest",
          "mapbox": {
           "style": "light"
          },
          "paper_bgcolor": "white",
          "plot_bgcolor": "#E5ECF6",
          "polar": {
           "angularaxis": {
            "gridcolor": "white",
            "linecolor": "white",
            "ticks": ""
           },
           "bgcolor": "#E5ECF6",
           "radialaxis": {
            "gridcolor": "white",
            "linecolor": "white",
            "ticks": ""
           }
          },
          "scene": {
           "xaxis": {
            "backgroundcolor": "#E5ECF6",
            "gridcolor": "white",
            "gridwidth": 2,
            "linecolor": "white",
            "showbackground": true,
            "ticks": "",
            "zerolinecolor": "white"
           },
           "yaxis": {
            "backgroundcolor": "#E5ECF6",
            "gridcolor": "white",
            "gridwidth": 2,
            "linecolor": "white",
            "showbackground": true,
            "ticks": "",
            "zerolinecolor": "white"
           },
           "zaxis": {
            "backgroundcolor": "#E5ECF6",
            "gridcolor": "white",
            "gridwidth": 2,
            "linecolor": "white",
            "showbackground": true,
            "ticks": "",
            "zerolinecolor": "white"
           }
          },
          "shapedefaults": {
           "line": {
            "color": "#2a3f5f"
           }
          },
          "ternary": {
           "aaxis": {
            "gridcolor": "white",
            "linecolor": "white",
            "ticks": ""
           },
           "baxis": {
            "gridcolor": "white",
            "linecolor": "white",
            "ticks": ""
           },
           "bgcolor": "#E5ECF6",
           "caxis": {
            "gridcolor": "white",
            "linecolor": "white",
            "ticks": ""
           }
          },
          "title": {
           "x": 0.05
          },
          "xaxis": {
           "automargin": true,
           "gridcolor": "white",
           "linecolor": "white",
           "ticks": "",
           "title": {
            "standoff": 15
           },
           "zerolinecolor": "white",
           "zerolinewidth": 2
          },
          "yaxis": {
           "automargin": true,
           "gridcolor": "white",
           "linecolor": "white",
           "ticks": "",
           "title": {
            "standoff": 15
           },
           "zerolinecolor": "white",
           "zerolinewidth": 2
          }
         }
        },
        "xaxis": {
         "anchor": "y",
         "domain": [
          0,
          1
         ],
         "title": {
          "text": "escolaridade"
         }
        },
        "yaxis": {
         "anchor": "x",
         "domain": [
          0,
          1
         ],
         "title": {
          "text": "count"
         }
        }
       }
      }
     },
     "metadata": {},
     "output_type": "display_data"
    }
   ],
   "source": [
    "px.histogram(df, x='escolaridade', text_auto=True, color='aderencia_investimento', barmode='group')"
   ]
  },
  {
   "cell_type": "code",
   "execution_count": 73,
   "metadata": {},
   "outputs": [
    {
     "data": {
      "application/vnd.plotly.v1+json": {
       "config": {
        "plotlyServerURL": "https://plot.ly"
       },
       "data": [
        {
         "alignmentgroup": "True",
         "bingroup": "x",
         "hovertemplate": "aderencia_investimento=sim<br>inadimplencia=%{x}<br>count=%{y}<extra></extra>",
         "legendgroup": "sim",
         "marker": {
          "color": "#636efa",
          "pattern": {
           "shape": ""
          }
         },
         "name": "sim",
         "offsetgroup": "sim",
         "orientation": "v",
         "showlegend": true,
         "texttemplate": "%{value}",
         "type": "histogram",
         "x": [
          "nao",
          "nao",
          "nao",
          "nao",
          "nao",
          "nao",
          "nao",
          "nao",
          "nao",
          "nao",
          "nao",
          "nao",
          "nao",
          "nao",
          "nao",
          "nao",
          "nao",
          "nao",
          "nao",
          "nao",
          "nao",
          "nao",
          "nao",
          "nao",
          "nao",
          "nao",
          "nao",
          "nao",
          "nao",
          "nao",
          "nao",
          "nao",
          "nao",
          "nao",
          "nao",
          "nao",
          "nao",
          "nao",
          "nao",
          "nao",
          "nao",
          "nao",
          "nao",
          "nao",
          "nao",
          "sim",
          "nao",
          "nao",
          "nao",
          "nao",
          "nao",
          "nao",
          "nao",
          "nao",
          "nao",
          "nao",
          "nao",
          "nao",
          "nao",
          "nao",
          "nao",
          "nao",
          "nao",
          "nao",
          "nao",
          "nao",
          "nao",
          "nao",
          "nao",
          "nao",
          "nao",
          "nao",
          "nao",
          "nao",
          "nao",
          "nao",
          "nao",
          "nao",
          "nao",
          "nao",
          "nao",
          "nao",
          "nao",
          "nao",
          "nao",
          "nao",
          "nao",
          "nao",
          "nao",
          "nao",
          "nao",
          "nao",
          "nao",
          "nao",
          "nao",
          "nao",
          "nao",
          "nao",
          "nao",
          "nao",
          "nao",
          "nao",
          "nao",
          "nao",
          "nao",
          "nao",
          "nao",
          "nao",
          "nao",
          "nao",
          "nao",
          "nao",
          "nao",
          "nao",
          "nao",
          "nao",
          "nao",
          "nao",
          "nao",
          "nao",
          "nao",
          "nao",
          "nao",
          "nao",
          "nao",
          "nao",
          "nao",
          "nao",
          "nao",
          "nao",
          "nao",
          "nao",
          "nao",
          "nao",
          "nao",
          "nao",
          "nao",
          "nao",
          "nao",
          "nao",
          "nao",
          "nao",
          "nao",
          "nao",
          "nao",
          "nao",
          "nao",
          "nao",
          "nao",
          "nao",
          "nao",
          "nao",
          "nao",
          "nao",
          "nao",
          "nao",
          "nao",
          "nao",
          "sim",
          "nao",
          "nao",
          "nao",
          "nao",
          "nao",
          "nao",
          "nao",
          "nao",
          "nao",
          "sim",
          "nao",
          "nao",
          "nao",
          "nao",
          "nao",
          "nao",
          "nao",
          "nao",
          "nao",
          "nao",
          "nao",
          "nao",
          "nao",
          "nao",
          "nao",
          "nao",
          "nao",
          "nao",
          "nao",
          "nao",
          "nao",
          "nao",
          "nao",
          "nao",
          "nao",
          "nao",
          "nao",
          "nao",
          "nao",
          "nao",
          "nao",
          "nao",
          "nao",
          "nao",
          "nao",
          "nao",
          "nao",
          "nao",
          "nao",
          "nao",
          "nao",
          "sim",
          "nao",
          "nao",
          "nao",
          "nao",
          "nao",
          "nao",
          "nao",
          "nao",
          "nao",
          "nao",
          "nao",
          "nao",
          "nao",
          "nao",
          "nao",
          "nao",
          "nao",
          "nao",
          "nao",
          "nao",
          "nao",
          "nao",
          "nao",
          "nao",
          "nao",
          "nao",
          "nao",
          "nao",
          "nao",
          "nao",
          "nao",
          "nao",
          "nao",
          "nao",
          "nao",
          "nao",
          "nao",
          "nao",
          "nao",
          "nao",
          "nao",
          "nao",
          "nao",
          "nao",
          "nao",
          "nao",
          "nao",
          "nao",
          "nao",
          "nao",
          "nao",
          "nao",
          "nao",
          "nao",
          "nao",
          "nao",
          "nao",
          "nao",
          "nao",
          "nao",
          "nao",
          "nao",
          "nao",
          "nao",
          "nao",
          "nao",
          "nao",
          "nao",
          "nao",
          "nao",
          "nao",
          "nao",
          "nao",
          "nao",
          "nao",
          "nao",
          "nao",
          "nao",
          "nao",
          "nao",
          "nao",
          "nao",
          "nao",
          "nao",
          "nao",
          "nao",
          "nao",
          "nao",
          "nao",
          "nao",
          "nao",
          "nao",
          "nao",
          "nao",
          "nao",
          "nao",
          "nao",
          "nao",
          "nao",
          "nao",
          "nao",
          "nao",
          "nao",
          "nao",
          "nao",
          "nao",
          "nao",
          "nao",
          "nao",
          "nao",
          "nao",
          "nao",
          "nao",
          "nao",
          "nao",
          "nao",
          "nao",
          "nao",
          "nao",
          "nao",
          "nao",
          "nao",
          "nao",
          "nao",
          "nao",
          "nao",
          "nao",
          "nao",
          "nao",
          "nao",
          "nao",
          "nao",
          "nao",
          "nao",
          "nao",
          "nao",
          "nao",
          "nao",
          "nao",
          "nao",
          "nao",
          "nao",
          "nao",
          "nao",
          "nao",
          "nao",
          "nao",
          "nao",
          "nao",
          "nao",
          "nao",
          "nao",
          "nao",
          "nao",
          "nao",
          "nao",
          "nao",
          "nao",
          "nao",
          "nao",
          "nao",
          "nao",
          "nao",
          "nao",
          "nao",
          "nao",
          "nao",
          "nao",
          "nao",
          "nao",
          "nao",
          "nao",
          "nao",
          "nao",
          "nao",
          "nao",
          "sim",
          "nao",
          "nao",
          "nao",
          "nao",
          "nao",
          "nao",
          "nao",
          "nao",
          "nao",
          "nao",
          "nao",
          "nao",
          "nao",
          "sim",
          "nao",
          "nao",
          "nao",
          "nao",
          "nao",
          "nao",
          "nao",
          "nao",
          "nao",
          "nao",
          "nao",
          "nao",
          "nao",
          "nao",
          "nao",
          "nao",
          "nao",
          "nao",
          "nao",
          "nao",
          "nao",
          "nao",
          "nao",
          "nao",
          "nao",
          "nao",
          "nao",
          "nao",
          "nao",
          "nao",
          "nao",
          "nao",
          "nao",
          "nao",
          "nao",
          "nao",
          "nao",
          "nao",
          "nao",
          "nao",
          "nao",
          "nao",
          "nao",
          "nao",
          "nao",
          "nao",
          "sim",
          "nao",
          "nao",
          "nao",
          "nao",
          "nao",
          "nao",
          "nao",
          "nao",
          "nao",
          "nao",
          "nao",
          "nao",
          "nao",
          "nao",
          "nao",
          "nao",
          "nao",
          "nao",
          "nao",
          "nao",
          "nao",
          "nao",
          "nao",
          "nao",
          "nao",
          "nao",
          "nao",
          "sim",
          "nao",
          "nao",
          "nao",
          "nao",
          "nao",
          "nao",
          "nao",
          "nao",
          "nao",
          "nao",
          "nao",
          "nao",
          "nao",
          "nao",
          "nao",
          "nao",
          "nao",
          "nao",
          "nao",
          "nao",
          "nao",
          "nao",
          "nao",
          "nao",
          "nao"
         ],
         "xaxis": "x",
         "yaxis": "y"
        },
        {
         "alignmentgroup": "True",
         "bingroup": "x",
         "hovertemplate": "aderencia_investimento=nao<br>inadimplencia=%{x}<br>count=%{y}<extra></extra>",
         "legendgroup": "nao",
         "marker": {
          "color": "#EF553B",
          "pattern": {
           "shape": ""
          }
         },
         "name": "nao",
         "offsetgroup": "nao",
         "orientation": "v",
         "showlegend": true,
         "texttemplate": "%{value}",
         "type": "histogram",
         "x": [
          "nao",
          "nao",
          "nao",
          "nao",
          "nao",
          "nao",
          "nao",
          "nao",
          "nao",
          "nao",
          "nao",
          "nao",
          "nao",
          "nao",
          "nao",
          "nao",
          "nao",
          "nao",
          "nao",
          "nao",
          "nao",
          "nao",
          "nao",
          "sim",
          "nao",
          "nao",
          "nao",
          "nao",
          "nao",
          "nao",
          "nao",
          "nao",
          "nao",
          "nao",
          "nao",
          "nao",
          "nao",
          "nao",
          "nao",
          "nao",
          "nao",
          "nao",
          "nao",
          "nao",
          "nao",
          "nao",
          "nao",
          "nao",
          "nao",
          "nao",
          "nao",
          "nao",
          "nao",
          "nao",
          "nao",
          "nao",
          "sim",
          "nao",
          "nao",
          "nao",
          "nao",
          "nao",
          "nao",
          "nao",
          "nao",
          "nao",
          "nao",
          "nao",
          "nao",
          "nao",
          "nao",
          "nao",
          "nao",
          "nao",
          "nao",
          "nao",
          "nao",
          "nao",
          "nao",
          "nao",
          "nao",
          "nao",
          "nao",
          "nao",
          "nao",
          "nao",
          "nao",
          "nao",
          "nao",
          "nao",
          "nao",
          "nao",
          "nao",
          "nao",
          "nao",
          "nao",
          "nao",
          "nao",
          "nao",
          "nao",
          "nao",
          "nao",
          "nao",
          "nao",
          "nao",
          "nao",
          "nao",
          "nao",
          "nao",
          "nao",
          "nao",
          "sim",
          "nao",
          "nao",
          "sim",
          "nao",
          "nao",
          "nao",
          "nao",
          "nao",
          "nao",
          "nao",
          "nao",
          "nao",
          "nao",
          "nao",
          "nao",
          "nao",
          "nao",
          "nao",
          "nao",
          "nao",
          "nao",
          "nao",
          "nao",
          "nao",
          "nao",
          "nao",
          "nao",
          "nao",
          "nao",
          "nao",
          "nao",
          "nao",
          "nao",
          "nao",
          "nao",
          "nao",
          "nao",
          "nao",
          "nao",
          "nao",
          "nao",
          "nao",
          "nao",
          "nao",
          "nao",
          "nao",
          "nao",
          "nao",
          "nao",
          "nao",
          "nao",
          "nao",
          "sim",
          "nao",
          "nao",
          "nao",
          "nao",
          "nao",
          "nao",
          "nao",
          "nao",
          "nao",
          "nao",
          "nao",
          "nao",
          "nao",
          "nao",
          "nao",
          "nao",
          "nao",
          "nao",
          "nao",
          "nao",
          "nao",
          "nao",
          "nao",
          "nao",
          "nao",
          "nao",
          "nao",
          "nao",
          "nao",
          "nao",
          "nao",
          "nao",
          "nao",
          "nao",
          "nao",
          "nao",
          "nao",
          "nao",
          "nao",
          "nao",
          "nao",
          "nao",
          "nao",
          "nao",
          "nao",
          "nao",
          "nao",
          "nao",
          "nao",
          "nao",
          "nao",
          "nao",
          "nao",
          "nao",
          "nao",
          "nao",
          "nao",
          "nao",
          "nao",
          "nao",
          "nao",
          "nao",
          "nao",
          "nao",
          "nao",
          "nao",
          "nao",
          "nao",
          "nao",
          "nao",
          "nao",
          "nao",
          "nao",
          "nao",
          "nao",
          "nao",
          "nao",
          "nao",
          "nao",
          "nao",
          "nao",
          "nao",
          "nao",
          "nao",
          "nao",
          "nao",
          "nao",
          "nao",
          "nao",
          "nao",
          "nao",
          "nao",
          "nao",
          "nao",
          "nao",
          "nao",
          "nao",
          "nao",
          "nao",
          "nao",
          "nao",
          "nao",
          "nao",
          "nao",
          "nao",
          "nao",
          "nao",
          "nao",
          "nao",
          "nao",
          "nao",
          "nao",
          "nao",
          "nao",
          "nao",
          "nao",
          "nao",
          "nao",
          "nao",
          "nao",
          "nao",
          "nao",
          "nao",
          "nao",
          "nao",
          "nao",
          "nao",
          "nao",
          "nao",
          "nao",
          "nao",
          "nao",
          "nao",
          "nao",
          "nao",
          "nao",
          "nao",
          "nao",
          "nao",
          "nao",
          "sim",
          "nao",
          "sim",
          "nao",
          "nao",
          "nao",
          "nao",
          "nao",
          "nao",
          "nao",
          "nao",
          "nao",
          "nao",
          "nao",
          "nao",
          "nao",
          "nao",
          "nao",
          "nao",
          "nao",
          "nao",
          "sim",
          "nao",
          "nao",
          "nao",
          "nao",
          "nao",
          "nao",
          "nao",
          "nao",
          "nao",
          "nao",
          "nao",
          "nao",
          "nao",
          "nao",
          "nao",
          "nao",
          "nao",
          "nao",
          "nao",
          "nao",
          "nao",
          "nao",
          "nao",
          "nao",
          "nao",
          "nao",
          "nao",
          "nao",
          "nao",
          "nao",
          "nao",
          "nao",
          "nao",
          "nao",
          "nao",
          "nao",
          "nao",
          "sim",
          "nao",
          "nao",
          "nao",
          "nao",
          "nao",
          "nao",
          "nao",
          "nao",
          "nao",
          "nao",
          "nao",
          "nao",
          "nao",
          "nao",
          "nao",
          "nao",
          "nao",
          "nao",
          "nao",
          "nao",
          "nao",
          "nao",
          "nao",
          "nao",
          "nao",
          "nao",
          "nao",
          "nao",
          "nao",
          "nao",
          "nao",
          "nao",
          "nao",
          "nao",
          "nao",
          "nao",
          "nao",
          "nao",
          "nao",
          "nao",
          "nao",
          "nao",
          "nao",
          "nao",
          "nao",
          "nao",
          "nao",
          "nao",
          "nao",
          "nao",
          "nao",
          "nao",
          "nao",
          "nao",
          "nao",
          "nao",
          "nao",
          "nao",
          "nao",
          "nao",
          "nao",
          "nao",
          "nao",
          "nao",
          "nao",
          "nao",
          "nao",
          "nao",
          "nao",
          "nao",
          "nao",
          "nao",
          "nao",
          "nao",
          "nao",
          "nao",
          "nao",
          "nao",
          "nao",
          "nao",
          "nao",
          "nao",
          "nao",
          "sim",
          "nao",
          "nao",
          "nao",
          "nao",
          "nao",
          "nao",
          "nao",
          "nao",
          "nao",
          "nao",
          "nao",
          "nao",
          "nao",
          "nao",
          "nao",
          "nao",
          "nao",
          "nao",
          "nao",
          "nao",
          "nao",
          "nao",
          "nao",
          "nao",
          "nao",
          "nao",
          "nao",
          "nao",
          "nao",
          "nao",
          "nao",
          "nao",
          "nao",
          "nao",
          "nao",
          "nao",
          "nao",
          "nao",
          "nao",
          "nao",
          "nao",
          "nao",
          "nao",
          "nao",
          "nao",
          "nao",
          "nao",
          "nao",
          "nao",
          "nao",
          "nao",
          "nao",
          "nao",
          "nao",
          "nao",
          "nao",
          "nao",
          "nao",
          "nao",
          "nao",
          "nao",
          "nao",
          "nao",
          "nao",
          "nao",
          "nao",
          "nao",
          "nao",
          "nao",
          "nao",
          "nao",
          "nao",
          "nao",
          "nao",
          "nao",
          "nao",
          "nao",
          "nao",
          "nao",
          "nao",
          "nao",
          "nao",
          "nao",
          "nao",
          "nao",
          "nao",
          "nao",
          "nao",
          "nao",
          "nao",
          "nao",
          "nao",
          "nao",
          "nao",
          "nao",
          "nao",
          "nao",
          "nao",
          "nao",
          "nao",
          "nao",
          "nao",
          "nao",
          "nao",
          "nao",
          "nao",
          "nao",
          "nao",
          "nao",
          "nao",
          "nao",
          "nao",
          "nao",
          "nao",
          "nao",
          "nao",
          "nao",
          "nao",
          "nao",
          "nao",
          "nao",
          "nao",
          "nao",
          "nao",
          "sim",
          "nao",
          "nao",
          "nao",
          "nao",
          "nao",
          "nao",
          "nao",
          "nao",
          "nao",
          "nao",
          "nao",
          "sim",
          "nao",
          "nao",
          "nao",
          "nao",
          "nao",
          "nao",
          "nao",
          "nao",
          "nao",
          "nao",
          "nao",
          "nao",
          "nao",
          "nao",
          "nao",
          "nao",
          "nao",
          "nao",
          "nao",
          "nao",
          "nao",
          "nao",
          "nao",
          "nao",
          "nao",
          "nao",
          "nao",
          "nao",
          "nao",
          "nao",
          "nao",
          "nao",
          "nao",
          "nao",
          "nao",
          "nao",
          "nao",
          "nao",
          "nao",
          "nao",
          "nao",
          "nao",
          "nao",
          "nao",
          "nao",
          "nao",
          "nao",
          "nao",
          "nao",
          "nao",
          "nao",
          "nao",
          "nao",
          "nao",
          "nao",
          "nao",
          "nao",
          "nao",
          "nao",
          "nao",
          "nao",
          "nao",
          "nao",
          "nao",
          "nao",
          "nao",
          "nao",
          "nao",
          "nao",
          "nao",
          "nao",
          "nao",
          "nao",
          "nao",
          "nao",
          "nao",
          "nao",
          "nao",
          "nao",
          "nao",
          "nao",
          "nao",
          "nao",
          "nao",
          "nao",
          "nao",
          "nao",
          "nao",
          "nao",
          "nao",
          "nao",
          "nao",
          "nao",
          "nao",
          "nao",
          "nao",
          "nao",
          "nao",
          "nao",
          "nao",
          "nao",
          "nao",
          "nao",
          "nao",
          "sim",
          "nao",
          "sim",
          "nao",
          "nao",
          "nao",
          "nao",
          "nao",
          "nao",
          "nao",
          "nao",
          "nao",
          "nao",
          "nao",
          "nao",
          "nao",
          "nao",
          "nao",
          "nao",
          "nao",
          "nao",
          "nao",
          "nao",
          "nao",
          "nao",
          "nao",
          "nao",
          "nao",
          "nao",
          "nao",
          "nao",
          "nao",
          "nao",
          "nao",
          "nao",
          "nao",
          "nao",
          "nao",
          "nao",
          "nao",
          "nao",
          "nao",
          "nao",
          "nao",
          "nao",
          "nao",
          "sim",
          "nao",
          "nao",
          "nao",
          "nao",
          "nao",
          "nao",
          "nao",
          "nao",
          "nao",
          "nao",
          "nao",
          "nao",
          "nao",
          "nao",
          "nao",
          "nao",
          "nao",
          "nao",
          "nao",
          "nao",
          "nao",
          "nao",
          "nao",
          "nao",
          "nao",
          "nao",
          "nao",
          "nao",
          "nao"
         ],
         "xaxis": "x",
         "yaxis": "y"
        }
       ],
       "layout": {
        "barmode": "group",
        "legend": {
         "title": {
          "text": "aderencia_investimento"
         },
         "tracegroupgap": 0
        },
        "margin": {
         "t": 60
        },
        "template": {
         "data": {
          "bar": [
           {
            "error_x": {
             "color": "#2a3f5f"
            },
            "error_y": {
             "color": "#2a3f5f"
            },
            "marker": {
             "line": {
              "color": "#E5ECF6",
              "width": 0.5
             },
             "pattern": {
              "fillmode": "overlay",
              "size": 10,
              "solidity": 0.2
             }
            },
            "type": "bar"
           }
          ],
          "barpolar": [
           {
            "marker": {
             "line": {
              "color": "#E5ECF6",
              "width": 0.5
             },
             "pattern": {
              "fillmode": "overlay",
              "size": 10,
              "solidity": 0.2
             }
            },
            "type": "barpolar"
           }
          ],
          "carpet": [
           {
            "aaxis": {
             "endlinecolor": "#2a3f5f",
             "gridcolor": "white",
             "linecolor": "white",
             "minorgridcolor": "white",
             "startlinecolor": "#2a3f5f"
            },
            "baxis": {
             "endlinecolor": "#2a3f5f",
             "gridcolor": "white",
             "linecolor": "white",
             "minorgridcolor": "white",
             "startlinecolor": "#2a3f5f"
            },
            "type": "carpet"
           }
          ],
          "choropleth": [
           {
            "colorbar": {
             "outlinewidth": 0,
             "ticks": ""
            },
            "type": "choropleth"
           }
          ],
          "contour": [
           {
            "colorbar": {
             "outlinewidth": 0,
             "ticks": ""
            },
            "colorscale": [
             [
              0,
              "#0d0887"
             ],
             [
              0.1111111111111111,
              "#46039f"
             ],
             [
              0.2222222222222222,
              "#7201a8"
             ],
             [
              0.3333333333333333,
              "#9c179e"
             ],
             [
              0.4444444444444444,
              "#bd3786"
             ],
             [
              0.5555555555555556,
              "#d8576b"
             ],
             [
              0.6666666666666666,
              "#ed7953"
             ],
             [
              0.7777777777777778,
              "#fb9f3a"
             ],
             [
              0.8888888888888888,
              "#fdca26"
             ],
             [
              1,
              "#f0f921"
             ]
            ],
            "type": "contour"
           }
          ],
          "contourcarpet": [
           {
            "colorbar": {
             "outlinewidth": 0,
             "ticks": ""
            },
            "type": "contourcarpet"
           }
          ],
          "heatmap": [
           {
            "colorbar": {
             "outlinewidth": 0,
             "ticks": ""
            },
            "colorscale": [
             [
              0,
              "#0d0887"
             ],
             [
              0.1111111111111111,
              "#46039f"
             ],
             [
              0.2222222222222222,
              "#7201a8"
             ],
             [
              0.3333333333333333,
              "#9c179e"
             ],
             [
              0.4444444444444444,
              "#bd3786"
             ],
             [
              0.5555555555555556,
              "#d8576b"
             ],
             [
              0.6666666666666666,
              "#ed7953"
             ],
             [
              0.7777777777777778,
              "#fb9f3a"
             ],
             [
              0.8888888888888888,
              "#fdca26"
             ],
             [
              1,
              "#f0f921"
             ]
            ],
            "type": "heatmap"
           }
          ],
          "histogram": [
           {
            "marker": {
             "pattern": {
              "fillmode": "overlay",
              "size": 10,
              "solidity": 0.2
             }
            },
            "type": "histogram"
           }
          ],
          "histogram2d": [
           {
            "colorbar": {
             "outlinewidth": 0,
             "ticks": ""
            },
            "colorscale": [
             [
              0,
              "#0d0887"
             ],
             [
              0.1111111111111111,
              "#46039f"
             ],
             [
              0.2222222222222222,
              "#7201a8"
             ],
             [
              0.3333333333333333,
              "#9c179e"
             ],
             [
              0.4444444444444444,
              "#bd3786"
             ],
             [
              0.5555555555555556,
              "#d8576b"
             ],
             [
              0.6666666666666666,
              "#ed7953"
             ],
             [
              0.7777777777777778,
              "#fb9f3a"
             ],
             [
              0.8888888888888888,
              "#fdca26"
             ],
             [
              1,
              "#f0f921"
             ]
            ],
            "type": "histogram2d"
           }
          ],
          "histogram2dcontour": [
           {
            "colorbar": {
             "outlinewidth": 0,
             "ticks": ""
            },
            "colorscale": [
             [
              0,
              "#0d0887"
             ],
             [
              0.1111111111111111,
              "#46039f"
             ],
             [
              0.2222222222222222,
              "#7201a8"
             ],
             [
              0.3333333333333333,
              "#9c179e"
             ],
             [
              0.4444444444444444,
              "#bd3786"
             ],
             [
              0.5555555555555556,
              "#d8576b"
             ],
             [
              0.6666666666666666,
              "#ed7953"
             ],
             [
              0.7777777777777778,
              "#fb9f3a"
             ],
             [
              0.8888888888888888,
              "#fdca26"
             ],
             [
              1,
              "#f0f921"
             ]
            ],
            "type": "histogram2dcontour"
           }
          ],
          "mesh3d": [
           {
            "colorbar": {
             "outlinewidth": 0,
             "ticks": ""
            },
            "type": "mesh3d"
           }
          ],
          "parcoords": [
           {
            "line": {
             "colorbar": {
              "outlinewidth": 0,
              "ticks": ""
             }
            },
            "type": "parcoords"
           }
          ],
          "pie": [
           {
            "automargin": true,
            "type": "pie"
           }
          ],
          "scatter": [
           {
            "fillpattern": {
             "fillmode": "overlay",
             "size": 10,
             "solidity": 0.2
            },
            "type": "scatter"
           }
          ],
          "scatter3d": [
           {
            "line": {
             "colorbar": {
              "outlinewidth": 0,
              "ticks": ""
             }
            },
            "marker": {
             "colorbar": {
              "outlinewidth": 0,
              "ticks": ""
             }
            },
            "type": "scatter3d"
           }
          ],
          "scattercarpet": [
           {
            "marker": {
             "colorbar": {
              "outlinewidth": 0,
              "ticks": ""
             }
            },
            "type": "scattercarpet"
           }
          ],
          "scattergeo": [
           {
            "marker": {
             "colorbar": {
              "outlinewidth": 0,
              "ticks": ""
             }
            },
            "type": "scattergeo"
           }
          ],
          "scattergl": [
           {
            "marker": {
             "colorbar": {
              "outlinewidth": 0,
              "ticks": ""
             }
            },
            "type": "scattergl"
           }
          ],
          "scattermap": [
           {
            "marker": {
             "colorbar": {
              "outlinewidth": 0,
              "ticks": ""
             }
            },
            "type": "scattermap"
           }
          ],
          "scattermapbox": [
           {
            "marker": {
             "colorbar": {
              "outlinewidth": 0,
              "ticks": ""
             }
            },
            "type": "scattermapbox"
           }
          ],
          "scatterpolar": [
           {
            "marker": {
             "colorbar": {
              "outlinewidth": 0,
              "ticks": ""
             }
            },
            "type": "scatterpolar"
           }
          ],
          "scatterpolargl": [
           {
            "marker": {
             "colorbar": {
              "outlinewidth": 0,
              "ticks": ""
             }
            },
            "type": "scatterpolargl"
           }
          ],
          "scatterternary": [
           {
            "marker": {
             "colorbar": {
              "outlinewidth": 0,
              "ticks": ""
             }
            },
            "type": "scatterternary"
           }
          ],
          "surface": [
           {
            "colorbar": {
             "outlinewidth": 0,
             "ticks": ""
            },
            "colorscale": [
             [
              0,
              "#0d0887"
             ],
             [
              0.1111111111111111,
              "#46039f"
             ],
             [
              0.2222222222222222,
              "#7201a8"
             ],
             [
              0.3333333333333333,
              "#9c179e"
             ],
             [
              0.4444444444444444,
              "#bd3786"
             ],
             [
              0.5555555555555556,
              "#d8576b"
             ],
             [
              0.6666666666666666,
              "#ed7953"
             ],
             [
              0.7777777777777778,
              "#fb9f3a"
             ],
             [
              0.8888888888888888,
              "#fdca26"
             ],
             [
              1,
              "#f0f921"
             ]
            ],
            "type": "surface"
           }
          ],
          "table": [
           {
            "cells": {
             "fill": {
              "color": "#EBF0F8"
             },
             "line": {
              "color": "white"
             }
            },
            "header": {
             "fill": {
              "color": "#C8D4E3"
             },
             "line": {
              "color": "white"
             }
            },
            "type": "table"
           }
          ]
         },
         "layout": {
          "annotationdefaults": {
           "arrowcolor": "#2a3f5f",
           "arrowhead": 0,
           "arrowwidth": 1
          },
          "autotypenumbers": "strict",
          "coloraxis": {
           "colorbar": {
            "outlinewidth": 0,
            "ticks": ""
           }
          },
          "colorscale": {
           "diverging": [
            [
             0,
             "#8e0152"
            ],
            [
             0.1,
             "#c51b7d"
            ],
            [
             0.2,
             "#de77ae"
            ],
            [
             0.3,
             "#f1b6da"
            ],
            [
             0.4,
             "#fde0ef"
            ],
            [
             0.5,
             "#f7f7f7"
            ],
            [
             0.6,
             "#e6f5d0"
            ],
            [
             0.7,
             "#b8e186"
            ],
            [
             0.8,
             "#7fbc41"
            ],
            [
             0.9,
             "#4d9221"
            ],
            [
             1,
             "#276419"
            ]
           ],
           "sequential": [
            [
             0,
             "#0d0887"
            ],
            [
             0.1111111111111111,
             "#46039f"
            ],
            [
             0.2222222222222222,
             "#7201a8"
            ],
            [
             0.3333333333333333,
             "#9c179e"
            ],
            [
             0.4444444444444444,
             "#bd3786"
            ],
            [
             0.5555555555555556,
             "#d8576b"
            ],
            [
             0.6666666666666666,
             "#ed7953"
            ],
            [
             0.7777777777777778,
             "#fb9f3a"
            ],
            [
             0.8888888888888888,
             "#fdca26"
            ],
            [
             1,
             "#f0f921"
            ]
           ],
           "sequentialminus": [
            [
             0,
             "#0d0887"
            ],
            [
             0.1111111111111111,
             "#46039f"
            ],
            [
             0.2222222222222222,
             "#7201a8"
            ],
            [
             0.3333333333333333,
             "#9c179e"
            ],
            [
             0.4444444444444444,
             "#bd3786"
            ],
            [
             0.5555555555555556,
             "#d8576b"
            ],
            [
             0.6666666666666666,
             "#ed7953"
            ],
            [
             0.7777777777777778,
             "#fb9f3a"
            ],
            [
             0.8888888888888888,
             "#fdca26"
            ],
            [
             1,
             "#f0f921"
            ]
           ]
          },
          "colorway": [
           "#636efa",
           "#EF553B",
           "#00cc96",
           "#ab63fa",
           "#FFA15A",
           "#19d3f3",
           "#FF6692",
           "#B6E880",
           "#FF97FF",
           "#FECB52"
          ],
          "font": {
           "color": "#2a3f5f"
          },
          "geo": {
           "bgcolor": "white",
           "lakecolor": "white",
           "landcolor": "#E5ECF6",
           "showlakes": true,
           "showland": true,
           "subunitcolor": "white"
          },
          "hoverlabel": {
           "align": "left"
          },
          "hovermode": "closest",
          "mapbox": {
           "style": "light"
          },
          "paper_bgcolor": "white",
          "plot_bgcolor": "#E5ECF6",
          "polar": {
           "angularaxis": {
            "gridcolor": "white",
            "linecolor": "white",
            "ticks": ""
           },
           "bgcolor": "#E5ECF6",
           "radialaxis": {
            "gridcolor": "white",
            "linecolor": "white",
            "ticks": ""
           }
          },
          "scene": {
           "xaxis": {
            "backgroundcolor": "#E5ECF6",
            "gridcolor": "white",
            "gridwidth": 2,
            "linecolor": "white",
            "showbackground": true,
            "ticks": "",
            "zerolinecolor": "white"
           },
           "yaxis": {
            "backgroundcolor": "#E5ECF6",
            "gridcolor": "white",
            "gridwidth": 2,
            "linecolor": "white",
            "showbackground": true,
            "ticks": "",
            "zerolinecolor": "white"
           },
           "zaxis": {
            "backgroundcolor": "#E5ECF6",
            "gridcolor": "white",
            "gridwidth": 2,
            "linecolor": "white",
            "showbackground": true,
            "ticks": "",
            "zerolinecolor": "white"
           }
          },
          "shapedefaults": {
           "line": {
            "color": "#2a3f5f"
           }
          },
          "ternary": {
           "aaxis": {
            "gridcolor": "white",
            "linecolor": "white",
            "ticks": ""
           },
           "baxis": {
            "gridcolor": "white",
            "linecolor": "white",
            "ticks": ""
           },
           "bgcolor": "#E5ECF6",
           "caxis": {
            "gridcolor": "white",
            "linecolor": "white",
            "ticks": ""
           }
          },
          "title": {
           "x": 0.05
          },
          "xaxis": {
           "automargin": true,
           "gridcolor": "white",
           "linecolor": "white",
           "ticks": "",
           "title": {
            "standoff": 15
           },
           "zerolinecolor": "white",
           "zerolinewidth": 2
          },
          "yaxis": {
           "automargin": true,
           "gridcolor": "white",
           "linecolor": "white",
           "ticks": "",
           "title": {
            "standoff": 15
           },
           "zerolinecolor": "white",
           "zerolinewidth": 2
          }
         }
        },
        "xaxis": {
         "anchor": "y",
         "domain": [
          0,
          1
         ],
         "title": {
          "text": "inadimplencia"
         }
        },
        "yaxis": {
         "anchor": "x",
         "domain": [
          0,
          1
         ],
         "title": {
          "text": "count"
         }
        }
       }
      }
     },
     "metadata": {},
     "output_type": "display_data"
    }
   ],
   "source": [
    "px.histogram(df, x='inadimplencia', text_auto=True, color='aderencia_investimento', barmode='group')"
   ]
  },
  {
   "cell_type": "code",
   "execution_count": 74,
   "metadata": {},
   "outputs": [
    {
     "data": {
      "application/vnd.plotly.v1+json": {
       "config": {
        "plotlyServerURL": "https://plot.ly"
       },
       "data": [
        {
         "alignmentgroup": "True",
         "bingroup": "x",
         "hovertemplate": "aderencia_investimento=sim<br>fez_emprestimo=%{x}<br>count=%{y}<extra></extra>",
         "legendgroup": "sim",
         "marker": {
          "color": "#636efa",
          "pattern": {
           "shape": ""
          }
         },
         "name": "sim",
         "offsetgroup": "sim",
         "orientation": "v",
         "showlegend": true,
         "texttemplate": "%{value}",
         "type": "histogram",
         "x": [
          "nao",
          "nao",
          "nao",
          "nao",
          "sim",
          "nao",
          "sim",
          "nao",
          "nao",
          "nao",
          "nao",
          "nao",
          "nao",
          "nao",
          "nao",
          "nao",
          "nao",
          "sim",
          "nao",
          "nao",
          "nao",
          "nao",
          "nao",
          "nao",
          "nao",
          "nao",
          "nao",
          "nao",
          "sim",
          "nao",
          "nao",
          "nao",
          "nao",
          "nao",
          "nao",
          "nao",
          "nao",
          "nao",
          "nao",
          "nao",
          "nao",
          "nao",
          "sim",
          "nao",
          "nao",
          "nao",
          "nao",
          "nao",
          "nao",
          "nao",
          "nao",
          "nao",
          "nao",
          "nao",
          "nao",
          "nao",
          "nao",
          "nao",
          "nao",
          "sim",
          "nao",
          "nao",
          "nao",
          "nao",
          "nao",
          "nao",
          "nao",
          "nao",
          "nao",
          "nao",
          "nao",
          "sim",
          "nao",
          "nao",
          "nao",
          "nao",
          "sim",
          "nao",
          "nao",
          "nao",
          "nao",
          "nao",
          "nao",
          "nao",
          "nao",
          "nao",
          "nao",
          "nao",
          "nao",
          "nao",
          "nao",
          "nao",
          "nao",
          "nao",
          "nao",
          "nao",
          "nao",
          "nao",
          "nao",
          "nao",
          "sim",
          "nao",
          "nao",
          "nao",
          "nao",
          "nao",
          "nao",
          "nao",
          "nao",
          "nao",
          "nao",
          "nao",
          "nao",
          "nao",
          "nao",
          "nao",
          "nao",
          "nao",
          "nao",
          "nao",
          "nao",
          "nao",
          "nao",
          "nao",
          "nao",
          "nao",
          "sim",
          "nao",
          "nao",
          "nao",
          "nao",
          "nao",
          "nao",
          "nao",
          "nao",
          "sim",
          "nao",
          "nao",
          "nao",
          "nao",
          "nao",
          "nao",
          "nao",
          "nao",
          "nao",
          "nao",
          "nao",
          "sim",
          "nao",
          "nao",
          "nao",
          "nao",
          "nao",
          "nao",
          "nao",
          "nao",
          "nao",
          "nao",
          "sim",
          "nao",
          "nao",
          "nao",
          "nao",
          "nao",
          "nao",
          "nao",
          "nao",
          "nao",
          "sim",
          "nao",
          "nao",
          "sim",
          "nao",
          "sim",
          "nao",
          "nao",
          "nao",
          "nao",
          "nao",
          "nao",
          "nao",
          "nao",
          "nao",
          "nao",
          "nao",
          "nao",
          "nao",
          "nao",
          "nao",
          "nao",
          "nao",
          "nao",
          "nao",
          "nao",
          "nao",
          "nao",
          "nao",
          "nao",
          "nao",
          "nao",
          "nao",
          "nao",
          "nao",
          "nao",
          "nao",
          "nao",
          "nao",
          "nao",
          "nao",
          "nao",
          "nao",
          "nao",
          "nao",
          "nao",
          "nao",
          "nao",
          "nao",
          "sim",
          "nao",
          "nao",
          "nao",
          "nao",
          "nao",
          "nao",
          "nao",
          "nao",
          "nao",
          "nao",
          "nao",
          "nao",
          "nao",
          "sim",
          "nao",
          "nao",
          "nao",
          "nao",
          "nao",
          "nao",
          "nao",
          "nao",
          "nao",
          "nao",
          "nao",
          "nao",
          "nao",
          "nao",
          "nao",
          "nao",
          "nao",
          "nao",
          "sim",
          "nao",
          "nao",
          "sim",
          "nao",
          "nao",
          "nao",
          "nao",
          "nao",
          "nao",
          "nao",
          "nao",
          "nao",
          "nao",
          "nao",
          "nao",
          "nao",
          "sim",
          "nao",
          "nao",
          "nao",
          "nao",
          "sim",
          "sim",
          "nao",
          "nao",
          "nao",
          "nao",
          "nao",
          "nao",
          "nao",
          "nao",
          "nao",
          "nao",
          "nao",
          "nao",
          "nao",
          "nao",
          "nao",
          "nao",
          "nao",
          "nao",
          "nao",
          "nao",
          "nao",
          "nao",
          "nao",
          "nao",
          "nao",
          "nao",
          "sim",
          "nao",
          "nao",
          "nao",
          "nao",
          "nao",
          "nao",
          "nao",
          "nao",
          "nao",
          "nao",
          "sim",
          "nao",
          "nao",
          "nao",
          "nao",
          "nao",
          "nao",
          "nao",
          "nao",
          "nao",
          "nao",
          "nao",
          "nao",
          "nao",
          "nao",
          "sim",
          "nao",
          "sim",
          "nao",
          "nao",
          "nao",
          "nao",
          "sim",
          "nao",
          "nao",
          "sim",
          "nao",
          "nao",
          "nao",
          "nao",
          "nao",
          "nao",
          "nao",
          "nao",
          "nao",
          "nao",
          "nao",
          "nao",
          "nao",
          "nao",
          "nao",
          "nao",
          "nao",
          "nao",
          "nao",
          "nao",
          "nao",
          "nao",
          "nao",
          "sim",
          "nao",
          "nao",
          "sim",
          "sim",
          "nao",
          "nao",
          "nao",
          "nao",
          "nao",
          "nao",
          "nao",
          "nao",
          "nao",
          "sim",
          "nao",
          "nao",
          "nao",
          "nao",
          "nao",
          "nao",
          "nao",
          "nao",
          "nao",
          "nao",
          "nao",
          "nao",
          "nao",
          "sim",
          "nao",
          "nao",
          "nao",
          "nao",
          "nao",
          "nao",
          "nao",
          "nao",
          "nao",
          "nao",
          "nao",
          "nao",
          "nao",
          "nao",
          "nao",
          "nao",
          "nao",
          "nao",
          "sim",
          "nao",
          "nao",
          "nao",
          "nao",
          "nao",
          "nao",
          "nao",
          "sim",
          "nao",
          "nao",
          "sim",
          "nao",
          "nao",
          "nao",
          "sim",
          "nao",
          "nao",
          "nao",
          "nao",
          "nao",
          "nao",
          "nao",
          "nao",
          "nao",
          "nao",
          "nao",
          "nao",
          "nao",
          "nao",
          "nao",
          "nao",
          "nao",
          "sim",
          "nao",
          "nao",
          "nao",
          "nao",
          "nao",
          "nao",
          "nao",
          "nao",
          "nao",
          "nao",
          "nao",
          "nao",
          "nao",
          "nao",
          "nao",
          "nao",
          "nao",
          "sim",
          "nao",
          "nao",
          "nao",
          "nao",
          "nao",
          "nao",
          "nao",
          "nao",
          "nao",
          "nao",
          "nao",
          "sim",
          "nao",
          "nao",
          "nao",
          "nao",
          "nao",
          "nao",
          "nao",
          "nao",
          "nao",
          "nao",
          "nao",
          "nao",
          "nao",
          "nao",
          "nao",
          "nao",
          "nao",
          "nao",
          "nao",
          "nao",
          "sim",
          "nao",
          "nao",
          "nao",
          "nao",
          "nao",
          "nao",
          "nao",
          "sim",
          "nao",
          "nao"
         ],
         "xaxis": "x",
         "yaxis": "y"
        },
        {
         "alignmentgroup": "True",
         "bingroup": "x",
         "hovertemplate": "aderencia_investimento=nao<br>fez_emprestimo=%{x}<br>count=%{y}<extra></extra>",
         "legendgroup": "nao",
         "marker": {
          "color": "#EF553B",
          "pattern": {
           "shape": ""
          }
         },
         "name": "nao",
         "offsetgroup": "nao",
         "orientation": "v",
         "showlegend": true,
         "texttemplate": "%{value}",
         "type": "histogram",
         "x": [
          "nao",
          "nao",
          "nao",
          "nao",
          "nao",
          "nao",
          "nao",
          "nao",
          "nao",
          "nao",
          "nao",
          "nao",
          "nao",
          "nao",
          "nao",
          "nao",
          "sim",
          "sim",
          "nao",
          "nao",
          "nao",
          "nao",
          "nao",
          "nao",
          "sim",
          "nao",
          "nao",
          "nao",
          "nao",
          "nao",
          "nao",
          "sim",
          "sim",
          "nao",
          "nao",
          "nao",
          "nao",
          "nao",
          "sim",
          "nao",
          "nao",
          "nao",
          "nao",
          "nao",
          "nao",
          "nao",
          "nao",
          "nao",
          "nao",
          "sim",
          "nao",
          "nao",
          "nao",
          "sim",
          "nao",
          "sim",
          "sim",
          "nao",
          "nao",
          "sim",
          "nao",
          "nao",
          "nao",
          "nao",
          "nao",
          "sim",
          "nao",
          "nao",
          "sim",
          "sim",
          "sim",
          "nao",
          "nao",
          "nao",
          "nao",
          "nao",
          "nao",
          "nao",
          "sim",
          "nao",
          "nao",
          "nao",
          "nao",
          "nao",
          "sim",
          "nao",
          "nao",
          "nao",
          "nao",
          "nao",
          "nao",
          "nao",
          "nao",
          "nao",
          "sim",
          "nao",
          "nao",
          "nao",
          "nao",
          "nao",
          "nao",
          "nao",
          "nao",
          "nao",
          "nao",
          "nao",
          "nao",
          "nao",
          "nao",
          "nao",
          "nao",
          "nao",
          "sim",
          "nao",
          "sim",
          "nao",
          "sim",
          "nao",
          "nao",
          "nao",
          "nao",
          "nao",
          "nao",
          "nao",
          "nao",
          "nao",
          "nao",
          "nao",
          "nao",
          "sim",
          "nao",
          "sim",
          "sim",
          "nao",
          "nao",
          "nao",
          "nao",
          "sim",
          "nao",
          "nao",
          "nao",
          "nao",
          "sim",
          "nao",
          "nao",
          "nao",
          "nao",
          "nao",
          "nao",
          "nao",
          "nao",
          "nao",
          "nao",
          "nao",
          "sim",
          "nao",
          "nao",
          "nao",
          "nao",
          "nao",
          "nao",
          "nao",
          "sim",
          "nao",
          "nao",
          "nao",
          "nao",
          "nao",
          "nao",
          "nao",
          "sim",
          "nao",
          "nao",
          "nao",
          "nao",
          "nao",
          "nao",
          "nao",
          "nao",
          "nao",
          "nao",
          "nao",
          "nao",
          "nao",
          "nao",
          "nao",
          "nao",
          "nao",
          "nao",
          "nao",
          "nao",
          "nao",
          "nao",
          "nao",
          "nao",
          "nao",
          "nao",
          "nao",
          "sim",
          "nao",
          "nao",
          "sim",
          "nao",
          "sim",
          "nao",
          "nao",
          "nao",
          "nao",
          "sim",
          "nao",
          "nao",
          "sim",
          "sim",
          "nao",
          "nao",
          "nao",
          "nao",
          "nao",
          "nao",
          "nao",
          "sim",
          "nao",
          "nao",
          "nao",
          "nao",
          "nao",
          "nao",
          "nao",
          "nao",
          "nao",
          "nao",
          "nao",
          "nao",
          "sim",
          "nao",
          "nao",
          "nao",
          "nao",
          "nao",
          "nao",
          "nao",
          "nao",
          "nao",
          "nao",
          "nao",
          "nao",
          "nao",
          "sim",
          "nao",
          "nao",
          "nao",
          "nao",
          "sim",
          "nao",
          "nao",
          "nao",
          "nao",
          "nao",
          "nao",
          "nao",
          "sim",
          "nao",
          "nao",
          "nao",
          "nao",
          "nao",
          "nao",
          "nao",
          "nao",
          "nao",
          "nao",
          "nao",
          "nao",
          "nao",
          "nao",
          "nao",
          "nao",
          "nao",
          "sim",
          "nao",
          "nao",
          "nao",
          "nao",
          "nao",
          "nao",
          "nao",
          "nao",
          "nao",
          "sim",
          "nao",
          "sim",
          "nao",
          "sim",
          "sim",
          "sim",
          "nao",
          "nao",
          "nao",
          "nao",
          "nao",
          "nao",
          "nao",
          "nao",
          "sim",
          "nao",
          "sim",
          "nao",
          "nao",
          "nao",
          "nao",
          "nao",
          "nao",
          "nao",
          "nao",
          "nao",
          "nao",
          "nao",
          "nao",
          "sim",
          "nao",
          "nao",
          "sim",
          "sim",
          "nao",
          "nao",
          "nao",
          "sim",
          "nao",
          "sim",
          "nao",
          "nao",
          "nao",
          "nao",
          "nao",
          "nao",
          "nao",
          "nao",
          "nao",
          "nao",
          "nao",
          "nao",
          "nao",
          "nao",
          "sim",
          "sim",
          "sim",
          "nao",
          "nao",
          "nao",
          "nao",
          "nao",
          "nao",
          "sim",
          "nao",
          "nao",
          "sim",
          "nao",
          "sim",
          "nao",
          "nao",
          "nao",
          "nao",
          "nao",
          "nao",
          "nao",
          "nao",
          "nao",
          "nao",
          "nao",
          "sim",
          "sim",
          "nao",
          "nao",
          "nao",
          "nao",
          "nao",
          "nao",
          "nao",
          "nao",
          "sim",
          "nao",
          "nao",
          "nao",
          "nao",
          "nao",
          "sim",
          "nao",
          "sim",
          "sim",
          "nao",
          "nao",
          "nao",
          "nao",
          "sim",
          "sim",
          "nao",
          "nao",
          "nao",
          "nao",
          "nao",
          "nao",
          "nao",
          "nao",
          "nao",
          "nao",
          "nao",
          "nao",
          "nao",
          "nao",
          "nao",
          "nao",
          "sim",
          "nao",
          "nao",
          "sim",
          "nao",
          "nao",
          "nao",
          "nao",
          "nao",
          "nao",
          "nao",
          "nao",
          "nao",
          "sim",
          "nao",
          "nao",
          "nao",
          "nao",
          "nao",
          "nao",
          "nao",
          "nao",
          "nao",
          "nao",
          "sim",
          "nao",
          "nao",
          "nao",
          "nao",
          "nao",
          "nao",
          "nao",
          "nao",
          "nao",
          "nao",
          "nao",
          "nao",
          "nao",
          "nao",
          "nao",
          "nao",
          "nao",
          "nao",
          "sim",
          "nao",
          "nao",
          "sim",
          "sim",
          "nao",
          "nao",
          "nao",
          "nao",
          "nao",
          "nao",
          "nao",
          "nao",
          "sim",
          "sim",
          "nao",
          "nao",
          "nao",
          "nao",
          "sim",
          "nao",
          "sim",
          "nao",
          "sim",
          "nao",
          "sim",
          "nao",
          "sim",
          "sim",
          "nao",
          "nao",
          "nao",
          "nao",
          "nao",
          "nao",
          "sim",
          "nao",
          "sim",
          "nao",
          "sim",
          "nao",
          "nao",
          "nao",
          "nao",
          "nao",
          "nao",
          "nao",
          "nao",
          "sim",
          "nao",
          "nao",
          "nao",
          "nao",
          "nao",
          "nao",
          "nao",
          "nao",
          "sim",
          "sim",
          "nao",
          "nao",
          "nao",
          "nao",
          "nao",
          "nao",
          "nao",
          "nao",
          "nao",
          "sim",
          "nao",
          "sim",
          "nao",
          "nao",
          "sim",
          "sim",
          "nao",
          "sim",
          "nao",
          "nao",
          "nao",
          "nao",
          "nao",
          "nao",
          "nao",
          "nao",
          "nao",
          "nao",
          "nao",
          "nao",
          "nao",
          "nao",
          "nao",
          "nao",
          "nao",
          "nao",
          "nao",
          "nao",
          "nao",
          "nao",
          "sim",
          "nao",
          "sim",
          "nao",
          "nao",
          "nao",
          "sim",
          "nao",
          "nao",
          "nao",
          "nao",
          "nao",
          "nao",
          "nao",
          "sim",
          "nao",
          "nao",
          "nao",
          "nao",
          "nao",
          "nao",
          "nao",
          "nao",
          "sim",
          "sim",
          "sim",
          "nao",
          "nao",
          "nao",
          "nao",
          "nao",
          "nao",
          "nao",
          "nao",
          "nao",
          "nao",
          "nao",
          "nao",
          "nao",
          "nao",
          "nao",
          "nao",
          "nao",
          "nao",
          "nao",
          "nao",
          "nao",
          "nao",
          "nao",
          "nao",
          "sim",
          "sim",
          "nao",
          "nao",
          "nao",
          "nao",
          "nao",
          "sim",
          "nao",
          "sim",
          "nao",
          "nao",
          "sim",
          "sim",
          "nao",
          "nao",
          "nao",
          "nao",
          "nao",
          "nao",
          "nao",
          "sim",
          "sim",
          "sim",
          "nao",
          "nao",
          "nao",
          "sim",
          "nao",
          "nao",
          "nao",
          "nao",
          "nao",
          "sim",
          "nao",
          "nao",
          "nao",
          "nao",
          "nao",
          "sim",
          "nao",
          "nao",
          "nao",
          "nao",
          "nao",
          "nao",
          "nao",
          "nao",
          "nao",
          "sim",
          "nao",
          "nao",
          "nao",
          "nao",
          "nao",
          "nao",
          "nao",
          "nao",
          "nao",
          "nao",
          "nao",
          "nao",
          "nao",
          "nao",
          "nao",
          "nao",
          "nao",
          "nao",
          "nao",
          "nao",
          "nao",
          "nao",
          "nao",
          "nao",
          "nao",
          "nao",
          "nao",
          "nao",
          "nao",
          "nao",
          "nao",
          "nao",
          "sim",
          "nao",
          "nao",
          "nao",
          "nao",
          "nao",
          "nao",
          "nao",
          "nao",
          "nao",
          "nao",
          "nao",
          "nao",
          "nao",
          "sim",
          "nao",
          "nao",
          "sim",
          "nao",
          "nao",
          "nao",
          "nao",
          "nao",
          "nao",
          "nao",
          "nao",
          "nao",
          "nao",
          "nao",
          "sim",
          "nao",
          "nao",
          "nao",
          "sim",
          "nao",
          "sim",
          "nao",
          "sim",
          "nao",
          "nao",
          "nao",
          "nao",
          "nao",
          "nao",
          "nao",
          "nao",
          "sim",
          "nao",
          "sim",
          "sim",
          "nao",
          "nao",
          "nao",
          "nao",
          "nao",
          "nao",
          "nao",
          "nao",
          "nao",
          "nao",
          "nao",
          "nao",
          "nao",
          "nao",
          "nao",
          "nao",
          "nao",
          "sim",
          "sim",
          "nao",
          "nao",
          "nao",
          "nao",
          "nao",
          "nao",
          "nao",
          "nao",
          "nao",
          "nao",
          "sim",
          "sim"
         ],
         "xaxis": "x",
         "yaxis": "y"
        }
       ],
       "layout": {
        "barmode": "group",
        "legend": {
         "title": {
          "text": "aderencia_investimento"
         },
         "tracegroupgap": 0
        },
        "margin": {
         "t": 60
        },
        "template": {
         "data": {
          "bar": [
           {
            "error_x": {
             "color": "#2a3f5f"
            },
            "error_y": {
             "color": "#2a3f5f"
            },
            "marker": {
             "line": {
              "color": "#E5ECF6",
              "width": 0.5
             },
             "pattern": {
              "fillmode": "overlay",
              "size": 10,
              "solidity": 0.2
             }
            },
            "type": "bar"
           }
          ],
          "barpolar": [
           {
            "marker": {
             "line": {
              "color": "#E5ECF6",
              "width": 0.5
             },
             "pattern": {
              "fillmode": "overlay",
              "size": 10,
              "solidity": 0.2
             }
            },
            "type": "barpolar"
           }
          ],
          "carpet": [
           {
            "aaxis": {
             "endlinecolor": "#2a3f5f",
             "gridcolor": "white",
             "linecolor": "white",
             "minorgridcolor": "white",
             "startlinecolor": "#2a3f5f"
            },
            "baxis": {
             "endlinecolor": "#2a3f5f",
             "gridcolor": "white",
             "linecolor": "white",
             "minorgridcolor": "white",
             "startlinecolor": "#2a3f5f"
            },
            "type": "carpet"
           }
          ],
          "choropleth": [
           {
            "colorbar": {
             "outlinewidth": 0,
             "ticks": ""
            },
            "type": "choropleth"
           }
          ],
          "contour": [
           {
            "colorbar": {
             "outlinewidth": 0,
             "ticks": ""
            },
            "colorscale": [
             [
              0,
              "#0d0887"
             ],
             [
              0.1111111111111111,
              "#46039f"
             ],
             [
              0.2222222222222222,
              "#7201a8"
             ],
             [
              0.3333333333333333,
              "#9c179e"
             ],
             [
              0.4444444444444444,
              "#bd3786"
             ],
             [
              0.5555555555555556,
              "#d8576b"
             ],
             [
              0.6666666666666666,
              "#ed7953"
             ],
             [
              0.7777777777777778,
              "#fb9f3a"
             ],
             [
              0.8888888888888888,
              "#fdca26"
             ],
             [
              1,
              "#f0f921"
             ]
            ],
            "type": "contour"
           }
          ],
          "contourcarpet": [
           {
            "colorbar": {
             "outlinewidth": 0,
             "ticks": ""
            },
            "type": "contourcarpet"
           }
          ],
          "heatmap": [
           {
            "colorbar": {
             "outlinewidth": 0,
             "ticks": ""
            },
            "colorscale": [
             [
              0,
              "#0d0887"
             ],
             [
              0.1111111111111111,
              "#46039f"
             ],
             [
              0.2222222222222222,
              "#7201a8"
             ],
             [
              0.3333333333333333,
              "#9c179e"
             ],
             [
              0.4444444444444444,
              "#bd3786"
             ],
             [
              0.5555555555555556,
              "#d8576b"
             ],
             [
              0.6666666666666666,
              "#ed7953"
             ],
             [
              0.7777777777777778,
              "#fb9f3a"
             ],
             [
              0.8888888888888888,
              "#fdca26"
             ],
             [
              1,
              "#f0f921"
             ]
            ],
            "type": "heatmap"
           }
          ],
          "histogram": [
           {
            "marker": {
             "pattern": {
              "fillmode": "overlay",
              "size": 10,
              "solidity": 0.2
             }
            },
            "type": "histogram"
           }
          ],
          "histogram2d": [
           {
            "colorbar": {
             "outlinewidth": 0,
             "ticks": ""
            },
            "colorscale": [
             [
              0,
              "#0d0887"
             ],
             [
              0.1111111111111111,
              "#46039f"
             ],
             [
              0.2222222222222222,
              "#7201a8"
             ],
             [
              0.3333333333333333,
              "#9c179e"
             ],
             [
              0.4444444444444444,
              "#bd3786"
             ],
             [
              0.5555555555555556,
              "#d8576b"
             ],
             [
              0.6666666666666666,
              "#ed7953"
             ],
             [
              0.7777777777777778,
              "#fb9f3a"
             ],
             [
              0.8888888888888888,
              "#fdca26"
             ],
             [
              1,
              "#f0f921"
             ]
            ],
            "type": "histogram2d"
           }
          ],
          "histogram2dcontour": [
           {
            "colorbar": {
             "outlinewidth": 0,
             "ticks": ""
            },
            "colorscale": [
             [
              0,
              "#0d0887"
             ],
             [
              0.1111111111111111,
              "#46039f"
             ],
             [
              0.2222222222222222,
              "#7201a8"
             ],
             [
              0.3333333333333333,
              "#9c179e"
             ],
             [
              0.4444444444444444,
              "#bd3786"
             ],
             [
              0.5555555555555556,
              "#d8576b"
             ],
             [
              0.6666666666666666,
              "#ed7953"
             ],
             [
              0.7777777777777778,
              "#fb9f3a"
             ],
             [
              0.8888888888888888,
              "#fdca26"
             ],
             [
              1,
              "#f0f921"
             ]
            ],
            "type": "histogram2dcontour"
           }
          ],
          "mesh3d": [
           {
            "colorbar": {
             "outlinewidth": 0,
             "ticks": ""
            },
            "type": "mesh3d"
           }
          ],
          "parcoords": [
           {
            "line": {
             "colorbar": {
              "outlinewidth": 0,
              "ticks": ""
             }
            },
            "type": "parcoords"
           }
          ],
          "pie": [
           {
            "automargin": true,
            "type": "pie"
           }
          ],
          "scatter": [
           {
            "fillpattern": {
             "fillmode": "overlay",
             "size": 10,
             "solidity": 0.2
            },
            "type": "scatter"
           }
          ],
          "scatter3d": [
           {
            "line": {
             "colorbar": {
              "outlinewidth": 0,
              "ticks": ""
             }
            },
            "marker": {
             "colorbar": {
              "outlinewidth": 0,
              "ticks": ""
             }
            },
            "type": "scatter3d"
           }
          ],
          "scattercarpet": [
           {
            "marker": {
             "colorbar": {
              "outlinewidth": 0,
              "ticks": ""
             }
            },
            "type": "scattercarpet"
           }
          ],
          "scattergeo": [
           {
            "marker": {
             "colorbar": {
              "outlinewidth": 0,
              "ticks": ""
             }
            },
            "type": "scattergeo"
           }
          ],
          "scattergl": [
           {
            "marker": {
             "colorbar": {
              "outlinewidth": 0,
              "ticks": ""
             }
            },
            "type": "scattergl"
           }
          ],
          "scattermap": [
           {
            "marker": {
             "colorbar": {
              "outlinewidth": 0,
              "ticks": ""
             }
            },
            "type": "scattermap"
           }
          ],
          "scattermapbox": [
           {
            "marker": {
             "colorbar": {
              "outlinewidth": 0,
              "ticks": ""
             }
            },
            "type": "scattermapbox"
           }
          ],
          "scatterpolar": [
           {
            "marker": {
             "colorbar": {
              "outlinewidth": 0,
              "ticks": ""
             }
            },
            "type": "scatterpolar"
           }
          ],
          "scatterpolargl": [
           {
            "marker": {
             "colorbar": {
              "outlinewidth": 0,
              "ticks": ""
             }
            },
            "type": "scatterpolargl"
           }
          ],
          "scatterternary": [
           {
            "marker": {
             "colorbar": {
              "outlinewidth": 0,
              "ticks": ""
             }
            },
            "type": "scatterternary"
           }
          ],
          "surface": [
           {
            "colorbar": {
             "outlinewidth": 0,
             "ticks": ""
            },
            "colorscale": [
             [
              0,
              "#0d0887"
             ],
             [
              0.1111111111111111,
              "#46039f"
             ],
             [
              0.2222222222222222,
              "#7201a8"
             ],
             [
              0.3333333333333333,
              "#9c179e"
             ],
             [
              0.4444444444444444,
              "#bd3786"
             ],
             [
              0.5555555555555556,
              "#d8576b"
             ],
             [
              0.6666666666666666,
              "#ed7953"
             ],
             [
              0.7777777777777778,
              "#fb9f3a"
             ],
             [
              0.8888888888888888,
              "#fdca26"
             ],
             [
              1,
              "#f0f921"
             ]
            ],
            "type": "surface"
           }
          ],
          "table": [
           {
            "cells": {
             "fill": {
              "color": "#EBF0F8"
             },
             "line": {
              "color": "white"
             }
            },
            "header": {
             "fill": {
              "color": "#C8D4E3"
             },
             "line": {
              "color": "white"
             }
            },
            "type": "table"
           }
          ]
         },
         "layout": {
          "annotationdefaults": {
           "arrowcolor": "#2a3f5f",
           "arrowhead": 0,
           "arrowwidth": 1
          },
          "autotypenumbers": "strict",
          "coloraxis": {
           "colorbar": {
            "outlinewidth": 0,
            "ticks": ""
           }
          },
          "colorscale": {
           "diverging": [
            [
             0,
             "#8e0152"
            ],
            [
             0.1,
             "#c51b7d"
            ],
            [
             0.2,
             "#de77ae"
            ],
            [
             0.3,
             "#f1b6da"
            ],
            [
             0.4,
             "#fde0ef"
            ],
            [
             0.5,
             "#f7f7f7"
            ],
            [
             0.6,
             "#e6f5d0"
            ],
            [
             0.7,
             "#b8e186"
            ],
            [
             0.8,
             "#7fbc41"
            ],
            [
             0.9,
             "#4d9221"
            ],
            [
             1,
             "#276419"
            ]
           ],
           "sequential": [
            [
             0,
             "#0d0887"
            ],
            [
             0.1111111111111111,
             "#46039f"
            ],
            [
             0.2222222222222222,
             "#7201a8"
            ],
            [
             0.3333333333333333,
             "#9c179e"
            ],
            [
             0.4444444444444444,
             "#bd3786"
            ],
            [
             0.5555555555555556,
             "#d8576b"
            ],
            [
             0.6666666666666666,
             "#ed7953"
            ],
            [
             0.7777777777777778,
             "#fb9f3a"
            ],
            [
             0.8888888888888888,
             "#fdca26"
            ],
            [
             1,
             "#f0f921"
            ]
           ],
           "sequentialminus": [
            [
             0,
             "#0d0887"
            ],
            [
             0.1111111111111111,
             "#46039f"
            ],
            [
             0.2222222222222222,
             "#7201a8"
            ],
            [
             0.3333333333333333,
             "#9c179e"
            ],
            [
             0.4444444444444444,
             "#bd3786"
            ],
            [
             0.5555555555555556,
             "#d8576b"
            ],
            [
             0.6666666666666666,
             "#ed7953"
            ],
            [
             0.7777777777777778,
             "#fb9f3a"
            ],
            [
             0.8888888888888888,
             "#fdca26"
            ],
            [
             1,
             "#f0f921"
            ]
           ]
          },
          "colorway": [
           "#636efa",
           "#EF553B",
           "#00cc96",
           "#ab63fa",
           "#FFA15A",
           "#19d3f3",
           "#FF6692",
           "#B6E880",
           "#FF97FF",
           "#FECB52"
          ],
          "font": {
           "color": "#2a3f5f"
          },
          "geo": {
           "bgcolor": "white",
           "lakecolor": "white",
           "landcolor": "#E5ECF6",
           "showlakes": true,
           "showland": true,
           "subunitcolor": "white"
          },
          "hoverlabel": {
           "align": "left"
          },
          "hovermode": "closest",
          "mapbox": {
           "style": "light"
          },
          "paper_bgcolor": "white",
          "plot_bgcolor": "#E5ECF6",
          "polar": {
           "angularaxis": {
            "gridcolor": "white",
            "linecolor": "white",
            "ticks": ""
           },
           "bgcolor": "#E5ECF6",
           "radialaxis": {
            "gridcolor": "white",
            "linecolor": "white",
            "ticks": ""
           }
          },
          "scene": {
           "xaxis": {
            "backgroundcolor": "#E5ECF6",
            "gridcolor": "white",
            "gridwidth": 2,
            "linecolor": "white",
            "showbackground": true,
            "ticks": "",
            "zerolinecolor": "white"
           },
           "yaxis": {
            "backgroundcolor": "#E5ECF6",
            "gridcolor": "white",
            "gridwidth": 2,
            "linecolor": "white",
            "showbackground": true,
            "ticks": "",
            "zerolinecolor": "white"
           },
           "zaxis": {
            "backgroundcolor": "#E5ECF6",
            "gridcolor": "white",
            "gridwidth": 2,
            "linecolor": "white",
            "showbackground": true,
            "ticks": "",
            "zerolinecolor": "white"
           }
          },
          "shapedefaults": {
           "line": {
            "color": "#2a3f5f"
           }
          },
          "ternary": {
           "aaxis": {
            "gridcolor": "white",
            "linecolor": "white",
            "ticks": ""
           },
           "baxis": {
            "gridcolor": "white",
            "linecolor": "white",
            "ticks": ""
           },
           "bgcolor": "#E5ECF6",
           "caxis": {
            "gridcolor": "white",
            "linecolor": "white",
            "ticks": ""
           }
          },
          "title": {
           "x": 0.05
          },
          "xaxis": {
           "automargin": true,
           "gridcolor": "white",
           "linecolor": "white",
           "ticks": "",
           "title": {
            "standoff": 15
           },
           "zerolinecolor": "white",
           "zerolinewidth": 2
          },
          "yaxis": {
           "automargin": true,
           "gridcolor": "white",
           "linecolor": "white",
           "ticks": "",
           "title": {
            "standoff": 15
           },
           "zerolinecolor": "white",
           "zerolinewidth": 2
          }
         }
        },
        "xaxis": {
         "anchor": "y",
         "domain": [
          0,
          1
         ],
         "title": {
          "text": "fez_emprestimo"
         }
        },
        "yaxis": {
         "anchor": "x",
         "domain": [
          0,
          1
         ],
         "title": {
          "text": "count"
         }
        }
       }
      }
     },
     "metadata": {},
     "output_type": "display_data"
    }
   ],
   "source": [
    "px.histogram(df, x='fez_emprestimo', text_auto=True, color='aderencia_investimento', barmode='group')"
   ]
  },
  {
   "cell_type": "markdown",
   "metadata": {},
   "source": [
    "### Variáveis numéricas"
   ]
  },
  {
   "cell_type": "code",
   "execution_count": 75,
   "metadata": {},
   "outputs": [
    {
     "data": {
      "application/vnd.plotly.v1+json": {
       "config": {
        "plotlyServerURL": "https://plot.ly"
       },
       "data": [
        {
         "alignmentgroup": "True",
         "hovertemplate": "aderencia_investimento=sim<br>idade=%{x}<extra></extra>",
         "legendgroup": "sim",
         "marker": {
          "color": "#636efa"
         },
         "name": "sim",
         "notched": false,
         "offsetgroup": "sim",
         "orientation": "h",
         "showlegend": true,
         "type": "box",
         "x": {
          "bdata": "LSo6MhgiISFQLh4vHi8gRx8eNDMiOyMWHDwrIzYgMSsUMTAxMSAmHxsgIiEiIEQ8IBUhJzYqLR9TIi8wHSEfOiUcMTkiHk4dOzAxSy5PHCsaQj1INTo0PiU3ISMoGTElSiMhJy8iMy4kKz0fNx4xICQiMSYtNTQrPR87HiMmNS8WIxs/HC8bHS4sICZHSSkmGS5NHjAZIDUzJRwxEzIpUDQfLhwpGy4sKRwsOSseJSQ6NiAsGDc1IyIfIDshHi40LTcgITgiKyApKjU2FyBLJSckJDUjIDFNKS1DLjAbNj8bIDAbITEpI1cgNR8eODEkHCQhICwxIz0kLiovMDwuQjceIigoOzInJS8rJiYjGRkfMi8dOy5LJT8gIjAbITc8LiEeLRc7LB0cIh0iMisvRyIcIDUxIUAZPBYgIh8dHzM9Ux0sJh0uLCkrJzslKCYsKi02HCQ7OyQaGiNAJjsqPDM+GyIaNSQlHiAoKxstExksJhslIykcOCQdITccVCBJTTQ+OCkpHzgnKBwkKh8ZIzseNSAmIhoyJiYiRS8jJyImHTY3MCIZNCgkGCEiRBsvJyQpIiM5IBw3KSM8HCMbSiciOBodISUqPTIdJCAfNS0lNSgbJCIfNz0tLTE3KS8qJSAZJidPGiEvGDUoHiYgJSQ0Ix4qHQ==",
          "dtype": "i1"
         },
         "x0": " ",
         "xaxis": "x",
         "y0": " ",
         "yaxis": "y"
        },
        {
         "alignmentgroup": "True",
         "hovertemplate": "aderencia_investimento=nao<br>idade=%{x}<extra></extra>",
         "legendgroup": "nao",
         "marker": {
          "color": "#EF553B"
         },
         "name": "nao",
         "notched": false,
         "offsetgroup": "nao",
         "orientation": "h",
         "showlegend": true,
         "type": "box",
         "x": {
          "bdata": "FzUeJx4nIiYwJzUmGCw1KRs6My8iKCw3JiY2Kx8kISY5HyIdJikiJTI3LSMxJCkwMTciOSYoLT05TCEgIiUiHy8fIx8jKCYxKCIyKCsnLRoqIUseIDsmNCQyGy0oMCQxJCchHiAdJCkmJCoeHx4bJSI7IyocNzIhIDU8IjYqJCFDIkYjIj0vKBwhNCseOycgKjkhJSwtKRozLi0uKR0pOyIeKiEeJzsnISo0ISQoLTwkNSIxKy4nKSwpGx8ZIDgeHR8lOjkhMyo2HCMuGjsyJDQgNTQpKCIxIhwgIiQ4Kh0tJS4oKiI3ITMqHjIpICA1JCEhOjErUDceGyQjJCAnMiQ0JS8nKRckOjQXIi8yJh8oKDAnIik3OygcJCkbIS8sHxwiHx8iISU6JRwiIhkjJzoaIB8fLSVTMzQdHiMeGi0pFikhKSIhHTEzKCofHx8uIiYbOCElHio0MS8uMyo7GzwmHB8mNzo1HjEZLhwxKzgmISAbHTscICw/MywmKCEkIzggIzkfJzksJjwmJSIxKC4dHxcwJiEqMDAtJyI7KB8hOTokMiItJDUkHB4hKyYgHi0eNSsxIyQtHigoIiQqNCocJykuKCE2MyE4Kx0rOh05NioiHx4fLyweITklJDMrOzYgLSVFKx86OCIvHycmLjkbOho6JSkxJSsiNSEkGiklISQmITAhGyEhITshJC4aKC4aJyQnJyMfLTAvISkfMjclJCQ8ICMgJzI0IyMrNxofHiYwKyMlOikxMTE1MBwkKiQlHCpFLS4oMDQ0ICAfIiA4IicsJyoeNiYjHiAkKCkfOjcnJiIqIx02MCAuMzgjKi46LDY1KSoZRjgjJjIeHickIjUbKjM5OycmLSktNCYoHSMrIilMHiAnJjsvLDQzICE4Izs6HDgqOiAhNyEwPTEkMx4bIRwiLTI2OBkvMxwhJyQlIxopKCQjHx4vLzghHx4eMyUiNikjMSUxOh8qITMkOSIqHisqIi4hGy4fQjkmLRwhIyA6IholKBomOA==",
          "dtype": "i1"
         },
         "x0": " ",
         "xaxis": "x",
         "y0": " ",
         "yaxis": "y"
        }
       ],
       "layout": {
        "boxmode": "group",
        "legend": {
         "title": {
          "text": "aderencia_investimento"
         },
         "tracegroupgap": 0
        },
        "margin": {
         "t": 60
        },
        "template": {
         "data": {
          "bar": [
           {
            "error_x": {
             "color": "#2a3f5f"
            },
            "error_y": {
             "color": "#2a3f5f"
            },
            "marker": {
             "line": {
              "color": "#E5ECF6",
              "width": 0.5
             },
             "pattern": {
              "fillmode": "overlay",
              "size": 10,
              "solidity": 0.2
             }
            },
            "type": "bar"
           }
          ],
          "barpolar": [
           {
            "marker": {
             "line": {
              "color": "#E5ECF6",
              "width": 0.5
             },
             "pattern": {
              "fillmode": "overlay",
              "size": 10,
              "solidity": 0.2
             }
            },
            "type": "barpolar"
           }
          ],
          "carpet": [
           {
            "aaxis": {
             "endlinecolor": "#2a3f5f",
             "gridcolor": "white",
             "linecolor": "white",
             "minorgridcolor": "white",
             "startlinecolor": "#2a3f5f"
            },
            "baxis": {
             "endlinecolor": "#2a3f5f",
             "gridcolor": "white",
             "linecolor": "white",
             "minorgridcolor": "white",
             "startlinecolor": "#2a3f5f"
            },
            "type": "carpet"
           }
          ],
          "choropleth": [
           {
            "colorbar": {
             "outlinewidth": 0,
             "ticks": ""
            },
            "type": "choropleth"
           }
          ],
          "contour": [
           {
            "colorbar": {
             "outlinewidth": 0,
             "ticks": ""
            },
            "colorscale": [
             [
              0,
              "#0d0887"
             ],
             [
              0.1111111111111111,
              "#46039f"
             ],
             [
              0.2222222222222222,
              "#7201a8"
             ],
             [
              0.3333333333333333,
              "#9c179e"
             ],
             [
              0.4444444444444444,
              "#bd3786"
             ],
             [
              0.5555555555555556,
              "#d8576b"
             ],
             [
              0.6666666666666666,
              "#ed7953"
             ],
             [
              0.7777777777777778,
              "#fb9f3a"
             ],
             [
              0.8888888888888888,
              "#fdca26"
             ],
             [
              1,
              "#f0f921"
             ]
            ],
            "type": "contour"
           }
          ],
          "contourcarpet": [
           {
            "colorbar": {
             "outlinewidth": 0,
             "ticks": ""
            },
            "type": "contourcarpet"
           }
          ],
          "heatmap": [
           {
            "colorbar": {
             "outlinewidth": 0,
             "ticks": ""
            },
            "colorscale": [
             [
              0,
              "#0d0887"
             ],
             [
              0.1111111111111111,
              "#46039f"
             ],
             [
              0.2222222222222222,
              "#7201a8"
             ],
             [
              0.3333333333333333,
              "#9c179e"
             ],
             [
              0.4444444444444444,
              "#bd3786"
             ],
             [
              0.5555555555555556,
              "#d8576b"
             ],
             [
              0.6666666666666666,
              "#ed7953"
             ],
             [
              0.7777777777777778,
              "#fb9f3a"
             ],
             [
              0.8888888888888888,
              "#fdca26"
             ],
             [
              1,
              "#f0f921"
             ]
            ],
            "type": "heatmap"
           }
          ],
          "histogram": [
           {
            "marker": {
             "pattern": {
              "fillmode": "overlay",
              "size": 10,
              "solidity": 0.2
             }
            },
            "type": "histogram"
           }
          ],
          "histogram2d": [
           {
            "colorbar": {
             "outlinewidth": 0,
             "ticks": ""
            },
            "colorscale": [
             [
              0,
              "#0d0887"
             ],
             [
              0.1111111111111111,
              "#46039f"
             ],
             [
              0.2222222222222222,
              "#7201a8"
             ],
             [
              0.3333333333333333,
              "#9c179e"
             ],
             [
              0.4444444444444444,
              "#bd3786"
             ],
             [
              0.5555555555555556,
              "#d8576b"
             ],
             [
              0.6666666666666666,
              "#ed7953"
             ],
             [
              0.7777777777777778,
              "#fb9f3a"
             ],
             [
              0.8888888888888888,
              "#fdca26"
             ],
             [
              1,
              "#f0f921"
             ]
            ],
            "type": "histogram2d"
           }
          ],
          "histogram2dcontour": [
           {
            "colorbar": {
             "outlinewidth": 0,
             "ticks": ""
            },
            "colorscale": [
             [
              0,
              "#0d0887"
             ],
             [
              0.1111111111111111,
              "#46039f"
             ],
             [
              0.2222222222222222,
              "#7201a8"
             ],
             [
              0.3333333333333333,
              "#9c179e"
             ],
             [
              0.4444444444444444,
              "#bd3786"
             ],
             [
              0.5555555555555556,
              "#d8576b"
             ],
             [
              0.6666666666666666,
              "#ed7953"
             ],
             [
              0.7777777777777778,
              "#fb9f3a"
             ],
             [
              0.8888888888888888,
              "#fdca26"
             ],
             [
              1,
              "#f0f921"
             ]
            ],
            "type": "histogram2dcontour"
           }
          ],
          "mesh3d": [
           {
            "colorbar": {
             "outlinewidth": 0,
             "ticks": ""
            },
            "type": "mesh3d"
           }
          ],
          "parcoords": [
           {
            "line": {
             "colorbar": {
              "outlinewidth": 0,
              "ticks": ""
             }
            },
            "type": "parcoords"
           }
          ],
          "pie": [
           {
            "automargin": true,
            "type": "pie"
           }
          ],
          "scatter": [
           {
            "fillpattern": {
             "fillmode": "overlay",
             "size": 10,
             "solidity": 0.2
            },
            "type": "scatter"
           }
          ],
          "scatter3d": [
           {
            "line": {
             "colorbar": {
              "outlinewidth": 0,
              "ticks": ""
             }
            },
            "marker": {
             "colorbar": {
              "outlinewidth": 0,
              "ticks": ""
             }
            },
            "type": "scatter3d"
           }
          ],
          "scattercarpet": [
           {
            "marker": {
             "colorbar": {
              "outlinewidth": 0,
              "ticks": ""
             }
            },
            "type": "scattercarpet"
           }
          ],
          "scattergeo": [
           {
            "marker": {
             "colorbar": {
              "outlinewidth": 0,
              "ticks": ""
             }
            },
            "type": "scattergeo"
           }
          ],
          "scattergl": [
           {
            "marker": {
             "colorbar": {
              "outlinewidth": 0,
              "ticks": ""
             }
            },
            "type": "scattergl"
           }
          ],
          "scattermap": [
           {
            "marker": {
             "colorbar": {
              "outlinewidth": 0,
              "ticks": ""
             }
            },
            "type": "scattermap"
           }
          ],
          "scattermapbox": [
           {
            "marker": {
             "colorbar": {
              "outlinewidth": 0,
              "ticks": ""
             }
            },
            "type": "scattermapbox"
           }
          ],
          "scatterpolar": [
           {
            "marker": {
             "colorbar": {
              "outlinewidth": 0,
              "ticks": ""
             }
            },
            "type": "scatterpolar"
           }
          ],
          "scatterpolargl": [
           {
            "marker": {
             "colorbar": {
              "outlinewidth": 0,
              "ticks": ""
             }
            },
            "type": "scatterpolargl"
           }
          ],
          "scatterternary": [
           {
            "marker": {
             "colorbar": {
              "outlinewidth": 0,
              "ticks": ""
             }
            },
            "type": "scatterternary"
           }
          ],
          "surface": [
           {
            "colorbar": {
             "outlinewidth": 0,
             "ticks": ""
            },
            "colorscale": [
             [
              0,
              "#0d0887"
             ],
             [
              0.1111111111111111,
              "#46039f"
             ],
             [
              0.2222222222222222,
              "#7201a8"
             ],
             [
              0.3333333333333333,
              "#9c179e"
             ],
             [
              0.4444444444444444,
              "#bd3786"
             ],
             [
              0.5555555555555556,
              "#d8576b"
             ],
             [
              0.6666666666666666,
              "#ed7953"
             ],
             [
              0.7777777777777778,
              "#fb9f3a"
             ],
             [
              0.8888888888888888,
              "#fdca26"
             ],
             [
              1,
              "#f0f921"
             ]
            ],
            "type": "surface"
           }
          ],
          "table": [
           {
            "cells": {
             "fill": {
              "color": "#EBF0F8"
             },
             "line": {
              "color": "white"
             }
            },
            "header": {
             "fill": {
              "color": "#C8D4E3"
             },
             "line": {
              "color": "white"
             }
            },
            "type": "table"
           }
          ]
         },
         "layout": {
          "annotationdefaults": {
           "arrowcolor": "#2a3f5f",
           "arrowhead": 0,
           "arrowwidth": 1
          },
          "autotypenumbers": "strict",
          "coloraxis": {
           "colorbar": {
            "outlinewidth": 0,
            "ticks": ""
           }
          },
          "colorscale": {
           "diverging": [
            [
             0,
             "#8e0152"
            ],
            [
             0.1,
             "#c51b7d"
            ],
            [
             0.2,
             "#de77ae"
            ],
            [
             0.3,
             "#f1b6da"
            ],
            [
             0.4,
             "#fde0ef"
            ],
            [
             0.5,
             "#f7f7f7"
            ],
            [
             0.6,
             "#e6f5d0"
            ],
            [
             0.7,
             "#b8e186"
            ],
            [
             0.8,
             "#7fbc41"
            ],
            [
             0.9,
             "#4d9221"
            ],
            [
             1,
             "#276419"
            ]
           ],
           "sequential": [
            [
             0,
             "#0d0887"
            ],
            [
             0.1111111111111111,
             "#46039f"
            ],
            [
             0.2222222222222222,
             "#7201a8"
            ],
            [
             0.3333333333333333,
             "#9c179e"
            ],
            [
             0.4444444444444444,
             "#bd3786"
            ],
            [
             0.5555555555555556,
             "#d8576b"
            ],
            [
             0.6666666666666666,
             "#ed7953"
            ],
            [
             0.7777777777777778,
             "#fb9f3a"
            ],
            [
             0.8888888888888888,
             "#fdca26"
            ],
            [
             1,
             "#f0f921"
            ]
           ],
           "sequentialminus": [
            [
             0,
             "#0d0887"
            ],
            [
             0.1111111111111111,
             "#46039f"
            ],
            [
             0.2222222222222222,
             "#7201a8"
            ],
            [
             0.3333333333333333,
             "#9c179e"
            ],
            [
             0.4444444444444444,
             "#bd3786"
            ],
            [
             0.5555555555555556,
             "#d8576b"
            ],
            [
             0.6666666666666666,
             "#ed7953"
            ],
            [
             0.7777777777777778,
             "#fb9f3a"
            ],
            [
             0.8888888888888888,
             "#fdca26"
            ],
            [
             1,
             "#f0f921"
            ]
           ]
          },
          "colorway": [
           "#636efa",
           "#EF553B",
           "#00cc96",
           "#ab63fa",
           "#FFA15A",
           "#19d3f3",
           "#FF6692",
           "#B6E880",
           "#FF97FF",
           "#FECB52"
          ],
          "font": {
           "color": "#2a3f5f"
          },
          "geo": {
           "bgcolor": "white",
           "lakecolor": "white",
           "landcolor": "#E5ECF6",
           "showlakes": true,
           "showland": true,
           "subunitcolor": "white"
          },
          "hoverlabel": {
           "align": "left"
          },
          "hovermode": "closest",
          "mapbox": {
           "style": "light"
          },
          "paper_bgcolor": "white",
          "plot_bgcolor": "#E5ECF6",
          "polar": {
           "angularaxis": {
            "gridcolor": "white",
            "linecolor": "white",
            "ticks": ""
           },
           "bgcolor": "#E5ECF6",
           "radialaxis": {
            "gridcolor": "white",
            "linecolor": "white",
            "ticks": ""
           }
          },
          "scene": {
           "xaxis": {
            "backgroundcolor": "#E5ECF6",
            "gridcolor": "white",
            "gridwidth": 2,
            "linecolor": "white",
            "showbackground": true,
            "ticks": "",
            "zerolinecolor": "white"
           },
           "yaxis": {
            "backgroundcolor": "#E5ECF6",
            "gridcolor": "white",
            "gridwidth": 2,
            "linecolor": "white",
            "showbackground": true,
            "ticks": "",
            "zerolinecolor": "white"
           },
           "zaxis": {
            "backgroundcolor": "#E5ECF6",
            "gridcolor": "white",
            "gridwidth": 2,
            "linecolor": "white",
            "showbackground": true,
            "ticks": "",
            "zerolinecolor": "white"
           }
          },
          "shapedefaults": {
           "line": {
            "color": "#2a3f5f"
           }
          },
          "ternary": {
           "aaxis": {
            "gridcolor": "white",
            "linecolor": "white",
            "ticks": ""
           },
           "baxis": {
            "gridcolor": "white",
            "linecolor": "white",
            "ticks": ""
           },
           "bgcolor": "#E5ECF6",
           "caxis": {
            "gridcolor": "white",
            "linecolor": "white",
            "ticks": ""
           }
          },
          "title": {
           "x": 0.05
          },
          "xaxis": {
           "automargin": true,
           "gridcolor": "white",
           "linecolor": "white",
           "ticks": "",
           "title": {
            "standoff": 15
           },
           "zerolinecolor": "white",
           "zerolinewidth": 2
          },
          "yaxis": {
           "automargin": true,
           "gridcolor": "white",
           "linecolor": "white",
           "ticks": "",
           "title": {
            "standoff": 15
           },
           "zerolinecolor": "white",
           "zerolinewidth": 2
          }
         }
        },
        "xaxis": {
         "anchor": "y",
         "domain": [
          0,
          1
         ],
         "title": {
          "text": "idade"
         }
        },
        "yaxis": {
         "anchor": "x",
         "domain": [
          0,
          1
         ]
        }
       }
      }
     },
     "metadata": {},
     "output_type": "display_data"
    }
   ],
   "source": [
    "px.box(df, x='idade', color='aderencia_investimento')"
   ]
  },
  {
   "cell_type": "code",
   "execution_count": 76,
   "metadata": {},
   "outputs": [
    {
     "data": {
      "application/vnd.plotly.v1+json": {
       "config": {
        "plotlyServerURL": "https://plot.ly"
       },
       "data": [
        {
         "alignmentgroup": "True",
         "hovertemplate": "aderencia_investimento=sim<br>saldo=%{x}<extra></extra>",
         "legendgroup": "sim",
         "marker": {
          "color": "#636efa"
         },
         "name": "sim",
         "notched": false,
         "offsetgroup": "sim",
         "orientation": "h",
         "showlegend": true,
         "type": "box",
         "x": {
          "bdata": "8gAJBWYFHQ2uAN4TiwBrCXAgcAJmADIRYQiPBHYAjDecAHf+TwF1ADkFAwHxBLMCAABuAYQB1gF7COYAlwCgBvYBYgjgAa8Cjg5/CWwN0wzVAHEHEgAAAF4Cy/9dEEEApgK4CV8PFwSeCHQBAAg0EEkE9wB+AI8EpQXeAUUBzgEAAMYA9wcUBOoLMQHlAOz/BAl7BHkD4g6m/2whugFwCP8AzgDZA/sCBAc1AkH/BgDuAHoNTwCYAKsF+AIYDiMFmQMAAEcMmhuVAUYJjwYkAoAL1QwAEvAJTQYuATr+KwNtBNcACwLvCZoBGQA2/IQA5QNVaQIEyQAAAM0IaABwDrgJYgo9/0APGgbhAIEDxwCcAg4AKQgO/zESHANuBsQHSwERAQAAAgAxAwgANwFeACkB8hPjAPMCLgGwBH7+AADDAHwCFgCrACcAIgNwAc0A0ALjEfQAAACVBZYHDv/vAfUDAAAmANgKNgOJ/v0CihvFAJYBQQvVFoIBsANGAJECTAPQAwAAPQBK+84BSw3kAL4UURMyAWcgBABsAj0FigmGA/ELDADLAUoFAgDTBHoeSwDiFL0CEQU/EZ4AAADaAQAAagM4ApUOhQDFAOcANA7mAJgAGwAzBTkCPw0rDZkEUAAJAIQF9wLiG0AB1AKnBFYRyPw4BMMEEAdqAbgInAcaAqgBAAAAAAMAAAAMEF8C6xSPDhgFUQLiAJwRKAMwAcgEhw1cDhUJZhAEALsO4AHSBSkAvwIDEOkBYP4GDe0BOQARAcUEZQdpBN0HxxM8ApkA3wEuBOUMyv+IAM4EIgtxC+QKORKZAjcDXwBOA/kBlw6QDYUAogIZMbUBKwpfANIZqQFxAJYSRgDHASwCIgSYAmgAywoAAFEO7/8ZAK4KCf/MAGwDYQbqAQEAzCXnBZwCifzSAyYG/Aq/BqgD/isMJEMHwwE0BCYBXgnM/okB9v0AACwHuwLGAsn+ZwBXAY8GSBqrFEkPCABGAQUCFASFB4wDJQgcJokSfwJzAxcBMxInCAAA1gSeF/wDywG2AqoBZACoAO8BAQHrAgoAAABfAe8ADwDoCW8CVhVDBVUBqgAAAAX/YAjMB5sL/whFAGgAVADF/hsKGxxWCg7//QlRBcUALAK5AgMGdUs2AAAArwKrC60TnQORAEcLnwEAACwGKgQAB6AQ0v8AAL8C7w8DAAAALQBuAgIElQL5D7UEgBcNAOIB4AGKFVwA3AI7ALoH1AMAANAOGQQQAOYGWgJlCwAAAABXBsz+zv7RBOIDAABZBsoJrwT7Aq0BqgAoBAIJlBEAALn8OwGiDHkDQgCdA1MARhcj/osIEwA=",
          "dtype": "i2"
         },
         "x0": " ",
         "xaxis": "x",
         "y0": " ",
         "yaxis": "y"
        },
        {
         "alignmentgroup": "True",
         "hovertemplate": "aderencia_investimento=nao<br>saldo=%{x}<extra></extra>",
         "legendgroup": "nao",
         "marker": {
          "color": "#EF553B"
         },
         "name": "nao",
         "notched": false,
         "offsetgroup": "nao",
         "orientation": "h",
         "showlegend": true,
         "type": "box",
         "x": {
          "bdata": "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",
          "dtype": "i2"
         },
         "x0": " ",
         "xaxis": "x",
         "y0": " ",
         "yaxis": "y"
        }
       ],
       "layout": {
        "boxmode": "group",
        "legend": {
         "title": {
          "text": "aderencia_investimento"
         },
         "tracegroupgap": 0
        },
        "margin": {
         "t": 60
        },
        "template": {
         "data": {
          "bar": [
           {
            "error_x": {
             "color": "#2a3f5f"
            },
            "error_y": {
             "color": "#2a3f5f"
            },
            "marker": {
             "line": {
              "color": "#E5ECF6",
              "width": 0.5
             },
             "pattern": {
              "fillmode": "overlay",
              "size": 10,
              "solidity": 0.2
             }
            },
            "type": "bar"
           }
          ],
          "barpolar": [
           {
            "marker": {
             "line": {
              "color": "#E5ECF6",
              "width": 0.5
             },
             "pattern": {
              "fillmode": "overlay",
              "size": 10,
              "solidity": 0.2
             }
            },
            "type": "barpolar"
           }
          ],
          "carpet": [
           {
            "aaxis": {
             "endlinecolor": "#2a3f5f",
             "gridcolor": "white",
             "linecolor": "white",
             "minorgridcolor": "white",
             "startlinecolor": "#2a3f5f"
            },
            "baxis": {
             "endlinecolor": "#2a3f5f",
             "gridcolor": "white",
             "linecolor": "white",
             "minorgridcolor": "white",
             "startlinecolor": "#2a3f5f"
            },
            "type": "carpet"
           }
          ],
          "choropleth": [
           {
            "colorbar": {
             "outlinewidth": 0,
             "ticks": ""
            },
            "type": "choropleth"
           }
          ],
          "contour": [
           {
            "colorbar": {
             "outlinewidth": 0,
             "ticks": ""
            },
            "colorscale": [
             [
              0,
              "#0d0887"
             ],
             [
              0.1111111111111111,
              "#46039f"
             ],
             [
              0.2222222222222222,
              "#7201a8"
             ],
             [
              0.3333333333333333,
              "#9c179e"
             ],
             [
              0.4444444444444444,
              "#bd3786"
             ],
             [
              0.5555555555555556,
              "#d8576b"
             ],
             [
              0.6666666666666666,
              "#ed7953"
             ],
             [
              0.7777777777777778,
              "#fb9f3a"
             ],
             [
              0.8888888888888888,
              "#fdca26"
             ],
             [
              1,
              "#f0f921"
             ]
            ],
            "type": "contour"
           }
          ],
          "contourcarpet": [
           {
            "colorbar": {
             "outlinewidth": 0,
             "ticks": ""
            },
            "type": "contourcarpet"
           }
          ],
          "heatmap": [
           {
            "colorbar": {
             "outlinewidth": 0,
             "ticks": ""
            },
            "colorscale": [
             [
              0,
              "#0d0887"
             ],
             [
              0.1111111111111111,
              "#46039f"
             ],
             [
              0.2222222222222222,
              "#7201a8"
             ],
             [
              0.3333333333333333,
              "#9c179e"
             ],
             [
              0.4444444444444444,
              "#bd3786"
             ],
             [
              0.5555555555555556,
              "#d8576b"
             ],
             [
              0.6666666666666666,
              "#ed7953"
             ],
             [
              0.7777777777777778,
              "#fb9f3a"
             ],
             [
              0.8888888888888888,
              "#fdca26"
             ],
             [
              1,
              "#f0f921"
             ]
            ],
            "type": "heatmap"
           }
          ],
          "histogram": [
           {
            "marker": {
             "pattern": {
              "fillmode": "overlay",
              "size": 10,
              "solidity": 0.2
             }
            },
            "type": "histogram"
           }
          ],
          "histogram2d": [
           {
            "colorbar": {
             "outlinewidth": 0,
             "ticks": ""
            },
            "colorscale": [
             [
              0,
              "#0d0887"
             ],
             [
              0.1111111111111111,
              "#46039f"
             ],
             [
              0.2222222222222222,
              "#7201a8"
             ],
             [
              0.3333333333333333,
              "#9c179e"
             ],
             [
              0.4444444444444444,
              "#bd3786"
             ],
             [
              0.5555555555555556,
              "#d8576b"
             ],
             [
              0.6666666666666666,
              "#ed7953"
             ],
             [
              0.7777777777777778,
              "#fb9f3a"
             ],
             [
              0.8888888888888888,
              "#fdca26"
             ],
             [
              1,
              "#f0f921"
             ]
            ],
            "type": "histogram2d"
           }
          ],
          "histogram2dcontour": [
           {
            "colorbar": {
             "outlinewidth": 0,
             "ticks": ""
            },
            "colorscale": [
             [
              0,
              "#0d0887"
             ],
             [
              0.1111111111111111,
              "#46039f"
             ],
             [
              0.2222222222222222,
              "#7201a8"
             ],
             [
              0.3333333333333333,
              "#9c179e"
             ],
             [
              0.4444444444444444,
              "#bd3786"
             ],
             [
              0.5555555555555556,
              "#d8576b"
             ],
             [
              0.6666666666666666,
              "#ed7953"
             ],
             [
              0.7777777777777778,
              "#fb9f3a"
             ],
             [
              0.8888888888888888,
              "#fdca26"
             ],
             [
              1,
              "#f0f921"
             ]
            ],
            "type": "histogram2dcontour"
           }
          ],
          "mesh3d": [
           {
            "colorbar": {
             "outlinewidth": 0,
             "ticks": ""
            },
            "type": "mesh3d"
           }
          ],
          "parcoords": [
           {
            "line": {
             "colorbar": {
              "outlinewidth": 0,
              "ticks": ""
             }
            },
            "type": "parcoords"
           }
          ],
          "pie": [
           {
            "automargin": true,
            "type": "pie"
           }
          ],
          "scatter": [
           {
            "fillpattern": {
             "fillmode": "overlay",
             "size": 10,
             "solidity": 0.2
            },
            "type": "scatter"
           }
          ],
          "scatter3d": [
           {
            "line": {
             "colorbar": {
              "outlinewidth": 0,
              "ticks": ""
             }
            },
            "marker": {
             "colorbar": {
              "outlinewidth": 0,
              "ticks": ""
             }
            },
            "type": "scatter3d"
           }
          ],
          "scattercarpet": [
           {
            "marker": {
             "colorbar": {
              "outlinewidth": 0,
              "ticks": ""
             }
            },
            "type": "scattercarpet"
           }
          ],
          "scattergeo": [
           {
            "marker": {
             "colorbar": {
              "outlinewidth": 0,
              "ticks": ""
             }
            },
            "type": "scattergeo"
           }
          ],
          "scattergl": [
           {
            "marker": {
             "colorbar": {
              "outlinewidth": 0,
              "ticks": ""
             }
            },
            "type": "scattergl"
           }
          ],
          "scattermap": [
           {
            "marker": {
             "colorbar": {
              "outlinewidth": 0,
              "ticks": ""
             }
            },
            "type": "scattermap"
           }
          ],
          "scattermapbox": [
           {
            "marker": {
             "colorbar": {
              "outlinewidth": 0,
              "ticks": ""
             }
            },
            "type": "scattermapbox"
           }
          ],
          "scatterpolar": [
           {
            "marker": {
             "colorbar": {
              "outlinewidth": 0,
              "ticks": ""
             }
            },
            "type": "scatterpolar"
           }
          ],
          "scatterpolargl": [
           {
            "marker": {
             "colorbar": {
              "outlinewidth": 0,
              "ticks": ""
             }
            },
            "type": "scatterpolargl"
           }
          ],
          "scatterternary": [
           {
            "marker": {
             "colorbar": {
              "outlinewidth": 0,
              "ticks": ""
             }
            },
            "type": "scatterternary"
           }
          ],
          "surface": [
           {
            "colorbar": {
             "outlinewidth": 0,
             "ticks": ""
            },
            "colorscale": [
             [
              0,
              "#0d0887"
             ],
             [
              0.1111111111111111,
              "#46039f"
             ],
             [
              0.2222222222222222,
              "#7201a8"
             ],
             [
              0.3333333333333333,
              "#9c179e"
             ],
             [
              0.4444444444444444,
              "#bd3786"
             ],
             [
              0.5555555555555556,
              "#d8576b"
             ],
             [
              0.6666666666666666,
              "#ed7953"
             ],
             [
              0.7777777777777778,
              "#fb9f3a"
             ],
             [
              0.8888888888888888,
              "#fdca26"
             ],
             [
              1,
              "#f0f921"
             ]
            ],
            "type": "surface"
           }
          ],
          "table": [
           {
            "cells": {
             "fill": {
              "color": "#EBF0F8"
             },
             "line": {
              "color": "white"
             }
            },
            "header": {
             "fill": {
              "color": "#C8D4E3"
             },
             "line": {
              "color": "white"
             }
            },
            "type": "table"
           }
          ]
         },
         "layout": {
          "annotationdefaults": {
           "arrowcolor": "#2a3f5f",
           "arrowhead": 0,
           "arrowwidth": 1
          },
          "autotypenumbers": "strict",
          "coloraxis": {
           "colorbar": {
            "outlinewidth": 0,
            "ticks": ""
           }
          },
          "colorscale": {
           "diverging": [
            [
             0,
             "#8e0152"
            ],
            [
             0.1,
             "#c51b7d"
            ],
            [
             0.2,
             "#de77ae"
            ],
            [
             0.3,
             "#f1b6da"
            ],
            [
             0.4,
             "#fde0ef"
            ],
            [
             0.5,
             "#f7f7f7"
            ],
            [
             0.6,
             "#e6f5d0"
            ],
            [
             0.7,
             "#b8e186"
            ],
            [
             0.8,
             "#7fbc41"
            ],
            [
             0.9,
             "#4d9221"
            ],
            [
             1,
             "#276419"
            ]
           ],
           "sequential": [
            [
             0,
             "#0d0887"
            ],
            [
             0.1111111111111111,
             "#46039f"
            ],
            [
             0.2222222222222222,
             "#7201a8"
            ],
            [
             0.3333333333333333,
             "#9c179e"
            ],
            [
             0.4444444444444444,
             "#bd3786"
            ],
            [
             0.5555555555555556,
             "#d8576b"
            ],
            [
             0.6666666666666666,
             "#ed7953"
            ],
            [
             0.7777777777777778,
             "#fb9f3a"
            ],
            [
             0.8888888888888888,
             "#fdca26"
            ],
            [
             1,
             "#f0f921"
            ]
           ],
           "sequentialminus": [
            [
             0,
             "#0d0887"
            ],
            [
             0.1111111111111111,
             "#46039f"
            ],
            [
             0.2222222222222222,
             "#7201a8"
            ],
            [
             0.3333333333333333,
             "#9c179e"
            ],
            [
             0.4444444444444444,
             "#bd3786"
            ],
            [
             0.5555555555555556,
             "#d8576b"
            ],
            [
             0.6666666666666666,
             "#ed7953"
            ],
            [
             0.7777777777777778,
             "#fb9f3a"
            ],
            [
             0.8888888888888888,
             "#fdca26"
            ],
            [
             1,
             "#f0f921"
            ]
           ]
          },
          "colorway": [
           "#636efa",
           "#EF553B",
           "#00cc96",
           "#ab63fa",
           "#FFA15A",
           "#19d3f3",
           "#FF6692",
           "#B6E880",
           "#FF97FF",
           "#FECB52"
          ],
          "font": {
           "color": "#2a3f5f"
          },
          "geo": {
           "bgcolor": "white",
           "lakecolor": "white",
           "landcolor": "#E5ECF6",
           "showlakes": true,
           "showland": true,
           "subunitcolor": "white"
          },
          "hoverlabel": {
           "align": "left"
          },
          "hovermode": "closest",
          "mapbox": {
           "style": "light"
          },
          "paper_bgcolor": "white",
          "plot_bgcolor": "#E5ECF6",
          "polar": {
           "angularaxis": {
            "gridcolor": "white",
            "linecolor": "white",
            "ticks": ""
           },
           "bgcolor": "#E5ECF6",
           "radialaxis": {
            "gridcolor": "white",
            "linecolor": "white",
            "ticks": ""
           }
          },
          "scene": {
           "xaxis": {
            "backgroundcolor": "#E5ECF6",
            "gridcolor": "white",
            "gridwidth": 2,
            "linecolor": "white",
            "showbackground": true,
            "ticks": "",
            "zerolinecolor": "white"
           },
           "yaxis": {
            "backgroundcolor": "#E5ECF6",
            "gridcolor": "white",
            "gridwidth": 2,
            "linecolor": "white",
            "showbackground": true,
            "ticks": "",
            "zerolinecolor": "white"
           },
           "zaxis": {
            "backgroundcolor": "#E5ECF6",
            "gridcolor": "white",
            "gridwidth": 2,
            "linecolor": "white",
            "showbackground": true,
            "ticks": "",
            "zerolinecolor": "white"
           }
          },
          "shapedefaults": {
           "line": {
            "color": "#2a3f5f"
           }
          },
          "ternary": {
           "aaxis": {
            "gridcolor": "white",
            "linecolor": "white",
            "ticks": ""
           },
           "baxis": {
            "gridcolor": "white",
            "linecolor": "white",
            "ticks": ""
           },
           "bgcolor": "#E5ECF6",
           "caxis": {
            "gridcolor": "white",
            "linecolor": "white",
            "ticks": ""
           }
          },
          "title": {
           "x": 0.05
          },
          "xaxis": {
           "automargin": true,
           "gridcolor": "white",
           "linecolor": "white",
           "ticks": "",
           "title": {
            "standoff": 15
           },
           "zerolinecolor": "white",
           "zerolinewidth": 2
          },
          "yaxis": {
           "automargin": true,
           "gridcolor": "white",
           "linecolor": "white",
           "ticks": "",
           "title": {
            "standoff": 15
           },
           "zerolinecolor": "white",
           "zerolinewidth": 2
          }
         }
        },
        "xaxis": {
         "anchor": "y",
         "domain": [
          0,
          1
         ],
         "title": {
          "text": "saldo"
         }
        },
        "yaxis": {
         "anchor": "x",
         "domain": [
          0,
          1
         ]
        }
       }
      }
     },
     "metadata": {},
     "output_type": "display_data"
    }
   ],
   "source": [
    "px.box(df, x='saldo', color='aderencia_investimento')"
   ]
  },
  {
   "cell_type": "code",
   "execution_count": 77,
   "metadata": {},
   "outputs": [
    {
     "data": {
      "application/vnd.plotly.v1+json": {
       "config": {
        "plotlyServerURL": "https://plot.ly"
       },
       "data": [
        {
         "alignmentgroup": "True",
         "hovertemplate": "aderencia_investimento=sim<br>tempo_ult_contato=%{x}<extra></extra>",
         "legendgroup": "sim",
         "marker": {
          "color": "#636efa"
         },
         "name": "sim",
         "notched": false,
         "offsetgroup": "sim",
         "orientation": "h",
         "showlegend": true,
         "type": "box",
         "x": {
          "bdata": "SwL6ALwC7wDnAdUA3AKCAMgCUAHWASUD1wLIA/sEjQGRArMBmwHTAUoBnwFGAVIB/wJRAicI5wIKBLoBYQABAQUB7AU+AwQDawOGApcCAgF6AcUCZwGoBWEAiAKBAwQEKwYCAf0CKgJoAI4CNgE8AbUAkQGYCQgBSAHbAXME7wGSAIAAwwFJAtUBeQJhAD4CLwOFAYQBBgEOAUYB2gEFAckB3wHmA4ABJwFsA/MC2AC5AKkA+QAzAjoB3wDnAOAAigExBKUBmwLiA6EAoQGdBHIDuQbUAPwAKAEQAi4CMwIlAV4BmADfAHsDEALpAT4CagCOAp0CRQGWBKkDvQL6AMEBAAOHAfoAkwJmBI0BmQbvBKcAhACVBF0AqwEFAaQAqgCOA08DBwQFAmsA9QLtAZ8B9AAWAbwEzQCIA90BfwLcAGABhAFdACUCOQIlASEBiwKZAccGiAL3A7QBfQSdAM4AagLoAr0CuAAuA78D3gBOAOACZAEkBP0A+wDlAI4B+gNZASYCRAN+AVUHwwL5A9gDNwGEAc8AiwHSBJ8BWwCzAtEKSwIuAuACZABiAaUB3wG7AP4AzAIIBIoCoQCnAUgGAgV6AcYA2gDfAGABKAOQAJ4A5gApAdAD8wANAUoBpAKCAeABPQEpA7MHHwHWAL4BrQG3A7kC9QAwA3kA2ABhASoBmgDkAOYD7QEOAsYB0gHhA/UBzAX6AlYDCwHiAKEFYAA3An0ANQEMAbkAWAH6Aa4CVgGNAWQB/wJ4Ap8CHAMjAxcB6wQmA94AogE6AWQEAwIeAOUBugJrAZwBuQAGAnEBXANzAQwDTwGfAoIBvgBMAasASwJYAfgBGAEdBeEBcwNIAcgC/wCTAYYCvAC7A3sCDgIsA5gC2gHoAIEDBwLgAA0BEwHPAJ8A6gAOAUACOwNaBS0BPgP0AaMDQwGPAvUAjAKYAFcAPQHVAjcCngJSAu4C6gSNAgYEaAB5Ac4C6ADAAHwAXQAUA6kCYQGIA38G9QFnAGgBYQEeA48BoQALAeMAFgYsAXIDbwKQAAUE3QBbAdUAuwMfAlkDqwAnBJwBmQO+AykBrgEYAZ4CugEEAYECoQH5Aq0BBwN4AF4CTQTtB0gBYQKOAFgChgDBBQQBzAFcA7kB+QAfAvwBZQMzAfwAxQIfAzMDCQMmAe8DbQB2Au8AxwAMAk4CVwHoAQYBuwWrBeIAyAMhAXgBngJMAEkE1QA/AbAC9wJpA5QBYAGTABcB4ADeA6YARAHXAMAFCAE5BA0D9AFbAJUADAEcA+UBsgBtA+4DgQAyAu8A3QJQAPoDfwVCArkAjARBAccE1wD8BQ0CbgA=",
          "dtype": "i2"
         },
         "x0": " ",
         "xaxis": "x",
         "y0": " ",
         "yaxis": "y"
        },
        {
         "alignmentgroup": "True",
         "hovertemplate": "aderencia_investimento=nao<br>tempo_ult_contato=%{x}<extra></extra>",
         "legendgroup": "nao",
         "marker": {
          "color": "#EF553B"
         },
         "name": "nao",
         "notched": false,
         "offsetgroup": "nao",
         "orientation": "h",
         "showlegend": true,
         "type": "box",
         "x": {
          "bdata": "EACtASkEZgApAO0BNQBHAM8EGQNjAisBFwCjAOYA3ABYAUgAlABKAS8ClQIIAfYB1AB2AKQB0QErAH8AMQFYAK4AewDLAIcASgFMABUAgQBTAIsA0wA3AKUA8ABqAP8AKQAVAecATABsAS8BAAMqALkARACvAEMAuwA+AXsAVgFZAE8AQQAqAUMAvQD0AEIAsADIAFYACwJyABABPgC/AHYAHQFhA9EA2wAeAVQBhwD+APgAYgA/ASkB0ABVAOkAOABJAFsBwACRAMMBoAA4AAoAuABzAGYAmgHsBRsBbAC5AYsAaQDeAGIDkACsAD4B1wBXAbsBHABgAUYA9gB/AN8AdQB9ALMA2QBQAaQCNAA+AVMASQBtALsB5AAFAmIBdwFsAUwAlQFCAbYAKQBJAfcA0gETAcQAmwA6AUwAuAA2AosBsgB3AFQAKwHIAJIAlwCWAMEA+QFIAZoBWQCcALEAYwAaAs0ADgAkADECeQCBANEAEADaAHEAgABFAQABUwATAV8ASgBJAH4AlwC7AO0AfAHcAIUBPwHRCzIASwBnANEAyAB0AHwAlAJ5ATsAvwDfAbUAtQBmAE0AYgAMAGcAzQDQAHAAdwDBAMEAJwFzAlYA6wLgAs8BeQCeAB8B6wCQAeAAxQDOAG4AewCvAH8AggBVAEQDHAGDAOsBowE8AHsA4wA2AdEAbwGpAFEAKQEfAhkB6QHGARYAewF3Aq0AhgCoABQAYABvAHsAOQALAV4C+wD8AkEA2AAoAAkBywJTALwDaQGxALkA9gGaAHoAlwAPAHIAKgHgAL0AIgE6AH8AVgB9AdsBZwAjAIwAOAFtAdcAZgKAAE8ADgBcADkBgQA8AOwAkwB2AKcAVwBCA1sAMgAkAEgAUAIIAF0A6gHBAEwB1gBuAOkAfADRAFsCRwCdAGsAawJ/AK0AEQGXAG4A3AA9ALMA/ABEAggAmACiAPoAzQAvAh0BkgHWABsBxQBfAIgAfwDPAEIAJgHlAckABQHSAHAABwAfAmMAmAAbABQAQgFoABMAUwCXAMgASwJ7ACcAuwCfABsBGAcVAVoA2gJ3AJwCjwDMAFUA+wBdARgChQBZAE4AEAEoAAgAEgEzATkA4gDTAZsAPQFKAK4AWgFuAdkAHQCkALwCPQH+APAAVgAPABMA9QA/ANEA7gACA60AowBRAGAAFQB8AUwAOQVKACAA3gAJAXMAEAF3AH8AjAB3AMsAQwBCAcYArQBOAEYBkwB7APgAWQCFAR8BQwCMAGIATQBbAXAA+wBJAFwBRAC+AVMC2QC7AIMAUgKgAEYAiwM8AB0AJQFgAewAegAuAGgAUQEqAIcASgKWANIAPQFJAY0AVABrAOoBdAOTAM4AaQKwAKkBNgABAdIACgHOADEB+gAsAF8AHQLAABwALwFWAGYAHQDNAQ4ACgAFADoA2QCIAGYEVAF7AHMAzABSAIQBpgBmASEB/QCXABYAHQBaAP0AcAAIAJIAlAFSAA8A5AA2ARgAhQAYANIAJgIZADABkQDEAMUAnwBrAHMBUQGDAOYADgBHAKEAGQA4ABEBhgCfAEIAdQECAd0AcwE1AKsALgAdAY4AwQDSAKQA9ABhAGoAfwCZAKkAFwJxAOMBwQUeAEoAkAC6BFYFhgBwAoYAlwDfAFIAigLvAFIAFACzANUAHQFSAHwA/ABQALMAegBYAJ0A6QD2AeQAaAB9AG0AJgGPAGEAUQCNAPUAJQKoAKAAegC8AMUAWABNAEkCrADvAMAAegBQAK8APABAAM0DjwDFADMApQAWAF0CjQLQAaIATwAoAyAAWwBaAM0CzQAtAHsCtAAbAGYAGQGfBJsB/QH9AL8A4QBXAmwA1ABfANMASwDNACwARQBnAUkAVAHYAY4ARgAeAJ0CRwC/AY8ALQJaANMA6wCFAVkCTwCTAEYARwD0AJYAggCcARkBcwRlAI0A8QB3AB8BxQCFAMAAywCnANgAqQAwAWIAagTWAHMAEAFhAPkAIgB3AAQBVAHiAPsFPwBoAO8AjABxAJgBugE=",
          "dtype": "i2"
         },
         "x0": " ",
         "xaxis": "x",
         "y0": " ",
         "yaxis": "y"
        }
       ],
       "layout": {
        "boxmode": "group",
        "legend": {
         "title": {
          "text": "aderencia_investimento"
         },
         "tracegroupgap": 0
        },
        "margin": {
         "t": 60
        },
        "template": {
         "data": {
          "bar": [
           {
            "error_x": {
             "color": "#2a3f5f"
            },
            "error_y": {
             "color": "#2a3f5f"
            },
            "marker": {
             "line": {
              "color": "#E5ECF6",
              "width": 0.5
             },
             "pattern": {
              "fillmode": "overlay",
              "size": 10,
              "solidity": 0.2
             }
            },
            "type": "bar"
           }
          ],
          "barpolar": [
           {
            "marker": {
             "line": {
              "color": "#E5ECF6",
              "width": 0.5
             },
             "pattern": {
              "fillmode": "overlay",
              "size": 10,
              "solidity": 0.2
             }
            },
            "type": "barpolar"
           }
          ],
          "carpet": [
           {
            "aaxis": {
             "endlinecolor": "#2a3f5f",
             "gridcolor": "white",
             "linecolor": "white",
             "minorgridcolor": "white",
             "startlinecolor": "#2a3f5f"
            },
            "baxis": {
             "endlinecolor": "#2a3f5f",
             "gridcolor": "white",
             "linecolor": "white",
             "minorgridcolor": "white",
             "startlinecolor": "#2a3f5f"
            },
            "type": "carpet"
           }
          ],
          "choropleth": [
           {
            "colorbar": {
             "outlinewidth": 0,
             "ticks": ""
            },
            "type": "choropleth"
           }
          ],
          "contour": [
           {
            "colorbar": {
             "outlinewidth": 0,
             "ticks": ""
            },
            "colorscale": [
             [
              0,
              "#0d0887"
             ],
             [
              0.1111111111111111,
              "#46039f"
             ],
             [
              0.2222222222222222,
              "#7201a8"
             ],
             [
              0.3333333333333333,
              "#9c179e"
             ],
             [
              0.4444444444444444,
              "#bd3786"
             ],
             [
              0.5555555555555556,
              "#d8576b"
             ],
             [
              0.6666666666666666,
              "#ed7953"
             ],
             [
              0.7777777777777778,
              "#fb9f3a"
             ],
             [
              0.8888888888888888,
              "#fdca26"
             ],
             [
              1,
              "#f0f921"
             ]
            ],
            "type": "contour"
           }
          ],
          "contourcarpet": [
           {
            "colorbar": {
             "outlinewidth": 0,
             "ticks": ""
            },
            "type": "contourcarpet"
           }
          ],
          "heatmap": [
           {
            "colorbar": {
             "outlinewidth": 0,
             "ticks": ""
            },
            "colorscale": [
             [
              0,
              "#0d0887"
             ],
             [
              0.1111111111111111,
              "#46039f"
             ],
             [
              0.2222222222222222,
              "#7201a8"
             ],
             [
              0.3333333333333333,
              "#9c179e"
             ],
             [
              0.4444444444444444,
              "#bd3786"
             ],
             [
              0.5555555555555556,
              "#d8576b"
             ],
             [
              0.6666666666666666,
              "#ed7953"
             ],
             [
              0.7777777777777778,
              "#fb9f3a"
             ],
             [
              0.8888888888888888,
              "#fdca26"
             ],
             [
              1,
              "#f0f921"
             ]
            ],
            "type": "heatmap"
           }
          ],
          "histogram": [
           {
            "marker": {
             "pattern": {
              "fillmode": "overlay",
              "size": 10,
              "solidity": 0.2
             }
            },
            "type": "histogram"
           }
          ],
          "histogram2d": [
           {
            "colorbar": {
             "outlinewidth": 0,
             "ticks": ""
            },
            "colorscale": [
             [
              0,
              "#0d0887"
             ],
             [
              0.1111111111111111,
              "#46039f"
             ],
             [
              0.2222222222222222,
              "#7201a8"
             ],
             [
              0.3333333333333333,
              "#9c179e"
             ],
             [
              0.4444444444444444,
              "#bd3786"
             ],
             [
              0.5555555555555556,
              "#d8576b"
             ],
             [
              0.6666666666666666,
              "#ed7953"
             ],
             [
              0.7777777777777778,
              "#fb9f3a"
             ],
             [
              0.8888888888888888,
              "#fdca26"
             ],
             [
              1,
              "#f0f921"
             ]
            ],
            "type": "histogram2d"
           }
          ],
          "histogram2dcontour": [
           {
            "colorbar": {
             "outlinewidth": 0,
             "ticks": ""
            },
            "colorscale": [
             [
              0,
              "#0d0887"
             ],
             [
              0.1111111111111111,
              "#46039f"
             ],
             [
              0.2222222222222222,
              "#7201a8"
             ],
             [
              0.3333333333333333,
              "#9c179e"
             ],
             [
              0.4444444444444444,
              "#bd3786"
             ],
             [
              0.5555555555555556,
              "#d8576b"
             ],
             [
              0.6666666666666666,
              "#ed7953"
             ],
             [
              0.7777777777777778,
              "#fb9f3a"
             ],
             [
              0.8888888888888888,
              "#fdca26"
             ],
             [
              1,
              "#f0f921"
             ]
            ],
            "type": "histogram2dcontour"
           }
          ],
          "mesh3d": [
           {
            "colorbar": {
             "outlinewidth": 0,
             "ticks": ""
            },
            "type": "mesh3d"
           }
          ],
          "parcoords": [
           {
            "line": {
             "colorbar": {
              "outlinewidth": 0,
              "ticks": ""
             }
            },
            "type": "parcoords"
           }
          ],
          "pie": [
           {
            "automargin": true,
            "type": "pie"
           }
          ],
          "scatter": [
           {
            "fillpattern": {
             "fillmode": "overlay",
             "size": 10,
             "solidity": 0.2
            },
            "type": "scatter"
           }
          ],
          "scatter3d": [
           {
            "line": {
             "colorbar": {
              "outlinewidth": 0,
              "ticks": ""
             }
            },
            "marker": {
             "colorbar": {
              "outlinewidth": 0,
              "ticks": ""
             }
            },
            "type": "scatter3d"
           }
          ],
          "scattercarpet": [
           {
            "marker": {
             "colorbar": {
              "outlinewidth": 0,
              "ticks": ""
             }
            },
            "type": "scattercarpet"
           }
          ],
          "scattergeo": [
           {
            "marker": {
             "colorbar": {
              "outlinewidth": 0,
              "ticks": ""
             }
            },
            "type": "scattergeo"
           }
          ],
          "scattergl": [
           {
            "marker": {
             "colorbar": {
              "outlinewidth": 0,
              "ticks": ""
             }
            },
            "type": "scattergl"
           }
          ],
          "scattermap": [
           {
            "marker": {
             "colorbar": {
              "outlinewidth": 0,
              "ticks": ""
             }
            },
            "type": "scattermap"
           }
          ],
          "scattermapbox": [
           {
            "marker": {
             "colorbar": {
              "outlinewidth": 0,
              "ticks": ""
             }
            },
            "type": "scattermapbox"
           }
          ],
          "scatterpolar": [
           {
            "marker": {
             "colorbar": {
              "outlinewidth": 0,
              "ticks": ""
             }
            },
            "type": "scatterpolar"
           }
          ],
          "scatterpolargl": [
           {
            "marker": {
             "colorbar": {
              "outlinewidth": 0,
              "ticks": ""
             }
            },
            "type": "scatterpolargl"
           }
          ],
          "scatterternary": [
           {
            "marker": {
             "colorbar": {
              "outlinewidth": 0,
              "ticks": ""
             }
            },
            "type": "scatterternary"
           }
          ],
          "surface": [
           {
            "colorbar": {
             "outlinewidth": 0,
             "ticks": ""
            },
            "colorscale": [
             [
              0,
              "#0d0887"
             ],
             [
              0.1111111111111111,
              "#46039f"
             ],
             [
              0.2222222222222222,
              "#7201a8"
             ],
             [
              0.3333333333333333,
              "#9c179e"
             ],
             [
              0.4444444444444444,
              "#bd3786"
             ],
             [
              0.5555555555555556,
              "#d8576b"
             ],
             [
              0.6666666666666666,
              "#ed7953"
             ],
             [
              0.7777777777777778,
              "#fb9f3a"
             ],
             [
              0.8888888888888888,
              "#fdca26"
             ],
             [
              1,
              "#f0f921"
             ]
            ],
            "type": "surface"
           }
          ],
          "table": [
           {
            "cells": {
             "fill": {
              "color": "#EBF0F8"
             },
             "line": {
              "color": "white"
             }
            },
            "header": {
             "fill": {
              "color": "#C8D4E3"
             },
             "line": {
              "color": "white"
             }
            },
            "type": "table"
           }
          ]
         },
         "layout": {
          "annotationdefaults": {
           "arrowcolor": "#2a3f5f",
           "arrowhead": 0,
           "arrowwidth": 1
          },
          "autotypenumbers": "strict",
          "coloraxis": {
           "colorbar": {
            "outlinewidth": 0,
            "ticks": ""
           }
          },
          "colorscale": {
           "diverging": [
            [
             0,
             "#8e0152"
            ],
            [
             0.1,
             "#c51b7d"
            ],
            [
             0.2,
             "#de77ae"
            ],
            [
             0.3,
             "#f1b6da"
            ],
            [
             0.4,
             "#fde0ef"
            ],
            [
             0.5,
             "#f7f7f7"
            ],
            [
             0.6,
             "#e6f5d0"
            ],
            [
             0.7,
             "#b8e186"
            ],
            [
             0.8,
             "#7fbc41"
            ],
            [
             0.9,
             "#4d9221"
            ],
            [
             1,
             "#276419"
            ]
           ],
           "sequential": [
            [
             0,
             "#0d0887"
            ],
            [
             0.1111111111111111,
             "#46039f"
            ],
            [
             0.2222222222222222,
             "#7201a8"
            ],
            [
             0.3333333333333333,
             "#9c179e"
            ],
            [
             0.4444444444444444,
             "#bd3786"
            ],
            [
             0.5555555555555556,
             "#d8576b"
            ],
            [
             0.6666666666666666,
             "#ed7953"
            ],
            [
             0.7777777777777778,
             "#fb9f3a"
            ],
            [
             0.8888888888888888,
             "#fdca26"
            ],
            [
             1,
             "#f0f921"
            ]
           ],
           "sequentialminus": [
            [
             0,
             "#0d0887"
            ],
            [
             0.1111111111111111,
             "#46039f"
            ],
            [
             0.2222222222222222,
             "#7201a8"
            ],
            [
             0.3333333333333333,
             "#9c179e"
            ],
            [
             0.4444444444444444,
             "#bd3786"
            ],
            [
             0.5555555555555556,
             "#d8576b"
            ],
            [
             0.6666666666666666,
             "#ed7953"
            ],
            [
             0.7777777777777778,
             "#fb9f3a"
            ],
            [
             0.8888888888888888,
             "#fdca26"
            ],
            [
             1,
             "#f0f921"
            ]
           ]
          },
          "colorway": [
           "#636efa",
           "#EF553B",
           "#00cc96",
           "#ab63fa",
           "#FFA15A",
           "#19d3f3",
           "#FF6692",
           "#B6E880",
           "#FF97FF",
           "#FECB52"
          ],
          "font": {
           "color": "#2a3f5f"
          },
          "geo": {
           "bgcolor": "white",
           "lakecolor": "white",
           "landcolor": "#E5ECF6",
           "showlakes": true,
           "showland": true,
           "subunitcolor": "white"
          },
          "hoverlabel": {
           "align": "left"
          },
          "hovermode": "closest",
          "mapbox": {
           "style": "light"
          },
          "paper_bgcolor": "white",
          "plot_bgcolor": "#E5ECF6",
          "polar": {
           "angularaxis": {
            "gridcolor": "white",
            "linecolor": "white",
            "ticks": ""
           },
           "bgcolor": "#E5ECF6",
           "radialaxis": {
            "gridcolor": "white",
            "linecolor": "white",
            "ticks": ""
           }
          },
          "scene": {
           "xaxis": {
            "backgroundcolor": "#E5ECF6",
            "gridcolor": "white",
            "gridwidth": 2,
            "linecolor": "white",
            "showbackground": true,
            "ticks": "",
            "zerolinecolor": "white"
           },
           "yaxis": {
            "backgroundcolor": "#E5ECF6",
            "gridcolor": "white",
            "gridwidth": 2,
            "linecolor": "white",
            "showbackground": true,
            "ticks": "",
            "zerolinecolor": "white"
           },
           "zaxis": {
            "backgroundcolor": "#E5ECF6",
            "gridcolor": "white",
            "gridwidth": 2,
            "linecolor": "white",
            "showbackground": true,
            "ticks": "",
            "zerolinecolor": "white"
           }
          },
          "shapedefaults": {
           "line": {
            "color": "#2a3f5f"
           }
          },
          "ternary": {
           "aaxis": {
            "gridcolor": "white",
            "linecolor": "white",
            "ticks": ""
           },
           "baxis": {
            "gridcolor": "white",
            "linecolor": "white",
            "ticks": ""
           },
           "bgcolor": "#E5ECF6",
           "caxis": {
            "gridcolor": "white",
            "linecolor": "white",
            "ticks": ""
           }
          },
          "title": {
           "x": 0.05
          },
          "xaxis": {
           "automargin": true,
           "gridcolor": "white",
           "linecolor": "white",
           "ticks": "",
           "title": {
            "standoff": 15
           },
           "zerolinecolor": "white",
           "zerolinewidth": 2
          },
          "yaxis": {
           "automargin": true,
           "gridcolor": "white",
           "linecolor": "white",
           "ticks": "",
           "title": {
            "standoff": 15
           },
           "zerolinecolor": "white",
           "zerolinewidth": 2
          }
         }
        },
        "xaxis": {
         "anchor": "y",
         "domain": [
          0,
          1
         ],
         "title": {
          "text": "tempo_ult_contato"
         }
        },
        "yaxis": {
         "anchor": "x",
         "domain": [
          0,
          1
         ]
        }
       }
      }
     },
     "metadata": {},
     "output_type": "display_data"
    }
   ],
   "source": [
    "px.box(df, x='tempo_ult_contato', color='aderencia_investimento')"
   ]
  },
  {
   "cell_type": "code",
   "execution_count": 78,
   "metadata": {},
   "outputs": [
    {
     "data": {
      "application/vnd.plotly.v1+json": {
       "config": {
        "plotlyServerURL": "https://plot.ly"
       },
       "data": [
        {
         "alignmentgroup": "True",
         "hovertemplate": "aderencia_investimento=sim<br>numero_contatos=%{x}<extra></extra>",
         "legendgroup": "sim",
         "marker": {
          "color": "#636efa"
         },
         "name": "sim",
         "notched": false,
         "offsetgroup": "sim",
         "orientation": "h",
         "showlegend": true,
         "type": "box",
         "x": {
          "bdata": "AQQBBAEEAgEBAgcBAgEBAQcBAQICAQUBBQECDQEBAwEBAgEBAgUEAQECAQcBAQICAQYBAQECAQMBAgIBAgICAQQCAQEBAQEBAQEBAQECAwEBAQYCAQEBAQEBAgEBAwEBAgECAwIBAQQIAgEBAQMBAQEDAgEEAgEBAQIBAgEDAQICAgECBAQBBAIBAQMFAQECBAIBCAECAgEEAQEEAQMBAQEEBgECAQEBAQIEAQECBgMBAQEBAQIDAwMBAQIBAgICAwEEAwIDAgYBAgMBAgMHAwIEAgECAgMBCQECAwMCAQENBgIBAQECAgECAwEMAQIBAgQBBQIEAgQBAwMEAQYBAQIEAQIBAgICBAYCGAMBAgICAQEBAQEBAgEFAQIEAgQEAQEEBgEEAgECAQECAgcBAQICAgIEAQECAQEBAgEBBAQCAQIGAwEDAwUDAgEDAQIEAQIDAQgCAgEDAgMDAQQBAQQDAQEBAQEDAgQCAgEBAgEBAQIBAwEBAgIBAgIBAwEDAQECAQYBAQEBAQMDAgIEAQUBAgYEAQYEAQMBAQIEAwMDAgECAgEEBQEBAgIBAQIBAQEJAQIKBAIBAwYDAQEDAwEBAQIBAQICAwEDAQEBAggBAQECBAECAwEBAQIBAQEBAgEBAQcCAQEEAgICAQIBAgMGAQIDAg==",
          "dtype": "i1"
         },
         "x0": " ",
         "xaxis": "x",
         "y0": " ",
         "yaxis": "y"
        },
        {
         "alignmentgroup": "True",
         "hovertemplate": "aderencia_investimento=nao<br>numero_contatos=%{x}<extra></extra>",
         "legendgroup": "nao",
         "marker": {
          "color": "#EF553B"
         },
         "name": "nao",
         "notched": false,
         "offsetgroup": "nao",
         "orientation": "h",
         "showlegend": true,
         "type": "box",
         "x": {
          "bdata": "EgEBAgIDBQECAgIFAQEBAQIGAgEBAQUDAwMEAQ0IAQUDAgIDAQIBBAQJAgQBAwgCBQIBAgECAgEEDAMBAwIBAQMDAgEBAgEBAgIEAwICAgEGAgICBAICAQIBAgUBAwMDCAYCBAIBAQECAgIBAQIBAQECAwMCAwEBAQQBAQEBAQECAgIGAQEBAQIMEQECAQECAgECAwICAgQCAQICAgECAQICAQIDAgMBAgEGAgIBBAICAQgDDgYEAgIBBQEEAQECBgwCAgEDCgUDBAIEAgIBAQECAwEEAgMCAQECBgMDAQgBBQIDAQYCAQEBBQcBAQECAgIIAgYBAQMBAQYMAgMBAgEBAQIBAgEDAQwBAgYIAgEBAgIDBAcBAgQCAwMCAwMCAQ0CAQEGAgQGAQcGAwEBDQICAgEEARAKAwEDAgMBBgEBAQQKAgEFAQoJAQEEBAYBAgICAQEBAgIDBwYBAQICAQEFAgYCBAMGCwMBAgcFAggBAQMCAQIBAgEBAQMCCAwBAQEEAQISAwsBAgICAgEBAQIBAgEHAgQECwECAgICAQEBAQYBAwECAQICAQECAQIDAQECAQ0DAgUEAgIGAgQBEQECBAUDAwICAQUGAgECAgIBAQULAQEEAQUBAwEBAgECAQIBAQIBBAICAQEBAgMgBgMBBgMFAgEDAwIFBgEDAwEBAwIBAg8BAgEBAQEMAw4FAQMSAgICAQMBAwMDAQgBAgEBAQQIAQICBQgFAQYCAgIBBgQBAwICAQwCBwEBAwEDAQIDBAIBAwICBwYBBQICCAEBAQEBAgEEBAICBgMCAQEFAgMBBgEDBQEBAgUEAwECAQIDBgoBAwwCAwIBAQEBAQECAQEBAQQBAwEDAgcBAgIFAgIEAQEBEAICAQIBAwECAgIBAwEBAQEBBgMBAQUBAQYEAgECAgECAgIBAQMCBwYIBgMBAwIBAx0GAQQBBwILCwIBAQICAQEBAgEDAgcBAwYBAgIgAQMEBAMEAwUBBAEFAQQCAQEBBAEEAQECAg==",
          "dtype": "i1"
         },
         "x0": " ",
         "xaxis": "x",
         "y0": " ",
         "yaxis": "y"
        }
       ],
       "layout": {
        "boxmode": "group",
        "legend": {
         "title": {
          "text": "aderencia_investimento"
         },
         "tracegroupgap": 0
        },
        "margin": {
         "t": 60
        },
        "template": {
         "data": {
          "bar": [
           {
            "error_x": {
             "color": "#2a3f5f"
            },
            "error_y": {
             "color": "#2a3f5f"
            },
            "marker": {
             "line": {
              "color": "#E5ECF6",
              "width": 0.5
             },
             "pattern": {
              "fillmode": "overlay",
              "size": 10,
              "solidity": 0.2
             }
            },
            "type": "bar"
           }
          ],
          "barpolar": [
           {
            "marker": {
             "line": {
              "color": "#E5ECF6",
              "width": 0.5
             },
             "pattern": {
              "fillmode": "overlay",
              "size": 10,
              "solidity": 0.2
             }
            },
            "type": "barpolar"
           }
          ],
          "carpet": [
           {
            "aaxis": {
             "endlinecolor": "#2a3f5f",
             "gridcolor": "white",
             "linecolor": "white",
             "minorgridcolor": "white",
             "startlinecolor": "#2a3f5f"
            },
            "baxis": {
             "endlinecolor": "#2a3f5f",
             "gridcolor": "white",
             "linecolor": "white",
             "minorgridcolor": "white",
             "startlinecolor": "#2a3f5f"
            },
            "type": "carpet"
           }
          ],
          "choropleth": [
           {
            "colorbar": {
             "outlinewidth": 0,
             "ticks": ""
            },
            "type": "choropleth"
           }
          ],
          "contour": [
           {
            "colorbar": {
             "outlinewidth": 0,
             "ticks": ""
            },
            "colorscale": [
             [
              0,
              "#0d0887"
             ],
             [
              0.1111111111111111,
              "#46039f"
             ],
             [
              0.2222222222222222,
              "#7201a8"
             ],
             [
              0.3333333333333333,
              "#9c179e"
             ],
             [
              0.4444444444444444,
              "#bd3786"
             ],
             [
              0.5555555555555556,
              "#d8576b"
             ],
             [
              0.6666666666666666,
              "#ed7953"
             ],
             [
              0.7777777777777778,
              "#fb9f3a"
             ],
             [
              0.8888888888888888,
              "#fdca26"
             ],
             [
              1,
              "#f0f921"
             ]
            ],
            "type": "contour"
           }
          ],
          "contourcarpet": [
           {
            "colorbar": {
             "outlinewidth": 0,
             "ticks": ""
            },
            "type": "contourcarpet"
           }
          ],
          "heatmap": [
           {
            "colorbar": {
             "outlinewidth": 0,
             "ticks": ""
            },
            "colorscale": [
             [
              0,
              "#0d0887"
             ],
             [
              0.1111111111111111,
              "#46039f"
             ],
             [
              0.2222222222222222,
              "#7201a8"
             ],
             [
              0.3333333333333333,
              "#9c179e"
             ],
             [
              0.4444444444444444,
              "#bd3786"
             ],
             [
              0.5555555555555556,
              "#d8576b"
             ],
             [
              0.6666666666666666,
              "#ed7953"
             ],
             [
              0.7777777777777778,
              "#fb9f3a"
             ],
             [
              0.8888888888888888,
              "#fdca26"
             ],
             [
              1,
              "#f0f921"
             ]
            ],
            "type": "heatmap"
           }
          ],
          "histogram": [
           {
            "marker": {
             "pattern": {
              "fillmode": "overlay",
              "size": 10,
              "solidity": 0.2
             }
            },
            "type": "histogram"
           }
          ],
          "histogram2d": [
           {
            "colorbar": {
             "outlinewidth": 0,
             "ticks": ""
            },
            "colorscale": [
             [
              0,
              "#0d0887"
             ],
             [
              0.1111111111111111,
              "#46039f"
             ],
             [
              0.2222222222222222,
              "#7201a8"
             ],
             [
              0.3333333333333333,
              "#9c179e"
             ],
             [
              0.4444444444444444,
              "#bd3786"
             ],
             [
              0.5555555555555556,
              "#d8576b"
             ],
             [
              0.6666666666666666,
              "#ed7953"
             ],
             [
              0.7777777777777778,
              "#fb9f3a"
             ],
             [
              0.8888888888888888,
              "#fdca26"
             ],
             [
              1,
              "#f0f921"
             ]
            ],
            "type": "histogram2d"
           }
          ],
          "histogram2dcontour": [
           {
            "colorbar": {
             "outlinewidth": 0,
             "ticks": ""
            },
            "colorscale": [
             [
              0,
              "#0d0887"
             ],
             [
              0.1111111111111111,
              "#46039f"
             ],
             [
              0.2222222222222222,
              "#7201a8"
             ],
             [
              0.3333333333333333,
              "#9c179e"
             ],
             [
              0.4444444444444444,
              "#bd3786"
             ],
             [
              0.5555555555555556,
              "#d8576b"
             ],
             [
              0.6666666666666666,
              "#ed7953"
             ],
             [
              0.7777777777777778,
              "#fb9f3a"
             ],
             [
              0.8888888888888888,
              "#fdca26"
             ],
             [
              1,
              "#f0f921"
             ]
            ],
            "type": "histogram2dcontour"
           }
          ],
          "mesh3d": [
           {
            "colorbar": {
             "outlinewidth": 0,
             "ticks": ""
            },
            "type": "mesh3d"
           }
          ],
          "parcoords": [
           {
            "line": {
             "colorbar": {
              "outlinewidth": 0,
              "ticks": ""
             }
            },
            "type": "parcoords"
           }
          ],
          "pie": [
           {
            "automargin": true,
            "type": "pie"
           }
          ],
          "scatter": [
           {
            "fillpattern": {
             "fillmode": "overlay",
             "size": 10,
             "solidity": 0.2
            },
            "type": "scatter"
           }
          ],
          "scatter3d": [
           {
            "line": {
             "colorbar": {
              "outlinewidth": 0,
              "ticks": ""
             }
            },
            "marker": {
             "colorbar": {
              "outlinewidth": 0,
              "ticks": ""
             }
            },
            "type": "scatter3d"
           }
          ],
          "scattercarpet": [
           {
            "marker": {
             "colorbar": {
              "outlinewidth": 0,
              "ticks": ""
             }
            },
            "type": "scattercarpet"
           }
          ],
          "scattergeo": [
           {
            "marker": {
             "colorbar": {
              "outlinewidth": 0,
              "ticks": ""
             }
            },
            "type": "scattergeo"
           }
          ],
          "scattergl": [
           {
            "marker": {
             "colorbar": {
              "outlinewidth": 0,
              "ticks": ""
             }
            },
            "type": "scattergl"
           }
          ],
          "scattermap": [
           {
            "marker": {
             "colorbar": {
              "outlinewidth": 0,
              "ticks": ""
             }
            },
            "type": "scattermap"
           }
          ],
          "scattermapbox": [
           {
            "marker": {
             "colorbar": {
              "outlinewidth": 0,
              "ticks": ""
             }
            },
            "type": "scattermapbox"
           }
          ],
          "scatterpolar": [
           {
            "marker": {
             "colorbar": {
              "outlinewidth": 0,
              "ticks": ""
             }
            },
            "type": "scatterpolar"
           }
          ],
          "scatterpolargl": [
           {
            "marker": {
             "colorbar": {
              "outlinewidth": 0,
              "ticks": ""
             }
            },
            "type": "scatterpolargl"
           }
          ],
          "scatterternary": [
           {
            "marker": {
             "colorbar": {
              "outlinewidth": 0,
              "ticks": ""
             }
            },
            "type": "scatterternary"
           }
          ],
          "surface": [
           {
            "colorbar": {
             "outlinewidth": 0,
             "ticks": ""
            },
            "colorscale": [
             [
              0,
              "#0d0887"
             ],
             [
              0.1111111111111111,
              "#46039f"
             ],
             [
              0.2222222222222222,
              "#7201a8"
             ],
             [
              0.3333333333333333,
              "#9c179e"
             ],
             [
              0.4444444444444444,
              "#bd3786"
             ],
             [
              0.5555555555555556,
              "#d8576b"
             ],
             [
              0.6666666666666666,
              "#ed7953"
             ],
             [
              0.7777777777777778,
              "#fb9f3a"
             ],
             [
              0.8888888888888888,
              "#fdca26"
             ],
             [
              1,
              "#f0f921"
             ]
            ],
            "type": "surface"
           }
          ],
          "table": [
           {
            "cells": {
             "fill": {
              "color": "#EBF0F8"
             },
             "line": {
              "color": "white"
             }
            },
            "header": {
             "fill": {
              "color": "#C8D4E3"
             },
             "line": {
              "color": "white"
             }
            },
            "type": "table"
           }
          ]
         },
         "layout": {
          "annotationdefaults": {
           "arrowcolor": "#2a3f5f",
           "arrowhead": 0,
           "arrowwidth": 1
          },
          "autotypenumbers": "strict",
          "coloraxis": {
           "colorbar": {
            "outlinewidth": 0,
            "ticks": ""
           }
          },
          "colorscale": {
           "diverging": [
            [
             0,
             "#8e0152"
            ],
            [
             0.1,
             "#c51b7d"
            ],
            [
             0.2,
             "#de77ae"
            ],
            [
             0.3,
             "#f1b6da"
            ],
            [
             0.4,
             "#fde0ef"
            ],
            [
             0.5,
             "#f7f7f7"
            ],
            [
             0.6,
             "#e6f5d0"
            ],
            [
             0.7,
             "#b8e186"
            ],
            [
             0.8,
             "#7fbc41"
            ],
            [
             0.9,
             "#4d9221"
            ],
            [
             1,
             "#276419"
            ]
           ],
           "sequential": [
            [
             0,
             "#0d0887"
            ],
            [
             0.1111111111111111,
             "#46039f"
            ],
            [
             0.2222222222222222,
             "#7201a8"
            ],
            [
             0.3333333333333333,
             "#9c179e"
            ],
            [
             0.4444444444444444,
             "#bd3786"
            ],
            [
             0.5555555555555556,
             "#d8576b"
            ],
            [
             0.6666666666666666,
             "#ed7953"
            ],
            [
             0.7777777777777778,
             "#fb9f3a"
            ],
            [
             0.8888888888888888,
             "#fdca26"
            ],
            [
             1,
             "#f0f921"
            ]
           ],
           "sequentialminus": [
            [
             0,
             "#0d0887"
            ],
            [
             0.1111111111111111,
             "#46039f"
            ],
            [
             0.2222222222222222,
             "#7201a8"
            ],
            [
             0.3333333333333333,
             "#9c179e"
            ],
            [
             0.4444444444444444,
             "#bd3786"
            ],
            [
             0.5555555555555556,
             "#d8576b"
            ],
            [
             0.6666666666666666,
             "#ed7953"
            ],
            [
             0.7777777777777778,
             "#fb9f3a"
            ],
            [
             0.8888888888888888,
             "#fdca26"
            ],
            [
             1,
             "#f0f921"
            ]
           ]
          },
          "colorway": [
           "#636efa",
           "#EF553B",
           "#00cc96",
           "#ab63fa",
           "#FFA15A",
           "#19d3f3",
           "#FF6692",
           "#B6E880",
           "#FF97FF",
           "#FECB52"
          ],
          "font": {
           "color": "#2a3f5f"
          },
          "geo": {
           "bgcolor": "white",
           "lakecolor": "white",
           "landcolor": "#E5ECF6",
           "showlakes": true,
           "showland": true,
           "subunitcolor": "white"
          },
          "hoverlabel": {
           "align": "left"
          },
          "hovermode": "closest",
          "mapbox": {
           "style": "light"
          },
          "paper_bgcolor": "white",
          "plot_bgcolor": "#E5ECF6",
          "polar": {
           "angularaxis": {
            "gridcolor": "white",
            "linecolor": "white",
            "ticks": ""
           },
           "bgcolor": "#E5ECF6",
           "radialaxis": {
            "gridcolor": "white",
            "linecolor": "white",
            "ticks": ""
           }
          },
          "scene": {
           "xaxis": {
            "backgroundcolor": "#E5ECF6",
            "gridcolor": "white",
            "gridwidth": 2,
            "linecolor": "white",
            "showbackground": true,
            "ticks": "",
            "zerolinecolor": "white"
           },
           "yaxis": {
            "backgroundcolor": "#E5ECF6",
            "gridcolor": "white",
            "gridwidth": 2,
            "linecolor": "white",
            "showbackground": true,
            "ticks": "",
            "zerolinecolor": "white"
           },
           "zaxis": {
            "backgroundcolor": "#E5ECF6",
            "gridcolor": "white",
            "gridwidth": 2,
            "linecolor": "white",
            "showbackground": true,
            "ticks": "",
            "zerolinecolor": "white"
           }
          },
          "shapedefaults": {
           "line": {
            "color": "#2a3f5f"
           }
          },
          "ternary": {
           "aaxis": {
            "gridcolor": "white",
            "linecolor": "white",
            "ticks": ""
           },
           "baxis": {
            "gridcolor": "white",
            "linecolor": "white",
            "ticks": ""
           },
           "bgcolor": "#E5ECF6",
           "caxis": {
            "gridcolor": "white",
            "linecolor": "white",
            "ticks": ""
           }
          },
          "title": {
           "x": 0.05
          },
          "xaxis": {
           "automargin": true,
           "gridcolor": "white",
           "linecolor": "white",
           "ticks": "",
           "title": {
            "standoff": 15
           },
           "zerolinecolor": "white",
           "zerolinewidth": 2
          },
          "yaxis": {
           "automargin": true,
           "gridcolor": "white",
           "linecolor": "white",
           "ticks": "",
           "title": {
            "standoff": 15
           },
           "zerolinecolor": "white",
           "zerolinewidth": 2
          }
         }
        },
        "xaxis": {
         "anchor": "y",
         "domain": [
          0,
          1
         ],
         "title": {
          "text": "numero_contatos"
         }
        },
        "yaxis": {
         "anchor": "x",
         "domain": [
          0,
          1
         ]
        }
       }
      }
     },
     "metadata": {},
     "output_type": "display_data"
    }
   ],
   "source": [
    "px.box(df, x='numero_contatos', color='aderencia_investimento')"
   ]
  },
  {
   "cell_type": "markdown",
   "metadata": {},
   "source": [
    "# Tranformação de dados"
   ]
  },
  {
   "cell_type": "markdown",
   "metadata": {},
   "source": [
    "## Variáveis explicativas e variável alvo"
   ]
  },
  {
   "cell_type": "markdown",
   "metadata": {},
   "source": [
    "Para fazer a previsão dos valores com um modelo de machine learning, precisamos fazer a separação da variável alvo e variáveis explicativas. O y representa a variável que queremos prever, enquanto x representa todas as variáveis que serão utilizadas para explicar o comportamento de **y**."
   ]
  },
  {
   "cell_type": "code",
   "execution_count": 79,
   "metadata": {},
   "outputs": [
    {
     "data": {
      "text/html": [
       "<div>\n",
       "<style scoped>\n",
       "    .dataframe tbody tr th:only-of-type {\n",
       "        vertical-align: middle;\n",
       "    }\n",
       "\n",
       "    .dataframe tbody tr th {\n",
       "        vertical-align: top;\n",
       "    }\n",
       "\n",
       "    .dataframe thead th {\n",
       "        text-align: right;\n",
       "    }\n",
       "</style>\n",
       "<table border=\"1\" class=\"dataframe\">\n",
       "  <thead>\n",
       "    <tr style=\"text-align: right;\">\n",
       "      <th></th>\n",
       "      <th>idade</th>\n",
       "      <th>estado_civil</th>\n",
       "      <th>escolaridade</th>\n",
       "      <th>inadimplencia</th>\n",
       "      <th>saldo</th>\n",
       "      <th>fez_emprestimo</th>\n",
       "      <th>tempo_ult_contato</th>\n",
       "      <th>numero_contatos</th>\n",
       "      <th>aderencia_investimento</th>\n",
       "    </tr>\n",
       "  </thead>\n",
       "  <tbody>\n",
       "    <tr>\n",
       "      <th>0</th>\n",
       "      <td>45</td>\n",
       "      <td>casado (a)</td>\n",
       "      <td>superior</td>\n",
       "      <td>nao</td>\n",
       "      <td>242</td>\n",
       "      <td>nao</td>\n",
       "      <td>587</td>\n",
       "      <td>1</td>\n",
       "      <td>sim</td>\n",
       "    </tr>\n",
       "    <tr>\n",
       "      <th>1</th>\n",
       "      <td>42</td>\n",
       "      <td>casado (a)</td>\n",
       "      <td>medio</td>\n",
       "      <td>nao</td>\n",
       "      <td>1289</td>\n",
       "      <td>nao</td>\n",
       "      <td>250</td>\n",
       "      <td>4</td>\n",
       "      <td>sim</td>\n",
       "    </tr>\n",
       "    <tr>\n",
       "      <th>2</th>\n",
       "      <td>23</td>\n",
       "      <td>solteiro (a)</td>\n",
       "      <td>superior</td>\n",
       "      <td>nao</td>\n",
       "      <td>363</td>\n",
       "      <td>nao</td>\n",
       "      <td>16</td>\n",
       "      <td>18</td>\n",
       "      <td>nao</td>\n",
       "    </tr>\n",
       "    <tr>\n",
       "      <th>3</th>\n",
       "      <td>58</td>\n",
       "      <td>divorciado (a)</td>\n",
       "      <td>superior</td>\n",
       "      <td>nao</td>\n",
       "      <td>1382</td>\n",
       "      <td>nao</td>\n",
       "      <td>700</td>\n",
       "      <td>1</td>\n",
       "      <td>sim</td>\n",
       "    </tr>\n",
       "    <tr>\n",
       "      <th>4</th>\n",
       "      <td>50</td>\n",
       "      <td>casado (a)</td>\n",
       "      <td>medio</td>\n",
       "      <td>nao</td>\n",
       "      <td>3357</td>\n",
       "      <td>nao</td>\n",
       "      <td>239</td>\n",
       "      <td>4</td>\n",
       "      <td>sim</td>\n",
       "    </tr>\n",
       "    <tr>\n",
       "      <th>...</th>\n",
       "      <td>...</td>\n",
       "      <td>...</td>\n",
       "      <td>...</td>\n",
       "      <td>...</td>\n",
       "      <td>...</td>\n",
       "      <td>...</td>\n",
       "      <td>...</td>\n",
       "      <td>...</td>\n",
       "      <td>...</td>\n",
       "    </tr>\n",
       "    <tr>\n",
       "      <th>1263</th>\n",
       "      <td>52</td>\n",
       "      <td>solteiro (a)</td>\n",
       "      <td>superior</td>\n",
       "      <td>nao</td>\n",
       "      <td>83</td>\n",
       "      <td>nao</td>\n",
       "      <td>1223</td>\n",
       "      <td>6</td>\n",
       "      <td>sim</td>\n",
       "    </tr>\n",
       "    <tr>\n",
       "      <th>1264</th>\n",
       "      <td>35</td>\n",
       "      <td>solteiro (a)</td>\n",
       "      <td>superior</td>\n",
       "      <td>nao</td>\n",
       "      <td>5958</td>\n",
       "      <td>nao</td>\n",
       "      <td>215</td>\n",
       "      <td>1</td>\n",
       "      <td>sim</td>\n",
       "    </tr>\n",
       "    <tr>\n",
       "      <th>1265</th>\n",
       "      <td>30</td>\n",
       "      <td>solteiro (a)</td>\n",
       "      <td>superior</td>\n",
       "      <td>nao</td>\n",
       "      <td>-477</td>\n",
       "      <td>sim</td>\n",
       "      <td>1532</td>\n",
       "      <td>2</td>\n",
       "      <td>sim</td>\n",
       "    </tr>\n",
       "    <tr>\n",
       "      <th>1266</th>\n",
       "      <td>42</td>\n",
       "      <td>casado (a)</td>\n",
       "      <td>superior</td>\n",
       "      <td>nao</td>\n",
       "      <td>2187</td>\n",
       "      <td>nao</td>\n",
       "      <td>525</td>\n",
       "      <td>3</td>\n",
       "      <td>sim</td>\n",
       "    </tr>\n",
       "    <tr>\n",
       "      <th>1267</th>\n",
       "      <td>29</td>\n",
       "      <td>solteiro (a)</td>\n",
       "      <td>superior</td>\n",
       "      <td>nao</td>\n",
       "      <td>19</td>\n",
       "      <td>nao</td>\n",
       "      <td>110</td>\n",
       "      <td>2</td>\n",
       "      <td>sim</td>\n",
       "    </tr>\n",
       "  </tbody>\n",
       "</table>\n",
       "<p>1268 rows × 9 columns</p>\n",
       "</div>"
      ],
      "text/plain": [
       "      idade    estado_civil  ... numero_contatos aderencia_investimento\n",
       "0        45      casado (a)  ...               1                    sim\n",
       "1        42      casado (a)  ...               4                    sim\n",
       "2        23    solteiro (a)  ...              18                    nao\n",
       "3        58  divorciado (a)  ...               1                    sim\n",
       "4        50      casado (a)  ...               4                    sim\n",
       "...     ...             ...  ...             ...                    ...\n",
       "1263     52    solteiro (a)  ...               6                    sim\n",
       "1264     35    solteiro (a)  ...               1                    sim\n",
       "1265     30    solteiro (a)  ...               2                    sim\n",
       "1266     42      casado (a)  ...               3                    sim\n",
       "1267     29    solteiro (a)  ...               2                    sim\n",
       "\n",
       "[1268 rows x 9 columns]"
      ]
     },
     "execution_count": 79,
     "metadata": {},
     "output_type": "execute_result"
    }
   ],
   "source": [
    "df"
   ]
  },
  {
   "cell_type": "code",
   "execution_count": 80,
   "metadata": {},
   "outputs": [],
   "source": [
    "X = df.drop('aderencia_investimento', axis=1)\n",
    "y = df['aderencia_investimento']"
   ]
  },
  {
   "cell_type": "code",
   "execution_count": 81,
   "metadata": {},
   "outputs": [
    {
     "data": {
      "text/html": [
       "<div>\n",
       "<style scoped>\n",
       "    .dataframe tbody tr th:only-of-type {\n",
       "        vertical-align: middle;\n",
       "    }\n",
       "\n",
       "    .dataframe tbody tr th {\n",
       "        vertical-align: top;\n",
       "    }\n",
       "\n",
       "    .dataframe thead th {\n",
       "        text-align: right;\n",
       "    }\n",
       "</style>\n",
       "<table border=\"1\" class=\"dataframe\">\n",
       "  <thead>\n",
       "    <tr style=\"text-align: right;\">\n",
       "      <th></th>\n",
       "      <th>idade</th>\n",
       "      <th>estado_civil</th>\n",
       "      <th>escolaridade</th>\n",
       "      <th>inadimplencia</th>\n",
       "      <th>saldo</th>\n",
       "      <th>fez_emprestimo</th>\n",
       "      <th>tempo_ult_contato</th>\n",
       "      <th>numero_contatos</th>\n",
       "    </tr>\n",
       "  </thead>\n",
       "  <tbody>\n",
       "    <tr>\n",
       "      <th>0</th>\n",
       "      <td>45</td>\n",
       "      <td>casado (a)</td>\n",
       "      <td>superior</td>\n",
       "      <td>nao</td>\n",
       "      <td>242</td>\n",
       "      <td>nao</td>\n",
       "      <td>587</td>\n",
       "      <td>1</td>\n",
       "    </tr>\n",
       "    <tr>\n",
       "      <th>1</th>\n",
       "      <td>42</td>\n",
       "      <td>casado (a)</td>\n",
       "      <td>medio</td>\n",
       "      <td>nao</td>\n",
       "      <td>1289</td>\n",
       "      <td>nao</td>\n",
       "      <td>250</td>\n",
       "      <td>4</td>\n",
       "    </tr>\n",
       "    <tr>\n",
       "      <th>2</th>\n",
       "      <td>23</td>\n",
       "      <td>solteiro (a)</td>\n",
       "      <td>superior</td>\n",
       "      <td>nao</td>\n",
       "      <td>363</td>\n",
       "      <td>nao</td>\n",
       "      <td>16</td>\n",
       "      <td>18</td>\n",
       "    </tr>\n",
       "    <tr>\n",
       "      <th>3</th>\n",
       "      <td>58</td>\n",
       "      <td>divorciado (a)</td>\n",
       "      <td>superior</td>\n",
       "      <td>nao</td>\n",
       "      <td>1382</td>\n",
       "      <td>nao</td>\n",
       "      <td>700</td>\n",
       "      <td>1</td>\n",
       "    </tr>\n",
       "    <tr>\n",
       "      <th>4</th>\n",
       "      <td>50</td>\n",
       "      <td>casado (a)</td>\n",
       "      <td>medio</td>\n",
       "      <td>nao</td>\n",
       "      <td>3357</td>\n",
       "      <td>nao</td>\n",
       "      <td>239</td>\n",
       "      <td>4</td>\n",
       "    </tr>\n",
       "    <tr>\n",
       "      <th>...</th>\n",
       "      <td>...</td>\n",
       "      <td>...</td>\n",
       "      <td>...</td>\n",
       "      <td>...</td>\n",
       "      <td>...</td>\n",
       "      <td>...</td>\n",
       "      <td>...</td>\n",
       "      <td>...</td>\n",
       "    </tr>\n",
       "    <tr>\n",
       "      <th>1263</th>\n",
       "      <td>52</td>\n",
       "      <td>solteiro (a)</td>\n",
       "      <td>superior</td>\n",
       "      <td>nao</td>\n",
       "      <td>83</td>\n",
       "      <td>nao</td>\n",
       "      <td>1223</td>\n",
       "      <td>6</td>\n",
       "    </tr>\n",
       "    <tr>\n",
       "      <th>1264</th>\n",
       "      <td>35</td>\n",
       "      <td>solteiro (a)</td>\n",
       "      <td>superior</td>\n",
       "      <td>nao</td>\n",
       "      <td>5958</td>\n",
       "      <td>nao</td>\n",
       "      <td>215</td>\n",
       "      <td>1</td>\n",
       "    </tr>\n",
       "    <tr>\n",
       "      <th>1265</th>\n",
       "      <td>30</td>\n",
       "      <td>solteiro (a)</td>\n",
       "      <td>superior</td>\n",
       "      <td>nao</td>\n",
       "      <td>-477</td>\n",
       "      <td>sim</td>\n",
       "      <td>1532</td>\n",
       "      <td>2</td>\n",
       "    </tr>\n",
       "    <tr>\n",
       "      <th>1266</th>\n",
       "      <td>42</td>\n",
       "      <td>casado (a)</td>\n",
       "      <td>superior</td>\n",
       "      <td>nao</td>\n",
       "      <td>2187</td>\n",
       "      <td>nao</td>\n",
       "      <td>525</td>\n",
       "      <td>3</td>\n",
       "    </tr>\n",
       "    <tr>\n",
       "      <th>1267</th>\n",
       "      <td>29</td>\n",
       "      <td>solteiro (a)</td>\n",
       "      <td>superior</td>\n",
       "      <td>nao</td>\n",
       "      <td>19</td>\n",
       "      <td>nao</td>\n",
       "      <td>110</td>\n",
       "      <td>2</td>\n",
       "    </tr>\n",
       "  </tbody>\n",
       "</table>\n",
       "<p>1268 rows × 8 columns</p>\n",
       "</div>"
      ],
      "text/plain": [
       "      idade    estado_civil  ... tempo_ult_contato numero_contatos\n",
       "0        45      casado (a)  ...               587               1\n",
       "1        42      casado (a)  ...               250               4\n",
       "2        23    solteiro (a)  ...                16              18\n",
       "3        58  divorciado (a)  ...               700               1\n",
       "4        50      casado (a)  ...               239               4\n",
       "...     ...             ...  ...               ...             ...\n",
       "1263     52    solteiro (a)  ...              1223               6\n",
       "1264     35    solteiro (a)  ...               215               1\n",
       "1265     30    solteiro (a)  ...              1532               2\n",
       "1266     42      casado (a)  ...               525               3\n",
       "1267     29    solteiro (a)  ...               110               2\n",
       "\n",
       "[1268 rows x 8 columns]"
      ]
     },
     "execution_count": 81,
     "metadata": {},
     "output_type": "execute_result"
    }
   ],
   "source": [
    "X"
   ]
  },
  {
   "cell_type": "code",
   "execution_count": 82,
   "metadata": {},
   "outputs": [
    {
     "data": {
      "text/plain": [
       "0       sim\n",
       "1       sim\n",
       "2       nao\n",
       "3       sim\n",
       "4       sim\n",
       "       ... \n",
       "1263    sim\n",
       "1264    sim\n",
       "1265    sim\n",
       "1266    sim\n",
       "1267    sim\n",
       "Name: aderencia_investimento, Length: 1268, dtype: object"
      ]
     },
     "execution_count": 82,
     "metadata": {},
     "output_type": "execute_result"
    }
   ],
   "source": [
    "y"
   ]
  },
  {
   "cell_type": "code",
   "execution_count": null,
   "metadata": {},
   "outputs": [],
   "source": []
  },
  {
   "cell_type": "markdown",
   "metadata": {},
   "source": [
    "## Transformando as variáveis explicativas"
   ]
  },
  {
   "cell_type": "markdown",
   "metadata": {},
   "source": [
    "Os algoritmos de machine learning não compreendem dados no formato de texto, portanto devemos fazer transformações nos dados para o formato numérico para que o algoritmo consiga compreender as informações. Essa transformação precisa ser feita de forma que não altere a informação original do conjunto de dados, portanto não basta simplesmente alterar os valores para valores numéricos aleatórios."
   ]
  },
  {
   "cell_type": "markdown",
   "metadata": {},
   "source": [
    "![image.png](data:image/png;base64,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)"
   ]
  },
  {
   "cell_type": "code",
   "execution_count": 83,
   "metadata": {},
   "outputs": [],
   "source": [
    "from sklearn.compose import make_column_transformer\n",
    "from sklearn.preprocessing import OneHotEncoder, StandardScaler"
   ]
  },
  {
   "cell_type": "code",
   "execution_count": 84,
   "metadata": {},
   "outputs": [],
   "source": [
    "colunas = X.columns"
   ]
  },
  {
   "cell_type": "code",
   "execution_count": 85,
   "metadata": {},
   "outputs": [],
   "source": [
    "one_hot = make_column_transformer((\n",
    "    OneHotEncoder(drop='if_binary'),\n",
    "    ['estado_civil', 'escolaridade', 'inadimplencia', 'fez_emprestimo']\n",
    "),\n",
    "    remainder='passthrough',\n",
    "    sparse_threshold=0)"
   ]
  },
  {
   "cell_type": "code",
   "execution_count": 86,
   "metadata": {},
   "outputs": [],
   "source": [
    "X = one_hot.fit_transform(X)"
   ]
  },
  {
   "cell_type": "code",
   "execution_count": 87,
   "metadata": {},
   "outputs": [
    {
     "data": {
      "text/plain": [
       "array(['onehotencoder__estado_civil_casado (a)',\n",
       "       'onehotencoder__estado_civil_divorciado (a)',\n",
       "       'onehotencoder__estado_civil_solteiro (a)',\n",
       "       'onehotencoder__escolaridade_fundamental',\n",
       "       'onehotencoder__escolaridade_medio',\n",
       "       'onehotencoder__escolaridade_superior',\n",
       "       'onehotencoder__inadimplencia_sim',\n",
       "       'onehotencoder__fez_emprestimo_sim', 'remainder__idade',\n",
       "       'remainder__saldo', 'remainder__tempo_ult_contato',\n",
       "       'remainder__numero_contatos'], dtype=object)"
      ]
     },
     "execution_count": 87,
     "metadata": {},
     "output_type": "execute_result"
    }
   ],
   "source": [
    "one_hot.get_feature_names_out(colunas)"
   ]
  },
  {
   "cell_type": "code",
   "execution_count": 88,
   "metadata": {},
   "outputs": [
    {
     "data": {
      "text/html": [
       "<div>\n",
       "<style scoped>\n",
       "    .dataframe tbody tr th:only-of-type {\n",
       "        vertical-align: middle;\n",
       "    }\n",
       "\n",
       "    .dataframe tbody tr th {\n",
       "        vertical-align: top;\n",
       "    }\n",
       "\n",
       "    .dataframe thead th {\n",
       "        text-align: right;\n",
       "    }\n",
       "</style>\n",
       "<table border=\"1\" class=\"dataframe\">\n",
       "  <thead>\n",
       "    <tr style=\"text-align: right;\">\n",
       "      <th></th>\n",
       "      <th>onehotencoder__estado_civil_casado (a)</th>\n",
       "      <th>onehotencoder__estado_civil_divorciado (a)</th>\n",
       "      <th>onehotencoder__estado_civil_solteiro (a)</th>\n",
       "      <th>onehotencoder__escolaridade_fundamental</th>\n",
       "      <th>onehotencoder__escolaridade_medio</th>\n",
       "      <th>onehotencoder__escolaridade_superior</th>\n",
       "      <th>onehotencoder__inadimplencia_sim</th>\n",
       "      <th>onehotencoder__fez_emprestimo_sim</th>\n",
       "      <th>remainder__idade</th>\n",
       "      <th>remainder__saldo</th>\n",
       "      <th>remainder__tempo_ult_contato</th>\n",
       "      <th>remainder__numero_contatos</th>\n",
       "    </tr>\n",
       "  </thead>\n",
       "  <tbody>\n",
       "    <tr>\n",
       "      <th>0</th>\n",
       "      <td>1.0</td>\n",
       "      <td>0.0</td>\n",
       "      <td>0.0</td>\n",
       "      <td>0.0</td>\n",
       "      <td>0.0</td>\n",
       "      <td>1.0</td>\n",
       "      <td>0.0</td>\n",
       "      <td>0.0</td>\n",
       "      <td>45.0</td>\n",
       "      <td>242.0</td>\n",
       "      <td>587.0</td>\n",
       "      <td>1.0</td>\n",
       "    </tr>\n",
       "    <tr>\n",
       "      <th>1</th>\n",
       "      <td>1.0</td>\n",
       "      <td>0.0</td>\n",
       "      <td>0.0</td>\n",
       "      <td>0.0</td>\n",
       "      <td>1.0</td>\n",
       "      <td>0.0</td>\n",
       "      <td>0.0</td>\n",
       "      <td>0.0</td>\n",
       "      <td>42.0</td>\n",
       "      <td>1289.0</td>\n",
       "      <td>250.0</td>\n",
       "      <td>4.0</td>\n",
       "    </tr>\n",
       "    <tr>\n",
       "      <th>2</th>\n",
       "      <td>0.0</td>\n",
       "      <td>0.0</td>\n",
       "      <td>1.0</td>\n",
       "      <td>0.0</td>\n",
       "      <td>0.0</td>\n",
       "      <td>1.0</td>\n",
       "      <td>0.0</td>\n",
       "      <td>0.0</td>\n",
       "      <td>23.0</td>\n",
       "      <td>363.0</td>\n",
       "      <td>16.0</td>\n",
       "      <td>18.0</td>\n",
       "    </tr>\n",
       "    <tr>\n",
       "      <th>3</th>\n",
       "      <td>0.0</td>\n",
       "      <td>1.0</td>\n",
       "      <td>0.0</td>\n",
       "      <td>0.0</td>\n",
       "      <td>0.0</td>\n",
       "      <td>1.0</td>\n",
       "      <td>0.0</td>\n",
       "      <td>0.0</td>\n",
       "      <td>58.0</td>\n",
       "      <td>1382.0</td>\n",
       "      <td>700.0</td>\n",
       "      <td>1.0</td>\n",
       "    </tr>\n",
       "    <tr>\n",
       "      <th>4</th>\n",
       "      <td>1.0</td>\n",
       "      <td>0.0</td>\n",
       "      <td>0.0</td>\n",
       "      <td>0.0</td>\n",
       "      <td>1.0</td>\n",
       "      <td>0.0</td>\n",
       "      <td>0.0</td>\n",
       "      <td>0.0</td>\n",
       "      <td>50.0</td>\n",
       "      <td>3357.0</td>\n",
       "      <td>239.0</td>\n",
       "      <td>4.0</td>\n",
       "    </tr>\n",
       "    <tr>\n",
       "      <th>...</th>\n",
       "      <td>...</td>\n",
       "      <td>...</td>\n",
       "      <td>...</td>\n",
       "      <td>...</td>\n",
       "      <td>...</td>\n",
       "      <td>...</td>\n",
       "      <td>...</td>\n",
       "      <td>...</td>\n",
       "      <td>...</td>\n",
       "      <td>...</td>\n",
       "      <td>...</td>\n",
       "      <td>...</td>\n",
       "    </tr>\n",
       "    <tr>\n",
       "      <th>1263</th>\n",
       "      <td>0.0</td>\n",
       "      <td>0.0</td>\n",
       "      <td>1.0</td>\n",
       "      <td>0.0</td>\n",
       "      <td>0.0</td>\n",
       "      <td>1.0</td>\n",
       "      <td>0.0</td>\n",
       "      <td>0.0</td>\n",
       "      <td>52.0</td>\n",
       "      <td>83.0</td>\n",
       "      <td>1223.0</td>\n",
       "      <td>6.0</td>\n",
       "    </tr>\n",
       "    <tr>\n",
       "      <th>1264</th>\n",
       "      <td>0.0</td>\n",
       "      <td>0.0</td>\n",
       "      <td>1.0</td>\n",
       "      <td>0.0</td>\n",
       "      <td>0.0</td>\n",
       "      <td>1.0</td>\n",
       "      <td>0.0</td>\n",
       "      <td>0.0</td>\n",
       "      <td>35.0</td>\n",
       "      <td>5958.0</td>\n",
       "      <td>215.0</td>\n",
       "      <td>1.0</td>\n",
       "    </tr>\n",
       "    <tr>\n",
       "      <th>1265</th>\n",
       "      <td>0.0</td>\n",
       "      <td>0.0</td>\n",
       "      <td>1.0</td>\n",
       "      <td>0.0</td>\n",
       "      <td>0.0</td>\n",
       "      <td>1.0</td>\n",
       "      <td>0.0</td>\n",
       "      <td>1.0</td>\n",
       "      <td>30.0</td>\n",
       "      <td>-477.0</td>\n",
       "      <td>1532.0</td>\n",
       "      <td>2.0</td>\n",
       "    </tr>\n",
       "    <tr>\n",
       "      <th>1266</th>\n",
       "      <td>1.0</td>\n",
       "      <td>0.0</td>\n",
       "      <td>0.0</td>\n",
       "      <td>0.0</td>\n",
       "      <td>0.0</td>\n",
       "      <td>1.0</td>\n",
       "      <td>0.0</td>\n",
       "      <td>0.0</td>\n",
       "      <td>42.0</td>\n",
       "      <td>2187.0</td>\n",
       "      <td>525.0</td>\n",
       "      <td>3.0</td>\n",
       "    </tr>\n",
       "    <tr>\n",
       "      <th>1267</th>\n",
       "      <td>0.0</td>\n",
       "      <td>0.0</td>\n",
       "      <td>1.0</td>\n",
       "      <td>0.0</td>\n",
       "      <td>0.0</td>\n",
       "      <td>1.0</td>\n",
       "      <td>0.0</td>\n",
       "      <td>0.0</td>\n",
       "      <td>29.0</td>\n",
       "      <td>19.0</td>\n",
       "      <td>110.0</td>\n",
       "      <td>2.0</td>\n",
       "    </tr>\n",
       "  </tbody>\n",
       "</table>\n",
       "<p>1268 rows × 12 columns</p>\n",
       "</div>"
      ],
      "text/plain": [
       "      onehotencoder__estado_civil_casado (a)  ...  remainder__numero_contatos\n",
       "0                                        1.0  ...                         1.0\n",
       "1                                        1.0  ...                         4.0\n",
       "2                                        0.0  ...                        18.0\n",
       "3                                        0.0  ...                         1.0\n",
       "4                                        1.0  ...                         4.0\n",
       "...                                      ...  ...                         ...\n",
       "1263                                     0.0  ...                         6.0\n",
       "1264                                     0.0  ...                         1.0\n",
       "1265                                     0.0  ...                         2.0\n",
       "1266                                     1.0  ...                         3.0\n",
       "1267                                     0.0  ...                         2.0\n",
       "\n",
       "[1268 rows x 12 columns]"
      ]
     },
     "execution_count": 88,
     "metadata": {},
     "output_type": "execute_result"
    }
   ],
   "source": [
    "pd.DataFrame(X, columns=one_hot.get_feature_names_out(colunas))"
   ]
  },
  {
   "cell_type": "markdown",
   "metadata": {},
   "source": [
    "## Transformando a variável alvo"
   ]
  },
  {
   "cell_type": "markdown",
   "metadata": {},
   "source": [
    "Assim como as variáveis explicativas, a variável alvo também precisa ser alterada para o formato numérico. Podemos representar uma variável alvo binária como 0 ou 1, onde 0 indica ausência da característica da variável e 1 representa a presença da característica."
   ]
  },
  {
   "cell_type": "code",
   "execution_count": 89,
   "metadata": {},
   "outputs": [],
   "source": [
    "from sklearn.preprocessing import LabelEncoder"
   ]
  },
  {
   "cell_type": "code",
   "execution_count": 90,
   "metadata": {},
   "outputs": [],
   "source": [
    "label_encoder = LabelEncoder()"
   ]
  },
  {
   "cell_type": "code",
   "execution_count": 91,
   "metadata": {},
   "outputs": [],
   "source": [
    "y = label_encoder.fit_transform(y)"
   ]
  },
  {
   "cell_type": "code",
   "execution_count": 92,
   "metadata": {},
   "outputs": [
    {
     "data": {
      "text/plain": [
       "array([1, 1, 0, ..., 1, 1, 1], shape=(1268,))"
      ]
     },
     "execution_count": 92,
     "metadata": {},
     "output_type": "execute_result"
    }
   ],
   "source": [
    "y"
   ]
  },
  {
   "cell_type": "markdown",
   "metadata": {},
   "source": [
    "# Ajustando modelos"
   ]
  },
  {
   "cell_type": "markdown",
   "metadata": {},
   "source": [
    "## Dividindo os dados entre treino e teste"
   ]
  },
  {
   "cell_type": "markdown",
   "metadata": {},
   "source": [
    "Para compreender se o modelo está de fato aprendendo com os dados, precisamos fazer uma separação dos dados entre treinamento e teste. Os dados de **treinamento** são usados para ajustar o modelo, enquanto os dados de **teste** servem para verificar o aprendizado do modelo em dados que não foram utilizados no momento do ajuste."
   ]
  },
  {
   "cell_type": "markdown",
   "metadata": {},
   "source": [
    "![2023-07-13_13-45.png](data:image/png;base64,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)"
   ]
  },
  {
   "cell_type": "code",
   "execution_count": 93,
   "metadata": {},
   "outputs": [],
   "source": [
    "from sklearn.model_selection import train_test_split"
   ]
  },
  {
   "cell_type": "code",
   "execution_count": 94,
   "metadata": {},
   "outputs": [],
   "source": [
    "X_train, X_test, y_train, y_test = train_test_split(X, y, stratify=y, random_state=5)"
   ]
  },
  {
   "cell_type": "markdown",
   "metadata": {},
   "source": [
    "## Modelo de base"
   ]
  },
  {
   "cell_type": "markdown",
   "metadata": {},
   "source": [
    "O modelo mais simples de classificar os dados é simplesmente utilizar um algoritmo que chuta todas as classificações para a classe que tem maior frequência. Esse algoritmo serve como um critério de comparação, para identificar se os outros modelos tem um desempenho melhor do que a classificação mais simples possível."
   ]
  },
  {
   "cell_type": "code",
   "execution_count": 95,
   "metadata": {},
   "outputs": [],
   "source": [
    "from sklearn.dummy import DummyClassifier"
   ]
  },
  {
   "cell_type": "code",
   "execution_count": 96,
   "metadata": {},
   "outputs": [
    {
     "data": {
      "text/plain": [
       "0.6025236593059937"
      ]
     },
     "execution_count": 96,
     "metadata": {},
     "output_type": "execute_result"
    }
   ],
   "source": [
    "dummy = DummyClassifier()\n",
    "dummy.fit(X_train, y_train)\n",
    "\n",
    "dummy.score(X_test, y_test)"
   ]
  },
  {
   "cell_type": "markdown",
   "metadata": {},
   "source": [
    "## Árvore de decisão"
   ]
  },
  {
   "cell_type": "markdown",
   "metadata": {},
   "source": [
    "O modelo de árvore de decisão é muito utilizado pela sua alta **explicabilidade** e **processamento rápido**, mantendo um desempenho bem interessante.\n",
    "\n",
    "Ele se baseia em decisões simples tomadas pelo algoritmo, separando os dados com base em comparações de **menor** e **maior** nos valores das colunas da base de dados."
   ]
  },
  {
   "cell_type": "code",
   "execution_count": 97,
   "metadata": {},
   "outputs": [],
   "source": [
    "from sklearn.tree import DecisionTreeClassifier"
   ]
  },
  {
   "cell_type": "code",
   "execution_count": 98,
   "metadata": {},
   "outputs": [
    {
     "data": {
      "text/html": [
       "<style>#sk-container-id-5 {\n",
       "  /* Definition of color scheme common for light and dark mode */\n",
       "  --sklearn-color-text: #000;\n",
       "  --sklearn-color-text-muted: #666;\n",
       "  --sklearn-color-line: gray;\n",
       "  /* Definition of color scheme for unfitted estimators */\n",
       "  --sklearn-color-unfitted-level-0: #fff5e6;\n",
       "  --sklearn-color-unfitted-level-1: #f6e4d2;\n",
       "  --sklearn-color-unfitted-level-2: #ffe0b3;\n",
       "  --sklearn-color-unfitted-level-3: chocolate;\n",
       "  /* Definition of color scheme for fitted estimators */\n",
       "  --sklearn-color-fitted-level-0: #f0f8ff;\n",
       "  --sklearn-color-fitted-level-1: #d4ebff;\n",
       "  --sklearn-color-fitted-level-2: #b3dbfd;\n",
       "  --sklearn-color-fitted-level-3: cornflowerblue;\n",
       "\n",
       "  /* Specific color for light theme */\n",
       "  --sklearn-color-text-on-default-background: var(--sg-text-color, var(--theme-code-foreground, var(--jp-content-font-color1, black)));\n",
       "  --sklearn-color-background: var(--sg-background-color, var(--theme-background, var(--jp-layout-color0, white)));\n",
       "  --sklearn-color-border-box: var(--sg-text-color, var(--theme-code-foreground, var(--jp-content-font-color1, black)));\n",
       "  --sklearn-color-icon: #696969;\n",
       "\n",
       "  @media (prefers-color-scheme: dark) {\n",
       "    /* Redefinition of color scheme for dark theme */\n",
       "    --sklearn-color-text-on-default-background: var(--sg-text-color, var(--theme-code-foreground, var(--jp-content-font-color1, white)));\n",
       "    --sklearn-color-background: var(--sg-background-color, var(--theme-background, var(--jp-layout-color0, #111)));\n",
       "    --sklearn-color-border-box: var(--sg-text-color, var(--theme-code-foreground, var(--jp-content-font-color1, white)));\n",
       "    --sklearn-color-icon: #878787;\n",
       "  }\n",
       "}\n",
       "\n",
       "#sk-container-id-5 {\n",
       "  color: var(--sklearn-color-text);\n",
       "}\n",
       "\n",
       "#sk-container-id-5 pre {\n",
       "  padding: 0;\n",
       "}\n",
       "\n",
       "#sk-container-id-5 input.sk-hidden--visually {\n",
       "  border: 0;\n",
       "  clip: rect(1px 1px 1px 1px);\n",
       "  clip: rect(1px, 1px, 1px, 1px);\n",
       "  height: 1px;\n",
       "  margin: -1px;\n",
       "  overflow: hidden;\n",
       "  padding: 0;\n",
       "  position: absolute;\n",
       "  width: 1px;\n",
       "}\n",
       "\n",
       "#sk-container-id-5 div.sk-dashed-wrapped {\n",
       "  border: 1px dashed var(--sklearn-color-line);\n",
       "  margin: 0 0.4em 0.5em 0.4em;\n",
       "  box-sizing: border-box;\n",
       "  padding-bottom: 0.4em;\n",
       "  background-color: var(--sklearn-color-background);\n",
       "}\n",
       "\n",
       "#sk-container-id-5 div.sk-container {\n",
       "  /* jupyter's `normalize.less` sets `[hidden] { display: none; }`\n",
       "     but bootstrap.min.css set `[hidden] { display: none !important; }`\n",
       "     so we also need the `!important` here to be able to override the\n",
       "     default hidden behavior on the sphinx rendered scikit-learn.org.\n",
       "     See: https://github.com/scikit-learn/scikit-learn/issues/21755 */\n",
       "  display: inline-block !important;\n",
       "  position: relative;\n",
       "}\n",
       "\n",
       "#sk-container-id-5 div.sk-text-repr-fallback {\n",
       "  display: none;\n",
       "}\n",
       "\n",
       "div.sk-parallel-item,\n",
       "div.sk-serial,\n",
       "div.sk-item {\n",
       "  /* draw centered vertical line to link estimators */\n",
       "  background-image: linear-gradient(var(--sklearn-color-text-on-default-background), var(--sklearn-color-text-on-default-background));\n",
       "  background-size: 2px 100%;\n",
       "  background-repeat: no-repeat;\n",
       "  background-position: center center;\n",
       "}\n",
       "\n",
       "/* Parallel-specific style estimator block */\n",
       "\n",
       "#sk-container-id-5 div.sk-parallel-item::after {\n",
       "  content: \"\";\n",
       "  width: 100%;\n",
       "  border-bottom: 2px solid var(--sklearn-color-text-on-default-background);\n",
       "  flex-grow: 1;\n",
       "}\n",
       "\n",
       "#sk-container-id-5 div.sk-parallel {\n",
       "  display: flex;\n",
       "  align-items: stretch;\n",
       "  justify-content: center;\n",
       "  background-color: var(--sklearn-color-background);\n",
       "  position: relative;\n",
       "}\n",
       "\n",
       "#sk-container-id-5 div.sk-parallel-item {\n",
       "  display: flex;\n",
       "  flex-direction: column;\n",
       "}\n",
       "\n",
       "#sk-container-id-5 div.sk-parallel-item:first-child::after {\n",
       "  align-self: flex-end;\n",
       "  width: 50%;\n",
       "}\n",
       "\n",
       "#sk-container-id-5 div.sk-parallel-item:last-child::after {\n",
       "  align-self: flex-start;\n",
       "  width: 50%;\n",
       "}\n",
       "\n",
       "#sk-container-id-5 div.sk-parallel-item:only-child::after {\n",
       "  width: 0;\n",
       "}\n",
       "\n",
       "/* Serial-specific style estimator block */\n",
       "\n",
       "#sk-container-id-5 div.sk-serial {\n",
       "  display: flex;\n",
       "  flex-direction: column;\n",
       "  align-items: center;\n",
       "  background-color: var(--sklearn-color-background);\n",
       "  padding-right: 1em;\n",
       "  padding-left: 1em;\n",
       "}\n",
       "\n",
       "\n",
       "/* Toggleable style: style used for estimator/Pipeline/ColumnTransformer box that is\n",
       "clickable and can be expanded/collapsed.\n",
       "- Pipeline and ColumnTransformer use this feature and define the default style\n",
       "- Estimators will overwrite some part of the style using the `sk-estimator` class\n",
       "*/\n",
       "\n",
       "/* Pipeline and ColumnTransformer style (default) */\n",
       "\n",
       "#sk-container-id-5 div.sk-toggleable {\n",
       "  /* Default theme specific background. It is overwritten whether we have a\n",
       "  specific estimator or a Pipeline/ColumnTransformer */\n",
       "  background-color: var(--sklearn-color-background);\n",
       "}\n",
       "\n",
       "/* Toggleable label */\n",
       "#sk-container-id-5 label.sk-toggleable__label {\n",
       "  cursor: pointer;\n",
       "  display: flex;\n",
       "  width: 100%;\n",
       "  margin-bottom: 0;\n",
       "  padding: 0.5em;\n",
       "  box-sizing: border-box;\n",
       "  text-align: center;\n",
       "  align-items: start;\n",
       "  justify-content: space-between;\n",
       "  gap: 0.5em;\n",
       "}\n",
       "\n",
       "#sk-container-id-5 label.sk-toggleable__label .caption {\n",
       "  font-size: 0.6rem;\n",
       "  font-weight: lighter;\n",
       "  color: var(--sklearn-color-text-muted);\n",
       "}\n",
       "\n",
       "#sk-container-id-5 label.sk-toggleable__label-arrow:before {\n",
       "  /* Arrow on the left of the label */\n",
       "  content: \"▸\";\n",
       "  float: left;\n",
       "  margin-right: 0.25em;\n",
       "  color: var(--sklearn-color-icon);\n",
       "}\n",
       "\n",
       "#sk-container-id-5 label.sk-toggleable__label-arrow:hover:before {\n",
       "  color: var(--sklearn-color-text);\n",
       "}\n",
       "\n",
       "/* Toggleable content - dropdown */\n",
       "\n",
       "#sk-container-id-5 div.sk-toggleable__content {\n",
       "  display: none;\n",
       "  text-align: left;\n",
       "  /* unfitted */\n",
       "  background-color: var(--sklearn-color-unfitted-level-0);\n",
       "}\n",
       "\n",
       "#sk-container-id-5 div.sk-toggleable__content.fitted {\n",
       "  /* fitted */\n",
       "  background-color: var(--sklearn-color-fitted-level-0);\n",
       "}\n",
       "\n",
       "#sk-container-id-5 div.sk-toggleable__content pre {\n",
       "  margin: 0.2em;\n",
       "  border-radius: 0.25em;\n",
       "  color: var(--sklearn-color-text);\n",
       "  /* unfitted */\n",
       "  background-color: var(--sklearn-color-unfitted-level-0);\n",
       "}\n",
       "\n",
       "#sk-container-id-5 div.sk-toggleable__content.fitted pre {\n",
       "  /* unfitted */\n",
       "  background-color: var(--sklearn-color-fitted-level-0);\n",
       "}\n",
       "\n",
       "#sk-container-id-5 input.sk-toggleable__control:checked~div.sk-toggleable__content {\n",
       "  /* Expand drop-down */\n",
       "  display: block;\n",
       "  width: 100%;\n",
       "  overflow: visible;\n",
       "}\n",
       "\n",
       "#sk-container-id-5 input.sk-toggleable__control:checked~label.sk-toggleable__label-arrow:before {\n",
       "  content: \"▾\";\n",
       "}\n",
       "\n",
       "/* Pipeline/ColumnTransformer-specific style */\n",
       "\n",
       "#sk-container-id-5 div.sk-label input.sk-toggleable__control:checked~label.sk-toggleable__label {\n",
       "  color: var(--sklearn-color-text);\n",
       "  background-color: var(--sklearn-color-unfitted-level-2);\n",
       "}\n",
       "\n",
       "#sk-container-id-5 div.sk-label.fitted input.sk-toggleable__control:checked~label.sk-toggleable__label {\n",
       "  background-color: var(--sklearn-color-fitted-level-2);\n",
       "}\n",
       "\n",
       "/* Estimator-specific style */\n",
       "\n",
       "/* Colorize estimator box */\n",
       "#sk-container-id-5 div.sk-estimator input.sk-toggleable__control:checked~label.sk-toggleable__label {\n",
       "  /* unfitted */\n",
       "  background-color: var(--sklearn-color-unfitted-level-2);\n",
       "}\n",
       "\n",
       "#sk-container-id-5 div.sk-estimator.fitted input.sk-toggleable__control:checked~label.sk-toggleable__label {\n",
       "  /* fitted */\n",
       "  background-color: var(--sklearn-color-fitted-level-2);\n",
       "}\n",
       "\n",
       "#sk-container-id-5 div.sk-label label.sk-toggleable__label,\n",
       "#sk-container-id-5 div.sk-label label {\n",
       "  /* The background is the default theme color */\n",
       "  color: var(--sklearn-color-text-on-default-background);\n",
       "}\n",
       "\n",
       "/* On hover, darken the color of the background */\n",
       "#sk-container-id-5 div.sk-label:hover label.sk-toggleable__label {\n",
       "  color: var(--sklearn-color-text);\n",
       "  background-color: var(--sklearn-color-unfitted-level-2);\n",
       "}\n",
       "\n",
       "/* Label box, darken color on hover, fitted */\n",
       "#sk-container-id-5 div.sk-label.fitted:hover label.sk-toggleable__label.fitted {\n",
       "  color: var(--sklearn-color-text);\n",
       "  background-color: var(--sklearn-color-fitted-level-2);\n",
       "}\n",
       "\n",
       "/* Estimator label */\n",
       "\n",
       "#sk-container-id-5 div.sk-label label {\n",
       "  font-family: monospace;\n",
       "  font-weight: bold;\n",
       "  display: inline-block;\n",
       "  line-height: 1.2em;\n",
       "}\n",
       "\n",
       "#sk-container-id-5 div.sk-label-container {\n",
       "  text-align: center;\n",
       "}\n",
       "\n",
       "/* Estimator-specific */\n",
       "#sk-container-id-5 div.sk-estimator {\n",
       "  font-family: monospace;\n",
       "  border: 1px dotted var(--sklearn-color-border-box);\n",
       "  border-radius: 0.25em;\n",
       "  box-sizing: border-box;\n",
       "  margin-bottom: 0.5em;\n",
       "  /* unfitted */\n",
       "  background-color: var(--sklearn-color-unfitted-level-0);\n",
       "}\n",
       "\n",
       "#sk-container-id-5 div.sk-estimator.fitted {\n",
       "  /* fitted */\n",
       "  background-color: var(--sklearn-color-fitted-level-0);\n",
       "}\n",
       "\n",
       "/* on hover */\n",
       "#sk-container-id-5 div.sk-estimator:hover {\n",
       "  /* unfitted */\n",
       "  background-color: var(--sklearn-color-unfitted-level-2);\n",
       "}\n",
       "\n",
       "#sk-container-id-5 div.sk-estimator.fitted:hover {\n",
       "  /* fitted */\n",
       "  background-color: var(--sklearn-color-fitted-level-2);\n",
       "}\n",
       "\n",
       "/* Specification for estimator info (e.g. \"i\" and \"?\") */\n",
       "\n",
       "/* Common style for \"i\" and \"?\" */\n",
       "\n",
       ".sk-estimator-doc-link,\n",
       "a:link.sk-estimator-doc-link,\n",
       "a:visited.sk-estimator-doc-link {\n",
       "  float: right;\n",
       "  font-size: smaller;\n",
       "  line-height: 1em;\n",
       "  font-family: monospace;\n",
       "  background-color: var(--sklearn-color-background);\n",
       "  border-radius: 1em;\n",
       "  height: 1em;\n",
       "  width: 1em;\n",
       "  text-decoration: none !important;\n",
       "  margin-left: 0.5em;\n",
       "  text-align: center;\n",
       "  /* unfitted */\n",
       "  border: var(--sklearn-color-unfitted-level-1) 1pt solid;\n",
       "  color: var(--sklearn-color-unfitted-level-1);\n",
       "}\n",
       "\n",
       ".sk-estimator-doc-link.fitted,\n",
       "a:link.sk-estimator-doc-link.fitted,\n",
       "a:visited.sk-estimator-doc-link.fitted {\n",
       "  /* fitted */\n",
       "  border: var(--sklearn-color-fitted-level-1) 1pt solid;\n",
       "  color: var(--sklearn-color-fitted-level-1);\n",
       "}\n",
       "\n",
       "/* On hover */\n",
       "div.sk-estimator:hover .sk-estimator-doc-link:hover,\n",
       ".sk-estimator-doc-link:hover,\n",
       "div.sk-label-container:hover .sk-estimator-doc-link:hover,\n",
       ".sk-estimator-doc-link:hover {\n",
       "  /* unfitted */\n",
       "  background-color: var(--sklearn-color-unfitted-level-3);\n",
       "  color: var(--sklearn-color-background);\n",
       "  text-decoration: none;\n",
       "}\n",
       "\n",
       "div.sk-estimator.fitted:hover .sk-estimator-doc-link.fitted:hover,\n",
       ".sk-estimator-doc-link.fitted:hover,\n",
       "div.sk-label-container:hover .sk-estimator-doc-link.fitted:hover,\n",
       ".sk-estimator-doc-link.fitted:hover {\n",
       "  /* fitted */\n",
       "  background-color: var(--sklearn-color-fitted-level-3);\n",
       "  color: var(--sklearn-color-background);\n",
       "  text-decoration: none;\n",
       "}\n",
       "\n",
       "/* Span, style for the box shown on hovering the info icon */\n",
       ".sk-estimator-doc-link span {\n",
       "  display: none;\n",
       "  z-index: 9999;\n",
       "  position: relative;\n",
       "  font-weight: normal;\n",
       "  right: .2ex;\n",
       "  padding: .5ex;\n",
       "  margin: .5ex;\n",
       "  width: min-content;\n",
       "  min-width: 20ex;\n",
       "  max-width: 50ex;\n",
       "  color: var(--sklearn-color-text);\n",
       "  box-shadow: 2pt 2pt 4pt #999;\n",
       "  /* unfitted */\n",
       "  background: var(--sklearn-color-unfitted-level-0);\n",
       "  border: .5pt solid var(--sklearn-color-unfitted-level-3);\n",
       "}\n",
       "\n",
       ".sk-estimator-doc-link.fitted span {\n",
       "  /* fitted */\n",
       "  background: var(--sklearn-color-fitted-level-0);\n",
       "  border: var(--sklearn-color-fitted-level-3);\n",
       "}\n",
       "\n",
       ".sk-estimator-doc-link:hover span {\n",
       "  display: block;\n",
       "}\n",
       "\n",
       "/* \"?\"-specific style due to the `<a>` HTML tag */\n",
       "\n",
       "#sk-container-id-5 a.estimator_doc_link {\n",
       "  float: right;\n",
       "  font-size: 1rem;\n",
       "  line-height: 1em;\n",
       "  font-family: monospace;\n",
       "  background-color: var(--sklearn-color-background);\n",
       "  border-radius: 1rem;\n",
       "  height: 1rem;\n",
       "  width: 1rem;\n",
       "  text-decoration: none;\n",
       "  /* unfitted */\n",
       "  color: var(--sklearn-color-unfitted-level-1);\n",
       "  border: var(--sklearn-color-unfitted-level-1) 1pt solid;\n",
       "}\n",
       "\n",
       "#sk-container-id-5 a.estimator_doc_link.fitted {\n",
       "  /* fitted */\n",
       "  border: var(--sklearn-color-fitted-level-1) 1pt solid;\n",
       "  color: var(--sklearn-color-fitted-level-1);\n",
       "}\n",
       "\n",
       "/* On hover */\n",
       "#sk-container-id-5 a.estimator_doc_link:hover {\n",
       "  /* unfitted */\n",
       "  background-color: var(--sklearn-color-unfitted-level-3);\n",
       "  color: var(--sklearn-color-background);\n",
       "  text-decoration: none;\n",
       "}\n",
       "\n",
       "#sk-container-id-5 a.estimator_doc_link.fitted:hover {\n",
       "  /* fitted */\n",
       "  background-color: var(--sklearn-color-fitted-level-3);\n",
       "}\n",
       "\n",
       ".estimator-table summary {\n",
       "    padding: .5rem;\n",
       "    font-family: monospace;\n",
       "    cursor: pointer;\n",
       "}\n",
       "\n",
       ".estimator-table details[open] {\n",
       "    padding-left: 0.1rem;\n",
       "    padding-right: 0.1rem;\n",
       "    padding-bottom: 0.3rem;\n",
       "}\n",
       "\n",
       ".estimator-table .parameters-table {\n",
       "    margin-left: auto !important;\n",
       "    margin-right: auto !important;\n",
       "}\n",
       "\n",
       ".estimator-table .parameters-table tr:nth-child(odd) {\n",
       "    background-color: #fff;\n",
       "}\n",
       "\n",
       ".estimator-table .parameters-table tr:nth-child(even) {\n",
       "    background-color: #f6f6f6;\n",
       "}\n",
       "\n",
       ".estimator-table .parameters-table tr:hover {\n",
       "    background-color: #e0e0e0;\n",
       "}\n",
       "\n",
       ".estimator-table table td {\n",
       "    border: 1px solid rgba(106, 105, 104, 0.232);\n",
       "}\n",
       "\n",
       ".user-set td {\n",
       "    color:rgb(255, 94, 0);\n",
       "    text-align: left;\n",
       "}\n",
       "\n",
       ".user-set td.value pre {\n",
       "    color:rgb(255, 94, 0) !important;\n",
       "    background-color: transparent !important;\n",
       "}\n",
       "\n",
       ".default td {\n",
       "    color: black;\n",
       "    text-align: left;\n",
       "}\n",
       "\n",
       ".user-set td i,\n",
       ".default td i {\n",
       "    color: black;\n",
       "}\n",
       "\n",
       ".copy-paste-icon {\n",
       "    background-image: url(data:image/svg+xml;base64,PHN2ZyB4bWxucz0iaHR0cDovL3d3dy53My5vcmcvMjAwMC9zdmciIHZpZXdCb3g9IjAgMCA0NDggNTEyIj48IS0tIUZvbnQgQXdlc29tZSBGcmVlIDYuNy4yIGJ5IEBmb250YXdlc29tZSAtIGh0dHBzOi8vZm9udGF3ZXNvbWUuY29tIExpY2Vuc2UgLSBodHRwczovL2ZvbnRhd2Vzb21lLmNvbS9saWNlbnNlL2ZyZWUgQ29weXJpZ2h0IDIwMjUgRm9udGljb25zLCBJbmMuLS0+PHBhdGggZD0iTTIwOCAwTDMzMi4xIDBjMTIuNyAwIDI0LjkgNS4xIDMzLjkgMTQuMWw2Ny45IDY3LjljOSA5IDE0LjEgMjEuMiAxNC4xIDMzLjlMNDQ4IDMzNmMwIDI2LjUtMjEuNSA0OC00OCA0OGwtMTkyIDBjLTI2LjUgMC00OC0yMS41LTQ4LTQ4bDAtMjg4YzAtMjYuNSAyMS41LTQ4IDQ4LTQ4ek00OCAxMjhsODAgMCAwIDY0LTY0IDAgMCAyNTYgMTkyIDAgMC0zMiA2NCAwIDAgNDhjMCAyNi41LTIxLjUgNDgtNDggNDhMNDggNTEyYy0yNi41IDAtNDgtMjEuNS00OC00OEwwIDE3NmMwLTI2LjUgMjEuNS00OCA0OC00OHoiLz48L3N2Zz4=);\n",
       "    background-repeat: no-repeat;\n",
       "    background-size: 14px 14px;\n",
       "    background-position: 0;\n",
       "    display: inline-block;\n",
       "    width: 14px;\n",
       "    height: 14px;\n",
       "    cursor: pointer;\n",
       "}\n",
       "</style><body><div id=\"sk-container-id-5\" class=\"sk-top-container\"><div class=\"sk-text-repr-fallback\"><pre>DecisionTreeClassifier(random_state=5)</pre><b>In a Jupyter environment, please rerun this cell to show the HTML representation or trust the notebook. <br />On GitHub, the HTML representation is unable to render, please try loading this page with nbviewer.org.</b></div><div class=\"sk-container\" hidden><div class=\"sk-item\"><div class=\"sk-estimator fitted sk-toggleable\"><input class=\"sk-toggleable__control sk-hidden--visually\" id=\"sk-estimator-id-5\" type=\"checkbox\" checked><label for=\"sk-estimator-id-5\" class=\"sk-toggleable__label fitted sk-toggleable__label-arrow\"><div><div>DecisionTreeClassifier</div></div><div><a class=\"sk-estimator-doc-link fitted\" rel=\"noreferrer\" target=\"_blank\" href=\"https://scikit-learn.org/1.7/modules/generated/sklearn.tree.DecisionTreeClassifier.html\">?<span>Documentation for DecisionTreeClassifier</span></a><span class=\"sk-estimator-doc-link fitted\">i<span>Fitted</span></span></div></label><div class=\"sk-toggleable__content fitted\" data-param-prefix=\"\">\n",
       "        <div class=\"estimator-table\">\n",
       "            <details>\n",
       "                <summary>Parameters</summary>\n",
       "                <table class=\"parameters-table\">\n",
       "                  <tbody>\n",
       "                    \n",
       "        <tr class=\"default\">\n",
       "            <td><i class=\"copy-paste-icon\"\n",
       "                 onclick=\"copyToClipboard('criterion',\n",
       "                          this.parentElement.nextElementSibling)\"\n",
       "            ></i></td>\n",
       "            <td class=\"param\">criterion&nbsp;</td>\n",
       "            <td class=\"value\">&#x27;gini&#x27;</td>\n",
       "        </tr>\n",
       "    \n",
       "\n",
       "        <tr class=\"default\">\n",
       "            <td><i class=\"copy-paste-icon\"\n",
       "                 onclick=\"copyToClipboard('splitter',\n",
       "                          this.parentElement.nextElementSibling)\"\n",
       "            ></i></td>\n",
       "            <td class=\"param\">splitter&nbsp;</td>\n",
       "            <td class=\"value\">&#x27;best&#x27;</td>\n",
       "        </tr>\n",
       "    \n",
       "\n",
       "        <tr class=\"default\">\n",
       "            <td><i class=\"copy-paste-icon\"\n",
       "                 onclick=\"copyToClipboard('max_depth',\n",
       "                          this.parentElement.nextElementSibling)\"\n",
       "            ></i></td>\n",
       "            <td class=\"param\">max_depth&nbsp;</td>\n",
       "            <td class=\"value\">None</td>\n",
       "        </tr>\n",
       "    \n",
       "\n",
       "        <tr class=\"default\">\n",
       "            <td><i class=\"copy-paste-icon\"\n",
       "                 onclick=\"copyToClipboard('min_samples_split',\n",
       "                          this.parentElement.nextElementSibling)\"\n",
       "            ></i></td>\n",
       "            <td class=\"param\">min_samples_split&nbsp;</td>\n",
       "            <td class=\"value\">2</td>\n",
       "        </tr>\n",
       "    \n",
       "\n",
       "        <tr class=\"default\">\n",
       "            <td><i class=\"copy-paste-icon\"\n",
       "                 onclick=\"copyToClipboard('min_samples_leaf',\n",
       "                          this.parentElement.nextElementSibling)\"\n",
       "            ></i></td>\n",
       "            <td class=\"param\">min_samples_leaf&nbsp;</td>\n",
       "            <td class=\"value\">1</td>\n",
       "        </tr>\n",
       "    \n",
       "\n",
       "        <tr class=\"default\">\n",
       "            <td><i class=\"copy-paste-icon\"\n",
       "                 onclick=\"copyToClipboard('min_weight_fraction_leaf',\n",
       "                          this.parentElement.nextElementSibling)\"\n",
       "            ></i></td>\n",
       "            <td class=\"param\">min_weight_fraction_leaf&nbsp;</td>\n",
       "            <td class=\"value\">0.0</td>\n",
       "        </tr>\n",
       "    \n",
       "\n",
       "        <tr class=\"default\">\n",
       "            <td><i class=\"copy-paste-icon\"\n",
       "                 onclick=\"copyToClipboard('max_features',\n",
       "                          this.parentElement.nextElementSibling)\"\n",
       "            ></i></td>\n",
       "            <td class=\"param\">max_features&nbsp;</td>\n",
       "            <td class=\"value\">None</td>\n",
       "        </tr>\n",
       "    \n",
       "\n",
       "        <tr class=\"user-set\">\n",
       "            <td><i class=\"copy-paste-icon\"\n",
       "                 onclick=\"copyToClipboard('random_state',\n",
       "                          this.parentElement.nextElementSibling)\"\n",
       "            ></i></td>\n",
       "            <td class=\"param\">random_state&nbsp;</td>\n",
       "            <td class=\"value\">5</td>\n",
       "        </tr>\n",
       "    \n",
       "\n",
       "        <tr class=\"default\">\n",
       "            <td><i class=\"copy-paste-icon\"\n",
       "                 onclick=\"copyToClipboard('max_leaf_nodes',\n",
       "                          this.parentElement.nextElementSibling)\"\n",
       "            ></i></td>\n",
       "            <td class=\"param\">max_leaf_nodes&nbsp;</td>\n",
       "            <td class=\"value\">None</td>\n",
       "        </tr>\n",
       "    \n",
       "\n",
       "        <tr class=\"default\">\n",
       "            <td><i class=\"copy-paste-icon\"\n",
       "                 onclick=\"copyToClipboard('min_impurity_decrease',\n",
       "                          this.parentElement.nextElementSibling)\"\n",
       "            ></i></td>\n",
       "            <td class=\"param\">min_impurity_decrease&nbsp;</td>\n",
       "            <td class=\"value\">0.0</td>\n",
       "        </tr>\n",
       "    \n",
       "\n",
       "        <tr class=\"default\">\n",
       "            <td><i class=\"copy-paste-icon\"\n",
       "                 onclick=\"copyToClipboard('class_weight',\n",
       "                          this.parentElement.nextElementSibling)\"\n",
       "            ></i></td>\n",
       "            <td class=\"param\">class_weight&nbsp;</td>\n",
       "            <td class=\"value\">None</td>\n",
       "        </tr>\n",
       "    \n",
       "\n",
       "        <tr class=\"default\">\n",
       "            <td><i class=\"copy-paste-icon\"\n",
       "                 onclick=\"copyToClipboard('ccp_alpha',\n",
       "                          this.parentElement.nextElementSibling)\"\n",
       "            ></i></td>\n",
       "            <td class=\"param\">ccp_alpha&nbsp;</td>\n",
       "            <td class=\"value\">0.0</td>\n",
       "        </tr>\n",
       "    \n",
       "\n",
       "        <tr class=\"default\">\n",
       "            <td><i class=\"copy-paste-icon\"\n",
       "                 onclick=\"copyToClipboard('monotonic_cst',\n",
       "                          this.parentElement.nextElementSibling)\"\n",
       "            ></i></td>\n",
       "            <td class=\"param\">monotonic_cst&nbsp;</td>\n",
       "            <td class=\"value\">None</td>\n",
       "        </tr>\n",
       "    \n",
       "                  </tbody>\n",
       "                </table>\n",
       "            </details>\n",
       "        </div>\n",
       "    </div></div></div></div></div><script>function copyToClipboard(text, element) {\n",
       "    // Get the parameter prefix from the closest toggleable content\n",
       "    const toggleableContent = element.closest('.sk-toggleable__content');\n",
       "    const paramPrefix = toggleableContent ? toggleableContent.dataset.paramPrefix : '';\n",
       "    const fullParamName = paramPrefix ? `${paramPrefix}${text}` : text;\n",
       "\n",
       "    const originalStyle = element.style;\n",
       "    const computedStyle = window.getComputedStyle(element);\n",
       "    const originalWidth = computedStyle.width;\n",
       "    const originalHTML = element.innerHTML.replace('Copied!', '');\n",
       "\n",
       "    navigator.clipboard.writeText(fullParamName)\n",
       "        .then(() => {\n",
       "            element.style.width = originalWidth;\n",
       "            element.style.color = 'green';\n",
       "            element.innerHTML = \"Copied!\";\n",
       "\n",
       "            setTimeout(() => {\n",
       "                element.innerHTML = originalHTML;\n",
       "                element.style = originalStyle;\n",
       "            }, 2000);\n",
       "        })\n",
       "        .catch(err => {\n",
       "            console.error('Failed to copy:', err);\n",
       "            element.style.color = 'red';\n",
       "            element.innerHTML = \"Failed!\";\n",
       "            setTimeout(() => {\n",
       "                element.innerHTML = originalHTML;\n",
       "                element.style = originalStyle;\n",
       "            }, 2000);\n",
       "        });\n",
       "    return false;\n",
       "}\n",
       "\n",
       "document.querySelectorAll('.fa-regular.fa-copy').forEach(function(element) {\n",
       "    const toggleableContent = element.closest('.sk-toggleable__content');\n",
       "    const paramPrefix = toggleableContent ? toggleableContent.dataset.paramPrefix : '';\n",
       "    const paramName = element.parentElement.nextElementSibling.textContent.trim();\n",
       "    const fullParamName = paramPrefix ? `${paramPrefix}${paramName}` : paramName;\n",
       "\n",
       "    element.setAttribute('title', fullParamName);\n",
       "});\n",
       "</script></body>"
      ],
      "text/plain": [
       "DecisionTreeClassifier(random_state=5)"
      ]
     },
     "execution_count": 98,
     "metadata": {},
     "output_type": "execute_result"
    }
   ],
   "source": [
    "tree = DecisionTreeClassifier(random_state=5)\n",
    "tree.fit(X_train, y_train)"
   ]
  },
  {
   "cell_type": "code",
   "execution_count": 99,
   "metadata": {},
   "outputs": [
    {
     "data": {
      "text/plain": [
       "array([0, 1, 0, 1, 0, 0, 0, 0, 1, 1, 0, 0, 0, 0, 0, 0, 0, 0, 0, 1, 0, 0,\n",
       "       1, 0, 0, 1, 0, 0, 1, 1, 0, 1, 0, 0, 0, 0, 0, 0, 1, 1, 0, 1, 0, 0,\n",
       "       1, 0, 0, 1, 0, 0, 0, 0, 1, 1, 0, 0, 1, 0, 0, 1, 1, 1, 0, 0, 1, 1,\n",
       "       1, 0, 0, 1, 0, 0, 0, 1, 1, 0, 0, 1, 1, 0, 0, 0, 0, 0, 0, 0, 0, 0,\n",
       "       0, 1, 1, 0, 1, 0, 0, 1, 0, 0, 0, 0, 1, 0, 0, 1, 0, 1, 0, 1, 0, 1,\n",
       "       1, 1, 0, 0, 0, 0, 0, 0, 0, 0, 0, 1, 0, 0, 1, 1, 1, 1, 1, 1, 0, 1,\n",
       "       1, 0, 0, 0, 0, 0, 1, 1, 1, 1, 0, 0, 0, 0, 0, 1, 0, 1, 0, 0, 1, 0,\n",
       "       0, 1, 0, 0, 0, 1, 0, 1, 1, 1, 1, 0, 0, 0, 0, 0, 0, 0, 0, 0, 1, 0,\n",
       "       1, 0, 0, 0, 1, 1, 1, 0, 0, 1, 0, 1, 1, 0, 1, 1, 0, 1, 1, 1, 0, 1,\n",
       "       0, 0, 1, 0, 0, 0, 1, 0, 0, 0, 0, 1, 1, 0, 1, 1, 1, 1, 0, 1, 0, 0,\n",
       "       0, 0, 0, 1, 0, 1, 1, 0, 0, 1, 1, 0, 0, 0, 0, 1, 0, 1, 0, 1, 0, 0,\n",
       "       0, 1, 1, 0, 1, 0, 0, 0, 1, 1, 0, 0, 0, 0, 1, 0, 0, 0, 1, 0, 0, 0,\n",
       "       0, 0, 0, 0, 1, 0, 1, 0, 1, 0, 0, 1, 1, 1, 1, 0, 0, 1, 0, 1, 0, 1,\n",
       "       0, 1, 1, 1, 1, 0, 0, 0, 1, 0, 0, 1, 0, 0, 0, 0, 1, 0, 0, 0, 1, 0,\n",
       "       0, 1, 1, 0, 1, 0, 0, 0, 1])"
      ]
     },
     "execution_count": 99,
     "metadata": {},
     "output_type": "execute_result"
    }
   ],
   "source": [
    "tree.predict(X_test)"
   ]
  },
  {
   "cell_type": "code",
   "execution_count": 100,
   "metadata": {},
   "outputs": [
    {
     "data": {
      "text/plain": [
       "0.6656151419558359"
      ]
     },
     "execution_count": 100,
     "metadata": {},
     "output_type": "execute_result"
    }
   ],
   "source": [
    "tree.score(X_test, y_test)"
   ]
  },
  {
   "cell_type": "code",
   "execution_count": 101,
   "metadata": {},
   "outputs": [],
   "source": [
    "from sklearn.tree import plot_tree\n",
    "import matplotlib.pyplot as plt"
   ]
  },
  {
   "cell_type": "markdown",
   "metadata": {},
   "source": [
    "```\n",
    "nome_colunas = ['casado (a)',\n",
    "                'divorciado (a)',\n",
    "                'solteiro (a)',\n",
    "                'fundamental',\n",
    "                'medio',\n",
    "                'superior',\n",
    "                'inadimplencia',\n",
    "                'fez_emprestimo',\n",
    "                'idade',\n",
    "                'saldo',\n",
    "                'tempo_ult_contato',\n",
    "                'numero_contatos']\n",
    "```"
   ]
  },
  {
   "cell_type": "code",
   "execution_count": 102,
   "metadata": {},
   "outputs": [],
   "source": [
    "nome_colunas = ['casado (a)',\n",
    "                'divorciado (a)',\n",
    "                'solteiro (a)',\n",
    "                'fundamental',\n",
    "                'medio',\n",
    "                'superior',\n",
    "                'inadimplencia',\n",
    "                'fez_emprestimo',\n",
    "                'idade',\n",
    "                'saldo',\n",
    "                'tempo_ult_contato',\n",
    "                'numero_contatos']"
   ]
  },
  {
   "cell_type": "code",
   "execution_count": 103,
   "metadata": {},
   "outputs": [
    {
     "data": {
      "image/png": "[encoded data removed]",
      "text/plain": [
       "<Figure size 1500x600 with 1 Axes>"
      ]
     },
     "metadata": {},
     "output_type": "display_data"
    }
   ],
   "source": [
    "plt.figure(figsize=(15, 6))\n",
    "plot_tree(tree, filled=True, class_names=['nao', 'sim'], fontsize=1, feature_names=nome_colunas);"
   ]
  },
  {
   "cell_type": "code",
   "execution_count": 104,
   "metadata": {},
   "outputs": [
    {
     "data": {
      "text/plain": [
       "1.0"
      ]
     },
     "execution_count": 104,
     "metadata": {},
     "output_type": "execute_result"
    }
   ],
   "source": [
    "tree.score(X_train, y_train)"
   ]
  },
  {
   "cell_type": "code",
   "execution_count": 105,
   "metadata": {},
   "outputs": [
    {
     "data": {
      "text/html": [
       "<style>#sk-container-id-6 {\n",
       "  /* Definition of color scheme common for light and dark mode */\n",
       "  --sklearn-color-text: #000;\n",
       "  --sklearn-color-text-muted: #666;\n",
       "  --sklearn-color-line: gray;\n",
       "  /* Definition of color scheme for unfitted estimators */\n",
       "  --sklearn-color-unfitted-level-0: #fff5e6;\n",
       "  --sklearn-color-unfitted-level-1: #f6e4d2;\n",
       "  --sklearn-color-unfitted-level-2: #ffe0b3;\n",
       "  --sklearn-color-unfitted-level-3: chocolate;\n",
       "  /* Definition of color scheme for fitted estimators */\n",
       "  --sklearn-color-fitted-level-0: #f0f8ff;\n",
       "  --sklearn-color-fitted-level-1: #d4ebff;\n",
       "  --sklearn-color-fitted-level-2: #b3dbfd;\n",
       "  --sklearn-color-fitted-level-3: cornflowerblue;\n",
       "\n",
       "  /* Specific color for light theme */\n",
       "  --sklearn-color-text-on-default-background: var(--sg-text-color, var(--theme-code-foreground, var(--jp-content-font-color1, black)));\n",
       "  --sklearn-color-background: var(--sg-background-color, var(--theme-background, var(--jp-layout-color0, white)));\n",
       "  --sklearn-color-border-box: var(--sg-text-color, var(--theme-code-foreground, var(--jp-content-font-color1, black)));\n",
       "  --sklearn-color-icon: #696969;\n",
       "\n",
       "  @media (prefers-color-scheme: dark) {\n",
       "    /* Redefinition of color scheme for dark theme */\n",
       "    --sklearn-color-text-on-default-background: var(--sg-text-color, var(--theme-code-foreground, var(--jp-content-font-color1, white)));\n",
       "    --sklearn-color-background: var(--sg-background-color, var(--theme-background, var(--jp-layout-color0, #111)));\n",
       "    --sklearn-color-border-box: var(--sg-text-color, var(--theme-code-foreground, var(--jp-content-font-color1, white)));\n",
       "    --sklearn-color-icon: #878787;\n",
       "  }\n",
       "}\n",
       "\n",
       "#sk-container-id-6 {\n",
       "  color: var(--sklearn-color-text);\n",
       "}\n",
       "\n",
       "#sk-container-id-6 pre {\n",
       "  padding: 0;\n",
       "}\n",
       "\n",
       "#sk-container-id-6 input.sk-hidden--visually {\n",
       "  border: 0;\n",
       "  clip: rect(1px 1px 1px 1px);\n",
       "  clip: rect(1px, 1px, 1px, 1px);\n",
       "  height: 1px;\n",
       "  margin: -1px;\n",
       "  overflow: hidden;\n",
       "  padding: 0;\n",
       "  position: absolute;\n",
       "  width: 1px;\n",
       "}\n",
       "\n",
       "#sk-container-id-6 div.sk-dashed-wrapped {\n",
       "  border: 1px dashed var(--sklearn-color-line);\n",
       "  margin: 0 0.4em 0.5em 0.4em;\n",
       "  box-sizing: border-box;\n",
       "  padding-bottom: 0.4em;\n",
       "  background-color: var(--sklearn-color-background);\n",
       "}\n",
       "\n",
       "#sk-container-id-6 div.sk-container {\n",
       "  /* jupyter's `normalize.less` sets `[hidden] { display: none; }`\n",
       "     but bootstrap.min.css set `[hidden] { display: none !important; }`\n",
       "     so we also need the `!important` here to be able to override the\n",
       "     default hidden behavior on the sphinx rendered scikit-learn.org.\n",
       "     See: https://github.com/scikit-learn/scikit-learn/issues/21755 */\n",
       "  display: inline-block !important;\n",
       "  position: relative;\n",
       "}\n",
       "\n",
       "#sk-container-id-6 div.sk-text-repr-fallback {\n",
       "  display: none;\n",
       "}\n",
       "\n",
       "div.sk-parallel-item,\n",
       "div.sk-serial,\n",
       "div.sk-item {\n",
       "  /* draw centered vertical line to link estimators */\n",
       "  background-image: linear-gradient(var(--sklearn-color-text-on-default-background), var(--sklearn-color-text-on-default-background));\n",
       "  background-size: 2px 100%;\n",
       "  background-repeat: no-repeat;\n",
       "  background-position: center center;\n",
       "}\n",
       "\n",
       "/* Parallel-specific style estimator block */\n",
       "\n",
       "#sk-container-id-6 div.sk-parallel-item::after {\n",
       "  content: \"\";\n",
       "  width: 100%;\n",
       "  border-bottom: 2px solid var(--sklearn-color-text-on-default-background);\n",
       "  flex-grow: 1;\n",
       "}\n",
       "\n",
       "#sk-container-id-6 div.sk-parallel {\n",
       "  display: flex;\n",
       "  align-items: stretch;\n",
       "  justify-content: center;\n",
       "  background-color: var(--sklearn-color-background);\n",
       "  position: relative;\n",
       "}\n",
       "\n",
       "#sk-container-id-6 div.sk-parallel-item {\n",
       "  display: flex;\n",
       "  flex-direction: column;\n",
       "}\n",
       "\n",
       "#sk-container-id-6 div.sk-parallel-item:first-child::after {\n",
       "  align-self: flex-end;\n",
       "  width: 50%;\n",
       "}\n",
       "\n",
       "#sk-container-id-6 div.sk-parallel-item:last-child::after {\n",
       "  align-self: flex-start;\n",
       "  width: 50%;\n",
       "}\n",
       "\n",
       "#sk-container-id-6 div.sk-parallel-item:only-child::after {\n",
       "  width: 0;\n",
       "}\n",
       "\n",
       "/* Serial-specific style estimator block */\n",
       "\n",
       "#sk-container-id-6 div.sk-serial {\n",
       "  display: flex;\n",
       "  flex-direction: column;\n",
       "  align-items: center;\n",
       "  background-color: var(--sklearn-color-background);\n",
       "  padding-right: 1em;\n",
       "  padding-left: 1em;\n",
       "}\n",
       "\n",
       "\n",
       "/* Toggleable style: style used for estimator/Pipeline/ColumnTransformer box that is\n",
       "clickable and can be expanded/collapsed.\n",
       "- Pipeline and ColumnTransformer use this feature and define the default style\n",
       "- Estimators will overwrite some part of the style using the `sk-estimator` class\n",
       "*/\n",
       "\n",
       "/* Pipeline and ColumnTransformer style (default) */\n",
       "\n",
       "#sk-container-id-6 div.sk-toggleable {\n",
       "  /* Default theme specific background. It is overwritten whether we have a\n",
       "  specific estimator or a Pipeline/ColumnTransformer */\n",
       "  background-color: var(--sklearn-color-background);\n",
       "}\n",
       "\n",
       "/* Toggleable label */\n",
       "#sk-container-id-6 label.sk-toggleable__label {\n",
       "  cursor: pointer;\n",
       "  display: flex;\n",
       "  width: 100%;\n",
       "  margin-bottom: 0;\n",
       "  padding: 0.5em;\n",
       "  box-sizing: border-box;\n",
       "  text-align: center;\n",
       "  align-items: start;\n",
       "  justify-content: space-between;\n",
       "  gap: 0.5em;\n",
       "}\n",
       "\n",
       "#sk-container-id-6 label.sk-toggleable__label .caption {\n",
       "  font-size: 0.6rem;\n",
       "  font-weight: lighter;\n",
       "  color: var(--sklearn-color-text-muted);\n",
       "}\n",
       "\n",
       "#sk-container-id-6 label.sk-toggleable__label-arrow:before {\n",
       "  /* Arrow on the left of the label */\n",
       "  content: \"▸\";\n",
       "  float: left;\n",
       "  margin-right: 0.25em;\n",
       "  color: var(--sklearn-color-icon);\n",
       "}\n",
       "\n",
       "#sk-container-id-6 label.sk-toggleable__label-arrow:hover:before {\n",
       "  color: var(--sklearn-color-text);\n",
       "}\n",
       "\n",
       "/* Toggleable content - dropdown */\n",
       "\n",
       "#sk-container-id-6 div.sk-toggleable__content {\n",
       "  display: none;\n",
       "  text-align: left;\n",
       "  /* unfitted */\n",
       "  background-color: var(--sklearn-color-unfitted-level-0);\n",
       "}\n",
       "\n",
       "#sk-container-id-6 div.sk-toggleable__content.fitted {\n",
       "  /* fitted */\n",
       "  background-color: var(--sklearn-color-fitted-level-0);\n",
       "}\n",
       "\n",
       "#sk-container-id-6 div.sk-toggleable__content pre {\n",
       "  margin: 0.2em;\n",
       "  border-radius: 0.25em;\n",
       "  color: var(--sklearn-color-text);\n",
       "  /* unfitted */\n",
       "  background-color: var(--sklearn-color-unfitted-level-0);\n",
       "}\n",
       "\n",
       "#sk-container-id-6 div.sk-toggleable__content.fitted pre {\n",
       "  /* unfitted */\n",
       "  background-color: var(--sklearn-color-fitted-level-0);\n",
       "}\n",
       "\n",
       "#sk-container-id-6 input.sk-toggleable__control:checked~div.sk-toggleable__content {\n",
       "  /* Expand drop-down */\n",
       "  display: block;\n",
       "  width: 100%;\n",
       "  overflow: visible;\n",
       "}\n",
       "\n",
       "#sk-container-id-6 input.sk-toggleable__control:checked~label.sk-toggleable__label-arrow:before {\n",
       "  content: \"▾\";\n",
       "}\n",
       "\n",
       "/* Pipeline/ColumnTransformer-specific style */\n",
       "\n",
       "#sk-container-id-6 div.sk-label input.sk-toggleable__control:checked~label.sk-toggleable__label {\n",
       "  color: var(--sklearn-color-text);\n",
       "  background-color: var(--sklearn-color-unfitted-level-2);\n",
       "}\n",
       "\n",
       "#sk-container-id-6 div.sk-label.fitted input.sk-toggleable__control:checked~label.sk-toggleable__label {\n",
       "  background-color: var(--sklearn-color-fitted-level-2);\n",
       "}\n",
       "\n",
       "/* Estimator-specific style */\n",
       "\n",
       "/* Colorize estimator box */\n",
       "#sk-container-id-6 div.sk-estimator input.sk-toggleable__control:checked~label.sk-toggleable__label {\n",
       "  /* unfitted */\n",
       "  background-color: var(--sklearn-color-unfitted-level-2);\n",
       "}\n",
       "\n",
       "#sk-container-id-6 div.sk-estimator.fitted input.sk-toggleable__control:checked~label.sk-toggleable__label {\n",
       "  /* fitted */\n",
       "  background-color: var(--sklearn-color-fitted-level-2);\n",
       "}\n",
       "\n",
       "#sk-container-id-6 div.sk-label label.sk-toggleable__label,\n",
       "#sk-container-id-6 div.sk-label label {\n",
       "  /* The background is the default theme color */\n",
       "  color: var(--sklearn-color-text-on-default-background);\n",
       "}\n",
       "\n",
       "/* On hover, darken the color of the background */\n",
       "#sk-container-id-6 div.sk-label:hover label.sk-toggleable__label {\n",
       "  color: var(--sklearn-color-text);\n",
       "  background-color: var(--sklearn-color-unfitted-level-2);\n",
       "}\n",
       "\n",
       "/* Label box, darken color on hover, fitted */\n",
       "#sk-container-id-6 div.sk-label.fitted:hover label.sk-toggleable__label.fitted {\n",
       "  color: var(--sklearn-color-text);\n",
       "  background-color: var(--sklearn-color-fitted-level-2);\n",
       "}\n",
       "\n",
       "/* Estimator label */\n",
       "\n",
       "#sk-container-id-6 div.sk-label label {\n",
       "  font-family: monospace;\n",
       "  font-weight: bold;\n",
       "  display: inline-block;\n",
       "  line-height: 1.2em;\n",
       "}\n",
       "\n",
       "#sk-container-id-6 div.sk-label-container {\n",
       "  text-align: center;\n",
       "}\n",
       "\n",
       "/* Estimator-specific */\n",
       "#sk-container-id-6 div.sk-estimator {\n",
       "  font-family: monospace;\n",
       "  border: 1px dotted var(--sklearn-color-border-box);\n",
       "  border-radius: 0.25em;\n",
       "  box-sizing: border-box;\n",
       "  margin-bottom: 0.5em;\n",
       "  /* unfitted */\n",
       "  background-color: var(--sklearn-color-unfitted-level-0);\n",
       "}\n",
       "\n",
       "#sk-container-id-6 div.sk-estimator.fitted {\n",
       "  /* fitted */\n",
       "  background-color: var(--sklearn-color-fitted-level-0);\n",
       "}\n",
       "\n",
       "/* on hover */\n",
       "#sk-container-id-6 div.sk-estimator:hover {\n",
       "  /* unfitted */\n",
       "  background-color: var(--sklearn-color-unfitted-level-2);\n",
       "}\n",
       "\n",
       "#sk-container-id-6 div.sk-estimator.fitted:hover {\n",
       "  /* fitted */\n",
       "  background-color: var(--sklearn-color-fitted-level-2);\n",
       "}\n",
       "\n",
       "/* Specification for estimator info (e.g. \"i\" and \"?\") */\n",
       "\n",
       "/* Common style for \"i\" and \"?\" */\n",
       "\n",
       ".sk-estimator-doc-link,\n",
       "a:link.sk-estimator-doc-link,\n",
       "a:visited.sk-estimator-doc-link {\n",
       "  float: right;\n",
       "  font-size: smaller;\n",
       "  line-height: 1em;\n",
       "  font-family: monospace;\n",
       "  background-color: var(--sklearn-color-background);\n",
       "  border-radius: 1em;\n",
       "  height: 1em;\n",
       "  width: 1em;\n",
       "  text-decoration: none !important;\n",
       "  margin-left: 0.5em;\n",
       "  text-align: center;\n",
       "  /* unfitted */\n",
       "  border: var(--sklearn-color-unfitted-level-1) 1pt solid;\n",
       "  color: var(--sklearn-color-unfitted-level-1);\n",
       "}\n",
       "\n",
       ".sk-estimator-doc-link.fitted,\n",
       "a:link.sk-estimator-doc-link.fitted,\n",
       "a:visited.sk-estimator-doc-link.fitted {\n",
       "  /* fitted */\n",
       "  border: var(--sklearn-color-fitted-level-1) 1pt solid;\n",
       "  color: var(--sklearn-color-fitted-level-1);\n",
       "}\n",
       "\n",
       "/* On hover */\n",
       "div.sk-estimator:hover .sk-estimator-doc-link:hover,\n",
       ".sk-estimator-doc-link:hover,\n",
       "div.sk-label-container:hover .sk-estimator-doc-link:hover,\n",
       ".sk-estimator-doc-link:hover {\n",
       "  /* unfitted */\n",
       "  background-color: var(--sklearn-color-unfitted-level-3);\n",
       "  color: var(--sklearn-color-background);\n",
       "  text-decoration: none;\n",
       "}\n",
       "\n",
       "div.sk-estimator.fitted:hover .sk-estimator-doc-link.fitted:hover,\n",
       ".sk-estimator-doc-link.fitted:hover,\n",
       "div.sk-label-container:hover .sk-estimator-doc-link.fitted:hover,\n",
       ".sk-estimator-doc-link.fitted:hover {\n",
       "  /* fitted */\n",
       "  background-color: var(--sklearn-color-fitted-level-3);\n",
       "  color: var(--sklearn-color-background);\n",
       "  text-decoration: none;\n",
       "}\n",
       "\n",
       "/* Span, style for the box shown on hovering the info icon */\n",
       ".sk-estimator-doc-link span {\n",
       "  display: none;\n",
       "  z-index: 9999;\n",
       "  position: relative;\n",
       "  font-weight: normal;\n",
       "  right: .2ex;\n",
       "  padding: .5ex;\n",
       "  margin: .5ex;\n",
       "  width: min-content;\n",
       "  min-width: 20ex;\n",
       "  max-width: 50ex;\n",
       "  color: var(--sklearn-color-text);\n",
       "  box-shadow: 2pt 2pt 4pt #999;\n",
       "  /* unfitted */\n",
       "  background: var(--sklearn-color-unfitted-level-0);\n",
       "  border: .5pt solid var(--sklearn-color-unfitted-level-3);\n",
       "}\n",
       "\n",
       ".sk-estimator-doc-link.fitted span {\n",
       "  /* fitted */\n",
       "  background: var(--sklearn-color-fitted-level-0);\n",
       "  border: var(--sklearn-color-fitted-level-3);\n",
       "}\n",
       "\n",
       ".sk-estimator-doc-link:hover span {\n",
       "  display: block;\n",
       "}\n",
       "\n",
       "/* \"?\"-specific style due to the `<a>` HTML tag */\n",
       "\n",
       "#sk-container-id-6 a.estimator_doc_link {\n",
       "  float: right;\n",
       "  font-size: 1rem;\n",
       "  line-height: 1em;\n",
       "  font-family: monospace;\n",
       "  background-color: var(--sklearn-color-background);\n",
       "  border-radius: 1rem;\n",
       "  height: 1rem;\n",
       "  width: 1rem;\n",
       "  text-decoration: none;\n",
       "  /* unfitted */\n",
       "  color: var(--sklearn-color-unfitted-level-1);\n",
       "  border: var(--sklearn-color-unfitted-level-1) 1pt solid;\n",
       "}\n",
       "\n",
       "#sk-container-id-6 a.estimator_doc_link.fitted {\n",
       "  /* fitted */\n",
       "  border: var(--sklearn-color-fitted-level-1) 1pt solid;\n",
       "  color: var(--sklearn-color-fitted-level-1);\n",
       "}\n",
       "\n",
       "/* On hover */\n",
       "#sk-container-id-6 a.estimator_doc_link:hover {\n",
       "  /* unfitted */\n",
       "  background-color: var(--sklearn-color-unfitted-level-3);\n",
       "  color: var(--sklearn-color-background);\n",
       "  text-decoration: none;\n",
       "}\n",
       "\n",
       "#sk-container-id-6 a.estimator_doc_link.fitted:hover {\n",
       "  /* fitted */\n",
       "  background-color: var(--sklearn-color-fitted-level-3);\n",
       "}\n",
       "\n",
       ".estimator-table summary {\n",
       "    padding: .5rem;\n",
       "    font-family: monospace;\n",
       "    cursor: pointer;\n",
       "}\n",
       "\n",
       ".estimator-table details[open] {\n",
       "    padding-left: 0.1rem;\n",
       "    padding-right: 0.1rem;\n",
       "    padding-bottom: 0.3rem;\n",
       "}\n",
       "\n",
       ".estimator-table .parameters-table {\n",
       "    margin-left: auto !important;\n",
       "    margin-right: auto !important;\n",
       "}\n",
       "\n",
       ".estimator-table .parameters-table tr:nth-child(odd) {\n",
       "    background-color: #fff;\n",
       "}\n",
       "\n",
       ".estimator-table .parameters-table tr:nth-child(even) {\n",
       "    background-color: #f6f6f6;\n",
       "}\n",
       "\n",
       ".estimator-table .parameters-table tr:hover {\n",
       "    background-color: #e0e0e0;\n",
       "}\n",
       "\n",
       ".estimator-table table td {\n",
       "    border: 1px solid rgba(106, 105, 104, 0.232);\n",
       "}\n",
       "\n",
       ".user-set td {\n",
       "    color:rgb(255, 94, 0);\n",
       "    text-align: left;\n",
       "}\n",
       "\n",
       ".user-set td.value pre {\n",
       "    color:rgb(255, 94, 0) !important;\n",
       "    background-color: transparent !important;\n",
       "}\n",
       "\n",
       ".default td {\n",
       "    color: black;\n",
       "    text-align: left;\n",
       "}\n",
       "\n",
       ".user-set td i,\n",
       ".default td i {\n",
       "    color: black;\n",
       "}\n",
       "\n",
       ".copy-paste-icon {\n",
       "    background-image: url(data:image/svg+xml;base64,PHN2ZyB4bWxucz0iaHR0cDovL3d3dy53My5vcmcvMjAwMC9zdmciIHZpZXdCb3g9IjAgMCA0NDggNTEyIj48IS0tIUZvbnQgQXdlc29tZSBGcmVlIDYuNy4yIGJ5IEBmb250YXdlc29tZSAtIGh0dHBzOi8vZm9udGF3ZXNvbWUuY29tIExpY2Vuc2UgLSBodHRwczovL2ZvbnRhd2Vzb21lLmNvbS9saWNlbnNlL2ZyZWUgQ29weXJpZ2h0IDIwMjUgRm9udGljb25zLCBJbmMuLS0+PHBhdGggZD0iTTIwOCAwTDMzMi4xIDBjMTIuNyAwIDI0LjkgNS4xIDMzLjkgMTQuMWw2Ny45IDY3LjljOSA5IDE0LjEgMjEuMiAxNC4xIDMzLjlMNDQ4IDMzNmMwIDI2LjUtMjEuNSA0OC00OCA0OGwtMTkyIDBjLTI2LjUgMC00OC0yMS41LTQ4LTQ4bDAtMjg4YzAtMjYuNSAyMS41LTQ4IDQ4LTQ4ek00OCAxMjhsODAgMCAwIDY0LTY0IDAgMCAyNTYgMTkyIDAgMC0zMiA2NCAwIDAgNDhjMCAyNi41LTIxLjUgNDgtNDggNDhMNDggNTEyYy0yNi41IDAtNDgtMjEuNS00OC00OEwwIDE3NmMwLTI2LjUgMjEuNS00OCA0OC00OHoiLz48L3N2Zz4=);\n",
       "    background-repeat: no-repeat;\n",
       "    background-size: 14px 14px;\n",
       "    background-position: 0;\n",
       "    display: inline-block;\n",
       "    width: 14px;\n",
       "    height: 14px;\n",
       "    cursor: pointer;\n",
       "}\n",
       "</style><body><div id=\"sk-container-id-6\" class=\"sk-top-container\"><div class=\"sk-text-repr-fallback\"><pre>DecisionTreeClassifier(max_depth=3, random_state=5)</pre><b>In a Jupyter environment, please rerun this cell to show the HTML representation or trust the notebook. <br />On GitHub, the HTML representation is unable to render, please try loading this page with nbviewer.org.</b></div><div class=\"sk-container\" hidden><div class=\"sk-item\"><div class=\"sk-estimator fitted sk-toggleable\"><input class=\"sk-toggleable__control sk-hidden--visually\" id=\"sk-estimator-id-6\" type=\"checkbox\" checked><label for=\"sk-estimator-id-6\" class=\"sk-toggleable__label fitted sk-toggleable__label-arrow\"><div><div>DecisionTreeClassifier</div></div><div><a class=\"sk-estimator-doc-link fitted\" rel=\"noreferrer\" target=\"_blank\" href=\"https://scikit-learn.org/1.7/modules/generated/sklearn.tree.DecisionTreeClassifier.html\">?<span>Documentation for DecisionTreeClassifier</span></a><span class=\"sk-estimator-doc-link fitted\">i<span>Fitted</span></span></div></label><div class=\"sk-toggleable__content fitted\" data-param-prefix=\"\">\n",
       "        <div class=\"estimator-table\">\n",
       "            <details>\n",
       "                <summary>Parameters</summary>\n",
       "                <table class=\"parameters-table\">\n",
       "                  <tbody>\n",
       "                    \n",
       "        <tr class=\"default\">\n",
       "            <td><i class=\"copy-paste-icon\"\n",
       "                 onclick=\"copyToClipboard('criterion',\n",
       "                          this.parentElement.nextElementSibling)\"\n",
       "            ></i></td>\n",
       "            <td class=\"param\">criterion&nbsp;</td>\n",
       "            <td class=\"value\">&#x27;gini&#x27;</td>\n",
       "        </tr>\n",
       "    \n",
       "\n",
       "        <tr class=\"default\">\n",
       "            <td><i class=\"copy-paste-icon\"\n",
       "                 onclick=\"copyToClipboard('splitter',\n",
       "                          this.parentElement.nextElementSibling)\"\n",
       "            ></i></td>\n",
       "            <td class=\"param\">splitter&nbsp;</td>\n",
       "            <td class=\"value\">&#x27;best&#x27;</td>\n",
       "        </tr>\n",
       "    \n",
       "\n",
       "        <tr class=\"user-set\">\n",
       "            <td><i class=\"copy-paste-icon\"\n",
       "                 onclick=\"copyToClipboard('max_depth',\n",
       "                          this.parentElement.nextElementSibling)\"\n",
       "            ></i></td>\n",
       "            <td class=\"param\">max_depth&nbsp;</td>\n",
       "            <td class=\"value\">3</td>\n",
       "        </tr>\n",
       "    \n",
       "\n",
       "        <tr class=\"default\">\n",
       "            <td><i class=\"copy-paste-icon\"\n",
       "                 onclick=\"copyToClipboard('min_samples_split',\n",
       "                          this.parentElement.nextElementSibling)\"\n",
       "            ></i></td>\n",
       "            <td class=\"param\">min_samples_split&nbsp;</td>\n",
       "            <td class=\"value\">2</td>\n",
       "        </tr>\n",
       "    \n",
       "\n",
       "        <tr class=\"default\">\n",
       "            <td><i class=\"copy-paste-icon\"\n",
       "                 onclick=\"copyToClipboard('min_samples_leaf',\n",
       "                          this.parentElement.nextElementSibling)\"\n",
       "            ></i></td>\n",
       "            <td class=\"param\">min_samples_leaf&nbsp;</td>\n",
       "            <td class=\"value\">1</td>\n",
       "        </tr>\n",
       "    \n",
       "\n",
       "        <tr class=\"default\">\n",
       "            <td><i class=\"copy-paste-icon\"\n",
       "                 onclick=\"copyToClipboard('min_weight_fraction_leaf',\n",
       "                          this.parentElement.nextElementSibling)\"\n",
       "            ></i></td>\n",
       "            <td class=\"param\">min_weight_fraction_leaf&nbsp;</td>\n",
       "            <td class=\"value\">0.0</td>\n",
       "        </tr>\n",
       "    \n",
       "\n",
       "        <tr class=\"default\">\n",
       "            <td><i class=\"copy-paste-icon\"\n",
       "                 onclick=\"copyToClipboard('max_features',\n",
       "                          this.parentElement.nextElementSibling)\"\n",
       "            ></i></td>\n",
       "            <td class=\"param\">max_features&nbsp;</td>\n",
       "            <td class=\"value\">None</td>\n",
       "        </tr>\n",
       "    \n",
       "\n",
       "        <tr class=\"user-set\">\n",
       "            <td><i class=\"copy-paste-icon\"\n",
       "                 onclick=\"copyToClipboard('random_state',\n",
       "                          this.parentElement.nextElementSibling)\"\n",
       "            ></i></td>\n",
       "            <td class=\"param\">random_state&nbsp;</td>\n",
       "            <td class=\"value\">5</td>\n",
       "        </tr>\n",
       "    \n",
       "\n",
       "        <tr class=\"default\">\n",
       "            <td><i class=\"copy-paste-icon\"\n",
       "                 onclick=\"copyToClipboard('max_leaf_nodes',\n",
       "                          this.parentElement.nextElementSibling)\"\n",
       "            ></i></td>\n",
       "            <td class=\"param\">max_leaf_nodes&nbsp;</td>\n",
       "            <td class=\"value\">None</td>\n",
       "        </tr>\n",
       "    \n",
       "\n",
       "        <tr class=\"default\">\n",
       "            <td><i class=\"copy-paste-icon\"\n",
       "                 onclick=\"copyToClipboard('min_impurity_decrease',\n",
       "                          this.parentElement.nextElementSibling)\"\n",
       "            ></i></td>\n",
       "            <td class=\"param\">min_impurity_decrease&nbsp;</td>\n",
       "            <td class=\"value\">0.0</td>\n",
       "        </tr>\n",
       "    \n",
       "\n",
       "        <tr class=\"default\">\n",
       "            <td><i class=\"copy-paste-icon\"\n",
       "                 onclick=\"copyToClipboard('class_weight',\n",
       "                          this.parentElement.nextElementSibling)\"\n",
       "            ></i></td>\n",
       "            <td class=\"param\">class_weight&nbsp;</td>\n",
       "            <td class=\"value\">None</td>\n",
       "        </tr>\n",
       "    \n",
       "\n",
       "        <tr class=\"default\">\n",
       "            <td><i class=\"copy-paste-icon\"\n",
       "                 onclick=\"copyToClipboard('ccp_alpha',\n",
       "                          this.parentElement.nextElementSibling)\"\n",
       "            ></i></td>\n",
       "            <td class=\"param\">ccp_alpha&nbsp;</td>\n",
       "            <td class=\"value\">0.0</td>\n",
       "        </tr>\n",
       "    \n",
       "\n",
       "        <tr class=\"default\">\n",
       "            <td><i class=\"copy-paste-icon\"\n",
       "                 onclick=\"copyToClipboard('monotonic_cst',\n",
       "                          this.parentElement.nextElementSibling)\"\n",
       "            ></i></td>\n",
       "            <td class=\"param\">monotonic_cst&nbsp;</td>\n",
       "            <td class=\"value\">None</td>\n",
       "        </tr>\n",
       "    \n",
       "                  </tbody>\n",
       "                </table>\n",
       "            </details>\n",
       "        </div>\n",
       "    </div></div></div></div></div><script>function copyToClipboard(text, element) {\n",
       "    // Get the parameter prefix from the closest toggleable content\n",
       "    const toggleableContent = element.closest('.sk-toggleable__content');\n",
       "    const paramPrefix = toggleableContent ? toggleableContent.dataset.paramPrefix : '';\n",
       "    const fullParamName = paramPrefix ? `${paramPrefix}${text}` : text;\n",
       "\n",
       "    const originalStyle = element.style;\n",
       "    const computedStyle = window.getComputedStyle(element);\n",
       "    const originalWidth = computedStyle.width;\n",
       "    const originalHTML = element.innerHTML.replace('Copied!', '');\n",
       "\n",
       "    navigator.clipboard.writeText(fullParamName)\n",
       "        .then(() => {\n",
       "            element.style.width = originalWidth;\n",
       "            element.style.color = 'green';\n",
       "            element.innerHTML = \"Copied!\";\n",
       "\n",
       "            setTimeout(() => {\n",
       "                element.innerHTML = originalHTML;\n",
       "                element.style = originalStyle;\n",
       "            }, 2000);\n",
       "        })\n",
       "        .catch(err => {\n",
       "            console.error('Failed to copy:', err);\n",
       "            element.style.color = 'red';\n",
       "            element.innerHTML = \"Failed!\";\n",
       "            setTimeout(() => {\n",
       "                element.innerHTML = originalHTML;\n",
       "                element.style = originalStyle;\n",
       "            }, 2000);\n",
       "        });\n",
       "    return false;\n",
       "}\n",
       "\n",
       "document.querySelectorAll('.fa-regular.fa-copy').forEach(function(element) {\n",
       "    const toggleableContent = element.closest('.sk-toggleable__content');\n",
       "    const paramPrefix = toggleableContent ? toggleableContent.dataset.paramPrefix : '';\n",
       "    const paramName = element.parentElement.nextElementSibling.textContent.trim();\n",
       "    const fullParamName = paramPrefix ? `${paramPrefix}${paramName}` : paramName;\n",
       "\n",
       "    element.setAttribute('title', fullParamName);\n",
       "});\n",
       "</script></body>"
      ],
      "text/plain": [
       "DecisionTreeClassifier(max_depth=3, random_state=5)"
      ]
     },
     "execution_count": 105,
     "metadata": {},
     "output_type": "execute_result"
    }
   ],
   "source": [
    "tree = DecisionTreeClassifier(max_depth=3, random_state=5)\n",
    "tree.fit(X_train, y_train)"
   ]
  },
  {
   "cell_type": "code",
   "execution_count": 106,
   "metadata": {},
   "outputs": [
    {
     "data": {
      "text/plain": [
       "0.7613038906414301"
      ]
     },
     "execution_count": 106,
     "metadata": {},
     "output_type": "execute_result"
    }
   ],
   "source": [
    "tree.score(X_train, y_train)"
   ]
  },
  {
   "cell_type": "code",
   "execution_count": 107,
   "metadata": {},
   "outputs": [
    {
     "data": {
      "text/plain": [
       "0.7160883280757098"
      ]
     },
     "execution_count": 107,
     "metadata": {},
     "output_type": "execute_result"
    }
   ],
   "source": [
    "tree.score(X_test, y_test)"
   ]
  },
  {
   "cell_type": "code",
   "execution_count": 108,
   "metadata": {},
   "outputs": [
    {
     "data": {
      "image/png": "[encoded data removed]",
      "text/plain": [
       "<Figure size 1500x600 with 1 Axes>"
      ]
     },
     "metadata": {},
     "output_type": "display_data"
    }
   ],
   "source": [
    "plt.figure(figsize=(15, 6))\n",
    "plot_tree(tree, filled=True, class_names=['nao', 'sim'], fontsize=7, feature_names=nome_colunas);"
   ]
  },
  {
   "cell_type": "markdown",
   "metadata": {},
   "source": [
    "# Seleção de modelos"
   ]
  },
  {
   "cell_type": "markdown",
   "metadata": {},
   "source": [
    "## Normalizando os dados"
   ]
  },
  {
   "cell_type": "markdown",
   "metadata": {},
   "source": [
    "Alguns algoritmos podem atribuir um peso maior aos valores das variáveis devido a escala dos valores e não pela importância da classificação da variável alvo. Por exemplo, em uma base de dados com a colunas **idade** e **salário**, o algoritmo pode dar um peso de decisão maior para os valores do salário simplesmente por estar em uma escala maior do que os valores de idade, e não porque a variável salário é mais importante do que a variável idade.\n",
    "\n",
    "Nesses casos, precisamos fazer uma transformação nos dados para que fiquem em uma mesma escala, fazendo com que o algoritmo não seja influenciado incorretamente pelos valores numéricos divergentes entre as variáveis."
   ]
  },
  {
   "cell_type": "markdown",
   "metadata": {},
   "source": [
    "$X_{sc} = \\frac{X - X_{min}}{X_{max} - X_{min}} $"
   ]
  },
  {
   "cell_type": "code",
   "execution_count": 109,
   "metadata": {},
   "outputs": [],
   "source": [
    "from sklearn.preprocessing import MinMaxScaler"
   ]
  },
  {
   "cell_type": "code",
   "execution_count": 110,
   "metadata": {},
   "outputs": [],
   "source": [
    "normalize = MinMaxScaler()\n",
    "X_train_normalize = normalize.fit_transform(X_train)"
   ]
  },
  {
   "cell_type": "code",
   "execution_count": 111,
   "metadata": {},
   "outputs": [
    {
     "data": {
      "text/html": [
       "<div>\n",
       "<style scoped>\n",
       "    .dataframe tbody tr th:only-of-type {\n",
       "        vertical-align: middle;\n",
       "    }\n",
       "\n",
       "    .dataframe tbody tr th {\n",
       "        vertical-align: top;\n",
       "    }\n",
       "\n",
       "    .dataframe thead th {\n",
       "        text-align: right;\n",
       "    }\n",
       "</style>\n",
       "<table border=\"1\" class=\"dataframe\">\n",
       "  <thead>\n",
       "    <tr style=\"text-align: right;\">\n",
       "      <th></th>\n",
       "      <th>0</th>\n",
       "      <th>1</th>\n",
       "      <th>2</th>\n",
       "      <th>3</th>\n",
       "      <th>4</th>\n",
       "      <th>5</th>\n",
       "      <th>6</th>\n",
       "      <th>7</th>\n",
       "      <th>8</th>\n",
       "      <th>9</th>\n",
       "      <th>10</th>\n",
       "      <th>11</th>\n",
       "    </tr>\n",
       "  </thead>\n",
       "  <tbody>\n",
       "    <tr>\n",
       "      <th>0</th>\n",
       "      <td>1.0</td>\n",
       "      <td>0.0</td>\n",
       "      <td>0.0</td>\n",
       "      <td>0.0</td>\n",
       "      <td>0.0</td>\n",
       "      <td>1.0</td>\n",
       "      <td>0.0</td>\n",
       "      <td>0.0</td>\n",
       "      <td>0.205882</td>\n",
       "      <td>0.065564</td>\n",
       "      <td>0.123734</td>\n",
       "      <td>0.032258</td>\n",
       "    </tr>\n",
       "    <tr>\n",
       "      <th>1</th>\n",
       "      <td>0.0</td>\n",
       "      <td>1.0</td>\n",
       "      <td>0.0</td>\n",
       "      <td>0.0</td>\n",
       "      <td>1.0</td>\n",
       "      <td>0.0</td>\n",
       "      <td>0.0</td>\n",
       "      <td>0.0</td>\n",
       "      <td>0.147059</td>\n",
       "      <td>0.045792</td>\n",
       "      <td>0.396527</td>\n",
       "      <td>0.032258</td>\n",
       "    </tr>\n",
       "    <tr>\n",
       "      <th>2</th>\n",
       "      <td>0.0</td>\n",
       "      <td>1.0</td>\n",
       "      <td>0.0</td>\n",
       "      <td>0.0</td>\n",
       "      <td>1.0</td>\n",
       "      <td>0.0</td>\n",
       "      <td>0.0</td>\n",
       "      <td>0.0</td>\n",
       "      <td>0.338235</td>\n",
       "      <td>0.076036</td>\n",
       "      <td>0.335022</td>\n",
       "      <td>0.000000</td>\n",
       "    </tr>\n",
       "    <tr>\n",
       "      <th>3</th>\n",
       "      <td>1.0</td>\n",
       "      <td>0.0</td>\n",
       "      <td>0.0</td>\n",
       "      <td>1.0</td>\n",
       "      <td>0.0</td>\n",
       "      <td>0.0</td>\n",
       "      <td>0.0</td>\n",
       "      <td>0.0</td>\n",
       "      <td>0.573529</td>\n",
       "      <td>0.062866</td>\n",
       "      <td>0.315123</td>\n",
       "      <td>0.000000</td>\n",
       "    </tr>\n",
       "    <tr>\n",
       "      <th>4</th>\n",
       "      <td>0.0</td>\n",
       "      <td>1.0</td>\n",
       "      <td>0.0</td>\n",
       "      <td>0.0</td>\n",
       "      <td>1.0</td>\n",
       "      <td>0.0</td>\n",
       "      <td>0.0</td>\n",
       "      <td>0.0</td>\n",
       "      <td>0.338235</td>\n",
       "      <td>0.148380</td>\n",
       "      <td>0.065847</td>\n",
       "      <td>0.129032</td>\n",
       "    </tr>\n",
       "    <tr>\n",
       "      <th>...</th>\n",
       "      <td>...</td>\n",
       "      <td>...</td>\n",
       "      <td>...</td>\n",
       "      <td>...</td>\n",
       "      <td>...</td>\n",
       "      <td>...</td>\n",
       "      <td>...</td>\n",
       "      <td>...</td>\n",
       "      <td>...</td>\n",
       "      <td>...</td>\n",
       "      <td>...</td>\n",
       "      <td>...</td>\n",
       "    </tr>\n",
       "    <tr>\n",
       "      <th>946</th>\n",
       "      <td>0.0</td>\n",
       "      <td>0.0</td>\n",
       "      <td>1.0</td>\n",
       "      <td>0.0</td>\n",
       "      <td>0.0</td>\n",
       "      <td>1.0</td>\n",
       "      <td>0.0</td>\n",
       "      <td>0.0</td>\n",
       "      <td>0.191176</td>\n",
       "      <td>0.044265</td>\n",
       "      <td>0.246382</td>\n",
       "      <td>0.129032</td>\n",
       "    </tr>\n",
       "    <tr>\n",
       "      <th>947</th>\n",
       "      <td>0.0</td>\n",
       "      <td>0.0</td>\n",
       "      <td>1.0</td>\n",
       "      <td>0.0</td>\n",
       "      <td>1.0</td>\n",
       "      <td>0.0</td>\n",
       "      <td>0.0</td>\n",
       "      <td>0.0</td>\n",
       "      <td>0.205882</td>\n",
       "      <td>0.028043</td>\n",
       "      <td>0.275687</td>\n",
       "      <td>0.032258</td>\n",
       "    </tr>\n",
       "    <tr>\n",
       "      <th>948</th>\n",
       "      <td>1.0</td>\n",
       "      <td>0.0</td>\n",
       "      <td>0.0</td>\n",
       "      <td>1.0</td>\n",
       "      <td>0.0</td>\n",
       "      <td>0.0</td>\n",
       "      <td>0.0</td>\n",
       "      <td>0.0</td>\n",
       "      <td>0.323529</td>\n",
       "      <td>0.042952</td>\n",
       "      <td>0.024964</td>\n",
       "      <td>0.129032</td>\n",
       "    </tr>\n",
       "    <tr>\n",
       "      <th>949</th>\n",
       "      <td>1.0</td>\n",
       "      <td>0.0</td>\n",
       "      <td>0.0</td>\n",
       "      <td>0.0</td>\n",
       "      <td>1.0</td>\n",
       "      <td>0.0</td>\n",
       "      <td>0.0</td>\n",
       "      <td>1.0</td>\n",
       "      <td>0.176471</td>\n",
       "      <td>0.042810</td>\n",
       "      <td>0.023878</td>\n",
       "      <td>0.000000</td>\n",
       "    </tr>\n",
       "    <tr>\n",
       "      <th>950</th>\n",
       "      <td>0.0</td>\n",
       "      <td>0.0</td>\n",
       "      <td>1.0</td>\n",
       "      <td>0.0</td>\n",
       "      <td>0.0</td>\n",
       "      <td>1.0</td>\n",
       "      <td>0.0</td>\n",
       "      <td>0.0</td>\n",
       "      <td>0.294118</td>\n",
       "      <td>0.248802</td>\n",
       "      <td>0.028220</td>\n",
       "      <td>0.064516</td>\n",
       "    </tr>\n",
       "  </tbody>\n",
       "</table>\n",
       "<p>951 rows × 12 columns</p>\n",
       "</div>"
      ],
      "text/plain": [
       "      0    1    2    3    4   ...   7         8         9         10        11\n",
       "0    1.0  0.0  0.0  0.0  0.0  ...  0.0  0.205882  0.065564  0.123734  0.032258\n",
       "1    0.0  1.0  0.0  0.0  1.0  ...  0.0  0.147059  0.045792  0.396527  0.032258\n",
       "2    0.0  1.0  0.0  0.0  1.0  ...  0.0  0.338235  0.076036  0.335022  0.000000\n",
       "3    1.0  0.0  0.0  1.0  0.0  ...  0.0  0.573529  0.062866  0.315123  0.000000\n",
       "4    0.0  1.0  0.0  0.0  1.0  ...  0.0  0.338235  0.148380  0.065847  0.129032\n",
       "..   ...  ...  ...  ...  ...  ...  ...       ...       ...       ...       ...\n",
       "946  0.0  0.0  1.0  0.0  0.0  ...  0.0  0.191176  0.044265  0.246382  0.129032\n",
       "947  0.0  0.0  1.0  0.0  1.0  ...  0.0  0.205882  0.028043  0.275687  0.032258\n",
       "948  1.0  0.0  0.0  1.0  0.0  ...  0.0  0.323529  0.042952  0.024964  0.129032\n",
       "949  1.0  0.0  0.0  0.0  1.0  ...  1.0  0.176471  0.042810  0.023878  0.000000\n",
       "950  0.0  0.0  1.0  0.0  0.0  ...  0.0  0.294118  0.248802  0.028220  0.064516\n",
       "\n",
       "[951 rows x 12 columns]"
      ]
     },
     "execution_count": 111,
     "metadata": {},
     "output_type": "execute_result"
    }
   ],
   "source": [
    "pd.DataFrame(X_train_normalize)"
   ]
  },
  {
   "cell_type": "markdown",
   "metadata": {},
   "source": [
    "## KNN"
   ]
  },
  {
   "cell_type": "markdown",
   "metadata": {},
   "source": [
    "O algoritmo KNN se baseia no cálculo de distância entre os registros da base de dados e busca elementos que estejam próximos uns dos outros (vizinhos) para tomar a decisão da classificação.\n",
    "\n",
    "Por conta de usar cálculos de distância, esse algoritmo é influenciado pela escala das variáveis e por conta disso é necessário uma transformação nos dados antes de utilizar esse método."
   ]
  },
  {
   "cell_type": "code",
   "execution_count": 112,
   "metadata": {},
   "outputs": [],
   "source": [
    "from sklearn.neighbors import KNeighborsClassifier"
   ]
  },
  {
   "cell_type": "code",
   "execution_count": 113,
   "metadata": {},
   "outputs": [],
   "source": [
    "knn = KNeighborsClassifier()"
   ]
  },
  {
   "cell_type": "code",
   "execution_count": 114,
   "metadata": {},
   "outputs": [
    {
     "data": {
      "text/html": [
       "<style>#sk-container-id-7 {\n",
       "  /* Definition of color scheme common for light and dark mode */\n",
       "  --sklearn-color-text: #000;\n",
       "  --sklearn-color-text-muted: #666;\n",
       "  --sklearn-color-line: gray;\n",
       "  /* Definition of color scheme for unfitted estimators */\n",
       "  --sklearn-color-unfitted-level-0: #fff5e6;\n",
       "  --sklearn-color-unfitted-level-1: #f6e4d2;\n",
       "  --sklearn-color-unfitted-level-2: #ffe0b3;\n",
       "  --sklearn-color-unfitted-level-3: chocolate;\n",
       "  /* Definition of color scheme for fitted estimators */\n",
       "  --sklearn-color-fitted-level-0: #f0f8ff;\n",
       "  --sklearn-color-fitted-level-1: #d4ebff;\n",
       "  --sklearn-color-fitted-level-2: #b3dbfd;\n",
       "  --sklearn-color-fitted-level-3: cornflowerblue;\n",
       "\n",
       "  /* Specific color for light theme */\n",
       "  --sklearn-color-text-on-default-background: var(--sg-text-color, var(--theme-code-foreground, var(--jp-content-font-color1, black)));\n",
       "  --sklearn-color-background: var(--sg-background-color, var(--theme-background, var(--jp-layout-color0, white)));\n",
       "  --sklearn-color-border-box: var(--sg-text-color, var(--theme-code-foreground, var(--jp-content-font-color1, black)));\n",
       "  --sklearn-color-icon: #696969;\n",
       "\n",
       "  @media (prefers-color-scheme: dark) {\n",
       "    /* Redefinition of color scheme for dark theme */\n",
       "    --sklearn-color-text-on-default-background: var(--sg-text-color, var(--theme-code-foreground, var(--jp-content-font-color1, white)));\n",
       "    --sklearn-color-background: var(--sg-background-color, var(--theme-background, var(--jp-layout-color0, #111)));\n",
       "    --sklearn-color-border-box: var(--sg-text-color, var(--theme-code-foreground, var(--jp-content-font-color1, white)));\n",
       "    --sklearn-color-icon: #878787;\n",
       "  }\n",
       "}\n",
       "\n",
       "#sk-container-id-7 {\n",
       "  color: var(--sklearn-color-text);\n",
       "}\n",
       "\n",
       "#sk-container-id-7 pre {\n",
       "  padding: 0;\n",
       "}\n",
       "\n",
       "#sk-container-id-7 input.sk-hidden--visually {\n",
       "  border: 0;\n",
       "  clip: rect(1px 1px 1px 1px);\n",
       "  clip: rect(1px, 1px, 1px, 1px);\n",
       "  height: 1px;\n",
       "  margin: -1px;\n",
       "  overflow: hidden;\n",
       "  padding: 0;\n",
       "  position: absolute;\n",
       "  width: 1px;\n",
       "}\n",
       "\n",
       "#sk-container-id-7 div.sk-dashed-wrapped {\n",
       "  border: 1px dashed var(--sklearn-color-line);\n",
       "  margin: 0 0.4em 0.5em 0.4em;\n",
       "  box-sizing: border-box;\n",
       "  padding-bottom: 0.4em;\n",
       "  background-color: var(--sklearn-color-background);\n",
       "}\n",
       "\n",
       "#sk-container-id-7 div.sk-container {\n",
       "  /* jupyter's `normalize.less` sets `[hidden] { display: none; }`\n",
       "     but bootstrap.min.css set `[hidden] { display: none !important; }`\n",
       "     so we also need the `!important` here to be able to override the\n",
       "     default hidden behavior on the sphinx rendered scikit-learn.org.\n",
       "     See: https://github.com/scikit-learn/scikit-learn/issues/21755 */\n",
       "  display: inline-block !important;\n",
       "  position: relative;\n",
       "}\n",
       "\n",
       "#sk-container-id-7 div.sk-text-repr-fallback {\n",
       "  display: none;\n",
       "}\n",
       "\n",
       "div.sk-parallel-item,\n",
       "div.sk-serial,\n",
       "div.sk-item {\n",
       "  /* draw centered vertical line to link estimators */\n",
       "  background-image: linear-gradient(var(--sklearn-color-text-on-default-background), var(--sklearn-color-text-on-default-background));\n",
       "  background-size: 2px 100%;\n",
       "  background-repeat: no-repeat;\n",
       "  background-position: center center;\n",
       "}\n",
       "\n",
       "/* Parallel-specific style estimator block */\n",
       "\n",
       "#sk-container-id-7 div.sk-parallel-item::after {\n",
       "  content: \"\";\n",
       "  width: 100%;\n",
       "  border-bottom: 2px solid var(--sklearn-color-text-on-default-background);\n",
       "  flex-grow: 1;\n",
       "}\n",
       "\n",
       "#sk-container-id-7 div.sk-parallel {\n",
       "  display: flex;\n",
       "  align-items: stretch;\n",
       "  justify-content: center;\n",
       "  background-color: var(--sklearn-color-background);\n",
       "  position: relative;\n",
       "}\n",
       "\n",
       "#sk-container-id-7 div.sk-parallel-item {\n",
       "  display: flex;\n",
       "  flex-direction: column;\n",
       "}\n",
       "\n",
       "#sk-container-id-7 div.sk-parallel-item:first-child::after {\n",
       "  align-self: flex-end;\n",
       "  width: 50%;\n",
       "}\n",
       "\n",
       "#sk-container-id-7 div.sk-parallel-item:last-child::after {\n",
       "  align-self: flex-start;\n",
       "  width: 50%;\n",
       "}\n",
       "\n",
       "#sk-container-id-7 div.sk-parallel-item:only-child::after {\n",
       "  width: 0;\n",
       "}\n",
       "\n",
       "/* Serial-specific style estimator block */\n",
       "\n",
       "#sk-container-id-7 div.sk-serial {\n",
       "  display: flex;\n",
       "  flex-direction: column;\n",
       "  align-items: center;\n",
       "  background-color: var(--sklearn-color-background);\n",
       "  padding-right: 1em;\n",
       "  padding-left: 1em;\n",
       "}\n",
       "\n",
       "\n",
       "/* Toggleable style: style used for estimator/Pipeline/ColumnTransformer box that is\n",
       "clickable and can be expanded/collapsed.\n",
       "- Pipeline and ColumnTransformer use this feature and define the default style\n",
       "- Estimators will overwrite some part of the style using the `sk-estimator` class\n",
       "*/\n",
       "\n",
       "/* Pipeline and ColumnTransformer style (default) */\n",
       "\n",
       "#sk-container-id-7 div.sk-toggleable {\n",
       "  /* Default theme specific background. It is overwritten whether we have a\n",
       "  specific estimator or a Pipeline/ColumnTransformer */\n",
       "  background-color: var(--sklearn-color-background);\n",
       "}\n",
       "\n",
       "/* Toggleable label */\n",
       "#sk-container-id-7 label.sk-toggleable__label {\n",
       "  cursor: pointer;\n",
       "  display: flex;\n",
       "  width: 100%;\n",
       "  margin-bottom: 0;\n",
       "  padding: 0.5em;\n",
       "  box-sizing: border-box;\n",
       "  text-align: center;\n",
       "  align-items: start;\n",
       "  justify-content: space-between;\n",
       "  gap: 0.5em;\n",
       "}\n",
       "\n",
       "#sk-container-id-7 label.sk-toggleable__label .caption {\n",
       "  font-size: 0.6rem;\n",
       "  font-weight: lighter;\n",
       "  color: var(--sklearn-color-text-muted);\n",
       "}\n",
       "\n",
       "#sk-container-id-7 label.sk-toggleable__label-arrow:before {\n",
       "  /* Arrow on the left of the label */\n",
       "  content: \"▸\";\n",
       "  float: left;\n",
       "  margin-right: 0.25em;\n",
       "  color: var(--sklearn-color-icon);\n",
       "}\n",
       "\n",
       "#sk-container-id-7 label.sk-toggleable__label-arrow:hover:before {\n",
       "  color: var(--sklearn-color-text);\n",
       "}\n",
       "\n",
       "/* Toggleable content - dropdown */\n",
       "\n",
       "#sk-container-id-7 div.sk-toggleable__content {\n",
       "  display: none;\n",
       "  text-align: left;\n",
       "  /* unfitted */\n",
       "  background-color: var(--sklearn-color-unfitted-level-0);\n",
       "}\n",
       "\n",
       "#sk-container-id-7 div.sk-toggleable__content.fitted {\n",
       "  /* fitted */\n",
       "  background-color: var(--sklearn-color-fitted-level-0);\n",
       "}\n",
       "\n",
       "#sk-container-id-7 div.sk-toggleable__content pre {\n",
       "  margin: 0.2em;\n",
       "  border-radius: 0.25em;\n",
       "  color: var(--sklearn-color-text);\n",
       "  /* unfitted */\n",
       "  background-color: var(--sklearn-color-unfitted-level-0);\n",
       "}\n",
       "\n",
       "#sk-container-id-7 div.sk-toggleable__content.fitted pre {\n",
       "  /* unfitted */\n",
       "  background-color: var(--sklearn-color-fitted-level-0);\n",
       "}\n",
       "\n",
       "#sk-container-id-7 input.sk-toggleable__control:checked~div.sk-toggleable__content {\n",
       "  /* Expand drop-down */\n",
       "  display: block;\n",
       "  width: 100%;\n",
       "  overflow: visible;\n",
       "}\n",
       "\n",
       "#sk-container-id-7 input.sk-toggleable__control:checked~label.sk-toggleable__label-arrow:before {\n",
       "  content: \"▾\";\n",
       "}\n",
       "\n",
       "/* Pipeline/ColumnTransformer-specific style */\n",
       "\n",
       "#sk-container-id-7 div.sk-label input.sk-toggleable__control:checked~label.sk-toggleable__label {\n",
       "  color: var(--sklearn-color-text);\n",
       "  background-color: var(--sklearn-color-unfitted-level-2);\n",
       "}\n",
       "\n",
       "#sk-container-id-7 div.sk-label.fitted input.sk-toggleable__control:checked~label.sk-toggleable__label {\n",
       "  background-color: var(--sklearn-color-fitted-level-2);\n",
       "}\n",
       "\n",
       "/* Estimator-specific style */\n",
       "\n",
       "/* Colorize estimator box */\n",
       "#sk-container-id-7 div.sk-estimator input.sk-toggleable__control:checked~label.sk-toggleable__label {\n",
       "  /* unfitted */\n",
       "  background-color: var(--sklearn-color-unfitted-level-2);\n",
       "}\n",
       "\n",
       "#sk-container-id-7 div.sk-estimator.fitted input.sk-toggleable__control:checked~label.sk-toggleable__label {\n",
       "  /* fitted */\n",
       "  background-color: var(--sklearn-color-fitted-level-2);\n",
       "}\n",
       "\n",
       "#sk-container-id-7 div.sk-label label.sk-toggleable__label,\n",
       "#sk-container-id-7 div.sk-label label {\n",
       "  /* The background is the default theme color */\n",
       "  color: var(--sklearn-color-text-on-default-background);\n",
       "}\n",
       "\n",
       "/* On hover, darken the color of the background */\n",
       "#sk-container-id-7 div.sk-label:hover label.sk-toggleable__label {\n",
       "  color: var(--sklearn-color-text);\n",
       "  background-color: var(--sklearn-color-unfitted-level-2);\n",
       "}\n",
       "\n",
       "/* Label box, darken color on hover, fitted */\n",
       "#sk-container-id-7 div.sk-label.fitted:hover label.sk-toggleable__label.fitted {\n",
       "  color: var(--sklearn-color-text);\n",
       "  background-color: var(--sklearn-color-fitted-level-2);\n",
       "}\n",
       "\n",
       "/* Estimator label */\n",
       "\n",
       "#sk-container-id-7 div.sk-label label {\n",
       "  font-family: monospace;\n",
       "  font-weight: bold;\n",
       "  display: inline-block;\n",
       "  line-height: 1.2em;\n",
       "}\n",
       "\n",
       "#sk-container-id-7 div.sk-label-container {\n",
       "  text-align: center;\n",
       "}\n",
       "\n",
       "/* Estimator-specific */\n",
       "#sk-container-id-7 div.sk-estimator {\n",
       "  font-family: monospace;\n",
       "  border: 1px dotted var(--sklearn-color-border-box);\n",
       "  border-radius: 0.25em;\n",
       "  box-sizing: border-box;\n",
       "  margin-bottom: 0.5em;\n",
       "  /* unfitted */\n",
       "  background-color: var(--sklearn-color-unfitted-level-0);\n",
       "}\n",
       "\n",
       "#sk-container-id-7 div.sk-estimator.fitted {\n",
       "  /* fitted */\n",
       "  background-color: var(--sklearn-color-fitted-level-0);\n",
       "}\n",
       "\n",
       "/* on hover */\n",
       "#sk-container-id-7 div.sk-estimator:hover {\n",
       "  /* unfitted */\n",
       "  background-color: var(--sklearn-color-unfitted-level-2);\n",
       "}\n",
       "\n",
       "#sk-container-id-7 div.sk-estimator.fitted:hover {\n",
       "  /* fitted */\n",
       "  background-color: var(--sklearn-color-fitted-level-2);\n",
       "}\n",
       "\n",
       "/* Specification for estimator info (e.g. \"i\" and \"?\") */\n",
       "\n",
       "/* Common style for \"i\" and \"?\" */\n",
       "\n",
       ".sk-estimator-doc-link,\n",
       "a:link.sk-estimator-doc-link,\n",
       "a:visited.sk-estimator-doc-link {\n",
       "  float: right;\n",
       "  font-size: smaller;\n",
       "  line-height: 1em;\n",
       "  font-family: monospace;\n",
       "  background-color: var(--sklearn-color-background);\n",
       "  border-radius: 1em;\n",
       "  height: 1em;\n",
       "  width: 1em;\n",
       "  text-decoration: none !important;\n",
       "  margin-left: 0.5em;\n",
       "  text-align: center;\n",
       "  /* unfitted */\n",
       "  border: var(--sklearn-color-unfitted-level-1) 1pt solid;\n",
       "  color: var(--sklearn-color-unfitted-level-1);\n",
       "}\n",
       "\n",
       ".sk-estimator-doc-link.fitted,\n",
       "a:link.sk-estimator-doc-link.fitted,\n",
       "a:visited.sk-estimator-doc-link.fitted {\n",
       "  /* fitted */\n",
       "  border: var(--sklearn-color-fitted-level-1) 1pt solid;\n",
       "  color: var(--sklearn-color-fitted-level-1);\n",
       "}\n",
       "\n",
       "/* On hover */\n",
       "div.sk-estimator:hover .sk-estimator-doc-link:hover,\n",
       ".sk-estimator-doc-link:hover,\n",
       "div.sk-label-container:hover .sk-estimator-doc-link:hover,\n",
       ".sk-estimator-doc-link:hover {\n",
       "  /* unfitted */\n",
       "  background-color: var(--sklearn-color-unfitted-level-3);\n",
       "  color: var(--sklearn-color-background);\n",
       "  text-decoration: none;\n",
       "}\n",
       "\n",
       "div.sk-estimator.fitted:hover .sk-estimator-doc-link.fitted:hover,\n",
       ".sk-estimator-doc-link.fitted:hover,\n",
       "div.sk-label-container:hover .sk-estimator-doc-link.fitted:hover,\n",
       ".sk-estimator-doc-link.fitted:hover {\n",
       "  /* fitted */\n",
       "  background-color: var(--sklearn-color-fitted-level-3);\n",
       "  color: var(--sklearn-color-background);\n",
       "  text-decoration: none;\n",
       "}\n",
       "\n",
       "/* Span, style for the box shown on hovering the info icon */\n",
       ".sk-estimator-doc-link span {\n",
       "  display: none;\n",
       "  z-index: 9999;\n",
       "  position: relative;\n",
       "  font-weight: normal;\n",
       "  right: .2ex;\n",
       "  padding: .5ex;\n",
       "  margin: .5ex;\n",
       "  width: min-content;\n",
       "  min-width: 20ex;\n",
       "  max-width: 50ex;\n",
       "  color: var(--sklearn-color-text);\n",
       "  box-shadow: 2pt 2pt 4pt #999;\n",
       "  /* unfitted */\n",
       "  background: var(--sklearn-color-unfitted-level-0);\n",
       "  border: .5pt solid var(--sklearn-color-unfitted-level-3);\n",
       "}\n",
       "\n",
       ".sk-estimator-doc-link.fitted span {\n",
       "  /* fitted */\n",
       "  background: var(--sklearn-color-fitted-level-0);\n",
       "  border: var(--sklearn-color-fitted-level-3);\n",
       "}\n",
       "\n",
       ".sk-estimator-doc-link:hover span {\n",
       "  display: block;\n",
       "}\n",
       "\n",
       "/* \"?\"-specific style due to the `<a>` HTML tag */\n",
       "\n",
       "#sk-container-id-7 a.estimator_doc_link {\n",
       "  float: right;\n",
       "  font-size: 1rem;\n",
       "  line-height: 1em;\n",
       "  font-family: monospace;\n",
       "  background-color: var(--sklearn-color-background);\n",
       "  border-radius: 1rem;\n",
       "  height: 1rem;\n",
       "  width: 1rem;\n",
       "  text-decoration: none;\n",
       "  /* unfitted */\n",
       "  color: var(--sklearn-color-unfitted-level-1);\n",
       "  border: var(--sklearn-color-unfitted-level-1) 1pt solid;\n",
       "}\n",
       "\n",
       "#sk-container-id-7 a.estimator_doc_link.fitted {\n",
       "  /* fitted */\n",
       "  border: var(--sklearn-color-fitted-level-1) 1pt solid;\n",
       "  color: var(--sklearn-color-fitted-level-1);\n",
       "}\n",
       "\n",
       "/* On hover */\n",
       "#sk-container-id-7 a.estimator_doc_link:hover {\n",
       "  /* unfitted */\n",
       "  background-color: var(--sklearn-color-unfitted-level-3);\n",
       "  color: var(--sklearn-color-background);\n",
       "  text-decoration: none;\n",
       "}\n",
       "\n",
       "#sk-container-id-7 a.estimator_doc_link.fitted:hover {\n",
       "  /* fitted */\n",
       "  background-color: var(--sklearn-color-fitted-level-3);\n",
       "}\n",
       "\n",
       ".estimator-table summary {\n",
       "    padding: .5rem;\n",
       "    font-family: monospace;\n",
       "    cursor: pointer;\n",
       "}\n",
       "\n",
       ".estimator-table details[open] {\n",
       "    padding-left: 0.1rem;\n",
       "    padding-right: 0.1rem;\n",
       "    padding-bottom: 0.3rem;\n",
       "}\n",
       "\n",
       ".estimator-table .parameters-table {\n",
       "    margin-left: auto !important;\n",
       "    margin-right: auto !important;\n",
       "}\n",
       "\n",
       ".estimator-table .parameters-table tr:nth-child(odd) {\n",
       "    background-color: #fff;\n",
       "}\n",
       "\n",
       ".estimator-table .parameters-table tr:nth-child(even) {\n",
       "    background-color: #f6f6f6;\n",
       "}\n",
       "\n",
       ".estimator-table .parameters-table tr:hover {\n",
       "    background-color: #e0e0e0;\n",
       "}\n",
       "\n",
       ".estimator-table table td {\n",
       "    border: 1px solid rgba(106, 105, 104, 0.232);\n",
       "}\n",
       "\n",
       ".user-set td {\n",
       "    color:rgb(255, 94, 0);\n",
       "    text-align: left;\n",
       "}\n",
       "\n",
       ".user-set td.value pre {\n",
       "    color:rgb(255, 94, 0) !important;\n",
       "    background-color: transparent !important;\n",
       "}\n",
       "\n",
       ".default td {\n",
       "    color: black;\n",
       "    text-align: left;\n",
       "}\n",
       "\n",
       ".user-set td i,\n",
       ".default td i {\n",
       "    color: black;\n",
       "}\n",
       "\n",
       ".copy-paste-icon {\n",
       "    background-image: url(data:image/svg+xml;base64,PHN2ZyB4bWxucz0iaHR0cDovL3d3dy53My5vcmcvMjAwMC9zdmciIHZpZXdCb3g9IjAgMCA0NDggNTEyIj48IS0tIUZvbnQgQXdlc29tZSBGcmVlIDYuNy4yIGJ5IEBmb250YXdlc29tZSAtIGh0dHBzOi8vZm9udGF3ZXNvbWUuY29tIExpY2Vuc2UgLSBodHRwczovL2ZvbnRhd2Vzb21lLmNvbS9saWNlbnNlL2ZyZWUgQ29weXJpZ2h0IDIwMjUgRm9udGljb25zLCBJbmMuLS0+PHBhdGggZD0iTTIwOCAwTDMzMi4xIDBjMTIuNyAwIDI0LjkgNS4xIDMzLjkgMTQuMWw2Ny45IDY3LjljOSA5IDE0LjEgMjEuMiAxNC4xIDMzLjlMNDQ4IDMzNmMwIDI2LjUtMjEuNSA0OC00OCA0OGwtMTkyIDBjLTI2LjUgMC00OC0yMS41LTQ4LTQ4bDAtMjg4YzAtMjYuNSAyMS41LTQ4IDQ4LTQ4ek00OCAxMjhsODAgMCAwIDY0LTY0IDAgMCAyNTYgMTkyIDAgMC0zMiA2NCAwIDAgNDhjMCAyNi41LTIxLjUgNDgtNDggNDhMNDggNTEyYy0yNi41IDAtNDgtMjEuNS00OC00OEwwIDE3NmMwLTI2LjUgMjEuNS00OCA0OC00OHoiLz48L3N2Zz4=);\n",
       "    background-repeat: no-repeat;\n",
       "    background-size: 14px 14px;\n",
       "    background-position: 0;\n",
       "    display: inline-block;\n",
       "    width: 14px;\n",
       "    height: 14px;\n",
       "    cursor: pointer;\n",
       "}\n",
       "</style><body><div id=\"sk-container-id-7\" class=\"sk-top-container\"><div class=\"sk-text-repr-fallback\"><pre>KNeighborsClassifier()</pre><b>In a Jupyter environment, please rerun this cell to show the HTML representation or trust the notebook. <br />On GitHub, the HTML representation is unable to render, please try loading this page with nbviewer.org.</b></div><div class=\"sk-container\" hidden><div class=\"sk-item\"><div class=\"sk-estimator fitted sk-toggleable\"><input class=\"sk-toggleable__control sk-hidden--visually\" id=\"sk-estimator-id-7\" type=\"checkbox\" checked><label for=\"sk-estimator-id-7\" class=\"sk-toggleable__label fitted sk-toggleable__label-arrow\"><div><div>KNeighborsClassifier</div></div><div><a class=\"sk-estimator-doc-link fitted\" rel=\"noreferrer\" target=\"_blank\" href=\"https://scikit-learn.org/1.7/modules/generated/sklearn.neighbors.KNeighborsClassifier.html\">?<span>Documentation for KNeighborsClassifier</span></a><span class=\"sk-estimator-doc-link fitted\">i<span>Fitted</span></span></div></label><div class=\"sk-toggleable__content fitted\" data-param-prefix=\"\">\n",
       "        <div class=\"estimator-table\">\n",
       "            <details>\n",
       "                <summary>Parameters</summary>\n",
       "                <table class=\"parameters-table\">\n",
       "                  <tbody>\n",
       "                    \n",
       "        <tr class=\"default\">\n",
       "            <td><i class=\"copy-paste-icon\"\n",
       "                 onclick=\"copyToClipboard('n_neighbors',\n",
       "                          this.parentElement.nextElementSibling)\"\n",
       "            ></i></td>\n",
       "            <td class=\"param\">n_neighbors&nbsp;</td>\n",
       "            <td class=\"value\">5</td>\n",
       "        </tr>\n",
       "    \n",
       "\n",
       "        <tr class=\"default\">\n",
       "            <td><i class=\"copy-paste-icon\"\n",
       "                 onclick=\"copyToClipboard('weights',\n",
       "                          this.parentElement.nextElementSibling)\"\n",
       "            ></i></td>\n",
       "            <td class=\"param\">weights&nbsp;</td>\n",
       "            <td class=\"value\">&#x27;uniform&#x27;</td>\n",
       "        </tr>\n",
       "    \n",
       "\n",
       "        <tr class=\"default\">\n",
       "            <td><i class=\"copy-paste-icon\"\n",
       "                 onclick=\"copyToClipboard('algorithm',\n",
       "                          this.parentElement.nextElementSibling)\"\n",
       "            ></i></td>\n",
       "            <td class=\"param\">algorithm&nbsp;</td>\n",
       "            <td class=\"value\">&#x27;auto&#x27;</td>\n",
       "        </tr>\n",
       "    \n",
       "\n",
       "        <tr class=\"default\">\n",
       "            <td><i class=\"copy-paste-icon\"\n",
       "                 onclick=\"copyToClipboard('leaf_size',\n",
       "                          this.parentElement.nextElementSibling)\"\n",
       "            ></i></td>\n",
       "            <td class=\"param\">leaf_size&nbsp;</td>\n",
       "            <td class=\"value\">30</td>\n",
       "        </tr>\n",
       "    \n",
       "\n",
       "        <tr class=\"default\">\n",
       "            <td><i class=\"copy-paste-icon\"\n",
       "                 onclick=\"copyToClipboard('p',\n",
       "                          this.parentElement.nextElementSibling)\"\n",
       "            ></i></td>\n",
       "            <td class=\"param\">p&nbsp;</td>\n",
       "            <td class=\"value\">2</td>\n",
       "        </tr>\n",
       "    \n",
       "\n",
       "        <tr class=\"default\">\n",
       "            <td><i class=\"copy-paste-icon\"\n",
       "                 onclick=\"copyToClipboard('metric',\n",
       "                          this.parentElement.nextElementSibling)\"\n",
       "            ></i></td>\n",
       "            <td class=\"param\">metric&nbsp;</td>\n",
       "            <td class=\"value\">&#x27;minkowski&#x27;</td>\n",
       "        </tr>\n",
       "    \n",
       "\n",
       "        <tr class=\"default\">\n",
       "            <td><i class=\"copy-paste-icon\"\n",
       "                 onclick=\"copyToClipboard('metric_params',\n",
       "                          this.parentElement.nextElementSibling)\"\n",
       "            ></i></td>\n",
       "            <td class=\"param\">metric_params&nbsp;</td>\n",
       "            <td class=\"value\">None</td>\n",
       "        </tr>\n",
       "    \n",
       "\n",
       "        <tr class=\"default\">\n",
       "            <td><i class=\"copy-paste-icon\"\n",
       "                 onclick=\"copyToClipboard('n_jobs',\n",
       "                          this.parentElement.nextElementSibling)\"\n",
       "            ></i></td>\n",
       "            <td class=\"param\">n_jobs&nbsp;</td>\n",
       "            <td class=\"value\">None</td>\n",
       "        </tr>\n",
       "    \n",
       "                  </tbody>\n",
       "                </table>\n",
       "            </details>\n",
       "        </div>\n",
       "    </div></div></div></div></div><script>function copyToClipboard(text, element) {\n",
       "    // Get the parameter prefix from the closest toggleable content\n",
       "    const toggleableContent = element.closest('.sk-toggleable__content');\n",
       "    const paramPrefix = toggleableContent ? toggleableContent.dataset.paramPrefix : '';\n",
       "    const fullParamName = paramPrefix ? `${paramPrefix}${text}` : text;\n",
       "\n",
       "    const originalStyle = element.style;\n",
       "    const computedStyle = window.getComputedStyle(element);\n",
       "    const originalWidth = computedStyle.width;\n",
       "    const originalHTML = element.innerHTML.replace('Copied!', '');\n",
       "\n",
       "    navigator.clipboard.writeText(fullParamName)\n",
       "        .then(() => {\n",
       "            element.style.width = originalWidth;\n",
       "            element.style.color = 'green';\n",
       "            element.innerHTML = \"Copied!\";\n",
       "\n",
       "            setTimeout(() => {\n",
       "                element.innerHTML = originalHTML;\n",
       "                element.style = originalStyle;\n",
       "            }, 2000);\n",
       "        })\n",
       "        .catch(err => {\n",
       "            console.error('Failed to copy:', err);\n",
       "            element.style.color = 'red';\n",
       "            element.innerHTML = \"Failed!\";\n",
       "            setTimeout(() => {\n",
       "                element.innerHTML = originalHTML;\n",
       "                element.style = originalStyle;\n",
       "            }, 2000);\n",
       "        });\n",
       "    return false;\n",
       "}\n",
       "\n",
       "document.querySelectorAll('.fa-regular.fa-copy').forEach(function(element) {\n",
       "    const toggleableContent = element.closest('.sk-toggleable__content');\n",
       "    const paramPrefix = toggleableContent ? toggleableContent.dataset.paramPrefix : '';\n",
       "    const paramName = element.parentElement.nextElementSibling.textContent.trim();\n",
       "    const fullParamName = paramPrefix ? `${paramPrefix}${paramName}` : paramName;\n",
       "\n",
       "    element.setAttribute('title', fullParamName);\n",
       "});\n",
       "</script></body>"
      ],
      "text/plain": [
       "KNeighborsClassifier()"
      ]
     },
     "execution_count": 114,
     "metadata": {},
     "output_type": "execute_result"
    }
   ],
   "source": [
    "knn.fit(X_train_normalize, y_train)"
   ]
  },
  {
   "cell_type": "code",
   "execution_count": 115,
   "metadata": {},
   "outputs": [],
   "source": [
    "X_test_normalized = normalize.transform(X_test)"
   ]
  },
  {
   "cell_type": "code",
   "execution_count": 116,
   "metadata": {},
   "outputs": [
    {
     "data": {
      "text/plain": [
       "0.6876971608832808"
      ]
     },
     "execution_count": 116,
     "metadata": {},
     "output_type": "execute_result"
    }
   ],
   "source": [
    "knn.score(X_test_normalized, y_test)"
   ]
  },
  {
   "cell_type": "markdown",
   "metadata": {},
   "source": [
    "## Escolhendo e salvando o melhor modelo"
   ]
  },
  {
   "cell_type": "markdown",
   "metadata": {},
   "source": [
    "Ao final de um projeto de machine learning, devemos comparar os resultados dos modelos e escolher aquele que tenha o melhor desempenho.\n",
    "\n",
    "Podemos armazenar o modelo em um arquivo serializado do tipo pickle para que seja utilizado em produção, ou seja, em dados do mundo real para atender as necessidades do problema que precisa ser resolvido."
   ]
  },
  {
   "cell_type": "code",
   "execution_count": 117,
   "metadata": {},
   "outputs": [
    {
     "name": "stdout",
     "output_type": "stream",
     "text": [
      "Acurácia Dummy: 0.6025236593059937\n",
      "Acurácia Tree: 0.7160883280757098\n",
      "Acurácia KNN: 0.6876971608832808\n"
     ]
    }
   ],
   "source": [
    "print(f'Acurácia Dummy: {dummy.score(X_test, y_test)}')\n",
    "print(f'Acurácia Tree: {tree.score(X_test, y_test)}')\n",
    "print(f'Acurácia KNN: {knn.score(X_test_normalized, y_test)}')"
   ]
  },
  {
   "cell_type": "code",
   "execution_count": 118,
   "metadata": {},
   "outputs": [],
   "source": [
    "import pickle"
   ]
  },
  {
   "cell_type": "code",
   "execution_count": 119,
   "metadata": {},
   "outputs": [],
   "source": [
    "with open('modelo_onehotenc.pkl', 'wb') as file:\n",
    "    pickle.dump(one_hot, file)"
   ]
  },
  {
   "cell_type": "code",
   "execution_count": 120,
   "metadata": {},
   "outputs": [],
   "source": [
    "with open('modelo_tree.pkl', 'wb') as file:\n",
    "    pickle.dump(tree, file)"
   ]
  },
  {
   "cell_type": "code",
   "execution_count": 121,
   "metadata": {},
   "outputs": [
    {
     "data": {
      "text/html": [
       "<div>\n",
       "<style scoped>\n",
       "    .dataframe tbody tr th:only-of-type {\n",
       "        vertical-align: middle;\n",
       "    }\n",
       "\n",
       "    .dataframe tbody tr th {\n",
       "        vertical-align: top;\n",
       "    }\n",
       "\n",
       "    .dataframe thead th {\n",
       "        text-align: right;\n",
       "    }\n",
       "</style>\n",
       "<table border=\"1\" class=\"dataframe\">\n",
       "  <thead>\n",
       "    <tr style=\"text-align: right;\">\n",
       "      <th></th>\n",
       "      <th>idade</th>\n",
       "      <th>estado_civil</th>\n",
       "      <th>escolaridade</th>\n",
       "      <th>inadimplencia</th>\n",
       "      <th>saldo</th>\n",
       "      <th>fez_emprestimo</th>\n",
       "      <th>tempo_ult_contato</th>\n",
       "      <th>numero_contatos</th>\n",
       "      <th>aderencia_investimento</th>\n",
       "    </tr>\n",
       "  </thead>\n",
       "  <tbody>\n",
       "    <tr>\n",
       "      <th>0</th>\n",
       "      <td>45</td>\n",
       "      <td>casado (a)</td>\n",
       "      <td>superior</td>\n",
       "      <td>nao</td>\n",
       "      <td>242</td>\n",
       "      <td>nao</td>\n",
       "      <td>587</td>\n",
       "      <td>1</td>\n",
       "      <td>sim</td>\n",
       "    </tr>\n",
       "    <tr>\n",
       "      <th>1</th>\n",
       "      <td>42</td>\n",
       "      <td>casado (a)</td>\n",
       "      <td>medio</td>\n",
       "      <td>nao</td>\n",
       "      <td>1289</td>\n",
       "      <td>nao</td>\n",
       "      <td>250</td>\n",
       "      <td>4</td>\n",
       "      <td>sim</td>\n",
       "    </tr>\n",
       "    <tr>\n",
       "      <th>2</th>\n",
       "      <td>23</td>\n",
       "      <td>solteiro (a)</td>\n",
       "      <td>superior</td>\n",
       "      <td>nao</td>\n",
       "      <td>363</td>\n",
       "      <td>nao</td>\n",
       "      <td>16</td>\n",
       "      <td>18</td>\n",
       "      <td>nao</td>\n",
       "    </tr>\n",
       "    <tr>\n",
       "      <th>3</th>\n",
       "      <td>58</td>\n",
       "      <td>divorciado (a)</td>\n",
       "      <td>superior</td>\n",
       "      <td>nao</td>\n",
       "      <td>1382</td>\n",
       "      <td>nao</td>\n",
       "      <td>700</td>\n",
       "      <td>1</td>\n",
       "      <td>sim</td>\n",
       "    </tr>\n",
       "    <tr>\n",
       "      <th>4</th>\n",
       "      <td>50</td>\n",
       "      <td>casado (a)</td>\n",
       "      <td>medio</td>\n",
       "      <td>nao</td>\n",
       "      <td>3357</td>\n",
       "      <td>nao</td>\n",
       "      <td>239</td>\n",
       "      <td>4</td>\n",
       "      <td>sim</td>\n",
       "    </tr>\n",
       "    <tr>\n",
       "      <th>...</th>\n",
       "      <td>...</td>\n",
       "      <td>...</td>\n",
       "      <td>...</td>\n",
       "      <td>...</td>\n",
       "      <td>...</td>\n",
       "      <td>...</td>\n",
       "      <td>...</td>\n",
       "      <td>...</td>\n",
       "      <td>...</td>\n",
       "    </tr>\n",
       "    <tr>\n",
       "      <th>1263</th>\n",
       "      <td>52</td>\n",
       "      <td>solteiro (a)</td>\n",
       "      <td>superior</td>\n",
       "      <td>nao</td>\n",
       "      <td>83</td>\n",
       "      <td>nao</td>\n",
       "      <td>1223</td>\n",
       "      <td>6</td>\n",
       "      <td>sim</td>\n",
       "    </tr>\n",
       "    <tr>\n",
       "      <th>1264</th>\n",
       "      <td>35</td>\n",
       "      <td>solteiro (a)</td>\n",
       "      <td>superior</td>\n",
       "      <td>nao</td>\n",
       "      <td>5958</td>\n",
       "      <td>nao</td>\n",
       "      <td>215</td>\n",
       "      <td>1</td>\n",
       "      <td>sim</td>\n",
       "    </tr>\n",
       "    <tr>\n",
       "      <th>1265</th>\n",
       "      <td>30</td>\n",
       "      <td>solteiro (a)</td>\n",
       "      <td>superior</td>\n",
       "      <td>nao</td>\n",
       "      <td>-477</td>\n",
       "      <td>sim</td>\n",
       "      <td>1532</td>\n",
       "      <td>2</td>\n",
       "      <td>sim</td>\n",
       "    </tr>\n",
       "    <tr>\n",
       "      <th>1266</th>\n",
       "      <td>42</td>\n",
       "      <td>casado (a)</td>\n",
       "      <td>superior</td>\n",
       "      <td>nao</td>\n",
       "      <td>2187</td>\n",
       "      <td>nao</td>\n",
       "      <td>525</td>\n",
       "      <td>3</td>\n",
       "      <td>sim</td>\n",
       "    </tr>\n",
       "    <tr>\n",
       "      <th>1267</th>\n",
       "      <td>29</td>\n",
       "      <td>solteiro (a)</td>\n",
       "      <td>superior</td>\n",
       "      <td>nao</td>\n",
       "      <td>19</td>\n",
       "      <td>nao</td>\n",
       "      <td>110</td>\n",
       "      <td>2</td>\n",
       "      <td>sim</td>\n",
       "    </tr>\n",
       "  </tbody>\n",
       "</table>\n",
       "<p>1268 rows × 9 columns</p>\n",
       "</div>"
      ],
      "text/plain": [
       "      idade    estado_civil  ... numero_contatos aderencia_investimento\n",
       "0        45      casado (a)  ...               1                    sim\n",
       "1        42      casado (a)  ...               4                    sim\n",
       "2        23    solteiro (a)  ...              18                    nao\n",
       "3        58  divorciado (a)  ...               1                    sim\n",
       "4        50      casado (a)  ...               4                    sim\n",
       "...     ...             ...  ...             ...                    ...\n",
       "1263     52    solteiro (a)  ...               6                    sim\n",
       "1264     35    solteiro (a)  ...               1                    sim\n",
       "1265     30    solteiro (a)  ...               2                    sim\n",
       "1266     42      casado (a)  ...               3                    sim\n",
       "1267     29    solteiro (a)  ...               2                    sim\n",
       "\n",
       "[1268 rows x 9 columns]"
      ]
     },
     "execution_count": 121,
     "metadata": {},
     "output_type": "execute_result"
    }
   ],
   "source": [
    "df"
   ]
  },
  {
   "cell_type": "markdown",
   "metadata": {},
   "source": [
    "```\n",
    "novo_dado = {\n",
    "    'idade': [45],\n",
    "    'estado_civil':['solteiro (a)'],\n",
    "    'escolaridade':['superior'],\n",
    "    'inadimplencia': ['nao'],\n",
    "    'saldo': [23040],\n",
    "    'fez_emprestimo': ['nao'],\n",
    "    'tempo_ult_contato': [800],\n",
    "    'numero_contatos': [4]\n",
    "}\n",
    "```"
   ]
  },
  {
   "cell_type": "code",
   "execution_count": 122,
   "metadata": {},
   "outputs": [],
   "source": [
    "novo_dado = {\n",
    "    'idade': [45],\n",
    "    'estado_civil':['solteiro (a)'],\n",
    "    'escolaridade':['superior'],\n",
    "    'inadimplencia': ['nao'],\n",
    "    'saldo': [23040],\n",
    "    'fez_emprestimo': ['nao'],\n",
    "    'tempo_ult_contato': [800],\n",
    "    'numero_contatos': [4]\n",
    "}"
   ]
  },
  {
   "cell_type": "code",
   "execution_count": 123,
   "metadata": {},
   "outputs": [
    {
     "data": {
      "text/html": [
       "<div>\n",
       "<style scoped>\n",
       "    .dataframe tbody tr th:only-of-type {\n",
       "        vertical-align: middle;\n",
       "    }\n",
       "\n",
       "    .dataframe tbody tr th {\n",
       "        vertical-align: top;\n",
       "    }\n",
       "\n",
       "    .dataframe thead th {\n",
       "        text-align: right;\n",
       "    }\n",
       "</style>\n",
       "<table border=\"1\" class=\"dataframe\">\n",
       "  <thead>\n",
       "    <tr style=\"text-align: right;\">\n",
       "      <th></th>\n",
       "      <th>idade</th>\n",
       "      <th>estado_civil</th>\n",
       "      <th>escolaridade</th>\n",
       "      <th>inadimplencia</th>\n",
       "      <th>saldo</th>\n",
       "      <th>fez_emprestimo</th>\n",
       "      <th>tempo_ult_contato</th>\n",
       "      <th>numero_contatos</th>\n",
       "    </tr>\n",
       "  </thead>\n",
       "  <tbody>\n",
       "    <tr>\n",
       "      <th>0</th>\n",
       "      <td>45</td>\n",
       "      <td>solteiro (a)</td>\n",
       "      <td>superior</td>\n",
       "      <td>nao</td>\n",
       "      <td>23040</td>\n",
       "      <td>nao</td>\n",
       "      <td>800</td>\n",
       "      <td>4</td>\n",
       "    </tr>\n",
       "  </tbody>\n",
       "</table>\n",
       "</div>"
      ],
      "text/plain": [
       "   idade  estado_civil  ... tempo_ult_contato numero_contatos\n",
       "0     45  solteiro (a)  ...               800               4\n",
       "\n",
       "[1 rows x 8 columns]"
      ]
     },
     "execution_count": 123,
     "metadata": {},
     "output_type": "execute_result"
    }
   ],
   "source": [
    "novo_dado = pd.DataFrame(novo_dado)\n",
    "novo_dado"
   ]
  },
  {
   "cell_type": "code",
   "execution_count": 126,
   "metadata": {},
   "outputs": [],
   "source": [
    "modelo_one_hot = pd.read_pickle('modelo_onehotenc.pkl')\n",
    "modelo_tree = pd.read_pickle('modelo_tree.pkl')"
   ]
  },
  {
   "cell_type": "code",
   "execution_count": 127,
   "metadata": {},
   "outputs": [
    {
     "data": {
      "text/plain": [
       "array([1])"
      ]
     },
     "execution_count": 127,
     "metadata": {},
     "output_type": "execute_result"
    }
   ],
   "source": [
    "novo_dado = modelo_one_hot.transform(novo_dado)\n",
    "modelo_tree.predict(novo_dado)"
   ]
  },
  {
   "cell_type": "code",
   "execution_count": null,
   "metadata": {},
   "outputs": [],
   "source": []
  }
 ],
 "metadata": {
  "colab": {
   "authorship_tag": "ABX9TyP1yoP194/rZdhdT7Pux8ir",
   "provenance": [],
   "toc_visible": true
  },
  "kernelspec": {
   "display_name": "Python (venv)",
   "language": "python",
   "name": "venv"
  },
  "language_info": {
   "codemirror_mode": {
    "name": "ipython",
    "version": 3
   },
   "file_extension": ".py",
   "mimetype": "text/x-python",
   "name": "python",
   "nbconvert_exporter": "python",
   "pygments_lexer": "ipython3",
   "version": "3.13.1"
  }
 },
 "nbformat": 4,
 "nbformat_minor": 0
}
